{
 "cells": [
  {
   "cell_type": "markdown",
   "metadata": {},
   "source": [
    "<b>¡Hola Eduardo!</b>\n",
    "\n",
    "Mi nombre es Alejandro Abia y tengo el gusto de revisar tu proyecto.\n",
    "\n",
    "A continuación, encontrarás mis comentarios en celdas pintadas de tres colores (verde, amarillo y rojo), a manera de semáforo. Por favor, <b>no las borres ni muevas de posición</b> mientras dure el proceso de revisión.\n",
    "\n",
    "<div class=\"alert alert-block alert-success\">\n",
    "<b>Éxito</b> <a class=\"tocSkip\"></a>\n",
    "En celdas verdes encontrarás comentarios en relación a tus aciertos y fortalezas.\n",
    "</div>\n",
    "<div class=\"alert alert-block alert-warning\">\n",
    "<b>Antención</b> <a class=\"tocSkip\"></a>\n",
    "Utilizaré el color amarillo para llamar tu atención, expresar algo importante o compartirte alguna idea de valor.\n",
    "</div>\n",
    "<div class=\"alert alert-block alert-danger\">\n",
    "<b>A resolver</b> <a class=\"tocSkip\"></a>\n",
    "En rojo emitiré aquellos puntos que deberás atender para aprobar la revisión.\n",
    "</div>\n",
    "<div class=\"alert alert-block alert-info\">\n",
    "<b>Comentario estudiante</b><a class=\"tocSkip\"></a>\n",
    "Es factible que, a lo largo del proceso de revisión, quieras dejarme comentarios. Si es el caso, por favor realízalo dentro de celdas azules como esta.\n",
    "</div>\n",
    "Respecto del proceso de revisión, tu proyecto será aceptado una vez que los comentarios en rojo hayan sido atendidos.\n",
    "¡Empecemos!\n",
    "\n",
    "______________"
   ]
  },
  {
   "cell_type": "markdown",
   "metadata": {},
   "source": [
    "\n",
    "<div style=\"color: green; font-size: 17px;\">Para empezar con el analisis de la informacion de los 3 archivos CSVs comenzamos por lo habitual o lo basico en ver si hay valores nulos en la información.</div>\n"
   ]
  },
  {
   "cell_type": "code",
   "execution_count": 1,
   "metadata": {},
   "outputs": [],
   "source": [
    "#Cargar librerias\n",
    "import pandas as pd\n",
    "import matplotlib.pyplot as plt\n",
    "from sklearn.model_selection import train_test_split\n",
    "from sklearn.linear_model import LinearRegression\n",
    "from sklearn.metrics import mean_squared_error\n",
    "import numpy as np\n",
    "from sklearn.utils import resample\n",
    "from sklearn.model_selection import cross_val_score"
   ]
  },
  {
   "cell_type": "code",
   "execution_count": 2,
   "metadata": {},
   "outputs": [
    {
     "name": "stdout",
     "output_type": "stream",
     "text": [
      "<class 'pandas.core.frame.DataFrame'>\n",
      "RangeIndex: 100000 entries, 0 to 99999\n",
      "Data columns (total 5 columns):\n",
      " #   Column   Non-Null Count   Dtype  \n",
      "---  ------   --------------   -----  \n",
      " 0   id       100000 non-null  object \n",
      " 1   f0       100000 non-null  float64\n",
      " 2   f1       100000 non-null  float64\n",
      " 3   f2       100000 non-null  float64\n",
      " 4   product  100000 non-null  float64\n",
      "dtypes: float64(4), object(1)\n",
      "memory usage: 3.8+ MB\n",
      "<class 'pandas.core.frame.DataFrame'>\n",
      "RangeIndex: 100000 entries, 0 to 99999\n",
      "Data columns (total 5 columns):\n",
      " #   Column   Non-Null Count   Dtype  \n",
      "---  ------   --------------   -----  \n",
      " 0   id       100000 non-null  object \n",
      " 1   f0       100000 non-null  float64\n",
      " 2   f1       100000 non-null  float64\n",
      " 3   f2       100000 non-null  float64\n",
      " 4   product  100000 non-null  float64\n",
      "dtypes: float64(4), object(1)\n",
      "memory usage: 3.8+ MB\n",
      "<class 'pandas.core.frame.DataFrame'>\n",
      "RangeIndex: 100000 entries, 0 to 99999\n",
      "Data columns (total 5 columns):\n",
      " #   Column   Non-Null Count   Dtype  \n",
      "---  ------   --------------   -----  \n",
      " 0   id       100000 non-null  object \n",
      " 1   f0       100000 non-null  float64\n",
      " 2   f1       100000 non-null  float64\n",
      " 3   f2       100000 non-null  float64\n",
      " 4   product  100000 non-null  float64\n",
      "dtypes: float64(4), object(1)\n",
      "memory usage: 3.8+ MB\n"
     ]
    },
    {
     "data": {
      "text/plain": [
       "(      id        f0        f1        f2     product\n",
       " 0  txEyH  0.705745 -0.497823  1.221170  105.280062\n",
       " 1  2acmU  1.334711 -0.340164  4.365080   73.037750\n",
       " 2  409Wp  1.022732  0.151990  1.419926   85.265647\n",
       " 3  iJLyR -0.032172  0.139033  2.978566  168.620776\n",
       " 4  Xdl7t  1.988431  0.155413  4.751769  154.036647,\n",
       "       id         f0         f1        f2     product\n",
       " 0  kBEdx -15.001348  -8.276000 -0.005876    3.179103\n",
       " 1  62mP7  14.272088  -3.475083  0.999183   26.953261\n",
       " 2  vyE1P   6.263187  -5.948386  5.001160  134.766305\n",
       " 3  KcrkZ -13.081196 -11.506057  4.999415  137.945408\n",
       " 4  AHL4O  12.702195  -8.147433  5.004363  134.766305,\n",
       "       id        f0        f1        f2     product\n",
       " 0  fwXo0 -1.146987  0.963328 -0.828965   27.758673\n",
       " 1  WJtFt  0.262778  0.269839 -2.530187   56.069697\n",
       " 2  ovLUW  0.194587  0.289035 -5.586433   62.871910\n",
       " 3  q6cA6  2.236060 -0.553760  0.930038  114.572842\n",
       " 4  WPMUX -0.515993  1.716266  5.899011  149.600746)"
      ]
     },
     "execution_count": 2,
     "metadata": {},
     "output_type": "execute_result"
    }
   ],
   "source": [
    "\n",
    "\n",
    "# Cargar la información\n",
    "data_0 = pd.read_csv('/datasets/geo_data_0.csv')\n",
    "data_1 = pd.read_csv('/datasets/geo_data_1.csv')\n",
    "data_2 = pd.read_csv('/datasets/geo_data_2.csv')\n",
    "\n",
    "#Mostrar las primeras filas de cada dataframe\n",
    "data_0_head = data_0.head()\n",
    "data_1_head = data_1.head()\n",
    "data_2_head = data_2.head()\n",
    "\n",
    "data_0_info = data_0.info()\n",
    "data_1_info = data_1.info()\n",
    "data_2_info = data_2.info()\n",
    "\n",
    "data_0_head, data_1_head, data_2_head\n"
   ]
  },
  {
   "cell_type": "markdown",
   "metadata": {},
   "source": [
    "<div class=\"alert alert-block alert-success\">\n",
    "<b>Éxito</b> <a class=\"tocSkip\"></a>\n",
    "Muy bien al cargar los tres datasets y al explorar sus primeras filas e información general. Al obtener detalles de columnas y tipos de datos, confirmas que estás evaluando el contenido antes de aplicar transformaciones, lo cual es una excelente práctica.\n",
    "</div>\n"
   ]
  },
  {
   "cell_type": "code",
   "execution_count": 3,
   "metadata": {
    "scrolled": false
   },
   "outputs": [
    {
     "data": {
      "image/png": "[encoded data removed]",
      "text/plain": [
       "<Figure size 1800x600 with 3 Axes>"
      ]
     },
     "metadata": {},
     "output_type": "display_data"
    },
    {
     "name": "stdout",
     "output_type": "stream",
     "text": [
      "                  f0             f1             f2        product\n",
      "count  100000.000000  100000.000000  100000.000000  100000.000000\n",
      "mean        0.500419       0.250143       2.502647      92.500000\n",
      "std         0.871832       0.504433       3.248248      44.288691\n",
      "min        -1.408605      -0.848218     -12.088328       0.000000\n",
      "25%        -0.072580      -0.200881       0.287748      56.497507\n",
      "50%         0.502360       0.250252       2.515969      91.849972\n",
      "75%         1.073581       0.700646       4.715088     128.564089\n",
      "max         2.362331       1.343769      16.003790     185.364347\n",
      "                  f0             f1             f2        product\n",
      "count  100000.000000  100000.000000  100000.000000  100000.000000\n",
      "mean        1.141296      -4.796579       2.494541      68.825000\n",
      "std         8.965932       5.119872       1.703572      45.944423\n",
      "min       -31.609576     -26.358598      -0.018144       0.000000\n",
      "25%        -6.298551      -8.267985       1.000021      26.953261\n",
      "50%         1.153055      -4.813172       2.011479      57.085625\n",
      "75%         8.621015      -1.332816       3.999904     107.813044\n",
      "max        29.421755      18.734063       5.019721     137.945408\n",
      "                  f0             f1             f2        product\n",
      "count  100000.000000  100000.000000  100000.000000  100000.000000\n",
      "mean        0.002023      -0.002081       2.495128      95.000000\n",
      "std         1.732045       1.730417       3.473445      44.749921\n",
      "min        -8.760004      -7.084020     -11.970335       0.000000\n",
      "25%        -1.162288      -1.174820       0.130359      59.450441\n",
      "50%         0.009424      -0.009482       2.484236      94.925613\n",
      "75%         1.158535       1.163678       4.858794     130.595027\n",
      "max         7.238262       7.844801      16.739402     190.029838\n"
     ]
    }
   ],
   "source": [
    "\n",
    "\n",
    "# Resumen de analisis estadisticos para ver el comportamiento d ela información \n",
    "stats_0 = data_0.describe()\n",
    "stats_1 = data_1.describe()\n",
    "stats_2 = data_2.describe()\n",
    "\n",
    "# ver el comportamiento d ela información en forma grafica\n",
    "plt.figure(figsize=(18, 6))\n",
    "\n",
    "plt.subplot(1, 3, 1)\n",
    "plt.hist(data_0['product'], bins=50, edgecolor='black')\n",
    "plt.title('Region 0: Distribution of Product')\n",
    "plt.xlabel('Volume of Reserves (Thousands of Barrels)')\n",
    "plt.ylabel('Frequency')\n",
    "\n",
    "plt.subplot(1, 3, 2)\n",
    "plt.hist(data_1['product'], bins=50, edgecolor='black')\n",
    "plt.title('Region 1: Distribution of Product')\n",
    "plt.xlabel('Volume of Reserves (Thousands of Barrels)')\n",
    "plt.ylabel('Frequency')\n",
    "\n",
    "plt.subplot(1, 3, 3)\n",
    "plt.hist(data_2['product'], bins=50, edgecolor='black')\n",
    "plt.title('Region 2: Distribution of Product')\n",
    "plt.xlabel('Volume of Reserves (Thousands of Barrels)')\n",
    "plt.ylabel('Frequency')\n",
    "\n",
    "plt.tight_layout()\n",
    "plt.show()\n",
    "\n",
    "\n",
    "print(stats_0)\n",
    "print(stats_1)\n",
    "print(stats_2)"
   ]
  },
  {
   "cell_type": "markdown",
   "metadata": {},
   "source": [
    "<div class=\"alert alert-block alert-success\">\n",
    "<b>Éxito</b> <a class=\"tocSkip\"></a>\n",
    "Buen trabajo en explorar estadísticas descriptivas y en visualizar la distribución de los productos en cada región. Tus gráficos de histograma y el análisis de valores mínimos, máximos y promedios permiten ver variaciones entre regiones, lo que es clave para definir un enfoque adecuado en los análisis posteriores.\n",
    "</div>\n",
    "<div class=\"alert alert-block alert-warning\">\n",
    "<b>Atención</b> <a class=\"tocSkip\"></a>\n",
    "Considera añadir boxplots para visualizar mejor los valores atípicos (outliers) en cada región, dado que estos pueden influir en los resultados y generar posibles pérdidas en los modelos de negocio.\n",
    "</div>\n"
   ]
  },
  {
   "cell_type": "markdown",
   "metadata": {},
   "source": [
    "\n",
    "<div style=\"color: green; font-size: 17px;\">Estadísticas Descriptivas:\n",
    "\n",
    "La desviación estándar varía ligeramente entre regiones, pero todas rondan los 44-45 miles de barriles, lo que indica una dispersión considerable en los valores de reservas, especialmente en la región 1 que muestra más valores extremos.\n",
    "Los valores mínimos y máximos en todas las regiones muestran que hay pozos con reservas cercanas a cero, lo que será importante a la hora de seleccionar los mejores pozos para maximizar el beneficio\n",
    "    -- Región 0 parece ser la más consistente, con menos valores extremos que las otras dos.\n",
    "-- Región 1 tiene una mayor concentración de pozos con reservas bajas, lo que podría representar un mayor riesgo si no se eligen bien los pozos.\n",
    "-- Región 2 muestra una distribución más uniforme, con más pozos que tienen reservas intermedias, lo que puede ser favorable para la predicción de beneficios..</div>"
   ]
  },
  {
   "cell_type": "code",
   "execution_count": 4,
   "metadata": {
    "scrolled": true
   },
   "outputs": [
    {
     "data": {
      "text/plain": [
       "(37.756600350261685,\n",
       " 92.3987999065777,\n",
       "            Actual   Predicted\n",
       " 75721  122.073350  101.901017\n",
       " 80184   48.738540   78.217774\n",
       " 19864  131.338088  115.266901\n",
       " 76699   88.327757  105.618618\n",
       " 92991   36.959266   97.980185)"
      ]
     },
     "execution_count": 4,
     "metadata": {},
     "output_type": "execute_result"
    }
   ],
   "source": [
    "# Division de los datos por region 0 \n",
    "X_0 = data_0[['f0', 'f1', 'f2']]\n",
    "y_0 = data_0['product']\n",
    "\n",
    "X_train_0, X_valid_0, y_train_0, y_valid_0 = train_test_split(X_0, y_0, test_size=0.25, random_state=42)\n",
    "\n",
    "# Entrenamiento del modelo (Linear Regression)\n",
    "model_0 = LinearRegression()\n",
    "model_0.fit(X_train_0, y_train_0)\n",
    "\n",
    "# Oredicciones del dataset\n",
    "y_pred_0 = model_0.predict(X_valid_0)\n",
    "\n",
    "# Calcular el RMSE \n",
    "rmse_0 = np.sqrt(mean_squared_error(y_valid_0, y_pred_0))\n",
    "mean_pred_0 = np.mean(y_pred_0)\n",
    "\n",
    "\n",
    "predictions_0 = pd.DataFrame({'Actual': y_valid_0, 'Predicted': y_pred_0})\n",
    "\n",
    "rmse_0, mean_pred_0, predictions_0.head()"
   ]
  },
  {
   "cell_type": "markdown",
   "metadata": {},
   "source": [
    "<div class=\"alert alert-block alert-success\">\n",
    "<b>Éxito</b> <a class=\"tocSkip\"></a>\n",
    "Buen uso de `train_test_split` para dividir el dataset y entrenar un modelo de regresión lineal en la Región 0. Además, calculaste el RMSE, lo que aporta información sobre la precisión del modelo. Este es un excelente enfoque.\n",
    "</div>\n",
    "<div class=\"alert alert-block alert-warning\">\n",
    "<b>A resolver</b> <a class=\"tocSkip\"></a>\n",
    "En la división de datos, considera verificar si es necesario estandarizar las variables predictoras, dado que escalas inconsistentes entre características pueden afectar el rendimiento del modelo, especialmente en técnicas como regresión.\n",
    "</div>\n"
   ]
  },
  {
   "cell_type": "markdown",
   "metadata": {},
   "source": [
    "<div style=\"color: green; font-size: 17px;\">\n",
    "RMSE (Error Cuadrático Medio): 37.76, lo que indica la magnitud del error promedio entre las predicciones y los valores reales de reservas.\n",
    "Volumen medio de reservas predicho: 92.40 miles de barriles.\n",
    "Las predicciones parecen bastante cercanas a los valores reales, aunque todavía hay un margen de error que es normal en los modelos de regresión.</div>"
   ]
  },
  {
   "cell_type": "code",
   "execution_count": 5,
   "metadata": {},
   "outputs": [
    {
     "data": {
      "text/plain": [
       "(0.890280100102884, 68.71287803913762, 40.14587231134218, 94.77102387765939)"
      ]
     },
     "execution_count": 5,
     "metadata": {},
     "output_type": "execute_result"
    }
   ],
   "source": [
    "# region 1 (geo_data_1.csv)\n",
    "X_1 = data_1[['f0', 'f1', 'f2']]\n",
    "y_1 = data_1['product']\n",
    "\n",
    "X_train_1, X_valid_1, y_train_1, y_valid_1 = train_test_split(X_1, y_1, test_size=0.25, random_state=42)\n",
    "\n",
    "#  Training  Linear Regression \n",
    "model_1 = LinearRegression()\n",
    "model_1.fit(X_train_1, y_train_1)\n",
    "\n",
    "# predictions de validation \n",
    "y_pred_1 = model_1.predict(X_valid_1)\n",
    "\n",
    "# RMSE y promedio de  region 1\n",
    "rmse_1 = np.sqrt(mean_squared_error(y_valid_1, y_pred_1))\n",
    "mean_pred_1 = np.mean(y_pred_1)\n",
    "\n",
    "# Region 2 (geo_data_2.csv)\n",
    "X_2 = data_2[['f0', 'f1', 'f2']]\n",
    "y_2 = data_2['product']\n",
    "\n",
    "X_train_2, X_valid_2, y_train_2, y_valid_2 = train_test_split(X_2, y_2, test_size=0.25, random_state=42)\n",
    "\n",
    "#Training  Linear Regression \n",
    "model_2 = LinearRegression()\n",
    "model_2.fit(X_train_2, y_train_2)\n",
    "\n",
    "#  predictions de validation set\n",
    "y_pred_2 = model_2.predict(X_valid_2)\n",
    "\n",
    "#  RMSE para la region 2\n",
    "rmse_2 = np.sqrt(mean_squared_error(y_valid_2, y_pred_2))\n",
    "mean_pred_2 = np.mean(y_pred_2)\n",
    "\n",
    "#resultados para ambas regiones\n",
    "rmse_1, mean_pred_1, rmse_2, mean_pred_2"
   ]
  },
  {
   "cell_type": "markdown",
   "metadata": {},
   "source": [
    "<div style=\"color: green; font-size: 17px;\">\n",
    "Región 1:\n",
    "\n",
    "RMSE: 0.89, lo que indica que el modelo predice muy bien en esta región.\n",
    "Volumen medio de reservas predicho: 68.71 miles de barriles.\n",
    "\n",
    "Región 2:\n",
    "\n",
    "RMSE: 40.15, que es más alto en comparación con la región 1, pero aún dentro de un rango razonable.\n",
    "Volumen medio de reservas predicho: 94.77 miles de barriles..</div>"
   ]
  },
  {
   "cell_type": "markdown",
   "metadata": {},
   "source": [
    "<div style=\"color: blue; font-size: 17px;\">\n",
    "Recapitulando las condiciones:\n",
    "\n",
    "Presupuesto: $100 millones para 200 pozos.\n",
    "Precio por unidad: $4.5 por barril de petróleo.\n",
    "Ingreso por 200 pozos: Cada pozo debe generar un mínimo de $500,000 para evitar pérdidas, lo cual es equivalente a 111.1 unidades de petróleo (en miles de barriles).\n",
    "A continuación,realizaré:\n",
    "\n",
    "Donde seleccionará los 200 pozos con los valores predichos más altos en cada región.\n",
    "Calculará el beneficio esperado para esos pozos seleccionados.\n",
    "</div>\n"
   ]
  },
  {
   "cell_type": "code",
   "execution_count": 6,
   "metadata": {},
   "outputs": [
    {
     "data": {
      "text/plain": [
       "(133591411.14462179,\n",
       " 124150866.96681511,\n",
       " 125985717.59374112,\n",
       " 111111.11111111111)"
      ]
     },
     "execution_count": 6,
     "metadata": {},
     "output_type": "execute_result"
    }
   ],
   "source": [
    "# definiendo las constantes \n",
    "BUDGET = 100_000_000  # 100 million dollars\n",
    "REVENUE_PER_BARREL = 4.5  # Ingresos por barril en USD\n",
    "WELLS = 200  # Nuemero de pozos a perforar \n",
    "COST_PER_WELL = BUDGET / WELLS  #Costo por Pozo\n",
    "MINIMUM_RESERVE = COST_PER_WELL / REVENUE_PER_BARREL  # Minimo de reserva necesaria para evitar perdidas en miles de barriles\n",
    "\n",
    "# Funcion para calcular los ingresos basados en los valores predichos\n",
    "def calculate_profit(predictions, actual_values, wells=WELLS, revenue_per_barrel=REVENUE_PER_BARREL):\n",
    "    # Select the top `wells` predictions\n",
    "    top_wells = predictions.nlargest(wells, 'Predicted')\n",
    "    # Sum the actual reserves for those selected wells\n",
    "    total_reserves = top_wells['Actual'].sum()\n",
    "    # Calculate total profit\n",
    "    profit = total_reserves * revenue_per_barrel * 1000  # Convertir los miles de barriles a dolares\n",
    "    return profit\n",
    "\n",
    "#Preparando las predicciones para cada Region (Region 0, 1, 2)\n",
    "predictions_0 = pd.DataFrame({'Actual': y_valid_0, 'Predicted': y_pred_0})\n",
    "predictions_1 = pd.DataFrame({'Actual': y_valid_1, 'Predicted': y_pred_1})\n",
    "predictions_2 = pd.DataFrame({'Actual': y_valid_2, 'Predicted': y_pred_2})\n",
    "\n",
    "#Calcular los ingreso de cada region\n",
    "profit_0 = calculate_profit(predictions_0, y_valid_0)\n",
    "profit_1 = calculate_profit(predictions_1, y_valid_1)\n",
    "profit_2 = calculate_profit(predictions_2, y_valid_2)\n",
    "\n",
    "profit_0, profit_1, profit_2, MINIMUM_RESERVE\n"
   ]
  },
  {
   "cell_type": "markdown",
   "metadata": {},
   "source": [
    "<div class=\"alert alert-block alert-success\">\n",
    "<b>Éxito</b> <a class=\"tocSkip\"></a>\n",
    "Muy bien en la implementación de la función `calculate_profit`, calculando correctamente los beneficios esperados para los pozos en cada región y resaltando el mínimo de reservas necesario para evitar pérdidas. Este cálculo es fundamental y lo abordaste de forma clara y correcta.\n",
    "</div>\n",
    "<div class=\"alert alert-block alert-warning\">\n",
    "<b>Atención</b> <a class=\"tocSkip\"></a>\n",
    "Al seleccionar los 200 pozos más prometedores, podrías mostrar visualizaciones adicionales (como un gráfico de barras) para comparar los beneficios estimados por región, lo cual facilitaría el análisis comparativo.\n",
    "</div>\n"
   ]
  },
  {
   "cell_type": "markdown",
   "metadata": {},
   "source": [
    "<div style=\"color: green; font-size: 17px;\">\n",
    "    \n",
    "Región 0: 133.59 millones de dólares.\n",
    "    \n",
    "Región 1: 124.15 millones de dólares.\n",
    "    \n",
    "Región 2: 125.99 millones de dólares.\n",
    "    \n",
    "El mínimo volumen de reservas necesario para evitar pérdidas es de 111.1 miles de barriles por pozo, lo cual corresponde a un ingreso de 500,000 por pozo.\n",
    "\n",
    "A partir de estos resultados, parece que la Región 0 ofrece el mayor beneficio potencial en función de los pozos seleccionados. Sin embargo, necesitamos analizar más a fondo los riesgos antes de hacer una recomendación final.\n",
    "\n",
    "El siguiente paso sería utilizar la técnica de bootstrapping para evaluar la distribución de ganancias y calcular el riesgo.</div>"
   ]
  },
  {
   "cell_type": "code",
   "execution_count": 7,
   "metadata": {},
   "outputs": [
    {
     "data": {
      "text/plain": [
       "((83093703.62635705, 77898446.69943374, 88298772.73748472, 100.0),\n",
       " (61908365.35356578, 55824272.502070576, 67455625.75110748, 100.0),\n",
       " (85699279.35307059, 80401878.7920077, 91111771.89075297, 100.0))"
      ]
     },
     "execution_count": 7,
     "metadata": {},
     "output_type": "execute_result"
    }
   ],
   "source": [
    "# Re-splitting the data\n",
    "X_train_0, X_valid_0, y_train_0, y_valid_0 = train_test_split(X_0, y_0, test_size=0.25, random_state=42)\n",
    "X_train_1, X_valid_1, y_train_1, y_valid_1 = train_test_split(X_1, y_1, test_size=0.25, random_state=42)\n",
    "X_train_2, X_valid_2, y_train_2, y_valid_2 = train_test_split(X_2, y_2, test_size=0.25, random_state=42)\n",
    "\n",
    "# Re-entrenamiento de los modelos\n",
    "model_0 = LinearRegression()\n",
    "model_0.fit(X_train_0, y_train_0)\n",
    "y_pred_0 = model_0.predict(X_valid_0)\n",
    "\n",
    "model_1 = LinearRegression()\n",
    "model_1.fit(X_train_1, y_train_1)\n",
    "y_pred_1 = model_1.predict(X_valid_1)\n",
    "\n",
    "model_2 = LinearRegression()\n",
    "model_2.fit(X_train_2, y_train_2)\n",
    "y_pred_2 = model_2.predict(X_valid_2)\n",
    "\n",
    "# creando Dataframes d epredicciones\n",
    "predictions_0 = pd.DataFrame({'Actual': y_valid_0, 'Predicted': y_pred_0})\n",
    "predictions_1 = pd.DataFrame({'Actual': y_valid_1, 'Predicted': y_pred_1})\n",
    "predictions_2 = pd.DataFrame({'Actual': y_valid_2, 'Predicted': y_pred_2})\n",
    "\n",
    "# Bootstrapping \n",
    "def bootstrap_profit(predictions, revenue_per_barrel=REVENUE_PER_BARREL, wells=WELLS, n_samples=1000):\n",
    "    np.random.seed(42)  \n",
    "    profits = []\n",
    "    for _ in range(n_samples):\n",
    "        \n",
    "        # Resample\n",
    "        sample = resample(predictions, n_samples=wells, replace=True)\n",
    "        total_reserves = sample['Actual'].sum()\n",
    "        profit = total_reserves * revenue_per_barrel * 1000  \n",
    "        profits.append(profit)\n",
    "    return np.array(profits)\n",
    "\n",
    "# Bootstrapping profits por cada region\n",
    "bootstrap_profits_0 = bootstrap_profit(predictions_0)\n",
    "bootstrap_profits_1 = bootstrap_profit(predictions_1)\n",
    "bootstrap_profits_2 = bootstrap_profit(predictions_2)\n",
    "\n",
    "# calculando el promedio, 95% intervalo de confianza, y riesgo de perdida\n",
    "def profit_analysis(bootstrap_profits):\n",
    "    mean_profit = np.mean(bootstrap_profits)\n",
    "    lower_ci = np.percentile(bootstrap_profits, 2.5)\n",
    "    upper_ci = np.percentile(bootstrap_profits, 97.5)\n",
    "    risk_of_loss = np.mean(bootstrap_profits < BUDGET) * 100  # Risk as a percentage\n",
    "    return mean_profit, lower_ci, upper_ci, risk_of_loss\n",
    "\n",
    "# Analizando cada region\n",
    "analysis_0 = profit_analysis(bootstrap_profits_0)\n",
    "analysis_1 = profit_analysis(bootstrap_profits_1)\n",
    "analysis_2 = profit_analysis(bootstrap_profits_2)\n",
    "\n",
    "analysis_0, analysis_1, analysis_2"
   ]
  },
  {
   "cell_type": "markdown",
   "metadata": {},
   "source": [
    "<div class=\"alert alert-block alert-success\">\n",
    "<b>Éxito</b> <a class=\"tocSkip\"></a>\n",
    "Excelente aplicación de la técnica de bootstrapping para evaluar la distribución de beneficios y calcular el riesgo de pérdida en cada región. Esto proporciona una comprensión robusta de la viabilidad de cada región desde una perspectiva de riesgo.\n",
    "</div>\n",
    "<div class=\"alert alert-block alert-warning\">\n",
    "<b>Atención</b> <a class=\"tocSkip\"></a>\n",
    "El cálculo de riesgo de pérdida es acertado, pero podrías considerar utilizar gráficos de densidad o histogramas para mostrar las distribuciones de ganancias en cada región, lo que ayudaría a visualizar la probabilidad de cumplir con el presupuesto de $100 millones.\n",
    "</div>\n"
   ]
  },
  {
   "cell_type": "markdown",
   "metadata": {},
   "source": [
    "<div style=\"color: blue; font-size: 17px;\">\n",
    "Región 0:\n",
    "\n",
    "Ganancia promedio: 83.09 millones.\n",
    "Intervalo de confianza del 95%: 77.90 millones a 88.30 millones.\n",
    "Riesgo de pérdida: 100% (todos los escenarios de muestra muestran un resultado por debajo del presupuesto de $100 millones).\n",
    "Región 1:\n",
    "\n",
    "Ganancia promedio: 61.91 millones.\n",
    "Intervalo de confianza del 95%: 55.82 millones a 67.46 millones.\n",
    "Riesgo de pérdida: 100%.\n",
    "Región 2:\n",
    "\n",
    "Ganancia promedio: 85.70 millones.\n",
    "Intervalo de confianza del 95%: 80.40 millones a 91.11 millones.\n",
    "Riesgo de pérdida: 100%.\n",
    "Conclusiones:\n",
    "Aunque la Región 0 y la Región 2 tienen ganancias promedio similares y son las más rentables en promedio, las tres regiones presentan un riesgo elevado (100% de probabilidad de pérdidas), ya que ninguna cumple con el presupuesto de $100 millones en ningún escenario.\n",
    "</div>"
   ]
  },
  {
   "cell_type": "code",
   "execution_count": 9,
   "metadata": {},
   "outputs": [
    {
     "data": {
      "text/plain": [
       "(array([37.87816204, 37.82598584, 37.60116336, 37.47474574, 37.69130564]),\n",
       " array([0.88598882, 0.89342077, 0.89355793, 0.88417623, 0.89489574]),\n",
       " array([40.36691764, 39.95701048, 40.05694196, 39.91844464, 39.9850842 ]))"
      ]
     },
     "execution_count": 9,
     "metadata": {},
     "output_type": "execute_result"
    }
   ],
   "source": [
    "\n",
    "\n",
    "# Region 0 cross-validation\n",
    "cv_scores_0 = cross_val_score(model_0, X_0, y_0, cv=5, scoring='neg_mean_squared_error')\n",
    "cv_rmse_0 = np.sqrt(-cv_scores_0)  # Convert negative MSE to RMSE\n",
    "\n",
    "# Region 1 cross-validation\n",
    "cv_scores_1 = cross_val_score(model_1, X_1, y_1, cv=5, scoring='neg_mean_squared_error')\n",
    "cv_rmse_1 = np.sqrt(-cv_scores_1)  # Convert negative MSE to RMSE\n",
    "\n",
    "# Region 2 cross-validation\n",
    "cv_scores_2 = cross_val_score(model_2, X_2, y_2, cv=5, scoring='neg_mean_squared_error')\n",
    "cv_rmse_2 = np.sqrt(-cv_scores_2)  # Convert negative MSE to RMSE\n",
    "\n",
    "#the RMSE scores directamente para cada region\n",
    "cv_rmse_0, cv_rmse_1, cv_rmse_2\n"
   ]
  },
  {
   "cell_type": "markdown",
   "metadata": {},
   "source": [
    "<div class=\"alert alert-block alert-success\">\n",
    "<b>Éxito</b> <a class=\"tocSkip\"></a>\n",
    "Buena implementación de la validación cruzada en las tres regiones. Los resultados muestran la consistencia de las predicciones, especialmente en la Región 1, lo cual aporta confianza en la robustez del modelo.\n",
    "</div>\n",
    "<div class=\"alert alert-block alert-warning\">\n",
    "<b>Atención</b> <a class=\"tocSkip\"></a>\n",
    "Podrías considerar el uso de `StandardScaler` o `MinMaxScaler` antes de la validación cruzada para asegurarte de que las características estén estandarizadas, lo cual puede mejorar el rendimiento de la regresión lineal en algunos casos.\n",
    "</div>\n"
   ]
  },
  {
   "cell_type": "markdown",
   "metadata": {},
   "source": [
    "<div style=\"color: blue; font-size: 17px;\">\n",
    "Aunque los resultados del modelo muestran una consistencia en las predicciones (especialmente en la Región 1, que tiene el menor RMSE), el problema central sigue siendo que, en promedio, todas las regiones presentan una ganancia menor al presupuesto inicial de 100 millones, lo que significa que, efectivamente, todavía tendrías pérdidas.\n",
    "\n",
    "Razones de las pérdidas a pesar de la consistencia:\n",
    "Predicciones de Reservas: Aunque el modelo es preciso en la predicción de los volúmenes de petróleo, los volúmenes estimados no son lo suficientemente altos para generar ganancias que superen el presupuesto total.\n",
    "    \n",
    "Costo por Pozo: Con un costo de 500,000 por pozo, los pozos seleccionados deben producir al menos 111.1 miles de barriles de petróleo para evitar pérdidas. Sin embargo, los pozos seleccionados, en promedio, no están alcanzando ese umbral.\n",
    "    \n",
    "Opciones para reducir las pérdidas:\n",
    "Reducir el número de pozos seleccionados: Seleccionando solo los pozos con mayores predicciones, podrías concentrar tu inversión en los pozos más prometedores y potencialmente aumentar las ganancias por pozo.\n",
    "    \n",
    "Reconsiderar el modelo de negocio: Reducir el costo por pozo, o buscar métodos alternativos para aumentar la eficiencia, podría ser necesario para evitar pérdidas con las reservas actuales.\n",
    "    \n",
    "Cambiar el enfoque de predicción: Implementar modelos más complejos o incluir nuevas características (si están disponibles) podría mejorar las predicciones, aunque el proyecto ha especificado el uso de regresión lineal.\n",
    "</div>"
   ]
  },
  {
   "cell_type": "code",
   "execution_count": 11,
   "metadata": {},
   "outputs": [
    {
     "data": {
      "text/plain": [
       "(101264119.3272951, 93113150.22511134, 94719225.88085805)"
      ]
     },
     "execution_count": 11,
     "metadata": {},
     "output_type": "execute_result"
    }
   ],
   "source": [
    "def calculate_profit_reduced_wells(predictions, actual_values, wells=150, revenue_per_barrel=REVENUE_PER_BARREL):\n",
    "    # Select the top `wells` predictions\n",
    "    top_wells = predictions.nlargest(wells, 'Predicted')\n",
    "    # Sum the actual reserves for those selected wells\n",
    "    total_reserves = top_wells['Actual'].sum()\n",
    "    # Calculate total profit\n",
    "    profit = total_reserves * revenue_per_barrel * 1000  # Convert from thousands of barrels to dollars\n",
    "    return profit\n",
    "\n",
    "# Calculating profits for 150 wells for each region\n",
    "profit_0_reduced_150 = calculate_profit_reduced_wells(predictions_0, y_valid_0, wells=150)\n",
    "profit_1_reduced_150 = calculate_profit_reduced_wells(predictions_1, y_valid_1, wells=150)\n",
    "profit_2_reduced_150 = calculate_profit_reduced_wells(predictions_2, y_valid_2, wells=150)\n",
    "\n",
    "profit_0_reduced_150, profit_1_reduced_150, profit_2_reduced_150\n"
   ]
  },
  {
   "cell_type": "markdown",
   "metadata": {},
   "source": [
    "<div class=\"alert alert-block alert-success\">\n",
    "<b>Éxito</b> <a class=\"tocSkip\"></a>\n",
    "Excelente conclusión al seleccionar los 150 pozos más prometedores. Esto demuestra una flexibilidad en tu análisis, evaluando la posibilidad de ajustar el número de pozos para cumplir con el presupuesto.\n",
    "</div>\n",
    "\n"
   ]
  },
  {
   "cell_type": "markdown",
   "metadata": {},
   "source": [
    "<div style=\"color: blue; font-size: 17px;\">\n",
    "Al seleccionar los 150 pozos más prometedores, aquí están los resultados de las ganancias estimadas:\n",
    "\n",
    "Región 0:\n",
    "\n",
    "Ganancia estimada: 101.26 millones (supera el presupuesto de $100 millones).\n",
    "Región 1:\n",
    "\n",
    "Ganancia estimada: 93.11 millones (aún por debajo del presupuesto).\n",
    "Región 2:\n",
    "\n",
    "Ganancia estimada: 94.72 millones (también por debajo del presupuesto)\n",
    "\n",
    "Conclusiones:\n",
    "Región 0 es la única que, al seleccionar 150 pozos, logra superar el umbral de 100 millones, lo que indica que podría ser la región más favorable para evitar pérdidas si se seleccionan más de 100 pozos pero menos de 200.\n",
    "Las Regiones 1 y 2 mejoran sus ganancias, pero siguen estando por debajo del presupuesto.\n",
    "</div>"
   ]
  },
  {
   "cell_type": "code",
   "execution_count": null,
   "metadata": {},
   "outputs": [],
   "source": [
    "from scipy import stats\n",
    "\n",
    "# desarrollar A/B testing (t-test) entre between Region 0 and Region 2 with 150 wells\n",
    "profits_0_ab = bootstrap_profit(predictions_0, wells=150)\n",
    "profits_2_ab = bootstrap_profit(predictions_2, wells=150)\n",
    "\n",
    "# Perform t-test\n",
    "t_stat, p_value = stats.ttest_ind(profits_0_ab, profits_2_ab, equal_var=False)\n",
    "\n",
    "t_stat, p_value\n"
   ]
  },
  {
   "cell_type": "markdown",
   "metadata": {},
   "source": [
    "<div class=\"alert alert-block alert-success\">\n",
    "<b>¡Felicidades, Eduardo!</b> <a class=\"tocSkip\"></a>\n",
    "Has realizado un excelente trabajo implementando técnicas avanzadas de análisis y modelos de predicción para evaluar los beneficios esperados en diferentes regiones. Tu enfoque es sólido, con una estructura clara y lógica en cada sección. Con algunos ajustes menores, tus conclusiones serán aún más precisas y robustas. ¡Sigue adelante con este excelente nivel!\n",
    "</div>\n"
   ]
  }
 ],
 "metadata": {
  "ExecuteTimeLog": [
   {
    "duration": 652,
    "start_time": "2024-10-27T13:34:30.076Z"
   },
   {
    "duration": 230,
    "start_time": "2024-10-27T13:50:16.624Z"
   },
   {
    "duration": 1859,
    "start_time": "2024-10-27T13:51:12.242Z"
   },
   {
    "duration": 652,
    "start_time": "2024-10-27T13:51:15.741Z"
   },
   {
    "duration": 12,
    "start_time": "2024-10-27T13:52:05.347Z"
   },
   {
    "duration": 633,
    "start_time": "2024-10-27T13:52:16.943Z"
   },
   {
    "duration": 2,
    "start_time": "2024-10-27T13:53:36.385Z"
   },
   {
    "duration": 691,
    "start_time": "2024-10-27T13:53:40.089Z"
   },
   {
    "duration": 631,
    "start_time": "2024-10-27T13:55:45.630Z"
   },
   {
    "duration": 623,
    "start_time": "2024-10-27T13:56:42.692Z"
   },
   {
    "duration": 619,
    "start_time": "2024-10-27T13:57:02.238Z"
   },
   {
    "duration": 494,
    "start_time": "2024-10-27T14:08:45.628Z"
   },
   {
    "duration": 26,
    "start_time": "2024-10-27T14:14:00.364Z"
   },
   {
    "duration": 38,
    "start_time": "2024-10-27T14:27:55.514Z"
   },
   {
    "duration": 5,
    "start_time": "2024-10-27T14:39:17.994Z"
   },
   {
    "duration": 4,
    "start_time": "2024-10-27T14:40:04.823Z"
   },
   {
    "duration": 14,
    "start_time": "2024-10-27T14:41:49.905Z"
   },
   {
    "duration": 866,
    "start_time": "2024-10-27T15:11:02.846Z"
   },
   {
    "duration": 259,
    "start_time": "2024-10-27T15:11:03.714Z"
   },
   {
    "duration": 690,
    "start_time": "2024-10-27T15:11:03.975Z"
   },
   {
    "duration": 24,
    "start_time": "2024-10-27T15:11:04.667Z"
   },
   {
    "duration": 158,
    "start_time": "2024-10-27T15:11:04.693Z"
   },
   {
    "duration": 12,
    "start_time": "2024-10-27T15:11:04.853Z"
   },
   {
    "duration": 3,
    "start_time": "2024-10-27T15:18:48.301Z"
   },
   {
    "duration": 899,
    "start_time": "2024-10-27T15:20:26.935Z"
   },
   {
    "duration": 224,
    "start_time": "2024-10-27T15:36:22.811Z"
   },
   {
    "duration": 3,
    "start_time": "2024-10-27T15:37:12.827Z"
   },
   {
    "duration": 471,
    "start_time": "2024-10-27T15:37:18.786Z"
   },
   {
    "duration": 858,
    "start_time": "2024-10-27T15:40:10.616Z"
   },
   {
    "duration": 251,
    "start_time": "2024-10-27T15:40:11.477Z"
   },
   {
    "duration": 696,
    "start_time": "2024-10-27T15:40:11.730Z"
   },
   {
    "duration": 33,
    "start_time": "2024-10-27T15:40:12.428Z"
   },
   {
    "duration": 185,
    "start_time": "2024-10-27T15:40:12.465Z"
   },
   {
    "duration": 13,
    "start_time": "2024-10-27T15:40:12.652Z"
   },
   {
    "duration": 1010,
    "start_time": "2024-10-27T15:40:12.667Z"
   },
   {
    "duration": 571,
    "start_time": "2024-10-27T15:40:13.678Z"
   },
   {
    "duration": 474,
    "start_time": "2024-10-27T15:40:54.082Z"
   },
   {
    "duration": 222,
    "start_time": "2024-10-27T15:42:42.565Z"
   },
   {
    "duration": 9,
    "start_time": "2024-10-27T15:43:25.933Z"
   }
  ],
  "kernelspec": {
   "display_name": "Python 3 (ipykernel)",
   "language": "python",
   "name": "python3"
  },
  "language_info": {
   "codemirror_mode": {
    "name": "ipython",
    "version": 3
   },
   "file_extension": ".py",
   "mimetype": "text/x-python",
   "name": "python",
   "nbconvert_exporter": "python",
   "pygments_lexer": "ipython3",
   "version": "3.9.19"
  },
  "toc": {
   "base_numbering": 1,
   "nav_menu": {},
   "number_sections": true,
   "sideBar": true,
   "skip_h1_title": true,
   "title_cell": "Table of Contents",
   "title_sidebar": "Contents",
   "toc_cell": false,
   "toc_position": {},
   "toc_section_display": true,
   "toc_window_display": false
  }
 },
 "nbformat": 4,
 "nbformat_minor": 2
}
