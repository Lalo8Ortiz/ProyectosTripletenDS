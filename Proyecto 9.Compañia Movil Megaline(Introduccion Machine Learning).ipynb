{
 "cells": [
  {
   "cell_type": "markdown",
   "metadata": {},
   "source": [
    "Hola Eduardo!\n",
    "\n",
    "Soy **Patricio Requena** 👋. Es un placer ser el revisor de tu proyecto el día de hoy!\n",
    "\n",
    "Revisaré tu proyecto detenidamente con el objetivo de ayudarte a mejorar y perfeccionar tus habilidades. Durante mi revisión, identificaré áreas donde puedas hacer mejoras en tu código, señalando específicamente qué y cómo podrías ajustar para optimizar el rendimiento y la claridad de tu proyecto. Además, es importante para mí destacar los aspectos que has manejado excepcionalmente bien. Reconocer tus fortalezas te ayudará a entender qué técnicas y métodos están funcionando a tu favor y cómo puedes aplicarlos en futuras tareas. \n",
    "\n",
    "_**Recuerda que al final de este notebook encontrarás un comentario general de mi parte**_, empecemos!\n",
    "\n",
    "Encontrarás mis comentarios dentro de cajas verdes, amarillas o rojas, ⚠️ **por favor, no muevas, modifiques o borres mis comentarios** ⚠️:\n",
    "\n",
    "\n",
    "<div class=\"alert alert-block alert-success\">\n",
    "<b>Comentario del revisor</b> <a class=“tocSkip”></a>\n",
    "Si todo está perfecto.\n",
    "</div>\n",
    "\n",
    "<div class=\"alert alert-block alert-warning\">\n",
    "<b>Comentario del revisor</b> <a class=“tocSkip”></a>\n",
    "Si tu código está bien pero se puede mejorar o hay algún detalle que le hace falta.\n",
    "</div>\n",
    "\n",
    "<div class=\"alert alert-block alert-danger\">\n",
    "<b>Comentario del revisor</b> <a class=“tocSkip”></a>\n",
    "Si de pronto hace falta algo o existe algún problema con tu código o conclusiones.\n",
    "</div>\n",
    "\n",
    "Puedes responderme de esta forma:\n",
    "<div class=\"alert alert-block alert-info\">\n",
    "<b>Respuesta del estudiante</b> <a class=“tocSkip”></a>\n",
    "</div>"
   ]
  },
  {
   "cell_type": "code",
   "execution_count": 3,
   "metadata": {},
   "outputs": [],
   "source": [
    "# Importarción de librerias necesarias para el analisis basico de ML\n",
    "import pandas as pd\n",
    "from sklearn.model_selection import train_test_split"
   ]
  },
  {
   "cell_type": "code",
   "execution_count": 4,
   "metadata": {},
   "outputs": [
    {
     "name": "stdout",
     "output_type": "stream",
     "text": [
      "este df es una muestra general del DF principal    calls  minutes  messages   mb_used  is_ultra\n",
      "0   40.0   311.90      83.0  19915.42         0\n",
      "1   85.0   516.75      56.0  22696.96         0\n",
      "2   77.0   467.66      86.0  21060.45         0\n",
      "3  106.0   745.53      81.0   8437.39         1\n",
      "4   66.0   418.74       1.0  14502.75         0 \n",
      "\n",
      "este df son las caracteristicas    calls  minutes  messages   mb_used\n",
      "0   40.0   311.90      83.0  19915.42\n",
      "1   85.0   516.75      56.0  22696.96\n",
      "2   77.0   467.66      86.0  21060.45\n",
      "3  106.0   745.53      81.0   8437.39\n",
      "4   66.0   418.74       1.0  14502.75 \n",
      "\n",
      "este es el objetivo 0    0\n",
      "1    0\n",
      "2    0\n",
      "3    1\n",
      "4    0\n",
      "Name: is_ultra, dtype: int64\n"
     ]
    }
   ],
   "source": [
    "# cargar archivo con el que estaremos trabajando\n",
    "df = pd.read_csv('C:/Users/jedua/OneDrive/Documentos/TTProyectos/users_behavior.csv')\n",
    "\n",
    "# Separacion de características y objetivo antes del entrenamiento del modelo \n",
    "features = df.drop(['is_ultra'], axis=1)\n",
    "target = df['is_ultra']\n",
    "\n",
    "#Muestra de la informacion general.\n",
    "\n",
    "print(\"este df es una muestra general del DF principal\",df.head(),\"\\n\")\n",
    "\n",
    "print(\"este df son las caracteristicas\",features.head(),\"\\n\")\n",
    "print(\"este es el objetivo\",target.head())\n"
   ]
  },
  {
   "cell_type": "markdown",
   "metadata": {},
   "source": [
    "<div class=\"alert alert-block alert-success\">\n",
    "<b>Comentario del revisor (1ra Iteracion)</b> <a class=“tocSkip”></a>\n",
    "\n",
    "Buen trabajo con la carga de datos y separando con la variable objetivo a predecir\n",
    "</div>"
   ]
  },
  {
   "cell_type": "code",
   "execution_count": 5,
   "metadata": {},
   "outputs": [
    {
     "name": "stdout",
     "output_type": "stream",
     "text": [
      "Tamaño del conjunto de entrenamiento (features_train): (2249, 4)\n",
      "Tamaño del conjunto de validación (features_valid): (482, 4)\n",
      "Tamaño del conjunto de prueba (features_test): (483, 4)\n",
      "      calls  minutes  messages   mb_used\n",
      "1727  104.0   739.28      55.0  21940.11\n",
      "2885   67.0   469.58      63.0   7952.07\n",
      "2730   74.0   549.14      20.0  17160.61\n",
      "899    31.0   205.14      22.0  10250.58\n",
      "2119   26.0   172.87      16.0   6431.26\n"
     ]
    },
    {
     "data": {
      "text/html": [
       "<div>\n",
       "<style scoped>\n",
       "    .dataframe tbody tr th:only-of-type {\n",
       "        vertical-align: middle;\n",
       "    }\n",
       "\n",
       "    .dataframe tbody tr th {\n",
       "        vertical-align: top;\n",
       "    }\n",
       "\n",
       "    .dataframe thead th {\n",
       "        text-align: right;\n",
       "    }\n",
       "</style>\n",
       "<table border=\"1\" class=\"dataframe\">\n",
       "  <thead>\n",
       "    <tr style=\"text-align: right;\">\n",
       "      <th></th>\n",
       "      <th>calls</th>\n",
       "      <th>minutes</th>\n",
       "      <th>messages</th>\n",
       "      <th>mb_used</th>\n",
       "    </tr>\n",
       "  </thead>\n",
       "  <tbody>\n",
       "    <tr>\n",
       "      <th>1375</th>\n",
       "      <td>67.0</td>\n",
       "      <td>429.17</td>\n",
       "      <td>11.0</td>\n",
       "      <td>13946.66</td>\n",
       "    </tr>\n",
       "    <tr>\n",
       "      <th>3155</th>\n",
       "      <td>64.0</td>\n",
       "      <td>431.79</td>\n",
       "      <td>14.0</td>\n",
       "      <td>14675.42</td>\n",
       "    </tr>\n",
       "    <tr>\n",
       "      <th>2345</th>\n",
       "      <td>111.0</td>\n",
       "      <td>721.82</td>\n",
       "      <td>0.0</td>\n",
       "      <td>13559.68</td>\n",
       "    </tr>\n",
       "    <tr>\n",
       "      <th>2637</th>\n",
       "      <td>42.0</td>\n",
       "      <td>274.71</td>\n",
       "      <td>13.0</td>\n",
       "      <td>20319.36</td>\n",
       "    </tr>\n",
       "    <tr>\n",
       "      <th>2272</th>\n",
       "      <td>93.0</td>\n",
       "      <td>658.89</td>\n",
       "      <td>38.0</td>\n",
       "      <td>17655.47</td>\n",
       "    </tr>\n",
       "  </tbody>\n",
       "</table>\n",
       "</div>"
      ],
      "text/plain": [
       "      calls  minutes  messages   mb_used\n",
       "1375   67.0   429.17      11.0  13946.66\n",
       "3155   64.0   431.79      14.0  14675.42\n",
       "2345  111.0   721.82       0.0  13559.68\n",
       "2637   42.0   274.71      13.0  20319.36\n",
       "2272   93.0   658.89      38.0  17655.47"
      ]
     },
     "execution_count": 5,
     "metadata": {},
     "output_type": "execute_result"
    }
   ],
   "source": [
    "# Desglose de DF en training, validation, and test sets (70% training, 15% validation, 15% test)\n",
    "features_train, features_temp, target_train, target_temp = train_test_split(features, target, test_size=0.30, random_state=54321)\n",
    "features_valid, features_test, target_valid, target_test = train_test_split(features_temp, target_temp, test_size=0.50, random_state=54321)\n",
    "\n",
    "# Mostrar el tamaño de cada SET de datos\n",
    "print(\"Tamaño del conjunto de entrenamiento (features_train):\", features_train.shape)\n",
    "print(\"Tamaño del conjunto de validación (features_valid):\", features_valid.shape)\n",
    "print(\"Tamaño del conjunto de prueba (features_test):\", features_test.shape)\n",
    "\n",
    "print(features_temp.head())\n",
    "features_train.head()"
   ]
  },
  {
   "cell_type": "code",
   "execution_count": 6,
   "metadata": {},
   "outputs": [
    {
     "data": {
      "text/plain": [
       "(0.8091286307053942, 0.7510373443983402, 0.6721991701244814)"
      ]
     },
     "execution_count": 6,
     "metadata": {},
     "output_type": "execute_result"
    }
   ],
   "source": [
    "# Importar las librerías necesarias para los modelos y la evaluación\n",
    "from sklearn.ensemble import RandomForestClassifier\n",
    "from sklearn.tree import DecisionTreeClassifier\n",
    "from sklearn.linear_model import LogisticRegression\n",
    "from sklearn.metrics import accuracy_score\n",
    "\n",
    "# Modelo Random Forest (modelo que funciona bien tanto con datos estructurados como no estructurados y puede capturar patrones complejos)\n",
    "rf_model = RandomForestClassifier(random_state=54321)  # Establece random_state para garantizar reproducibilidad\n",
    "rf_model.fit(features_train, target_train)  # Entrena el modelo con el conjunto de datos de entrenamiento\n",
    "rf_predictions = rf_model.predict(features_valid)  # Realiza predicciones en el conjunto de validación\n",
    "rf_accuracy = accuracy_score(target_valid, rf_predictions)  # Evalúa la precisión del modelo\n",
    "\n",
    "# Modelo Decision Tree (es un modelo más simple que también puede manejar ambos tipos de datos pero puede sobreajustarse si no se controla)\n",
    "dt_model = DecisionTreeClassifier(random_state=54321)  # Establece random_state para reproducibilidad\n",
    "dt_model.fit(features_train, target_train)  # Entrena el modelo con el conjunto de entrenamiento\n",
    "dt_predictions = dt_model.predict(features_valid)  # Realiza predicciones en el conjunto de validación\n",
    "dt_accuracy = accuracy_score(target_valid, dt_predictions)  # Evalúa la precisión del modelo\n",
    "\n",
    "# Modelo Logistic Regression (un modelo lineal que es más fácil de interpretar pero puede no capturar patrones complejos tan bien como otros)\n",
    "lr_model = LogisticRegression(random_state=54321, solver='liblinear')  # Establece random_state y el solver para manejar datasets pequeños\n",
    "lr_model.fit(features_train, target_train)  # Entrena el modelo con el conjunto de datos de entrenamiento\n",
    "lr_predictions = lr_model.predict(features_valid)  # Realiza predicciones en el conjunto de validación\n",
    "lr_accuracy = accuracy_score(target_valid, lr_predictions)  # Evalúa la precisión del modelo\n",
    "\n",
    "# Imprimir los resultados de precisión de cada modelo en el conjunto de validación\n",
    "rf_accuracy, dt_accuracy, lr_accuracy\n"
   ]
  },
  {
   "cell_type": "markdown",
   "metadata": {},
   "source": [
    "<div class=\"alert alert-block alert-warning\">\n",
    "<b>Comentario del revisor (1ra Iteracion)</b> <a class=“tocSkip”></a>\n",
    "\n",
    "Bien hecho! Solo algunos puntos que debes considerar en esta parte:\n",
    "    \n",
    "- Procura importar las librerías al inicio del notebook\n",
    "- Cuando imprimas algún dato es mejor que uses strings formateados y que agregues alguna frase que de a entender el valor que estás mostrando ya que solo mostrar números puede ser confuso\n",
    "</div>"
   ]
  },
  {
   "cell_type": "markdown",
   "metadata": {},
   "source": [
    "Hasta el momento los resultados de la exactitud de cada modelo usado (sin modificar los hiperparametros) son los siguientes:\n",
    "\n",
    "Random Forest: 80.91%\n",
    "Decision Tree: 75.10%\n",
    "Logistic Regression: 67.22%\n",
    "\n",
    "El modelo de Random Forest ha obtenido el mejor resultado hasta ahora."
   ]
  },
  {
   "cell_type": "code",
   "execution_count": 7,
   "metadata": {},
   "outputs": [
    {
     "name": "stdout",
     "output_type": "stream",
     "text": [
      "Mejores hiperparámetros: {'n_estimators': 50, 'max_depth': 10, 'min_samples_split': 2, 'min_samples_leaf': 1}\n",
      "Precisión del modelo ajustado en el conjunto de validación: 0.8112033195020747\n"
     ]
    }
   ],
   "source": [
    "# Ahora estaremos iterando con los hyperparametros para ver si los modelos descritos mejoran.\n",
    "#Inicializamos el mejor modelo encontrado con los hiperparámetros óptimos de RANDOM FOREST,seleccione este modelo ya que tuvo la mejor exactitud\n",
    "#en los codigos anteriores.\n",
    "\n",
    "# Importamos las librerías necesarias\n",
    "from sklearn.ensemble import RandomForestClassifier\n",
    "from sklearn.metrics import accuracy_score\n",
    "\n",
    "# Lista de hiperparámetros para probar\n",
    "n_estimators_list = [50, 100, 200]\n",
    "max_depth_list = [5, 10, 15, 20]\n",
    "min_samples_split_list = [2, 5, 10]\n",
    "min_samples_leaf_list = [1, 2, 4]\n",
    "\n",
    "# Variables para almacenar los mejores resultados\n",
    "best_accuracy = 0\n",
    "best_params = {}\n",
    "\n",
    "# Iteramos sobre todas las combinaciones de hiperparámetros\n",
    "for n_estimators in n_estimators_list:\n",
    "    for max_depth in max_depth_list:\n",
    "        for min_samples_split in min_samples_split_list:\n",
    "            for min_samples_leaf in min_samples_leaf_list:\n",
    "                # Inicializamos el modelo Random Forest con los hiperparámetros actuales\n",
    "                rf_model = RandomForestClassifier(\n",
    "                    random_state=54321, \n",
    "                    n_estimators=n_estimators, \n",
    "                    max_depth=max_depth, \n",
    "                    min_samples_split=min_samples_split, \n",
    "                    min_samples_leaf=min_samples_leaf\n",
    "                )\n",
    "                \n",
    "                # Entrenamos el modelo\n",
    "                rf_model.fit(features_train, target_train)\n",
    "                \n",
    "                # Hacemos predicciones en el conjunto de validación\n",
    "                valid_predictions = rf_model.predict(features_valid)\n",
    "                \n",
    "                # Calculamos la precisión en el conjunto de validación\n",
    "                accuracy = accuracy_score(target_valid, valid_predictions)\n",
    "                \n",
    "                # Guardamos los mejores hiperparámetros si encontramos una mejor precisión\n",
    "                if accuracy > best_accuracy:\n",
    "                    best_accuracy = accuracy\n",
    "                    best_params = {\n",
    "                        'n_estimators': n_estimators,\n",
    "                        'max_depth': max_depth,\n",
    "                        'min_samples_split': min_samples_split,\n",
    "                        'min_samples_leaf': min_samples_leaf\n",
    "                    }\n",
    "\n",
    "# Imprimimos los mejores hiperparámetros y la precisión obtenida\n",
    "print(\"Mejores hiperparámetros:\", best_params)\n",
    "print(\"Precisión del modelo ajustado en el conjunto de validación:\", best_accuracy)\n"
   ]
  },
  {
   "cell_type": "markdown",
   "metadata": {},
   "source": [
    "<div class=\"alert alert-block alert-success\">\n",
    "<b>Comentario del revisor (1ra Iteracion)</b> <a class=“tocSkip”></a>\n",
    "\n",
    "Buen trabajo probando diferentes hiperparámetros en tu modelo!\n",
    "</div>"
   ]
  },
  {
   "cell_type": "code",
   "execution_count": 8,
   "metadata": {},
   "outputs": [
    {
     "name": "stdout",
     "output_type": "stream",
     "text": [
      "Puntajes de validación cruzada en cada partición: [0.81777778 0.81777778 0.79555556 0.82666667 0.79955457]\n",
      "Precisión media de la validación cruzada: 0.8114664686958672\n"
     ]
    }
   ],
   "source": [
    "from sklearn.model_selection import cross_val_score\n",
    "\n",
    "#Inicializamos el mejor modelo encontrado con los hiperparámetros óptimos de RANDOM FOREST,seleccione este modelo ya que tuvo la mejor exactitud\n",
    "#en los codigos anteriores.\n",
    "best_rf_model = RandomForestClassifier(\n",
    "    random_state=54321,\n",
    "    n_estimators=best_params['n_estimators'],\n",
    "    max_depth=best_params['max_depth'],\n",
    "    min_samples_split=best_params['min_samples_split'],\n",
    "    min_samples_leaf=best_params['min_samples_leaf']\n",
    ")\n",
    "\n",
    "#validación cruzada con 5 particiones\n",
    "cv_scores = cross_val_score(best_rf_model, features_train, target_train, cv=5, scoring='accuracy')\n",
    "\n",
    "#resultados de la validación cruzada\n",
    "print(\"Puntajes de validación cruzada en cada partición:\", cv_scores)\n",
    "print(\"Precisión media de la validación cruzada:\", cv_scores.mean())"
   ]
  },
  {
   "cell_type": "markdown",
   "metadata": {},
   "source": [
    "La validación cruzada (cross-validation) nos permite evaluar el modelo de manera más robusta al dividir el conjunto de entrenamiento en múltiples subconjuntos y evaluar el rendimiento del modelo en cada uno de ellos. De esta manera, podemos asegurarnos de que el modelo no dependa excesivamente de una sola partición de los datos.\n",
    "\n"
   ]
  },
  {
   "cell_type": "markdown",
   "metadata": {},
   "source": [
    "<div class=\"alert alert-block alert-success\">\n",
    "<b>Comentario del revisor (1ra Iteracion)</b> <a class=“tocSkip”></a>\n",
    "\n",
    "Muy bien aplicada la validación cruzada, obtuviste una métrica por encima del umbral propuesto\n",
    "    \n",
    "</div>"
   ]
  },
  {
   "cell_type": "markdown",
   "metadata": {},
   "source": [
    "# CONCLUSION:\n",
    " \n",
    "###Random Forest parece ser el modelo más adecuado para esta tarea, logrando una alta precisión y adaptándose bien a los patrones en los datos.\n",
    "###Decision Tree ha mostrado un buen rendimiento, pero tiene más riesgo de sobreajuste debido a su capacidad para crear reglas muy específicas.\n",
    "###Regresión Logística, aunque es un modelo simple y fácil de interpretar, no parece ser lo suficientemente flexible para capturar la complejidad de los datos.\n",
    "\n",
    "Ajusté los hiperparámetros de Decision Tree y Regresión Logística para buscar mejoras en la precisión.\n",
    "Apliqué validación cruzada para asegurarme de que los resultados no dependan únicamente de la partición de validación y que el modelo generalice bien a nuevos datos.\n",
    "Finalmente, comparé los modelos ajustados en el conjunto de prueba para hacer la selección final del modelo más robusto.\n"
   ]
  },
  {
   "cell_type": "markdown",
   "metadata": {},
   "source": [
    "<div class=\"alert alert-block alert-warning\">\n",
    "<b>Comentario del revisor (1ra Iteracion)</b> <a class=“tocSkip”></a>\n",
    "\n",
    "Buen trabajo con tu proyecto Eduardo! Entrenaste los modelos correctamente y los fuiste mejorando cambiando los hiperparámetros con varias técnicas logrando así una métrica por encima del umbral que se propuso para este proyecto.\n",
    "    \n",
    "Sin embargo para tus próximos proyectos te invito a considerar los siguientes puntos:\n",
    "    \n",
    "- Realizar un EDA de los datos con los que vas a entrenar tu modelo, puedes generar gráficas y explorar las diferentes variables ya que así entenderás mejor los datos y sabrás que es lo que puede afectar tu modelo\n",
    "- Procura utilizar más las características de Markdown para incluir títulos o comentarios en cada sección de tu proyecto\n",
    "- Procura que la importación de librerías que vas a utilizar sean todas al inicio del notebook para mantener un mejor orden\n",
    "    \n",
    "Saludos!\n",
    "</div>"
   ]
  }
 ],
 "metadata": {
  "ExecuteTimeLog": [
   {
    "duration": 721,
    "start_time": "2024-09-29T17:07:59.212Z"
   },
   {
    "duration": 509,
    "start_time": "2024-09-29T17:07:59.935Z"
   },
   {
    "duration": 0,
    "start_time": "2024-09-29T17:08:00.446Z"
   },
   {
    "duration": 0,
    "start_time": "2024-09-29T17:08:00.447Z"
   },
   {
    "duration": 0,
    "start_time": "2024-09-29T17:08:00.448Z"
   },
   {
    "duration": 0,
    "start_time": "2024-09-29T17:08:00.449Z"
   },
   {
    "duration": 3,
    "start_time": "2024-09-29T17:08:16.783Z"
   },
   {
    "duration": 22,
    "start_time": "2024-09-29T17:08:16.788Z"
   },
   {
    "duration": 15,
    "start_time": "2024-09-29T17:08:16.812Z"
   },
   {
    "duration": 455,
    "start_time": "2024-09-29T17:08:16.829Z"
   },
   {
    "duration": 34967,
    "start_time": "2024-09-29T17:08:17.286Z"
   },
   {
    "duration": 592,
    "start_time": "2024-09-29T17:08:52.255Z"
   }
  ],
  "kernelspec": {
   "display_name": "Python 3 (ipykernel)",
   "language": "python",
   "name": "python3"
  },
  "language_info": {
   "codemirror_mode": {
    "name": "ipython",
    "version": 3
   },
   "file_extension": ".py",
   "mimetype": "text/x-python",
   "name": "python",
   "nbconvert_exporter": "python",
   "pygments_lexer": "ipython3",
   "version": "3.9.19"
  },
  "toc": {
   "base_numbering": 1,
   "nav_menu": {},
   "number_sections": true,
   "sideBar": true,
   "skip_h1_title": true,
   "title_cell": "Table of Contents",
   "title_sidebar": "Contents",
   "toc_cell": false,
   "toc_position": {},
   "toc_section_display": true,
   "toc_window_display": false
  }
 },
 "nbformat": 4,
 "nbformat_minor": 2
}
