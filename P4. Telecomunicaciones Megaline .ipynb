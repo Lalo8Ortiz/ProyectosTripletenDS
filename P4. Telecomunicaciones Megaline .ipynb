{
 "cells": [
  {
   "cell_type": "markdown",
   "metadata": {},
   "source": [
    "<div class=\"alert alert-block alert-danger\">\n",
    "<b>Comentario del revisor</b> <a class=\"tocSkip\"></a>\n",
    "\n",
    "Hola, Eduardo! Ya casi tienes el ejercicio, solamente te pido si de favor en la siguiente línea puede agregar la información general sobre esas bases que usamos para poder identificar si la diferencia entre grupos es muy alta que este haciendo que el valor p sea de nan. Te dejo un listado de lo que debemos agregar para cada una de las pruebas:\n",
    "    \n",
    "    - Información general de la base y de las variables que usamos para la prueba\n",
    "    - Un gráfico que compare la media entre grupos\n",
    "    - Las estadísticas generales de esa variable para cada grupo (media, varianza, desviación) \n",
    "    - imprimir las primeras líneas de la base de datos\n",
    "    \n",
    "</div>"
   ]
  },
  {
   "cell_type": "code",
   "execution_count": 1,
   "metadata": {},
   "outputs": [
    {
     "ename": "NameError",
     "evalue": "name 'merged_data_with_plan' is not defined",
     "output_type": "error",
     "traceback": [
      "\u001b[0;31m---------------------------------------------------------------------------\u001b[0m",
      "\u001b[0;31mNameError\u001b[0m                                 Traceback (most recent call last)",
      "Cell \u001b[0;32mIn[1], line 6\u001b[0m\n\u001b[1;32m      3\u001b[0m \u001b[38;5;28;01mimport\u001b[39;00m \u001b[38;5;21;01mmatplotlib\u001b[39;00m\u001b[38;5;21;01m.\u001b[39;00m\u001b[38;5;21;01mpyplot\u001b[39;00m \u001b[38;5;28;01mas\u001b[39;00m \u001b[38;5;21;01mplt\u001b[39;00m\n\u001b[1;32m      5\u001b[0m \u001b[38;5;66;03m# Asegurémonos de que los datos de churn_date no tengan valores NaN que afecten el análisis\u001b[39;00m\n\u001b[0;32m----> 6\u001b[0m \u001b[43mmerged_data_with_plan\u001b[49m[\u001b[38;5;124m'\u001b[39m\u001b[38;5;124mchurn_date\u001b[39m\u001b[38;5;124m'\u001b[39m]\u001b[38;5;241m.\u001b[39mfillna(pd\u001b[38;5;241m.\u001b[39mTimestamp(\u001b[38;5;124m'\u001b[39m\u001b[38;5;124m2099-12-31\u001b[39m\u001b[38;5;124m'\u001b[39m), inplace\u001b[38;5;241m=\u001b[39m\u001b[38;5;28;01mTrue\u001b[39;00m)\n\u001b[1;32m      8\u001b[0m \u001b[38;5;66;03m# Verificar algunas filas del DataFrame\u001b[39;00m\n\u001b[1;32m      9\u001b[0m \u001b[38;5;28mprint\u001b[39m(\u001b[38;5;124m\"\u001b[39m\u001b[38;5;130;01m\\n\u001b[39;00m\u001b[38;5;124mPrimeras líneas de merged_data_with_plan:\u001b[39m\u001b[38;5;124m\"\u001b[39m)\n",
      "\u001b[0;31mNameError\u001b[0m: name 'merged_data_with_plan' is not defined"
     ]
    }
   ],
   "source": [
    "import pandas as pd\n",
    "from scipy import stats\n",
    "import matplotlib.pyplot as plt\n",
    "\n",
    "# Asegurémonos de que los datos de churn_date no tengan valores NaN que afecten el análisis\n",
    "merged_data_with_plan['churn_date'].fillna(pd.Timestamp('2099-12-31'), inplace=True)\n",
    "\n",
    "# Verificar algunas filas del DataFrame\n",
    "print(\"\\nPrimeras líneas de merged_data_with_plan:\")\n",
    "print(merged_data_with_plan.head())\n",
    "\n",
    "# Verificar valores únicos en la columna 'city'\n",
    "print(\"\\nValores únicos en la columna 'city':\")\n",
    "print(merged_data_with_plan['city'].unique())\n",
    "\n",
    "# Verificar si hay valores nulos en las columnas relevantes\n",
    "print(\"\\nValores nulos en las columnas relevantes:\")\n",
    "print(merged_data_with_plan[['city', 'monthly_revenue']].isnull().sum())\n",
    "\n",
    "# Filtrar los datos por área NY-NJ y otras regiones\n",
    "ny_nj_data = merged_data_with_plan[merged_data_with_plan['city'].str.contains('ny-nj', na=False)]\n",
    "other_region_data = merged_data_with_plan[~merged_data_with_plan['city'].str.contains('ny-nj', na=False)]\n",
    "\n",
    "# Verificar el número de filas después del filtrado\n",
    "print(\"\\nNúmero de filas en ny_nj_data:\", len(ny_nj_data))\n",
    "print(\"Número de filas en other_region_data:\", len(other_region_data))\n",
    "\n",
    "# Obtener los ingresos mensuales por área\n",
    "ny_nj_revenue = ny_nj_data['monthly_revenue'].dropna()\n",
    "other_region_revenue = other_region_data['monthly_revenue'].dropna()\n",
    "\n",
    "# Estadísticas generales\n",
    "print(\"\\nEstadísticas generales para ingresos en NY-NJ:\")\n",
    "print(ny_nj_revenue.describe())\n",
    "\n",
    "print(\"\\nEstadísticas generales para ingresos en otras regiones:\")\n",
    "print(other_region_revenue.describe())\n",
    "\n",
    "# Gráfico que compare la media entre grupos\n",
    "labels = ['NY-NJ', 'Otras regiones']\n",
    "means = [ny_nj_revenue.mean(), other_region_revenue.mean()]\n",
    "\n",
    "plt.bar(labels, means, color=['blue', 'orange'])\n",
    "plt.xlabel('Región')\n",
    "plt.ylabel('Ingreso Promedio')\n",
    "plt.title('Comparación de Ingresos Promedios entre NY-NJ y Otras Regiones')\n",
    "plt.show()\n",
    "\n",
    "# Realizar la prueba t de muestras independientes\n",
    "t_statistic, p_value = stats.ttest_ind(ny_nj_revenue, other_region_revenue, equal_var=False)  # equal_var=False para asumir varianzas diferentes\n",
    "\n",
    "# Mostrar los resultados\n",
    "print(\"\\nResultados de la prueba t:\")\n",
    "print(f\"Estadístico t: {t_statistic}\")\n",
    "print(f\"Valor p: {p_value}\")\n",
    "\n",
    "# Nivel de significancia (alfa)\n",
    "alpha = 0.05\n",
    "\n",
    "# Interpretar los resultados\n",
    "if p_value < alpha:\n",
    "    print(\"\\nRechazamos la hipótesis nula: El ingreso promedio de los usuarios del área NY-NJ es diferente al de los usuarios de otras regiones.\")\n",
    "else:\n",
    "    print(\"\\nNo podemos rechazar la hipótesis nula: El ingreso promedio de los usuarios del área NY-NJ es igual al de los usuarios de otras regiones.\")"
   ]
  },
  {
   "cell_type": "markdown",
   "metadata": {},
   "source": [
    "<div class=\"alert alert-block alert-success\">\n",
    "<b>Comentario revisor</b> <a class=\"tocSkip\"></a>\n",
    "\n",
    "Gran trabajo con los ajustes. En estos casos es recomendables completarlas con cero para el desarrollo de los análisis y en el caso de las pruebas de hipótesis si llegaramos a usar estas variables podríamos hacer el filtro por valores nulos\n",
    "\n",
    "</div>"
   ]
  },
  {
   "cell_type": "markdown",
   "metadata": {},
   "source": [
    "¡Hola!\n",
    "\n",
    "Mi nombre es Tonatiuh Cruz. Me complace revisar tu proyecto hoy.\n",
    "\n",
    "Al identificar cualquier error inicialmente, simplemente los destacaré. Te animo a localizar y abordar los problemas de forma independiente como parte de tu preparación para un rol como data-scientist. En un entorno profesional, tu líder de equipo seguiría un enfoque similar. Si encuentras la tarea desafiante, proporcionaré una pista más específica en la próxima iteración.\n",
    "\n",
    "Encontrarás mis comentarios a continuación - **por favor no los muevas, modifiques o elimines**.\n",
    "\n",
    "Puedes encontrar mis comentarios en cajas verdes, amarillas o rojas como esta:\n",
    "\n",
    "<div class=\"alert alert-block alert-success\">\n",
    "<b>Comentario del revisor</b> <a class=\"tocSkip\"></a>\n",
    "\n",
    "Éxito. Todo está hecho correctamente.\n",
    "</div>\n",
    "\n",
    "<div class=\"alert alert-block alert-warning\">\n",
    "<b>Comentario del revisor</b> <a class=\"tocSkip\"></a>\n",
    "\n",
    "Observaciones. Algunas recomendaciones.\n",
    "</div>\n",
    "\n",
    "<div class=\"alert alert-block alert-danger\">\n",
    "<b>Comentario del revisor</b> <a class=\"tocSkip\"></a>\n",
    "\n",
    "Necesita corrección. El bloque requiere algunas correcciones. El trabajo no puede ser aceptado con comentarios en rojo.\n",
    "</div>\n",
    "\n",
    "Puedes responderme utilizando esto:\n",
    "\n",
    "<div class=\"alert alert-block alert-info\">\n",
    "<b>Respuesta del estudiante.</b> <a class=\"tocSkip\"></a>"
   ]
  },
  {
   "cell_type": "markdown",
   "metadata": {
    "id": "3rYiDeEH0q0f"
   },
   "source": [
    "# ¿Cuál es la mejor tarifa?\n",
    "\n",
    "Trabajas como analista para el operador de telecomunicaciones Megaline. La empresa ofrece a sus clientes dos tarifas de prepago, Surf y Ultimate. El departamento comercial quiere saber cuál de las tarifas genera más ingresos para poder ajustar el presupuesto de publicidad.\n",
    "\n",
    "Vas a realizar un análisis preliminar de las tarifas basado en una selección de clientes relativamente pequeña. Tendrás los datos de 500 clientes de Megaline: quiénes son los clientes, de dónde son, qué tarifa usan, así como la cantidad de llamadas que hicieron y los mensajes de texto que enviaron en 2018. Tu trabajo es analizar el comportamiento de los clientes y determinar qué tarifa de prepago genera más ingresos."
   ]
  },
  {
   "cell_type": "markdown",
   "metadata": {
    "id": "VNddPNRQ0q0w"
   },
   "source": [
    "[Te proporcionamos algunos comentarios para orientarte mientras completas este proyecto. Pero debes asegurarte de eliminar todos los comentarios entre corchetes antes de entregar tu proyecto.]\n",
    "\n",
    "[Antes de sumergirte en el análisis de datos, explica por tu propia cuenta el propósito del proyecto y las acciones que planeas realizar.]\n",
    "\n",
    "[Ten en cuenta que estudiar, modificar y analizar datos es un proceso iterativo. Es normal volver a los pasos anteriores y corregirlos/ampliarlos para permitir nuevos pasos.]"
   ]
  },
  {
   "cell_type": "markdown",
   "metadata": {
    "id": "MQi4IPy70q0y"
   },
   "source": [
    "## Inicialización"
   ]
  },
  {
   "cell_type": "code",
   "execution_count": 2,
   "metadata": {
    "id": "MtYIuBxu0q0z"
   },
   "outputs": [],
   "source": [
    "# Cargar todas las librerías\n",
    "\n",
    "import pandas as pd\n",
    "import matplotlib.pyplot as plt\n",
    "import seaborn as sns\n",
    "import numpy as np\n",
    "from math import factorial \n",
    "from scipy import stats as st"
   ]
  },
  {
   "cell_type": "markdown",
   "metadata": {
    "id": "4ysWWC5i0q00"
   },
   "source": [
    "## Cargar datos"
   ]
  },
  {
   "cell_type": "code",
   "execution_count": 3,
   "metadata": {
    "id": "CCqPW7rS0q01"
   },
   "outputs": [],
   "source": [
    "# Carga los archivos de datos en diferentes DataFrames\n",
    "calls=pd.read_csv(\"/datasets/megaline_calls.csv\")\n",
    "internet=pd.read_csv(\"/datasets/megaline_internet.csv\")\n",
    "message=pd.read_csv(\"/datasets/megaline_messages.csv\")\n",
    "plan=pd.read_csv(\"/datasets/megaline_plans.csv\")\n",
    "users=pd.read_csv(\"/datasets/megaline_users.csv\")"
   ]
  },
  {
   "cell_type": "markdown",
   "metadata": {},
   "source": [
    "<div class=\"alert alert-block alert-success\">\n",
    "<b>Comentario del revisor:</b> <a class=\"tocSkip\"></a>\n",
    "    \n",
    "Has realizado un excelente trabajo al importar los datos y las bibliotecas necesarias.\n",
    "\n",
    "</div>"
   ]
  },
  {
   "cell_type": "markdown",
   "metadata": {
    "id": "69qqoJ3r0q01"
   },
   "source": [
    "## Preparar los datos"
   ]
  },
  {
   "cell_type": "markdown",
   "metadata": {
    "id": "vUuZw80S0q01"
   },
   "source": [
    "[Los datos para este proyecto se dividen en varias tablas. Explora cada una para tener una comprensión inicial de los datos. Si es necesario, haz las correcciones requeridas en cada tabla.]"
   ]
  },
  {
   "cell_type": "markdown",
   "metadata": {
    "id": "ohBhimvH0q01"
   },
   "source": [
    "## Tarifas"
   ]
  },
  {
   "cell_type": "code",
   "execution_count": 4,
   "metadata": {
    "id": "GptqP3Q40q02"
   },
   "outputs": [
    {
     "name": "stdout",
     "output_type": "stream",
     "text": [
      "<class 'pandas.core.frame.DataFrame'>\n",
      "RangeIndex: 2 entries, 0 to 1\n",
      "Data columns (total 8 columns):\n",
      " #   Column                 Non-Null Count  Dtype  \n",
      "---  ------                 --------------  -----  \n",
      " 0   messages_included      2 non-null      int64  \n",
      " 1   mb_per_month_included  2 non-null      int64  \n",
      " 2   minutes_included       2 non-null      int64  \n",
      " 3   usd_monthly_pay        2 non-null      int64  \n",
      " 4   usd_per_gb             2 non-null      int64  \n",
      " 5   usd_per_message        2 non-null      float64\n",
      " 6   usd_per_minute         2 non-null      float64\n",
      " 7   plan_name              2 non-null      object \n",
      "dtypes: float64(2), int64(5), object(1)\n",
      "memory usage: 256.0+ bytes\n"
     ]
    },
    {
     "data": {
      "text/html": [
       "<div>\n",
       "<style scoped>\n",
       "    .dataframe tbody tr th:only-of-type {\n",
       "        vertical-align: middle;\n",
       "    }\n",
       "\n",
       "    .dataframe tbody tr th {\n",
       "        vertical-align: top;\n",
       "    }\n",
       "\n",
       "    .dataframe thead th {\n",
       "        text-align: right;\n",
       "    }\n",
       "</style>\n",
       "<table border=\"1\" class=\"dataframe\">\n",
       "  <thead>\n",
       "    <tr style=\"text-align: right;\">\n",
       "      <th></th>\n",
       "      <th>messages_included</th>\n",
       "      <th>gb_per_month_included</th>\n",
       "      <th>minutes_included</th>\n",
       "      <th>usd_monthly_pay</th>\n",
       "      <th>usd_per_gb</th>\n",
       "      <th>usd_per_message</th>\n",
       "      <th>usd_per_minute</th>\n",
       "      <th>plan_name</th>\n",
       "    </tr>\n",
       "  </thead>\n",
       "  <tbody>\n",
       "    <tr>\n",
       "      <th>0</th>\n",
       "      <td>50</td>\n",
       "      <td>15.0</td>\n",
       "      <td>500</td>\n",
       "      <td>20</td>\n",
       "      <td>10</td>\n",
       "      <td>0.03</td>\n",
       "      <td>0.03</td>\n",
       "      <td>surf</td>\n",
       "    </tr>\n",
       "    <tr>\n",
       "      <th>1</th>\n",
       "      <td>1000</td>\n",
       "      <td>30.0</td>\n",
       "      <td>3000</td>\n",
       "      <td>70</td>\n",
       "      <td>7</td>\n",
       "      <td>0.01</td>\n",
       "      <td>0.01</td>\n",
       "      <td>ultimate</td>\n",
       "    </tr>\n",
       "  </tbody>\n",
       "</table>\n",
       "</div>"
      ],
      "text/plain": [
       "   messages_included  gb_per_month_included  minutes_included  \\\n",
       "0                 50                   15.0               500   \n",
       "1               1000                   30.0              3000   \n",
       "\n",
       "   usd_monthly_pay  usd_per_gb  usd_per_message  usd_per_minute plan_name  \n",
       "0               20          10             0.03            0.03      surf  \n",
       "1               70           7             0.01            0.01  ultimate  "
      ]
     },
     "execution_count": 4,
     "metadata": {},
     "output_type": "execute_result"
    }
   ],
   "source": [
    "# Imprime la información general/resumida sobre el DataFrame de las tarifas\n",
    "\n",
    "plan.info()\n",
    "plan = plan.rename(columns={\"mb_per_month_included\": \"gb_per_month_included\"})\n",
    "plan[\"gb_per_month_included\"]=plan[\"gb_per_month_included\"]/1024\n",
    "plan\n"
   ]
  },
  {
   "cell_type": "markdown",
   "metadata": {},
   "source": [
    "<div class=\"alert alert-block alert-success\">\n",
    "<b>Comentario del revisor</b> <a class=\"tocSkip\"></a>\n",
    "\n",
    "Muy buen trabajo!! Es correcto considerar que 1024 megabytes son 1 gigabytes.\n",
    "    \n",
    "</div>"
   ]
  },
  {
   "cell_type": "code",
   "execution_count": 5,
   "metadata": {
    "id": "64xzjwL70q02",
    "scrolled": true
   },
   "outputs": [
    {
     "name": "stdout",
     "output_type": "stream",
     "text": [
      "   messages_included  gb_per_month_included  minutes_included  \\\n",
      "0                 50                   15.0               500   \n",
      "\n",
      "   usd_monthly_pay  usd_per_gb  usd_per_message  usd_per_minute plan_name  \n",
      "0               20          10             0.03            0.03      surf  \n"
     ]
    }
   ],
   "source": [
    "# Imprime una muestra de los datos para las tarifas\n",
    "print(plan.sample())\n"
   ]
  },
  {
   "cell_type": "markdown",
   "metadata": {
    "id": "mEc_3_hs0q02"
   },
   "source": [
    "[Describe lo que ves y observas en la información general y en la muestra de datos impresa para el precio de datos anterior. ¿Hay algún problema (tipos de datos no adecuados, datos ausentes, etc.) que pudieran necesitar investigación y cambios adicionales? ¿Cómo se puede arreglar?]\n",
    "\n",
    "<span style=\"color:blue\">hasta el momento no encuentro datos nulos en el dataframe , este dataframe tiene información acerca de los planes que tiene la empresa megaline , donde tiene los costos y que contiene de beneficios cada uno de ellos.</span>"
   ]
  },
  {
   "cell_type": "markdown",
   "metadata": {
    "id": "R3C05i1l0q03"
   },
   "source": [
    "## Corregir datos"
   ]
  },
  {
   "cell_type": "markdown",
   "metadata": {
    "id": "bIi8StZI0q03"
   },
   "source": [
    "[Corrige los problemas obvios con los datos basándote en las observaciones iniciales.]"
   ]
  },
  {
   "cell_type": "markdown",
   "metadata": {
    "id": "Y7SVmjGn0q03"
   },
   "source": [
    "<span style=\"color:blue\">DataFrame de plan parece estar bien estructurado y contiene la información necesaria sobre las tarifas de los planes \"Surf\" y \"Ultimate\"..</span>"
   ]
  },
  {
   "cell_type": "markdown",
   "metadata": {
    "id": "LJir7bml0q03"
   },
   "source": [
    "## Enriquecer los datos"
   ]
  },
  {
   "cell_type": "markdown",
   "metadata": {
    "id": "eqADpCfg0q04"
   },
   "source": [
    "[Agrega factores adicionales a los datos si crees que pudieran ser útiles.]"
   ]
  },
  {
   "cell_type": "markdown",
   "metadata": {
    "id": "gfcIEuXV0q04"
   },
   "source": [
    "<span style=\"color:blue\">DataFrame de plan parece estar bien estructurado y contiene la información necesaria sobre las tarifas de los planes \"Surf\" y \"Ultimate\"..</span>"
   ]
  },
  {
   "cell_type": "markdown",
   "metadata": {
    "id": "1n2X6WXf0q04"
   },
   "source": [
    "## Usuarios/as"
   ]
  },
  {
   "cell_type": "code",
   "execution_count": 6,
   "metadata": {
    "id": "2NgjWFqx0q05"
   },
   "outputs": [
    {
     "name": "stdout",
     "output_type": "stream",
     "text": [
      "<class 'pandas.core.frame.DataFrame'>\n",
      "RangeIndex: 500 entries, 0 to 499\n",
      "Data columns (total 8 columns):\n",
      " #   Column      Non-Null Count  Dtype \n",
      "---  ------      --------------  ----- \n",
      " 0   user_id     500 non-null    int64 \n",
      " 1   first_name  500 non-null    object\n",
      " 2   last_name   500 non-null    object\n",
      " 3   age         500 non-null    int64 \n",
      " 4   city        500 non-null    object\n",
      " 5   reg_date    500 non-null    object\n",
      " 6   plan        500 non-null    object\n",
      " 7   churn_date  34 non-null     object\n",
      "dtypes: int64(2), object(6)\n",
      "memory usage: 31.4+ KB\n"
     ]
    },
    {
     "data": {
      "text/html": [
       "<div>\n",
       "<style scoped>\n",
       "    .dataframe tbody tr th:only-of-type {\n",
       "        vertical-align: middle;\n",
       "    }\n",
       "\n",
       "    .dataframe tbody tr th {\n",
       "        vertical-align: top;\n",
       "    }\n",
       "\n",
       "    .dataframe thead th {\n",
       "        text-align: right;\n",
       "    }\n",
       "</style>\n",
       "<table border=\"1\" class=\"dataframe\">\n",
       "  <thead>\n",
       "    <tr style=\"text-align: right;\">\n",
       "      <th></th>\n",
       "      <th>user_id</th>\n",
       "      <th>first_name</th>\n",
       "      <th>last_name</th>\n",
       "      <th>age</th>\n",
       "      <th>city</th>\n",
       "      <th>reg_date</th>\n",
       "      <th>plan</th>\n",
       "      <th>churn_date</th>\n",
       "    </tr>\n",
       "  </thead>\n",
       "  <tbody>\n",
       "    <tr>\n",
       "      <th>0</th>\n",
       "      <td>1000</td>\n",
       "      <td>Anamaria</td>\n",
       "      <td>Bauer</td>\n",
       "      <td>45</td>\n",
       "      <td>Atlanta-Sandy Springs-Roswell, GA MSA</td>\n",
       "      <td>2018-12-24</td>\n",
       "      <td>ultimate</td>\n",
       "      <td>NaN</td>\n",
       "    </tr>\n",
       "    <tr>\n",
       "      <th>1</th>\n",
       "      <td>1001</td>\n",
       "      <td>Mickey</td>\n",
       "      <td>Wilkerson</td>\n",
       "      <td>28</td>\n",
       "      <td>Seattle-Tacoma-Bellevue, WA MSA</td>\n",
       "      <td>2018-08-13</td>\n",
       "      <td>surf</td>\n",
       "      <td>NaN</td>\n",
       "    </tr>\n",
       "    <tr>\n",
       "      <th>2</th>\n",
       "      <td>1002</td>\n",
       "      <td>Carlee</td>\n",
       "      <td>Hoffman</td>\n",
       "      <td>36</td>\n",
       "      <td>Las Vegas-Henderson-Paradise, NV MSA</td>\n",
       "      <td>2018-10-21</td>\n",
       "      <td>surf</td>\n",
       "      <td>NaN</td>\n",
       "    </tr>\n",
       "    <tr>\n",
       "      <th>3</th>\n",
       "      <td>1003</td>\n",
       "      <td>Reynaldo</td>\n",
       "      <td>Jenkins</td>\n",
       "      <td>52</td>\n",
       "      <td>Tulsa, OK MSA</td>\n",
       "      <td>2018-01-28</td>\n",
       "      <td>surf</td>\n",
       "      <td>NaN</td>\n",
       "    </tr>\n",
       "    <tr>\n",
       "      <th>4</th>\n",
       "      <td>1004</td>\n",
       "      <td>Leonila</td>\n",
       "      <td>Thompson</td>\n",
       "      <td>40</td>\n",
       "      <td>Seattle-Tacoma-Bellevue, WA MSA</td>\n",
       "      <td>2018-05-23</td>\n",
       "      <td>surf</td>\n",
       "      <td>NaN</td>\n",
       "    </tr>\n",
       "    <tr>\n",
       "      <th>...</th>\n",
       "      <td>...</td>\n",
       "      <td>...</td>\n",
       "      <td>...</td>\n",
       "      <td>...</td>\n",
       "      <td>...</td>\n",
       "      <td>...</td>\n",
       "      <td>...</td>\n",
       "      <td>...</td>\n",
       "    </tr>\n",
       "    <tr>\n",
       "      <th>495</th>\n",
       "      <td>1495</td>\n",
       "      <td>Fidel</td>\n",
       "      <td>Sharpe</td>\n",
       "      <td>67</td>\n",
       "      <td>New York-Newark-Jersey City, NY-NJ-PA MSA</td>\n",
       "      <td>2018-09-04</td>\n",
       "      <td>surf</td>\n",
       "      <td>NaN</td>\n",
       "    </tr>\n",
       "    <tr>\n",
       "      <th>496</th>\n",
       "      <td>1496</td>\n",
       "      <td>Ariel</td>\n",
       "      <td>Shepherd</td>\n",
       "      <td>49</td>\n",
       "      <td>New Orleans-Metairie, LA MSA</td>\n",
       "      <td>2018-02-20</td>\n",
       "      <td>surf</td>\n",
       "      <td>NaN</td>\n",
       "    </tr>\n",
       "    <tr>\n",
       "      <th>497</th>\n",
       "      <td>1497</td>\n",
       "      <td>Donte</td>\n",
       "      <td>Barrera</td>\n",
       "      <td>49</td>\n",
       "      <td>Los Angeles-Long Beach-Anaheim, CA MSA</td>\n",
       "      <td>2018-12-10</td>\n",
       "      <td>ultimate</td>\n",
       "      <td>NaN</td>\n",
       "    </tr>\n",
       "    <tr>\n",
       "      <th>498</th>\n",
       "      <td>1498</td>\n",
       "      <td>Scot</td>\n",
       "      <td>Williamson</td>\n",
       "      <td>51</td>\n",
       "      <td>New York-Newark-Jersey City, NY-NJ-PA MSA</td>\n",
       "      <td>2018-02-04</td>\n",
       "      <td>surf</td>\n",
       "      <td>NaN</td>\n",
       "    </tr>\n",
       "    <tr>\n",
       "      <th>499</th>\n",
       "      <td>1499</td>\n",
       "      <td>Shena</td>\n",
       "      <td>Dickson</td>\n",
       "      <td>37</td>\n",
       "      <td>Orlando-Kissimmee-Sanford, FL MSA</td>\n",
       "      <td>2018-05-06</td>\n",
       "      <td>surf</td>\n",
       "      <td>NaN</td>\n",
       "    </tr>\n",
       "  </tbody>\n",
       "</table>\n",
       "<p>500 rows × 8 columns</p>\n",
       "</div>"
      ],
      "text/plain": [
       "     user_id first_name   last_name  age  \\\n",
       "0       1000   Anamaria       Bauer   45   \n",
       "1       1001     Mickey   Wilkerson   28   \n",
       "2       1002     Carlee     Hoffman   36   \n",
       "3       1003   Reynaldo     Jenkins   52   \n",
       "4       1004    Leonila    Thompson   40   \n",
       "..       ...        ...         ...  ...   \n",
       "495     1495      Fidel      Sharpe   67   \n",
       "496     1496      Ariel    Shepherd   49   \n",
       "497     1497      Donte     Barrera   49   \n",
       "498     1498       Scot  Williamson   51   \n",
       "499     1499      Shena     Dickson   37   \n",
       "\n",
       "                                          city    reg_date      plan  \\\n",
       "0        Atlanta-Sandy Springs-Roswell, GA MSA  2018-12-24  ultimate   \n",
       "1              Seattle-Tacoma-Bellevue, WA MSA  2018-08-13      surf   \n",
       "2         Las Vegas-Henderson-Paradise, NV MSA  2018-10-21      surf   \n",
       "3                                Tulsa, OK MSA  2018-01-28      surf   \n",
       "4              Seattle-Tacoma-Bellevue, WA MSA  2018-05-23      surf   \n",
       "..                                         ...         ...       ...   \n",
       "495  New York-Newark-Jersey City, NY-NJ-PA MSA  2018-09-04      surf   \n",
       "496               New Orleans-Metairie, LA MSA  2018-02-20      surf   \n",
       "497     Los Angeles-Long Beach-Anaheim, CA MSA  2018-12-10  ultimate   \n",
       "498  New York-Newark-Jersey City, NY-NJ-PA MSA  2018-02-04      surf   \n",
       "499          Orlando-Kissimmee-Sanford, FL MSA  2018-05-06      surf   \n",
       "\n",
       "    churn_date  \n",
       "0          NaN  \n",
       "1          NaN  \n",
       "2          NaN  \n",
       "3          NaN  \n",
       "4          NaN  \n",
       "..         ...  \n",
       "495        NaN  \n",
       "496        NaN  \n",
       "497        NaN  \n",
       "498        NaN  \n",
       "499        NaN  \n",
       "\n",
       "[500 rows x 8 columns]"
      ]
     },
     "execution_count": 6,
     "metadata": {},
     "output_type": "execute_result"
    }
   ],
   "source": [
    "# Imprime la información general/resumida sobre el DataFrame de usuarios\n",
    "users.info()\n",
    "users\n",
    "\n"
   ]
  },
  {
   "cell_type": "code",
   "execution_count": 7,
   "metadata": {
    "id": "1IN1L9uh0q05"
   },
   "outputs": [
    {
     "data": {
      "text/html": [
       "<div>\n",
       "<style scoped>\n",
       "    .dataframe tbody tr th:only-of-type {\n",
       "        vertical-align: middle;\n",
       "    }\n",
       "\n",
       "    .dataframe tbody tr th {\n",
       "        vertical-align: top;\n",
       "    }\n",
       "\n",
       "    .dataframe thead th {\n",
       "        text-align: right;\n",
       "    }\n",
       "</style>\n",
       "<table border=\"1\" class=\"dataframe\">\n",
       "  <thead>\n",
       "    <tr style=\"text-align: right;\">\n",
       "      <th></th>\n",
       "      <th>user_id</th>\n",
       "      <th>first_name</th>\n",
       "      <th>last_name</th>\n",
       "      <th>age</th>\n",
       "      <th>city</th>\n",
       "      <th>reg_date</th>\n",
       "      <th>plan</th>\n",
       "      <th>churn_date</th>\n",
       "    </tr>\n",
       "  </thead>\n",
       "  <tbody>\n",
       "    <tr>\n",
       "      <th>8</th>\n",
       "      <td>1008</td>\n",
       "      <td>Emely</td>\n",
       "      <td>Hoffman</td>\n",
       "      <td>53</td>\n",
       "      <td>Orlando-Kissimmee-Sanford, FL MSA</td>\n",
       "      <td>2018-08-03</td>\n",
       "      <td>ultimate</td>\n",
       "      <td>NaN</td>\n",
       "    </tr>\n",
       "    <tr>\n",
       "      <th>24</th>\n",
       "      <td>1024</td>\n",
       "      <td>Yuki</td>\n",
       "      <td>Tyson</td>\n",
       "      <td>74</td>\n",
       "      <td>New York-Newark-Jersey City, NY-NJ-PA MSA</td>\n",
       "      <td>2018-08-21</td>\n",
       "      <td>surf</td>\n",
       "      <td>NaN</td>\n",
       "    </tr>\n",
       "    <tr>\n",
       "      <th>124</th>\n",
       "      <td>1124</td>\n",
       "      <td>Jenell</td>\n",
       "      <td>Navarro</td>\n",
       "      <td>48</td>\n",
       "      <td>New Haven-Milford, CT MSA</td>\n",
       "      <td>2018-02-19</td>\n",
       "      <td>ultimate</td>\n",
       "      <td>NaN</td>\n",
       "    </tr>\n",
       "    <tr>\n",
       "      <th>134</th>\n",
       "      <td>1134</td>\n",
       "      <td>Shannon</td>\n",
       "      <td>Nichols</td>\n",
       "      <td>71</td>\n",
       "      <td>Chicago-Naperville-Elgin, IL-IN-WI MSA</td>\n",
       "      <td>2018-09-03</td>\n",
       "      <td>surf</td>\n",
       "      <td>NaN</td>\n",
       "    </tr>\n",
       "    <tr>\n",
       "      <th>491</th>\n",
       "      <td>1491</td>\n",
       "      <td>Terina</td>\n",
       "      <td>Jensen</td>\n",
       "      <td>22</td>\n",
       "      <td>Grand Rapids-Kentwood, MI MSA</td>\n",
       "      <td>2018-04-27</td>\n",
       "      <td>surf</td>\n",
       "      <td>2018-09-18</td>\n",
       "    </tr>\n",
       "    <tr>\n",
       "      <th>85</th>\n",
       "      <td>1085</td>\n",
       "      <td>Ignacio</td>\n",
       "      <td>Bennett</td>\n",
       "      <td>48</td>\n",
       "      <td>Atlanta-Sandy Springs-Roswell, GA MSA</td>\n",
       "      <td>2018-07-19</td>\n",
       "      <td>ultimate</td>\n",
       "      <td>NaN</td>\n",
       "    </tr>\n",
       "    <tr>\n",
       "      <th>39</th>\n",
       "      <td>1039</td>\n",
       "      <td>Flo</td>\n",
       "      <td>Hicks</td>\n",
       "      <td>56</td>\n",
       "      <td>Columbus, OH MSA</td>\n",
       "      <td>2018-05-30</td>\n",
       "      <td>ultimate</td>\n",
       "      <td>NaN</td>\n",
       "    </tr>\n",
       "    <tr>\n",
       "      <th>267</th>\n",
       "      <td>1267</td>\n",
       "      <td>Gia</td>\n",
       "      <td>Parker</td>\n",
       "      <td>53</td>\n",
       "      <td>St. Louis, MO-IL MSA</td>\n",
       "      <td>2018-03-12</td>\n",
       "      <td>surf</td>\n",
       "      <td>NaN</td>\n",
       "    </tr>\n",
       "    <tr>\n",
       "      <th>32</th>\n",
       "      <td>1032</td>\n",
       "      <td>Delila</td>\n",
       "      <td>Dalton</td>\n",
       "      <td>59</td>\n",
       "      <td>Birmingham-Hoover, AL MSA</td>\n",
       "      <td>2018-06-07</td>\n",
       "      <td>ultimate</td>\n",
       "      <td>NaN</td>\n",
       "    </tr>\n",
       "    <tr>\n",
       "      <th>173</th>\n",
       "      <td>1173</td>\n",
       "      <td>Tristan</td>\n",
       "      <td>Cain</td>\n",
       "      <td>27</td>\n",
       "      <td>Oxnard-Thousand Oaks-Ventura, CA MSA</td>\n",
       "      <td>2018-09-28</td>\n",
       "      <td>surf</td>\n",
       "      <td>NaN</td>\n",
       "    </tr>\n",
       "  </tbody>\n",
       "</table>\n",
       "</div>"
      ],
      "text/plain": [
       "     user_id first_name last_name  age  \\\n",
       "8       1008      Emely   Hoffman   53   \n",
       "24      1024       Yuki     Tyson   74   \n",
       "124     1124     Jenell   Navarro   48   \n",
       "134     1134    Shannon   Nichols   71   \n",
       "491     1491     Terina    Jensen   22   \n",
       "85      1085    Ignacio   Bennett   48   \n",
       "39      1039        Flo     Hicks   56   \n",
       "267     1267        Gia    Parker   53   \n",
       "32      1032     Delila    Dalton   59   \n",
       "173     1173    Tristan      Cain   27   \n",
       "\n",
       "                                          city    reg_date      plan  \\\n",
       "8            Orlando-Kissimmee-Sanford, FL MSA  2018-08-03  ultimate   \n",
       "24   New York-Newark-Jersey City, NY-NJ-PA MSA  2018-08-21      surf   \n",
       "124                  New Haven-Milford, CT MSA  2018-02-19  ultimate   \n",
       "134     Chicago-Naperville-Elgin, IL-IN-WI MSA  2018-09-03      surf   \n",
       "491              Grand Rapids-Kentwood, MI MSA  2018-04-27      surf   \n",
       "85       Atlanta-Sandy Springs-Roswell, GA MSA  2018-07-19  ultimate   \n",
       "39                            Columbus, OH MSA  2018-05-30  ultimate   \n",
       "267                       St. Louis, MO-IL MSA  2018-03-12      surf   \n",
       "32                   Birmingham-Hoover, AL MSA  2018-06-07  ultimate   \n",
       "173       Oxnard-Thousand Oaks-Ventura, CA MSA  2018-09-28      surf   \n",
       "\n",
       "     churn_date  \n",
       "8           NaN  \n",
       "24          NaN  \n",
       "124         NaN  \n",
       "134         NaN  \n",
       "491  2018-09-18  \n",
       "85          NaN  \n",
       "39          NaN  \n",
       "267         NaN  \n",
       "32          NaN  \n",
       "173         NaN  "
      ]
     },
     "execution_count": 7,
     "metadata": {},
     "output_type": "execute_result"
    }
   ],
   "source": [
    "# Imprime una muestra de datos para usuarios\n",
    "users.sample(10)\n"
   ]
  },
  {
   "cell_type": "markdown",
   "metadata": {
    "id": "dCZoUq4f0q06"
   },
   "source": [
    "[Describe lo que ves y observas en la información general y en la muestra de datos impresa para el precio de datos anterior. ¿Hay algún problema (tipos de datos no adecuados, datos ausentes, etc.) que pudieran necesitar investigación y cambios adicionales? ¿Cómo se puede arreglar?]\n",
    "\n",
    "\n",
    "<span style=\"color:blue\">El data frame de usuarios contiene la informacion general de cada usuario que al parecer la mayoria de la información necesaria para un analisis futuro esta, sin embargo puedo notar dos cosas una de ellas es que los nombres contienen strings escritos en mayusculas ( como son nombres propios de ciudades y de personas lo veo normal ) tal vez si quisiera acceder a uno de esas columnas si olvido escribir las letras en mayusuculas podria equivocarme , sin embargo creo que para este caso que nos interesa mas la informacion numerica para la tendencia o comportamiento tal vez no sea tan necesario hacer algun ajuste en los nombres, otra observación que puedo destacar es en la columna de church_date los datos o fechas ausentes podrian ser un problema</span>\n"
   ]
  },
  {
   "cell_type": "markdown",
   "metadata": {
    "id": "BX5FQh_I0q06"
   },
   "source": [
    "### Corregir los datos"
   ]
  },
  {
   "cell_type": "markdown",
   "metadata": {
    "id": "8OdKMwJv0q06"
   },
   "source": [
    "[Corrige los problemas obvios con los datos basándote en las observaciones iniciales.]"
   ]
  },
  {
   "cell_type": "code",
   "execution_count": 8,
   "metadata": {
    "id": "yUqX-K0C0q07"
   },
   "outputs": [
    {
     "data": {
      "text/html": [
       "<div>\n",
       "<style scoped>\n",
       "    .dataframe tbody tr th:only-of-type {\n",
       "        vertical-align: middle;\n",
       "    }\n",
       "\n",
       "    .dataframe tbody tr th {\n",
       "        vertical-align: top;\n",
       "    }\n",
       "\n",
       "    .dataframe thead th {\n",
       "        text-align: right;\n",
       "    }\n",
       "</style>\n",
       "<table border=\"1\" class=\"dataframe\">\n",
       "  <thead>\n",
       "    <tr style=\"text-align: right;\">\n",
       "      <th></th>\n",
       "      <th>user_id</th>\n",
       "      <th>first_name</th>\n",
       "      <th>last_name</th>\n",
       "      <th>age</th>\n",
       "      <th>city</th>\n",
       "      <th>reg_date</th>\n",
       "      <th>plan</th>\n",
       "      <th>churn_date</th>\n",
       "    </tr>\n",
       "  </thead>\n",
       "  <tbody>\n",
       "    <tr>\n",
       "      <th>39</th>\n",
       "      <td>1039</td>\n",
       "      <td>flo</td>\n",
       "      <td>hicks</td>\n",
       "      <td>56</td>\n",
       "      <td>columbus, oh msa</td>\n",
       "      <td>2018-05-30</td>\n",
       "      <td>ultimate</td>\n",
       "      <td>NaN</td>\n",
       "    </tr>\n",
       "    <tr>\n",
       "      <th>433</th>\n",
       "      <td>1433</td>\n",
       "      <td>lyndon</td>\n",
       "      <td>morrison</td>\n",
       "      <td>29</td>\n",
       "      <td>philadelphia-camden-wilmington, pa-nj-de-md msa</td>\n",
       "      <td>2018-08-29</td>\n",
       "      <td>ultimate</td>\n",
       "      <td>NaN</td>\n",
       "    </tr>\n",
       "    <tr>\n",
       "      <th>375</th>\n",
       "      <td>1375</td>\n",
       "      <td>andy</td>\n",
       "      <td>holden</td>\n",
       "      <td>69</td>\n",
       "      <td>philadelphia-camden-wilmington, pa-nj-de-md msa</td>\n",
       "      <td>2018-12-01</td>\n",
       "      <td>surf</td>\n",
       "      <td>NaN</td>\n",
       "    </tr>\n",
       "    <tr>\n",
       "      <th>275</th>\n",
       "      <td>1275</td>\n",
       "      <td>elvie</td>\n",
       "      <td>velazquez</td>\n",
       "      <td>33</td>\n",
       "      <td>new york-newark-jersey city, ny-nj-pa msa</td>\n",
       "      <td>2018-11-29</td>\n",
       "      <td>ultimate</td>\n",
       "      <td>NaN</td>\n",
       "    </tr>\n",
       "    <tr>\n",
       "      <th>176</th>\n",
       "      <td>1176</td>\n",
       "      <td>terrance</td>\n",
       "      <td>shaffer</td>\n",
       "      <td>75</td>\n",
       "      <td>new york-newark-jersey city, ny-nj-pa msa</td>\n",
       "      <td>2018-10-03</td>\n",
       "      <td>surf</td>\n",
       "      <td>NaN</td>\n",
       "    </tr>\n",
       "    <tr>\n",
       "      <th>42</th>\n",
       "      <td>1042</td>\n",
       "      <td>clementina</td>\n",
       "      <td>mclaughlin</td>\n",
       "      <td>40</td>\n",
       "      <td>philadelphia-camden-wilmington, pa-nj-de-md msa</td>\n",
       "      <td>2018-01-15</td>\n",
       "      <td>surf</td>\n",
       "      <td>NaN</td>\n",
       "    </tr>\n",
       "    <tr>\n",
       "      <th>3</th>\n",
       "      <td>1003</td>\n",
       "      <td>reynaldo</td>\n",
       "      <td>jenkins</td>\n",
       "      <td>52</td>\n",
       "      <td>tulsa, ok msa</td>\n",
       "      <td>2018-01-28</td>\n",
       "      <td>surf</td>\n",
       "      <td>NaN</td>\n",
       "    </tr>\n",
       "    <tr>\n",
       "      <th>388</th>\n",
       "      <td>1388</td>\n",
       "      <td>thu</td>\n",
       "      <td>noel</td>\n",
       "      <td>75</td>\n",
       "      <td>new york-newark-jersey city, ny-nj-pa msa</td>\n",
       "      <td>2018-03-28</td>\n",
       "      <td>ultimate</td>\n",
       "      <td>NaN</td>\n",
       "    </tr>\n",
       "    <tr>\n",
       "      <th>423</th>\n",
       "      <td>1423</td>\n",
       "      <td>malcom</td>\n",
       "      <td>neal</td>\n",
       "      <td>61</td>\n",
       "      <td>philadelphia-camden-wilmington, pa-nj-de-md msa</td>\n",
       "      <td>2018-10-16</td>\n",
       "      <td>surf</td>\n",
       "      <td>NaN</td>\n",
       "    </tr>\n",
       "    <tr>\n",
       "      <th>425</th>\n",
       "      <td>1425</td>\n",
       "      <td>latrisha</td>\n",
       "      <td>larsen</td>\n",
       "      <td>19</td>\n",
       "      <td>las vegas-henderson-paradise, nv msa</td>\n",
       "      <td>2018-09-20</td>\n",
       "      <td>surf</td>\n",
       "      <td>NaN</td>\n",
       "    </tr>\n",
       "  </tbody>\n",
       "</table>\n",
       "</div>"
      ],
      "text/plain": [
       "     user_id  first_name   last_name  age  \\\n",
       "39      1039         flo       hicks   56   \n",
       "433     1433      lyndon    morrison   29   \n",
       "375     1375        andy      holden   69   \n",
       "275     1275       elvie   velazquez   33   \n",
       "176     1176    terrance     shaffer   75   \n",
       "42      1042  clementina  mclaughlin   40   \n",
       "3       1003    reynaldo     jenkins   52   \n",
       "388     1388         thu        noel   75   \n",
       "423     1423      malcom        neal   61   \n",
       "425     1425    latrisha      larsen   19   \n",
       "\n",
       "                                                city    reg_date      plan  \\\n",
       "39                                  columbus, oh msa  2018-05-30  ultimate   \n",
       "433  philadelphia-camden-wilmington, pa-nj-de-md msa  2018-08-29  ultimate   \n",
       "375  philadelphia-camden-wilmington, pa-nj-de-md msa  2018-12-01      surf   \n",
       "275        new york-newark-jersey city, ny-nj-pa msa  2018-11-29  ultimate   \n",
       "176        new york-newark-jersey city, ny-nj-pa msa  2018-10-03      surf   \n",
       "42   philadelphia-camden-wilmington, pa-nj-de-md msa  2018-01-15      surf   \n",
       "3                                      tulsa, ok msa  2018-01-28      surf   \n",
       "388        new york-newark-jersey city, ny-nj-pa msa  2018-03-28  ultimate   \n",
       "423  philadelphia-camden-wilmington, pa-nj-de-md msa  2018-10-16      surf   \n",
       "425             las vegas-henderson-paradise, nv msa  2018-09-20      surf   \n",
       "\n",
       "    churn_date  \n",
       "39         NaN  \n",
       "433        NaN  \n",
       "375        NaN  \n",
       "275        NaN  \n",
       "176        NaN  \n",
       "42         NaN  \n",
       "3          NaN  \n",
       "388        NaN  \n",
       "423        NaN  \n",
       "425        NaN  "
      ]
     },
     "execution_count": 8,
     "metadata": {},
     "output_type": "execute_result"
    }
   ],
   "source": [
    "\n",
    "# Convertir las columnas 'first_name', 'last_name' y 'city' a minúsculas\n",
    "users['first_name'] = users['first_name'].str.lower()\n",
    "users['last_name'] = users['last_name'].str.lower()\n",
    "users['city'] = users['city'].str.lower()\n",
    "\n",
    "users.sample(10)"
   ]
  },
  {
   "cell_type": "markdown",
   "metadata": {
    "id": "ycwuARJp0q07"
   },
   "source": [
    "### Enriquecer los datos"
   ]
  },
  {
   "cell_type": "markdown",
   "metadata": {
    "id": "96NIh4CJ0q08"
   },
   "source": [
    "[Agrega factores adicionales a los datos si crees que pudieran ser útiles.]"
   ]
  },
  {
   "cell_type": "code",
   "execution_count": 9,
   "metadata": {
    "id": "iq0AaBS90q08"
   },
   "outputs": [
    {
     "data": {
      "text/html": [
       "<div>\n",
       "<style scoped>\n",
       "    .dataframe tbody tr th:only-of-type {\n",
       "        vertical-align: middle;\n",
       "    }\n",
       "\n",
       "    .dataframe tbody tr th {\n",
       "        vertical-align: top;\n",
       "    }\n",
       "\n",
       "    .dataframe thead th {\n",
       "        text-align: right;\n",
       "    }\n",
       "</style>\n",
       "<table border=\"1\" class=\"dataframe\">\n",
       "  <thead>\n",
       "    <tr style=\"text-align: right;\">\n",
       "      <th></th>\n",
       "      <th>user_id</th>\n",
       "      <th>first_name</th>\n",
       "      <th>last_name</th>\n",
       "      <th>age</th>\n",
       "      <th>city</th>\n",
       "      <th>reg_date</th>\n",
       "      <th>plan_name</th>\n",
       "      <th>churn_date</th>\n",
       "    </tr>\n",
       "  </thead>\n",
       "  <tbody>\n",
       "    <tr>\n",
       "      <th>57</th>\n",
       "      <td>1057</td>\n",
       "      <td>theo</td>\n",
       "      <td>sargent</td>\n",
       "      <td>18</td>\n",
       "      <td>atlanta-sandy springs-roswell, ga msa</td>\n",
       "      <td>2018-08-07</td>\n",
       "      <td>ultimate</td>\n",
       "      <td>None</td>\n",
       "    </tr>\n",
       "    <tr>\n",
       "      <th>129</th>\n",
       "      <td>1129</td>\n",
       "      <td>marin</td>\n",
       "      <td>bolton</td>\n",
       "      <td>70</td>\n",
       "      <td>baton rouge, la msa</td>\n",
       "      <td>2018-11-10</td>\n",
       "      <td>surf</td>\n",
       "      <td>None</td>\n",
       "    </tr>\n",
       "    <tr>\n",
       "      <th>212</th>\n",
       "      <td>1212</td>\n",
       "      <td>alfredo</td>\n",
       "      <td>pruitt</td>\n",
       "      <td>36</td>\n",
       "      <td>austin-round rock-georgetown, tx msa</td>\n",
       "      <td>2018-07-27</td>\n",
       "      <td>surf</td>\n",
       "      <td>None</td>\n",
       "    </tr>\n",
       "    <tr>\n",
       "      <th>48</th>\n",
       "      <td>1048</td>\n",
       "      <td>linwood</td>\n",
       "      <td>terrell</td>\n",
       "      <td>42</td>\n",
       "      <td>miami-fort lauderdale-west palm beach, fl msa</td>\n",
       "      <td>2018-08-24</td>\n",
       "      <td>surf</td>\n",
       "      <td>None</td>\n",
       "    </tr>\n",
       "    <tr>\n",
       "      <th>45</th>\n",
       "      <td>1045</td>\n",
       "      <td>barney</td>\n",
       "      <td>ortega</td>\n",
       "      <td>20</td>\n",
       "      <td>new york-newark-jersey city, ny-nj-pa msa</td>\n",
       "      <td>2018-10-15</td>\n",
       "      <td>surf</td>\n",
       "      <td>None</td>\n",
       "    </tr>\n",
       "    <tr>\n",
       "      <th>371</th>\n",
       "      <td>1371</td>\n",
       "      <td>roderick</td>\n",
       "      <td>slater</td>\n",
       "      <td>27</td>\n",
       "      <td>portland-vancouver-hillsboro, or-wa msa</td>\n",
       "      <td>2018-10-27</td>\n",
       "      <td>surf</td>\n",
       "      <td>None</td>\n",
       "    </tr>\n",
       "    <tr>\n",
       "      <th>53</th>\n",
       "      <td>1053</td>\n",
       "      <td>piper</td>\n",
       "      <td>espinoza</td>\n",
       "      <td>27</td>\n",
       "      <td>new york-newark-jersey city, ny-nj-pa msa</td>\n",
       "      <td>2018-07-30</td>\n",
       "      <td>surf</td>\n",
       "      <td>None</td>\n",
       "    </tr>\n",
       "    <tr>\n",
       "      <th>221</th>\n",
       "      <td>1221</td>\n",
       "      <td>mckenzie</td>\n",
       "      <td>wilkinson</td>\n",
       "      <td>18</td>\n",
       "      <td>boston-cambridge-newton, ma-nh msa</td>\n",
       "      <td>2018-12-17</td>\n",
       "      <td>surf</td>\n",
       "      <td>None</td>\n",
       "    </tr>\n",
       "    <tr>\n",
       "      <th>83</th>\n",
       "      <td>1083</td>\n",
       "      <td>lyndia</td>\n",
       "      <td>acevedo</td>\n",
       "      <td>65</td>\n",
       "      <td>los angeles-long beach-anaheim, ca msa</td>\n",
       "      <td>2018-10-26</td>\n",
       "      <td>surf</td>\n",
       "      <td>None</td>\n",
       "    </tr>\n",
       "    <tr>\n",
       "      <th>102</th>\n",
       "      <td>1102</td>\n",
       "      <td>marquitta</td>\n",
       "      <td>walton</td>\n",
       "      <td>30</td>\n",
       "      <td>riverside-san bernardino-ontario, ca msa</td>\n",
       "      <td>2018-02-20</td>\n",
       "      <td>ultimate</td>\n",
       "      <td>None</td>\n",
       "    </tr>\n",
       "  </tbody>\n",
       "</table>\n",
       "</div>"
      ],
      "text/plain": [
       "     user_id first_name  last_name  age  \\\n",
       "57      1057       theo    sargent   18   \n",
       "129     1129      marin     bolton   70   \n",
       "212     1212    alfredo     pruitt   36   \n",
       "48      1048    linwood    terrell   42   \n",
       "45      1045     barney     ortega   20   \n",
       "371     1371   roderick     slater   27   \n",
       "53      1053      piper   espinoza   27   \n",
       "221     1221   mckenzie  wilkinson   18   \n",
       "83      1083     lyndia    acevedo   65   \n",
       "102     1102  marquitta     walton   30   \n",
       "\n",
       "                                              city    reg_date plan_name  \\\n",
       "57           atlanta-sandy springs-roswell, ga msa  2018-08-07  ultimate   \n",
       "129                            baton rouge, la msa  2018-11-10      surf   \n",
       "212           austin-round rock-georgetown, tx msa  2018-07-27      surf   \n",
       "48   miami-fort lauderdale-west palm beach, fl msa  2018-08-24      surf   \n",
       "45       new york-newark-jersey city, ny-nj-pa msa  2018-10-15      surf   \n",
       "371        portland-vancouver-hillsboro, or-wa msa  2018-10-27      surf   \n",
       "53       new york-newark-jersey city, ny-nj-pa msa  2018-07-30      surf   \n",
       "221             boston-cambridge-newton, ma-nh msa  2018-12-17      surf   \n",
       "83          los angeles-long beach-anaheim, ca msa  2018-10-26      surf   \n",
       "102       riverside-san bernardino-ontario, ca msa  2018-02-20  ultimate   \n",
       "\n",
       "    churn_date  \n",
       "57        None  \n",
       "129       None  \n",
       "212       None  \n",
       "48        None  \n",
       "45        None  \n",
       "371       None  \n",
       "53        None  \n",
       "221       None  \n",
       "83        None  \n",
       "102       None  "
      ]
     },
     "execution_count": 9,
     "metadata": {},
     "output_type": "execute_result"
    }
   ],
   "source": [
    "#sustituir los datos ausentes de la columna churn_date a 1 lo que significaria que siguen con el plan\n",
    "\n",
    "users['churn_date'] = users['churn_date'].fillna(pd.Timestamp('2099-12-31'), inplace=True)\n",
    "users.rename(columns={'plan': 'plan_name'}, inplace=True)\n",
    "\n",
    "users.sample(10)\n"
   ]
  },
  {
   "cell_type": "code",
   "execution_count": 10,
   "metadata": {},
   "outputs": [
    {
     "name": "stdout",
     "output_type": "stream",
     "text": [
      "    user_id first_name last_name  age  \\\n",
      "80     1080       neal     mcgee   45   \n",
      "\n",
      "                                         city   reg_date plan_name churn_date  \n",
      "80  new york-newark-jersey city, ny-nj-pa msa 2018-08-03      surf 2000-01-01  \n"
     ]
    }
   ],
   "source": [
    "import pandas as pd\n",
    "\n",
    "# Suponiendo que 'users' es tu DataFrame\n",
    "\n",
    "# Convertir la columna 'reg_date' a formato de fecha\n",
    "users['reg_date'] = pd.to_datetime(users['reg_date'], format='%Y-%m-%d')\n",
    "\n",
    "# Rellenar los valores nulos en la columna 'churn_date' con una fecha específica, por ejemplo, '2000-01-01'\n",
    "users['churn_date'] = users['churn_date'].fillna(pd.to_datetime('2000-01-01'))\n",
    "\n",
    "# Renombrar la columna 'plan' a 'plan_name'\n",
    "users.rename(columns={'plan': 'plan_name'}, inplace=True)\n",
    "\n",
    "# Mostrar una muestra de 10 filas del DataFrame\n",
    "print(users.sample())\n"
   ]
  },
  {
   "cell_type": "markdown",
   "metadata": {},
   "source": [
    "<div class=\"alert alert-block alert-warning\">\n",
    "<b>Comentario Revisor</b> <a class=\"tocSkip\"></a>\n",
    "\n",
    "Para hacer la transformación de reg_date a un datatime puedes hacer uso de la siguiente función:\n",
    "    \n",
    "    pd.to_datetime(user['reg_date'], format='%Y-%m-%d')\n",
    "    \n",
    "te recomiendo agregar el argumento \"format='%Y-%m-%d'\" dentro de la función to_datetime(). De esta manera, puedes asegurarte siempre de que el formato de la fecha que deseas cambiar sea el que necesitas. Los mismo para las otras variables que son fechas de otras bases de datos.\n",
    "</div>"
   ]
  },
  {
   "cell_type": "markdown",
   "metadata": {},
   "source": [
    "<div class=\"alert alert-block alert-success\">\n",
    "<b>Comentario del revisor</b> <a class=\"tocSkip\"></a>\n",
    "\n",
    "Muy buen trabajo con los ajustes!\n",
    "</div>"
   ]
  },
  {
   "cell_type": "markdown",
   "metadata": {
    "id": "o7MeKCid0q08"
   },
   "source": [
    "## Llamadas"
   ]
  },
  {
   "cell_type": "code",
   "execution_count": 11,
   "metadata": {
    "id": "6dDlnoDm0q08"
   },
   "outputs": [
    {
     "name": "stdout",
     "output_type": "stream",
     "text": [
      "<class 'pandas.core.frame.DataFrame'>\n",
      "RangeIndex: 137735 entries, 0 to 137734\n",
      "Data columns (total 4 columns):\n",
      " #   Column     Non-Null Count   Dtype  \n",
      "---  ------     --------------   -----  \n",
      " 0   id         137735 non-null  object \n",
      " 1   user_id    137735 non-null  int64  \n",
      " 2   call_date  137735 non-null  object \n",
      " 3   duration   137735 non-null  float64\n",
      "dtypes: float64(1), int64(1), object(2)\n",
      "memory usage: 4.2+ MB\n"
     ]
    },
    {
     "data": {
      "text/html": [
       "<div>\n",
       "<style scoped>\n",
       "    .dataframe tbody tr th:only-of-type {\n",
       "        vertical-align: middle;\n",
       "    }\n",
       "\n",
       "    .dataframe tbody tr th {\n",
       "        vertical-align: top;\n",
       "    }\n",
       "\n",
       "    .dataframe thead th {\n",
       "        text-align: right;\n",
       "    }\n",
       "</style>\n",
       "<table border=\"1\" class=\"dataframe\">\n",
       "  <thead>\n",
       "    <tr style=\"text-align: right;\">\n",
       "      <th></th>\n",
       "      <th>id</th>\n",
       "      <th>user_id</th>\n",
       "      <th>call_date</th>\n",
       "      <th>duration</th>\n",
       "    </tr>\n",
       "  </thead>\n",
       "  <tbody>\n",
       "    <tr>\n",
       "      <th>0</th>\n",
       "      <td>1000_93</td>\n",
       "      <td>1000</td>\n",
       "      <td>2018-12-27</td>\n",
       "      <td>8.52</td>\n",
       "    </tr>\n",
       "    <tr>\n",
       "      <th>1</th>\n",
       "      <td>1000_145</td>\n",
       "      <td>1000</td>\n",
       "      <td>2018-12-27</td>\n",
       "      <td>13.66</td>\n",
       "    </tr>\n",
       "    <tr>\n",
       "      <th>2</th>\n",
       "      <td>1000_247</td>\n",
       "      <td>1000</td>\n",
       "      <td>2018-12-27</td>\n",
       "      <td>14.48</td>\n",
       "    </tr>\n",
       "    <tr>\n",
       "      <th>3</th>\n",
       "      <td>1000_309</td>\n",
       "      <td>1000</td>\n",
       "      <td>2018-12-28</td>\n",
       "      <td>5.76</td>\n",
       "    </tr>\n",
       "    <tr>\n",
       "      <th>4</th>\n",
       "      <td>1000_380</td>\n",
       "      <td>1000</td>\n",
       "      <td>2018-12-30</td>\n",
       "      <td>4.22</td>\n",
       "    </tr>\n",
       "    <tr>\n",
       "      <th>...</th>\n",
       "      <td>...</td>\n",
       "      <td>...</td>\n",
       "      <td>...</td>\n",
       "      <td>...</td>\n",
       "    </tr>\n",
       "    <tr>\n",
       "      <th>137730</th>\n",
       "      <td>1499_199</td>\n",
       "      <td>1499</td>\n",
       "      <td>2018-11-21</td>\n",
       "      <td>8.72</td>\n",
       "    </tr>\n",
       "    <tr>\n",
       "      <th>137731</th>\n",
       "      <td>1499_200</td>\n",
       "      <td>1499</td>\n",
       "      <td>2018-10-20</td>\n",
       "      <td>10.89</td>\n",
       "    </tr>\n",
       "    <tr>\n",
       "      <th>137732</th>\n",
       "      <td>1499_201</td>\n",
       "      <td>1499</td>\n",
       "      <td>2018-09-21</td>\n",
       "      <td>8.12</td>\n",
       "    </tr>\n",
       "    <tr>\n",
       "      <th>137733</th>\n",
       "      <td>1499_202</td>\n",
       "      <td>1499</td>\n",
       "      <td>2018-10-10</td>\n",
       "      <td>0.37</td>\n",
       "    </tr>\n",
       "    <tr>\n",
       "      <th>137734</th>\n",
       "      <td>1499_203</td>\n",
       "      <td>1499</td>\n",
       "      <td>2018-12-29</td>\n",
       "      <td>13.86</td>\n",
       "    </tr>\n",
       "  </tbody>\n",
       "</table>\n",
       "<p>137735 rows × 4 columns</p>\n",
       "</div>"
      ],
      "text/plain": [
       "              id  user_id   call_date  duration\n",
       "0        1000_93     1000  2018-12-27      8.52\n",
       "1       1000_145     1000  2018-12-27     13.66\n",
       "2       1000_247     1000  2018-12-27     14.48\n",
       "3       1000_309     1000  2018-12-28      5.76\n",
       "4       1000_380     1000  2018-12-30      4.22\n",
       "...          ...      ...         ...       ...\n",
       "137730  1499_199     1499  2018-11-21      8.72\n",
       "137731  1499_200     1499  2018-10-20     10.89\n",
       "137732  1499_201     1499  2018-09-21      8.12\n",
       "137733  1499_202     1499  2018-10-10      0.37\n",
       "137734  1499_203     1499  2018-12-29     13.86\n",
       "\n",
       "[137735 rows x 4 columns]"
      ]
     },
     "execution_count": 11,
     "metadata": {},
     "output_type": "execute_result"
    }
   ],
   "source": [
    "# Imprime la información general/resumida sobre el DataFrame de las llamadas\n",
    "\n",
    "calls.info()\n",
    "calls"
   ]
  },
  {
   "cell_type": "code",
   "execution_count": 12,
   "metadata": {
    "id": "kuh1vlNB0q09"
   },
   "outputs": [
    {
     "data": {
      "text/html": [
       "<div>\n",
       "<style scoped>\n",
       "    .dataframe tbody tr th:only-of-type {\n",
       "        vertical-align: middle;\n",
       "    }\n",
       "\n",
       "    .dataframe tbody tr th {\n",
       "        vertical-align: top;\n",
       "    }\n",
       "\n",
       "    .dataframe thead th {\n",
       "        text-align: right;\n",
       "    }\n",
       "</style>\n",
       "<table border=\"1\" class=\"dataframe\">\n",
       "  <thead>\n",
       "    <tr style=\"text-align: right;\">\n",
       "      <th></th>\n",
       "      <th>id</th>\n",
       "      <th>user_id</th>\n",
       "      <th>call_date</th>\n",
       "      <th>duration</th>\n",
       "    </tr>\n",
       "  </thead>\n",
       "  <tbody>\n",
       "    <tr>\n",
       "      <th>129563</th>\n",
       "      <td>1466_15</td>\n",
       "      <td>1466</td>\n",
       "      <td>2018-10-17</td>\n",
       "      <td>3.12</td>\n",
       "    </tr>\n",
       "    <tr>\n",
       "      <th>135041</th>\n",
       "      <td>1490_141</td>\n",
       "      <td>1490</td>\n",
       "      <td>2018-12-11</td>\n",
       "      <td>0.72</td>\n",
       "    </tr>\n",
       "    <tr>\n",
       "      <th>97199</th>\n",
       "      <td>1347_25</td>\n",
       "      <td>1347</td>\n",
       "      <td>2018-10-29</td>\n",
       "      <td>3.29</td>\n",
       "    </tr>\n",
       "    <tr>\n",
       "      <th>112172</th>\n",
       "      <td>1394_97</td>\n",
       "      <td>1394</td>\n",
       "      <td>2018-10-31</td>\n",
       "      <td>0.00</td>\n",
       "    </tr>\n",
       "    <tr>\n",
       "      <th>33283</th>\n",
       "      <td>1124_137</td>\n",
       "      <td>1124</td>\n",
       "      <td>2018-11-14</td>\n",
       "      <td>0.00</td>\n",
       "    </tr>\n",
       "    <tr>\n",
       "      <th>43643</th>\n",
       "      <td>1159_239</td>\n",
       "      <td>1159</td>\n",
       "      <td>2018-11-14</td>\n",
       "      <td>11.44</td>\n",
       "    </tr>\n",
       "    <tr>\n",
       "      <th>104466</th>\n",
       "      <td>1368_153</td>\n",
       "      <td>1368</td>\n",
       "      <td>2018-06-01</td>\n",
       "      <td>4.51</td>\n",
       "    </tr>\n",
       "    <tr>\n",
       "      <th>16935</th>\n",
       "      <td>1066_35</td>\n",
       "      <td>1066</td>\n",
       "      <td>2018-12-03</td>\n",
       "      <td>3.72</td>\n",
       "    </tr>\n",
       "    <tr>\n",
       "      <th>124229</th>\n",
       "      <td>1439_97</td>\n",
       "      <td>1439</td>\n",
       "      <td>2018-06-15</td>\n",
       "      <td>6.58</td>\n",
       "    </tr>\n",
       "    <tr>\n",
       "      <th>39352</th>\n",
       "      <td>1147_77</td>\n",
       "      <td>1147</td>\n",
       "      <td>2018-09-06</td>\n",
       "      <td>4.57</td>\n",
       "    </tr>\n",
       "  </tbody>\n",
       "</table>\n",
       "</div>"
      ],
      "text/plain": [
       "              id  user_id   call_date  duration\n",
       "129563   1466_15     1466  2018-10-17      3.12\n",
       "135041  1490_141     1490  2018-12-11      0.72\n",
       "97199    1347_25     1347  2018-10-29      3.29\n",
       "112172   1394_97     1394  2018-10-31      0.00\n",
       "33283   1124_137     1124  2018-11-14      0.00\n",
       "43643   1159_239     1159  2018-11-14     11.44\n",
       "104466  1368_153     1368  2018-06-01      4.51\n",
       "16935    1066_35     1066  2018-12-03      3.72\n",
       "124229   1439_97     1439  2018-06-15      6.58\n",
       "39352    1147_77     1147  2018-09-06      4.57"
      ]
     },
     "execution_count": 12,
     "metadata": {},
     "output_type": "execute_result"
    }
   ],
   "source": [
    "# Imprime una muestra de datos para las llamadas\n",
    "calls.sample(10)\n"
   ]
  },
  {
   "cell_type": "markdown",
   "metadata": {
    "id": "DOAxYJSx0q09"
   },
   "source": [
    "[Describe lo que ves y observas en la información general y en la muestra de datos impresa para el precio de datos anterior. ¿Hay algún problema (tipos de datos no adecuados, datos ausentes, etc.) que pudieran necesitar investigación y cambios adicionales? ¿Cómo se puede arreglar?]\n",
    "\n",
    "<span style=\"color:blue\">Puedo ver que se han registrado las llamadas con las fechas y duraciones que cada usuario ha realizado en diferentes fechas o incluso en las mismas, lo que puedo destacar aqui es sobre el tiempo de duracion para mejor analisis y porque la empresa dice que redondea la duracion de las llamadas hacia arriba , redondeare la columna duration</span>"
   ]
  },
  {
   "cell_type": "markdown",
   "metadata": {
    "id": "S7hzxmbX0q0-"
   },
   "source": [
    "### Corregir los datos"
   ]
  },
  {
   "cell_type": "markdown",
   "metadata": {
    "id": "YxWyAjD20q0-"
   },
   "source": [
    "[Corrige los problemas obvios con los datos basándote en las observaciones iniciales.]"
   ]
  },
  {
   "cell_type": "code",
   "execution_count": 13,
   "metadata": {
    "id": "S2r8xA4f0q0-"
   },
   "outputs": [
    {
     "data": {
      "text/html": [
       "<div>\n",
       "<style scoped>\n",
       "    .dataframe tbody tr th:only-of-type {\n",
       "        vertical-align: middle;\n",
       "    }\n",
       "\n",
       "    .dataframe tbody tr th {\n",
       "        vertical-align: top;\n",
       "    }\n",
       "\n",
       "    .dataframe thead th {\n",
       "        text-align: right;\n",
       "    }\n",
       "</style>\n",
       "<table border=\"1\" class=\"dataframe\">\n",
       "  <thead>\n",
       "    <tr style=\"text-align: right;\">\n",
       "      <th></th>\n",
       "      <th>id</th>\n",
       "      <th>user_id</th>\n",
       "      <th>call_date</th>\n",
       "      <th>duration</th>\n",
       "    </tr>\n",
       "  </thead>\n",
       "  <tbody>\n",
       "    <tr>\n",
       "      <th>0</th>\n",
       "      <td>1000_93</td>\n",
       "      <td>1000</td>\n",
       "      <td>2018-12-27</td>\n",
       "      <td>9.0</td>\n",
       "    </tr>\n",
       "    <tr>\n",
       "      <th>1</th>\n",
       "      <td>1000_145</td>\n",
       "      <td>1000</td>\n",
       "      <td>2018-12-27</td>\n",
       "      <td>14.0</td>\n",
       "    </tr>\n",
       "    <tr>\n",
       "      <th>2</th>\n",
       "      <td>1000_247</td>\n",
       "      <td>1000</td>\n",
       "      <td>2018-12-27</td>\n",
       "      <td>15.0</td>\n",
       "    </tr>\n",
       "    <tr>\n",
       "      <th>3</th>\n",
       "      <td>1000_309</td>\n",
       "      <td>1000</td>\n",
       "      <td>2018-12-28</td>\n",
       "      <td>6.0</td>\n",
       "    </tr>\n",
       "    <tr>\n",
       "      <th>4</th>\n",
       "      <td>1000_380</td>\n",
       "      <td>1000</td>\n",
       "      <td>2018-12-30</td>\n",
       "      <td>5.0</td>\n",
       "    </tr>\n",
       "    <tr>\n",
       "      <th>...</th>\n",
       "      <td>...</td>\n",
       "      <td>...</td>\n",
       "      <td>...</td>\n",
       "      <td>...</td>\n",
       "    </tr>\n",
       "    <tr>\n",
       "      <th>137730</th>\n",
       "      <td>1499_199</td>\n",
       "      <td>1499</td>\n",
       "      <td>2018-11-21</td>\n",
       "      <td>9.0</td>\n",
       "    </tr>\n",
       "    <tr>\n",
       "      <th>137731</th>\n",
       "      <td>1499_200</td>\n",
       "      <td>1499</td>\n",
       "      <td>2018-10-20</td>\n",
       "      <td>11.0</td>\n",
       "    </tr>\n",
       "    <tr>\n",
       "      <th>137732</th>\n",
       "      <td>1499_201</td>\n",
       "      <td>1499</td>\n",
       "      <td>2018-09-21</td>\n",
       "      <td>9.0</td>\n",
       "    </tr>\n",
       "    <tr>\n",
       "      <th>137733</th>\n",
       "      <td>1499_202</td>\n",
       "      <td>1499</td>\n",
       "      <td>2018-10-10</td>\n",
       "      <td>1.0</td>\n",
       "    </tr>\n",
       "    <tr>\n",
       "      <th>137734</th>\n",
       "      <td>1499_203</td>\n",
       "      <td>1499</td>\n",
       "      <td>2018-12-29</td>\n",
       "      <td>14.0</td>\n",
       "    </tr>\n",
       "  </tbody>\n",
       "</table>\n",
       "<p>137735 rows × 4 columns</p>\n",
       "</div>"
      ],
      "text/plain": [
       "              id  user_id   call_date  duration\n",
       "0        1000_93     1000  2018-12-27       9.0\n",
       "1       1000_145     1000  2018-12-27      14.0\n",
       "2       1000_247     1000  2018-12-27      15.0\n",
       "3       1000_309     1000  2018-12-28       6.0\n",
       "4       1000_380     1000  2018-12-30       5.0\n",
       "...          ...      ...         ...       ...\n",
       "137730  1499_199     1499  2018-11-21       9.0\n",
       "137731  1499_200     1499  2018-10-20      11.0\n",
       "137732  1499_201     1499  2018-09-21       9.0\n",
       "137733  1499_202     1499  2018-10-10       1.0\n",
       "137734  1499_203     1499  2018-12-29      14.0\n",
       "\n",
       "[137735 rows x 4 columns]"
      ]
     },
     "execution_count": 13,
     "metadata": {},
     "output_type": "execute_result"
    }
   ],
   "source": [
    "# Redondear hacia arriba todos los valores de la columna 'duration'\n",
    "import numpy as np\n",
    "calls['duration'] = np.ceil(calls['duration'])\n",
    "calls"
   ]
  },
  {
   "cell_type": "markdown",
   "metadata": {
    "id": "KrMgTrlG0q0_"
   },
   "source": [
    "### Enriquecer los datos"
   ]
  },
  {
   "cell_type": "markdown",
   "metadata": {
    "id": "a9MbmEvE0q0_"
   },
   "source": [
    "[Agrega factores adicionales a los datos si crees que pudieran ser útiles.]"
   ]
  },
  {
   "cell_type": "code",
   "execution_count": 14,
   "metadata": {
    "id": "iZ1avpA_0q0_"
   },
   "outputs": [
    {
     "name": "stdout",
     "output_type": "stream",
     "text": [
      "0   2018-12-27\n",
      "1   2018-12-27\n",
      "2   2018-12-27\n",
      "3   2018-12-28\n",
      "4   2018-12-30\n",
      "Name: call_date, dtype: datetime64[ns]\n"
     ]
    }
   ],
   "source": [
    "# Con la modificacion de la duracion creo que\n",
    "# ya tenemos el dataframe con las mejoras necesarias , buscare solamente elementos duplicados\n",
    "# para cerciorarme que no existan.\n",
    "\n",
    "duplicados = calls.duplicated()\n",
    "\n",
    "duplicados.sum()\n",
    "calls['call_date'] = pd.to_datetime(calls['call_date'], format='%Y-%m-%d')\n",
    "print(calls['call_date'].head())\n"
   ]
  },
  {
   "cell_type": "markdown",
   "metadata": {},
   "source": [
    "<div class=\"alert alert-block alert-warning\">\n",
    "<b>Comentario Revisor</b> <a class=\"tocSkip\"></a>\n",
    "\n",
    "Para hacer la transformación de call_date a un datatime puedes hacer uso de la siguiente función:\n",
    "    \n",
    "    pd.to_datetime(user['call_date'], format='%Y-%m-%d')\n",
    "    \n",
    "te recomiendo agregar el argumento \"format='%Y-%m-%d'\" dentro de la función to_datetime(). De esta manera, puedes asegurarte siempre de que el formato de la fecha que deseas cambiar sea el que necesitas. Los mismo para las otras variables que son fechas de otras bases de datos.\n",
    "</div>"
   ]
  },
  {
   "cell_type": "markdown",
   "metadata": {},
   "source": [
    "<div class=\"alert alert-block alert-success\">\n",
    "<b>Comentario del revisor</b> <a class=\"tocSkip\"></a>\n",
    "\n",
    "Muy buen trabajo con los ajustes!\n",
    "</div>"
   ]
  },
  {
   "cell_type": "markdown",
   "metadata": {
    "id": "mOUZSi180q0_"
   },
   "source": [
    "## Mensajes"
   ]
  },
  {
   "cell_type": "code",
   "execution_count": 15,
   "metadata": {
    "id": "R-bYJpdV0q1A"
   },
   "outputs": [
    {
     "name": "stdout",
     "output_type": "stream",
     "text": [
      "<class 'pandas.core.frame.DataFrame'>\n",
      "RangeIndex: 76051 entries, 0 to 76050\n",
      "Data columns (total 3 columns):\n",
      " #   Column        Non-Null Count  Dtype \n",
      "---  ------        --------------  ----- \n",
      " 0   id            76051 non-null  object\n",
      " 1   user_id       76051 non-null  int64 \n",
      " 2   message_date  76051 non-null  object\n",
      "dtypes: int64(1), object(2)\n",
      "memory usage: 1.7+ MB\n"
     ]
    },
    {
     "data": {
      "text/html": [
       "<div>\n",
       "<style scoped>\n",
       "    .dataframe tbody tr th:only-of-type {\n",
       "        vertical-align: middle;\n",
       "    }\n",
       "\n",
       "    .dataframe tbody tr th {\n",
       "        vertical-align: top;\n",
       "    }\n",
       "\n",
       "    .dataframe thead th {\n",
       "        text-align: right;\n",
       "    }\n",
       "</style>\n",
       "<table border=\"1\" class=\"dataframe\">\n",
       "  <thead>\n",
       "    <tr style=\"text-align: right;\">\n",
       "      <th></th>\n",
       "      <th>id</th>\n",
       "      <th>user_id</th>\n",
       "      <th>message_date</th>\n",
       "    </tr>\n",
       "  </thead>\n",
       "  <tbody>\n",
       "    <tr>\n",
       "      <th>0</th>\n",
       "      <td>1000_125</td>\n",
       "      <td>1000</td>\n",
       "      <td>2018-12-27</td>\n",
       "    </tr>\n",
       "    <tr>\n",
       "      <th>1</th>\n",
       "      <td>1000_160</td>\n",
       "      <td>1000</td>\n",
       "      <td>2018-12-31</td>\n",
       "    </tr>\n",
       "    <tr>\n",
       "      <th>2</th>\n",
       "      <td>1000_223</td>\n",
       "      <td>1000</td>\n",
       "      <td>2018-12-31</td>\n",
       "    </tr>\n",
       "    <tr>\n",
       "      <th>3</th>\n",
       "      <td>1000_251</td>\n",
       "      <td>1000</td>\n",
       "      <td>2018-12-27</td>\n",
       "    </tr>\n",
       "    <tr>\n",
       "      <th>4</th>\n",
       "      <td>1000_255</td>\n",
       "      <td>1000</td>\n",
       "      <td>2018-12-26</td>\n",
       "    </tr>\n",
       "    <tr>\n",
       "      <th>...</th>\n",
       "      <td>...</td>\n",
       "      <td>...</td>\n",
       "      <td>...</td>\n",
       "    </tr>\n",
       "    <tr>\n",
       "      <th>76046</th>\n",
       "      <td>1497_526</td>\n",
       "      <td>1497</td>\n",
       "      <td>2018-12-24</td>\n",
       "    </tr>\n",
       "    <tr>\n",
       "      <th>76047</th>\n",
       "      <td>1497_536</td>\n",
       "      <td>1497</td>\n",
       "      <td>2018-12-24</td>\n",
       "    </tr>\n",
       "    <tr>\n",
       "      <th>76048</th>\n",
       "      <td>1497_547</td>\n",
       "      <td>1497</td>\n",
       "      <td>2018-12-31</td>\n",
       "    </tr>\n",
       "    <tr>\n",
       "      <th>76049</th>\n",
       "      <td>1497_558</td>\n",
       "      <td>1497</td>\n",
       "      <td>2018-12-24</td>\n",
       "    </tr>\n",
       "    <tr>\n",
       "      <th>76050</th>\n",
       "      <td>1497_613</td>\n",
       "      <td>1497</td>\n",
       "      <td>2018-12-23</td>\n",
       "    </tr>\n",
       "  </tbody>\n",
       "</table>\n",
       "<p>76051 rows × 3 columns</p>\n",
       "</div>"
      ],
      "text/plain": [
       "             id  user_id message_date\n",
       "0      1000_125     1000   2018-12-27\n",
       "1      1000_160     1000   2018-12-31\n",
       "2      1000_223     1000   2018-12-31\n",
       "3      1000_251     1000   2018-12-27\n",
       "4      1000_255     1000   2018-12-26\n",
       "...         ...      ...          ...\n",
       "76046  1497_526     1497   2018-12-24\n",
       "76047  1497_536     1497   2018-12-24\n",
       "76048  1497_547     1497   2018-12-31\n",
       "76049  1497_558     1497   2018-12-24\n",
       "76050  1497_613     1497   2018-12-23\n",
       "\n",
       "[76051 rows x 3 columns]"
      ]
     },
     "execution_count": 15,
     "metadata": {},
     "output_type": "execute_result"
    }
   ],
   "source": [
    "# Imprime la información general/resumida sobre el DataFrame de los mensajes\n",
    "\n",
    "message.info()\n",
    "message\n"
   ]
  },
  {
   "cell_type": "code",
   "execution_count": 16,
   "metadata": {
    "id": "mCEl2iGE0q1A"
   },
   "outputs": [
    {
     "data": {
      "text/html": [
       "<div>\n",
       "<style scoped>\n",
       "    .dataframe tbody tr th:only-of-type {\n",
       "        vertical-align: middle;\n",
       "    }\n",
       "\n",
       "    .dataframe tbody tr th {\n",
       "        vertical-align: top;\n",
       "    }\n",
       "\n",
       "    .dataframe thead th {\n",
       "        text-align: right;\n",
       "    }\n",
       "</style>\n",
       "<table border=\"1\" class=\"dataframe\">\n",
       "  <thead>\n",
       "    <tr style=\"text-align: right;\">\n",
       "      <th></th>\n",
       "      <th>id</th>\n",
       "      <th>user_id</th>\n",
       "      <th>message_date</th>\n",
       "    </tr>\n",
       "  </thead>\n",
       "  <tbody>\n",
       "    <tr>\n",
       "      <th>17356</th>\n",
       "      <td>1114_215</td>\n",
       "      <td>1114</td>\n",
       "      <td>2018-12-09</td>\n",
       "    </tr>\n",
       "    <tr>\n",
       "      <th>67472</th>\n",
       "      <td>1438_38</td>\n",
       "      <td>1438</td>\n",
       "      <td>2018-11-07</td>\n",
       "    </tr>\n",
       "    <tr>\n",
       "      <th>48192</th>\n",
       "      <td>1324_924</td>\n",
       "      <td>1324</td>\n",
       "      <td>2018-11-20</td>\n",
       "    </tr>\n",
       "    <tr>\n",
       "      <th>60968</th>\n",
       "      <td>1384_2</td>\n",
       "      <td>1384</td>\n",
       "      <td>2018-12-01</td>\n",
       "    </tr>\n",
       "    <tr>\n",
       "      <th>3860</th>\n",
       "      <td>1038_213</td>\n",
       "      <td>1038</td>\n",
       "      <td>2018-12-08</td>\n",
       "    </tr>\n",
       "    <tr>\n",
       "      <th>28843</th>\n",
       "      <td>1175_256</td>\n",
       "      <td>1175</td>\n",
       "      <td>2018-10-27</td>\n",
       "    </tr>\n",
       "    <tr>\n",
       "      <th>22437</th>\n",
       "      <td>1133_592</td>\n",
       "      <td>1133</td>\n",
       "      <td>2018-09-06</td>\n",
       "    </tr>\n",
       "    <tr>\n",
       "      <th>10050</th>\n",
       "      <td>1076_138</td>\n",
       "      <td>1076</td>\n",
       "      <td>2018-11-18</td>\n",
       "    </tr>\n",
       "    <tr>\n",
       "      <th>67900</th>\n",
       "      <td>1439_294</td>\n",
       "      <td>1439</td>\n",
       "      <td>2018-11-23</td>\n",
       "    </tr>\n",
       "    <tr>\n",
       "      <th>14535</th>\n",
       "      <td>1099_96</td>\n",
       "      <td>1099</td>\n",
       "      <td>2018-08-13</td>\n",
       "    </tr>\n",
       "  </tbody>\n",
       "</table>\n",
       "</div>"
      ],
      "text/plain": [
       "             id  user_id message_date\n",
       "17356  1114_215     1114   2018-12-09\n",
       "67472   1438_38     1438   2018-11-07\n",
       "48192  1324_924     1324   2018-11-20\n",
       "60968    1384_2     1384   2018-12-01\n",
       "3860   1038_213     1038   2018-12-08\n",
       "28843  1175_256     1175   2018-10-27\n",
       "22437  1133_592     1133   2018-09-06\n",
       "10050  1076_138     1076   2018-11-18\n",
       "67900  1439_294     1439   2018-11-23\n",
       "14535   1099_96     1099   2018-08-13"
      ]
     },
     "execution_count": 16,
     "metadata": {},
     "output_type": "execute_result"
    }
   ],
   "source": [
    "# Imprime una muestra de datos para los mensajes\n",
    "\n",
    "duplicates_messages=message.duplicated()\n",
    "duplicates_messages.sum()\n",
    "message.sample(10)\n",
    "\n"
   ]
  },
  {
   "cell_type": "markdown",
   "metadata": {
    "id": "04xDj7KH0q1A"
   },
   "source": [
    "[Describe lo que ves y observas en la información general y en la muestra de datos impresa para el precio de datos anterior. ¿Hay algún problema (tipos de datos no adecuados, datos ausentes, etc.) que pudieran necesitar investigación y cambios adicionales? ¿Cómo se puede arreglar?]\n",
    "\n",
    "\n",
    "<span style=\"color:blue\">Muestra la informacion de las fechas de cada usuario realizo identificandolos con un numero de identificador</span>"
   ]
  },
  {
   "cell_type": "markdown",
   "metadata": {
    "id": "Sprfak900q1B"
   },
   "source": [
    "### Corregir los datos"
   ]
  },
  {
   "cell_type": "markdown",
   "metadata": {
    "id": "bStkaxn40q1C"
   },
   "source": [
    "## Internet"
   ]
  },
  {
   "cell_type": "code",
   "execution_count": 17,
   "metadata": {
    "id": "e-Uz5qyn0q1C"
   },
   "outputs": [
    {
     "name": "stdout",
     "output_type": "stream",
     "text": [
      "<class 'pandas.core.frame.DataFrame'>\n",
      "RangeIndex: 104825 entries, 0 to 104824\n",
      "Data columns (total 4 columns):\n",
      " #   Column        Non-Null Count   Dtype  \n",
      "---  ------        --------------   -----  \n",
      " 0   id            104825 non-null  object \n",
      " 1   user_id       104825 non-null  int64  \n",
      " 2   session_date  104825 non-null  object \n",
      " 3   mb_used       104825 non-null  float64\n",
      "dtypes: float64(1), int64(1), object(2)\n",
      "memory usage: 3.2+ MB\n"
     ]
    }
   ],
   "source": [
    "# Imprime la información general/resumida sobre el DataFrame de internet\n",
    "\n",
    "internet.info()"
   ]
  },
  {
   "cell_type": "code",
   "execution_count": 18,
   "metadata": {
    "id": "9r3x_XLw0q1C"
   },
   "outputs": [
    {
     "data": {
      "text/html": [
       "<div>\n",
       "<style scoped>\n",
       "    .dataframe tbody tr th:only-of-type {\n",
       "        vertical-align: middle;\n",
       "    }\n",
       "\n",
       "    .dataframe tbody tr th {\n",
       "        vertical-align: top;\n",
       "    }\n",
       "\n",
       "    .dataframe thead th {\n",
       "        text-align: right;\n",
       "    }\n",
       "</style>\n",
       "<table border=\"1\" class=\"dataframe\">\n",
       "  <thead>\n",
       "    <tr style=\"text-align: right;\">\n",
       "      <th></th>\n",
       "      <th>id</th>\n",
       "      <th>user_id</th>\n",
       "      <th>session_date</th>\n",
       "      <th>mb_used</th>\n",
       "    </tr>\n",
       "  </thead>\n",
       "  <tbody>\n",
       "    <tr>\n",
       "      <th>0</th>\n",
       "      <td>1000_13</td>\n",
       "      <td>1000</td>\n",
       "      <td>2018-12-29</td>\n",
       "      <td>89.86</td>\n",
       "    </tr>\n",
       "    <tr>\n",
       "      <th>1</th>\n",
       "      <td>1000_204</td>\n",
       "      <td>1000</td>\n",
       "      <td>2018-12-31</td>\n",
       "      <td>0.00</td>\n",
       "    </tr>\n",
       "    <tr>\n",
       "      <th>2</th>\n",
       "      <td>1000_379</td>\n",
       "      <td>1000</td>\n",
       "      <td>2018-12-28</td>\n",
       "      <td>660.40</td>\n",
       "    </tr>\n",
       "    <tr>\n",
       "      <th>3</th>\n",
       "      <td>1000_413</td>\n",
       "      <td>1000</td>\n",
       "      <td>2018-12-26</td>\n",
       "      <td>270.99</td>\n",
       "    </tr>\n",
       "    <tr>\n",
       "      <th>4</th>\n",
       "      <td>1000_442</td>\n",
       "      <td>1000</td>\n",
       "      <td>2018-12-27</td>\n",
       "      <td>880.22</td>\n",
       "    </tr>\n",
       "    <tr>\n",
       "      <th>...</th>\n",
       "      <td>...</td>\n",
       "      <td>...</td>\n",
       "      <td>...</td>\n",
       "      <td>...</td>\n",
       "    </tr>\n",
       "    <tr>\n",
       "      <th>104820</th>\n",
       "      <td>1499_215</td>\n",
       "      <td>1499</td>\n",
       "      <td>2018-10-20</td>\n",
       "      <td>218.06</td>\n",
       "    </tr>\n",
       "    <tr>\n",
       "      <th>104821</th>\n",
       "      <td>1499_216</td>\n",
       "      <td>1499</td>\n",
       "      <td>2018-12-30</td>\n",
       "      <td>304.72</td>\n",
       "    </tr>\n",
       "    <tr>\n",
       "      <th>104822</th>\n",
       "      <td>1499_217</td>\n",
       "      <td>1499</td>\n",
       "      <td>2018-09-22</td>\n",
       "      <td>292.75</td>\n",
       "    </tr>\n",
       "    <tr>\n",
       "      <th>104823</th>\n",
       "      <td>1499_218</td>\n",
       "      <td>1499</td>\n",
       "      <td>2018-12-07</td>\n",
       "      <td>0.00</td>\n",
       "    </tr>\n",
       "    <tr>\n",
       "      <th>104824</th>\n",
       "      <td>1499_219</td>\n",
       "      <td>1499</td>\n",
       "      <td>2018-12-24</td>\n",
       "      <td>758.31</td>\n",
       "    </tr>\n",
       "  </tbody>\n",
       "</table>\n",
       "<p>104825 rows × 4 columns</p>\n",
       "</div>"
      ],
      "text/plain": [
       "              id  user_id session_date  mb_used\n",
       "0        1000_13     1000   2018-12-29    89.86\n",
       "1       1000_204     1000   2018-12-31     0.00\n",
       "2       1000_379     1000   2018-12-28   660.40\n",
       "3       1000_413     1000   2018-12-26   270.99\n",
       "4       1000_442     1000   2018-12-27   880.22\n",
       "...          ...      ...          ...      ...\n",
       "104820  1499_215     1499   2018-10-20   218.06\n",
       "104821  1499_216     1499   2018-12-30   304.72\n",
       "104822  1499_217     1499   2018-09-22   292.75\n",
       "104823  1499_218     1499   2018-12-07     0.00\n",
       "104824  1499_219     1499   2018-12-24   758.31\n",
       "\n",
       "[104825 rows x 4 columns]"
      ]
     },
     "execution_count": 18,
     "metadata": {},
     "output_type": "execute_result"
    }
   ],
   "source": [
    "# Imprime una muestra de datos para el tráfico de internet\n",
    "\n",
    "internet\n"
   ]
  },
  {
   "cell_type": "markdown",
   "metadata": {
    "id": "EzOG5ik30q1D"
   },
   "source": [
    "[Describe lo que ves y observas en la información general y en la muestra de datos impresa para el precio de datos anterior. ¿Hay algún problema (tipos de datos no adecuados, datos ausentes, etc.) que pudieran necesitar investigación y cambios adicionales? ¿Cómo se puede arreglar?]"
   ]
  },
  {
   "cell_type": "markdown",
   "metadata": {
    "id": "yA0tkPFg0q1D"
   },
   "source": [
    "### Corregir los datos"
   ]
  },
  {
   "cell_type": "markdown",
   "metadata": {
    "id": "zlZMuIEK0q1D"
   },
   "source": [
    "[Corrige los problemas obvios con los datos basándote en las observaciones iniciales.]"
   ]
  },
  {
   "cell_type": "code",
   "execution_count": 19,
   "metadata": {
    "id": "zVeanzdd0q1E"
   },
   "outputs": [
    {
     "data": {
      "text/html": [
       "<div>\n",
       "<style scoped>\n",
       "    .dataframe tbody tr th:only-of-type {\n",
       "        vertical-align: middle;\n",
       "    }\n",
       "\n",
       "    .dataframe tbody tr th {\n",
       "        vertical-align: top;\n",
       "    }\n",
       "\n",
       "    .dataframe thead th {\n",
       "        text-align: right;\n",
       "    }\n",
       "</style>\n",
       "<table border=\"1\" class=\"dataframe\">\n",
       "  <thead>\n",
       "    <tr style=\"text-align: right;\">\n",
       "      <th></th>\n",
       "      <th>id</th>\n",
       "      <th>user_id</th>\n",
       "      <th>session_date</th>\n",
       "      <th>mb_used</th>\n",
       "    </tr>\n",
       "  </thead>\n",
       "  <tbody>\n",
       "    <tr>\n",
       "      <th>0</th>\n",
       "      <td>1000_13</td>\n",
       "      <td>1000</td>\n",
       "      <td>2018-12-29</td>\n",
       "      <td>0.087754</td>\n",
       "    </tr>\n",
       "    <tr>\n",
       "      <th>1</th>\n",
       "      <td>1000_204</td>\n",
       "      <td>1000</td>\n",
       "      <td>2018-12-31</td>\n",
       "      <td>0.000000</td>\n",
       "    </tr>\n",
       "    <tr>\n",
       "      <th>2</th>\n",
       "      <td>1000_379</td>\n",
       "      <td>1000</td>\n",
       "      <td>2018-12-28</td>\n",
       "      <td>0.644922</td>\n",
       "    </tr>\n",
       "    <tr>\n",
       "      <th>3</th>\n",
       "      <td>1000_413</td>\n",
       "      <td>1000</td>\n",
       "      <td>2018-12-26</td>\n",
       "      <td>0.264639</td>\n",
       "    </tr>\n",
       "    <tr>\n",
       "      <th>4</th>\n",
       "      <td>1000_442</td>\n",
       "      <td>1000</td>\n",
       "      <td>2018-12-27</td>\n",
       "      <td>0.859590</td>\n",
       "    </tr>\n",
       "    <tr>\n",
       "      <th>...</th>\n",
       "      <td>...</td>\n",
       "      <td>...</td>\n",
       "      <td>...</td>\n",
       "      <td>...</td>\n",
       "    </tr>\n",
       "    <tr>\n",
       "      <th>104820</th>\n",
       "      <td>1499_215</td>\n",
       "      <td>1499</td>\n",
       "      <td>2018-10-20</td>\n",
       "      <td>0.212949</td>\n",
       "    </tr>\n",
       "    <tr>\n",
       "      <th>104821</th>\n",
       "      <td>1499_216</td>\n",
       "      <td>1499</td>\n",
       "      <td>2018-12-30</td>\n",
       "      <td>0.297578</td>\n",
       "    </tr>\n",
       "    <tr>\n",
       "      <th>104822</th>\n",
       "      <td>1499_217</td>\n",
       "      <td>1499</td>\n",
       "      <td>2018-09-22</td>\n",
       "      <td>0.285889</td>\n",
       "    </tr>\n",
       "    <tr>\n",
       "      <th>104823</th>\n",
       "      <td>1499_218</td>\n",
       "      <td>1499</td>\n",
       "      <td>2018-12-07</td>\n",
       "      <td>0.000000</td>\n",
       "    </tr>\n",
       "    <tr>\n",
       "      <th>104824</th>\n",
       "      <td>1499_219</td>\n",
       "      <td>1499</td>\n",
       "      <td>2018-12-24</td>\n",
       "      <td>0.740537</td>\n",
       "    </tr>\n",
       "  </tbody>\n",
       "</table>\n",
       "<p>104825 rows × 4 columns</p>\n",
       "</div>"
      ],
      "text/plain": [
       "              id  user_id session_date   mb_used\n",
       "0        1000_13     1000   2018-12-29  0.087754\n",
       "1       1000_204     1000   2018-12-31  0.000000\n",
       "2       1000_379     1000   2018-12-28  0.644922\n",
       "3       1000_413     1000   2018-12-26  0.264639\n",
       "4       1000_442     1000   2018-12-27  0.859590\n",
       "...          ...      ...          ...       ...\n",
       "104820  1499_215     1499   2018-10-20  0.212949\n",
       "104821  1499_216     1499   2018-12-30  0.297578\n",
       "104822  1499_217     1499   2018-09-22  0.285889\n",
       "104823  1499_218     1499   2018-12-07  0.000000\n",
       "104824  1499_219     1499   2018-12-24  0.740537\n",
       "\n",
       "[104825 rows x 4 columns]"
      ]
     },
     "execution_count": 19,
     "metadata": {},
     "output_type": "execute_result"
    }
   ],
   "source": [
    "internet[\"mb_used\"]=internet[\"mb_used\"]/1024\n",
    "internet"
   ]
  },
  {
   "cell_type": "markdown",
   "metadata": {
    "id": "3UA2cqIW0q1E"
   },
   "source": [
    "## Estudiar las condiciones de las tarifas"
   ]
  },
  {
   "cell_type": "markdown",
   "metadata": {
    "id": "T86Sqltq0q1F"
   },
   "source": [
    "[Es sumamente importante entender cómo funcionan las tarifas, cómo se les cobra a los usuarios en función de su plan de suscripción. Así que te sugerimos imprimir la información de la tarifa para ver una vez más sus condiciones.]"
   ]
  },
  {
   "cell_type": "code",
   "execution_count": 20,
   "metadata": {
    "id": "i409op8p0q1F"
   },
   "outputs": [
    {
     "data": {
      "text/html": [
       "<div>\n",
       "<style scoped>\n",
       "    .dataframe tbody tr th:only-of-type {\n",
       "        vertical-align: middle;\n",
       "    }\n",
       "\n",
       "    .dataframe tbody tr th {\n",
       "        vertical-align: top;\n",
       "    }\n",
       "\n",
       "    .dataframe thead th {\n",
       "        text-align: right;\n",
       "    }\n",
       "</style>\n",
       "<table border=\"1\" class=\"dataframe\">\n",
       "  <thead>\n",
       "    <tr style=\"text-align: right;\">\n",
       "      <th></th>\n",
       "      <th>user_id</th>\n",
       "      <th>first_name</th>\n",
       "      <th>last_name</th>\n",
       "      <th>age</th>\n",
       "      <th>city</th>\n",
       "      <th>reg_date</th>\n",
       "      <th>plan_name</th>\n",
       "      <th>churn_date</th>\n",
       "      <th>messages_included</th>\n",
       "      <th>gb_per_month_included</th>\n",
       "      <th>minutes_included</th>\n",
       "      <th>usd_monthly_pay</th>\n",
       "      <th>usd_per_gb</th>\n",
       "      <th>usd_per_message</th>\n",
       "      <th>usd_per_minute</th>\n",
       "      <th>id</th>\n",
       "      <th>call_date</th>\n",
       "      <th>duration</th>\n",
       "    </tr>\n",
       "  </thead>\n",
       "  <tbody>\n",
       "    <tr>\n",
       "      <th>0</th>\n",
       "      <td>1000</td>\n",
       "      <td>anamaria</td>\n",
       "      <td>bauer</td>\n",
       "      <td>45</td>\n",
       "      <td>atlanta-sandy springs-roswell, ga msa</td>\n",
       "      <td>2018-12-24</td>\n",
       "      <td>ultimate</td>\n",
       "      <td>2000-01-01</td>\n",
       "      <td>1000</td>\n",
       "      <td>30.0</td>\n",
       "      <td>3000</td>\n",
       "      <td>70</td>\n",
       "      <td>7</td>\n",
       "      <td>0.01</td>\n",
       "      <td>0.01</td>\n",
       "      <td>1000_93</td>\n",
       "      <td>2018-12-27</td>\n",
       "      <td>9.0</td>\n",
       "    </tr>\n",
       "    <tr>\n",
       "      <th>1</th>\n",
       "      <td>1000</td>\n",
       "      <td>anamaria</td>\n",
       "      <td>bauer</td>\n",
       "      <td>45</td>\n",
       "      <td>atlanta-sandy springs-roswell, ga msa</td>\n",
       "      <td>2018-12-24</td>\n",
       "      <td>ultimate</td>\n",
       "      <td>2000-01-01</td>\n",
       "      <td>1000</td>\n",
       "      <td>30.0</td>\n",
       "      <td>3000</td>\n",
       "      <td>70</td>\n",
       "      <td>7</td>\n",
       "      <td>0.01</td>\n",
       "      <td>0.01</td>\n",
       "      <td>1000_145</td>\n",
       "      <td>2018-12-27</td>\n",
       "      <td>14.0</td>\n",
       "    </tr>\n",
       "    <tr>\n",
       "      <th>2</th>\n",
       "      <td>1000</td>\n",
       "      <td>anamaria</td>\n",
       "      <td>bauer</td>\n",
       "      <td>45</td>\n",
       "      <td>atlanta-sandy springs-roswell, ga msa</td>\n",
       "      <td>2018-12-24</td>\n",
       "      <td>ultimate</td>\n",
       "      <td>2000-01-01</td>\n",
       "      <td>1000</td>\n",
       "      <td>30.0</td>\n",
       "      <td>3000</td>\n",
       "      <td>70</td>\n",
       "      <td>7</td>\n",
       "      <td>0.01</td>\n",
       "      <td>0.01</td>\n",
       "      <td>1000_247</td>\n",
       "      <td>2018-12-27</td>\n",
       "      <td>15.0</td>\n",
       "    </tr>\n",
       "    <tr>\n",
       "      <th>3</th>\n",
       "      <td>1000</td>\n",
       "      <td>anamaria</td>\n",
       "      <td>bauer</td>\n",
       "      <td>45</td>\n",
       "      <td>atlanta-sandy springs-roswell, ga msa</td>\n",
       "      <td>2018-12-24</td>\n",
       "      <td>ultimate</td>\n",
       "      <td>2000-01-01</td>\n",
       "      <td>1000</td>\n",
       "      <td>30.0</td>\n",
       "      <td>3000</td>\n",
       "      <td>70</td>\n",
       "      <td>7</td>\n",
       "      <td>0.01</td>\n",
       "      <td>0.01</td>\n",
       "      <td>1000_309</td>\n",
       "      <td>2018-12-28</td>\n",
       "      <td>6.0</td>\n",
       "    </tr>\n",
       "    <tr>\n",
       "      <th>4</th>\n",
       "      <td>1000</td>\n",
       "      <td>anamaria</td>\n",
       "      <td>bauer</td>\n",
       "      <td>45</td>\n",
       "      <td>atlanta-sandy springs-roswell, ga msa</td>\n",
       "      <td>2018-12-24</td>\n",
       "      <td>ultimate</td>\n",
       "      <td>2000-01-01</td>\n",
       "      <td>1000</td>\n",
       "      <td>30.0</td>\n",
       "      <td>3000</td>\n",
       "      <td>70</td>\n",
       "      <td>7</td>\n",
       "      <td>0.01</td>\n",
       "      <td>0.01</td>\n",
       "      <td>1000_380</td>\n",
       "      <td>2018-12-30</td>\n",
       "      <td>5.0</td>\n",
       "    </tr>\n",
       "    <tr>\n",
       "      <th>...</th>\n",
       "      <td>...</td>\n",
       "      <td>...</td>\n",
       "      <td>...</td>\n",
       "      <td>...</td>\n",
       "      <td>...</td>\n",
       "      <td>...</td>\n",
       "      <td>...</td>\n",
       "      <td>...</td>\n",
       "      <td>...</td>\n",
       "      <td>...</td>\n",
       "      <td>...</td>\n",
       "      <td>...</td>\n",
       "      <td>...</td>\n",
       "      <td>...</td>\n",
       "      <td>...</td>\n",
       "      <td>...</td>\n",
       "      <td>...</td>\n",
       "      <td>...</td>\n",
       "    </tr>\n",
       "    <tr>\n",
       "      <th>137749</th>\n",
       "      <td>1499</td>\n",
       "      <td>shena</td>\n",
       "      <td>dickson</td>\n",
       "      <td>37</td>\n",
       "      <td>orlando-kissimmee-sanford, fl msa</td>\n",
       "      <td>2018-05-06</td>\n",
       "      <td>surf</td>\n",
       "      <td>2000-01-01</td>\n",
       "      <td>50</td>\n",
       "      <td>15.0</td>\n",
       "      <td>500</td>\n",
       "      <td>20</td>\n",
       "      <td>10</td>\n",
       "      <td>0.03</td>\n",
       "      <td>0.03</td>\n",
       "      <td>1499_199</td>\n",
       "      <td>2018-11-21</td>\n",
       "      <td>9.0</td>\n",
       "    </tr>\n",
       "    <tr>\n",
       "      <th>137750</th>\n",
       "      <td>1499</td>\n",
       "      <td>shena</td>\n",
       "      <td>dickson</td>\n",
       "      <td>37</td>\n",
       "      <td>orlando-kissimmee-sanford, fl msa</td>\n",
       "      <td>2018-05-06</td>\n",
       "      <td>surf</td>\n",
       "      <td>2000-01-01</td>\n",
       "      <td>50</td>\n",
       "      <td>15.0</td>\n",
       "      <td>500</td>\n",
       "      <td>20</td>\n",
       "      <td>10</td>\n",
       "      <td>0.03</td>\n",
       "      <td>0.03</td>\n",
       "      <td>1499_200</td>\n",
       "      <td>2018-10-20</td>\n",
       "      <td>11.0</td>\n",
       "    </tr>\n",
       "    <tr>\n",
       "      <th>137751</th>\n",
       "      <td>1499</td>\n",
       "      <td>shena</td>\n",
       "      <td>dickson</td>\n",
       "      <td>37</td>\n",
       "      <td>orlando-kissimmee-sanford, fl msa</td>\n",
       "      <td>2018-05-06</td>\n",
       "      <td>surf</td>\n",
       "      <td>2000-01-01</td>\n",
       "      <td>50</td>\n",
       "      <td>15.0</td>\n",
       "      <td>500</td>\n",
       "      <td>20</td>\n",
       "      <td>10</td>\n",
       "      <td>0.03</td>\n",
       "      <td>0.03</td>\n",
       "      <td>1499_201</td>\n",
       "      <td>2018-09-21</td>\n",
       "      <td>9.0</td>\n",
       "    </tr>\n",
       "    <tr>\n",
       "      <th>137752</th>\n",
       "      <td>1499</td>\n",
       "      <td>shena</td>\n",
       "      <td>dickson</td>\n",
       "      <td>37</td>\n",
       "      <td>orlando-kissimmee-sanford, fl msa</td>\n",
       "      <td>2018-05-06</td>\n",
       "      <td>surf</td>\n",
       "      <td>2000-01-01</td>\n",
       "      <td>50</td>\n",
       "      <td>15.0</td>\n",
       "      <td>500</td>\n",
       "      <td>20</td>\n",
       "      <td>10</td>\n",
       "      <td>0.03</td>\n",
       "      <td>0.03</td>\n",
       "      <td>1499_202</td>\n",
       "      <td>2018-10-10</td>\n",
       "      <td>1.0</td>\n",
       "    </tr>\n",
       "    <tr>\n",
       "      <th>137753</th>\n",
       "      <td>1499</td>\n",
       "      <td>shena</td>\n",
       "      <td>dickson</td>\n",
       "      <td>37</td>\n",
       "      <td>orlando-kissimmee-sanford, fl msa</td>\n",
       "      <td>2018-05-06</td>\n",
       "      <td>surf</td>\n",
       "      <td>2000-01-01</td>\n",
       "      <td>50</td>\n",
       "      <td>15.0</td>\n",
       "      <td>500</td>\n",
       "      <td>20</td>\n",
       "      <td>10</td>\n",
       "      <td>0.03</td>\n",
       "      <td>0.03</td>\n",
       "      <td>1499_203</td>\n",
       "      <td>2018-12-29</td>\n",
       "      <td>14.0</td>\n",
       "    </tr>\n",
       "  </tbody>\n",
       "</table>\n",
       "<p>137754 rows × 18 columns</p>\n",
       "</div>"
      ],
      "text/plain": [
       "        user_id first_name last_name  age  \\\n",
       "0          1000   anamaria     bauer   45   \n",
       "1          1000   anamaria     bauer   45   \n",
       "2          1000   anamaria     bauer   45   \n",
       "3          1000   anamaria     bauer   45   \n",
       "4          1000   anamaria     bauer   45   \n",
       "...         ...        ...       ...  ...   \n",
       "137749     1499      shena   dickson   37   \n",
       "137750     1499      shena   dickson   37   \n",
       "137751     1499      shena   dickson   37   \n",
       "137752     1499      shena   dickson   37   \n",
       "137753     1499      shena   dickson   37   \n",
       "\n",
       "                                         city   reg_date plan_name churn_date  \\\n",
       "0       atlanta-sandy springs-roswell, ga msa 2018-12-24  ultimate 2000-01-01   \n",
       "1       atlanta-sandy springs-roswell, ga msa 2018-12-24  ultimate 2000-01-01   \n",
       "2       atlanta-sandy springs-roswell, ga msa 2018-12-24  ultimate 2000-01-01   \n",
       "3       atlanta-sandy springs-roswell, ga msa 2018-12-24  ultimate 2000-01-01   \n",
       "4       atlanta-sandy springs-roswell, ga msa 2018-12-24  ultimate 2000-01-01   \n",
       "...                                       ...        ...       ...        ...   \n",
       "137749      orlando-kissimmee-sanford, fl msa 2018-05-06      surf 2000-01-01   \n",
       "137750      orlando-kissimmee-sanford, fl msa 2018-05-06      surf 2000-01-01   \n",
       "137751      orlando-kissimmee-sanford, fl msa 2018-05-06      surf 2000-01-01   \n",
       "137752      orlando-kissimmee-sanford, fl msa 2018-05-06      surf 2000-01-01   \n",
       "137753      orlando-kissimmee-sanford, fl msa 2018-05-06      surf 2000-01-01   \n",
       "\n",
       "        messages_included  gb_per_month_included  minutes_included  \\\n",
       "0                    1000                   30.0              3000   \n",
       "1                    1000                   30.0              3000   \n",
       "2                    1000                   30.0              3000   \n",
       "3                    1000                   30.0              3000   \n",
       "4                    1000                   30.0              3000   \n",
       "...                   ...                    ...               ...   \n",
       "137749                 50                   15.0               500   \n",
       "137750                 50                   15.0               500   \n",
       "137751                 50                   15.0               500   \n",
       "137752                 50                   15.0               500   \n",
       "137753                 50                   15.0               500   \n",
       "\n",
       "        usd_monthly_pay  usd_per_gb  usd_per_message  usd_per_minute  \\\n",
       "0                    70           7             0.01            0.01   \n",
       "1                    70           7             0.01            0.01   \n",
       "2                    70           7             0.01            0.01   \n",
       "3                    70           7             0.01            0.01   \n",
       "4                    70           7             0.01            0.01   \n",
       "...                 ...         ...              ...             ...   \n",
       "137749               20          10             0.03            0.03   \n",
       "137750               20          10             0.03            0.03   \n",
       "137751               20          10             0.03            0.03   \n",
       "137752               20          10             0.03            0.03   \n",
       "137753               20          10             0.03            0.03   \n",
       "\n",
       "              id  call_date  duration  \n",
       "0        1000_93 2018-12-27       9.0  \n",
       "1       1000_145 2018-12-27      14.0  \n",
       "2       1000_247 2018-12-27      15.0  \n",
       "3       1000_309 2018-12-28       6.0  \n",
       "4       1000_380 2018-12-30       5.0  \n",
       "...          ...        ...       ...  \n",
       "137749  1499_199 2018-11-21       9.0  \n",
       "137750  1499_200 2018-10-20      11.0  \n",
       "137751  1499_201 2018-09-21       9.0  \n",
       "137752  1499_202 2018-10-10       1.0  \n",
       "137753  1499_203 2018-12-29      14.0  \n",
       "\n",
       "[137754 rows x 18 columns]"
      ]
     },
     "execution_count": 20,
     "metadata": {},
     "output_type": "execute_result"
    }
   ],
   "source": [
    "# Imprime las condiciones de la tarifa y asegúrate de que te quedan claras\n",
    "\n",
    "\n",
    "outer_plan= pd.merge(users, plan, on='plan_name', how='outer')\n",
    "dfmerge = pd.merge(outer_plan,calls, on='user_id', how='outer')\n",
    "dfmerge"
   ]
  },
  {
   "cell_type": "markdown",
   "metadata": {
    "id": "hMR1tP5d0q1F"
   },
   "source": [
    "## Agregar datos por usuario\n",
    "\n",
    "[Ahora que los datos están limpios, agrega los datos por usuario y por periodo para que solo haya un registro por usuario y por periodo. Esto facilitará mucho el análisis posterior.]"
   ]
  },
  {
   "cell_type": "code",
   "execution_count": 21,
   "metadata": {
    "id": "A332cedB0q1G"
   },
   "outputs": [
    {
     "data": {
      "text/html": [
       "<div>\n",
       "<style scoped>\n",
       "    .dataframe tbody tr th:only-of-type {\n",
       "        vertical-align: middle;\n",
       "    }\n",
       "\n",
       "    .dataframe tbody tr th {\n",
       "        vertical-align: top;\n",
       "    }\n",
       "\n",
       "    .dataframe thead th {\n",
       "        text-align: right;\n",
       "    }\n",
       "</style>\n",
       "<table border=\"1\" class=\"dataframe\">\n",
       "  <thead>\n",
       "    <tr style=\"text-align: right;\">\n",
       "      <th></th>\n",
       "      <th>user_id</th>\n",
       "      <th>month</th>\n",
       "      <th>calls_per_month</th>\n",
       "    </tr>\n",
       "  </thead>\n",
       "  <tbody>\n",
       "    <tr>\n",
       "      <th>0</th>\n",
       "      <td>1000</td>\n",
       "      <td>12.0</td>\n",
       "      <td>16</td>\n",
       "    </tr>\n",
       "    <tr>\n",
       "      <th>1</th>\n",
       "      <td>1001</td>\n",
       "      <td>8.0</td>\n",
       "      <td>27</td>\n",
       "    </tr>\n",
       "    <tr>\n",
       "      <th>2</th>\n",
       "      <td>1001</td>\n",
       "      <td>9.0</td>\n",
       "      <td>49</td>\n",
       "    </tr>\n",
       "    <tr>\n",
       "      <th>3</th>\n",
       "      <td>1001</td>\n",
       "      <td>10.0</td>\n",
       "      <td>65</td>\n",
       "    </tr>\n",
       "    <tr>\n",
       "      <th>4</th>\n",
       "      <td>1001</td>\n",
       "      <td>11.0</td>\n",
       "      <td>64</td>\n",
       "    </tr>\n",
       "    <tr>\n",
       "      <th>...</th>\n",
       "      <td>...</td>\n",
       "      <td>...</td>\n",
       "      <td>...</td>\n",
       "    </tr>\n",
       "    <tr>\n",
       "      <th>2253</th>\n",
       "      <td>1498</td>\n",
       "      <td>12.0</td>\n",
       "      <td>39</td>\n",
       "    </tr>\n",
       "    <tr>\n",
       "      <th>2254</th>\n",
       "      <td>1499</td>\n",
       "      <td>9.0</td>\n",
       "      <td>41</td>\n",
       "    </tr>\n",
       "    <tr>\n",
       "      <th>2255</th>\n",
       "      <td>1499</td>\n",
       "      <td>10.0</td>\n",
       "      <td>53</td>\n",
       "    </tr>\n",
       "    <tr>\n",
       "      <th>2256</th>\n",
       "      <td>1499</td>\n",
       "      <td>11.0</td>\n",
       "      <td>45</td>\n",
       "    </tr>\n",
       "    <tr>\n",
       "      <th>2257</th>\n",
       "      <td>1499</td>\n",
       "      <td>12.0</td>\n",
       "      <td>65</td>\n",
       "    </tr>\n",
       "  </tbody>\n",
       "</table>\n",
       "<p>2258 rows × 3 columns</p>\n",
       "</div>"
      ],
      "text/plain": [
       "      user_id  month  calls_per_month\n",
       "0        1000   12.0               16\n",
       "1        1001    8.0               27\n",
       "2        1001    9.0               49\n",
       "3        1001   10.0               65\n",
       "4        1001   11.0               64\n",
       "...       ...    ...              ...\n",
       "2253     1498   12.0               39\n",
       "2254     1499    9.0               41\n",
       "2255     1499   10.0               53\n",
       "2256     1499   11.0               45\n",
       "2257     1499   12.0               65\n",
       "\n",
       "[2258 rows x 3 columns]"
      ]
     },
     "execution_count": 21,
     "metadata": {},
     "output_type": "execute_result"
    }
   ],
   "source": [
    "# Calcula el número de llamadas hechas por cada usuario al mes. Guarda el resultado.\n",
    "# Primero, convertimos la columna 'call_date' a tipo datetime para poder extraer el mes\n",
    "dfmerge['call_date'] = pd.to_datetime(dfmerge['call_date'])\n",
    "\n",
    "# Luego, creamos una nueva columna 'month' que contenga el mes de cada llamada\n",
    "dfmerge['month'] = dfmerge['call_date'].dt.month\n",
    "\n",
    "# Agrupamos las llamadas por usuario y mes, y contamos el número de llamadas en cada grupo\n",
    "calls_per_month =dfmerge.groupby(['user_id', 'month']).size().reset_index(name='calls_per_month')\n",
    "\n",
    "calls_per_month \n"
   ]
  },
  {
   "cell_type": "code",
   "execution_count": 22,
   "metadata": {},
   "outputs": [
    {
     "name": "stdout",
     "output_type": "stream",
     "text": [
      "   user_id  month  total_duration  calls_per_month\n",
      "0     1000   12.0           124.0               16\n",
      "1     1001    8.0           182.0               27\n",
      "2     1001    9.0           315.0               49\n",
      "3     1001   10.0           393.0               65\n",
      "4     1001   11.0           426.0               64\n"
     ]
    }
   ],
   "source": [
    "import pandas as pd\n",
    "\n",
    "# Convertir la columna 'call_date' a datetime\n",
    "dfmerge['call_date'] = pd.to_datetime(dfmerge['call_date'], format='%Y-%m-%d')\n",
    "\n",
    "# Crear una nueva columna 'month' que contenga el mes de cada llamada\n",
    "dfmerge['month'] = dfmerge['call_date'].dt.month\n",
    "\n",
    "# Usar pivot_table para calcular el número de llamadas y la duración total de las llamadas por usuario y mes\n",
    "pivot_calls = dfmerge.pivot_table(index=['user_id', 'month'],\n",
    "                                  values='duration',\n",
    "                                  aggfunc=['sum', 'count']).reset_index()\n",
    "\n",
    "# Renombrar las columnas para mayor claridad\n",
    "pivot_calls.columns = ['user_id', 'month', 'total_duration', 'calls_per_month']\n",
    "\n",
    "# Mostrar el resultado\n",
    "print(pivot_calls.head())\n"
   ]
  },
  {
   "cell_type": "markdown",
   "metadata": {},
   "source": [
    "<div class=\"alert alert-block alert-warning\">\n",
    "\n",
    "<b>Comentario revisor</b> <a class=\"tocSkip\"></a>\n",
    "\n",
    "Si bien es correcta la forma de agrupar para sacar la duración de las llamadas por cada ususario, para proximas ocasiones puedes hacer uso de la siguiente forma:\n",
    "    \n",
    "    pivot_calls = calls.pivot_table(index=['user_id', 'month'],\n",
    "                                values=['duration'],\n",
    "                                aggfunc=['sum','count']).reset_index()\n",
    "\n",
    "</div>"
   ]
  },
  {
   "cell_type": "markdown",
   "metadata": {},
   "source": [
    "<div class=\"alert alert-block alert-warning\">\n",
    "<b>Comentario Revisor</b> <a class=\"tocSkip\"></a>\n",
    "\n",
    "En todos los casos en los que cambiamos el tipo de variable a datetime, te recomiendo agregar el argumento \"format='%Y-%m-%d'\" dentro de la función to_datetime(). De esta manera, puedes asegurarte siempre de que el formato de la fecha que deseas cambiar sea el que necesitas.\n",
    "</div>"
   ]
  },
  {
   "cell_type": "markdown",
   "metadata": {},
   "source": [
    "<div class=\"alert alert-block alert-success\">\n",
    "<b>Comentario del revisor</b> <a class=\"tocSkip\"></a>\n",
    "\n",
    "Muy buen trabajo con los ajustes!\n",
    "</div>"
   ]
  },
  {
   "cell_type": "code",
   "execution_count": 23,
   "metadata": {
    "id": "aw2cmuql0q1G"
   },
   "outputs": [
    {
     "data": {
      "text/html": [
       "<div>\n",
       "<style scoped>\n",
       "    .dataframe tbody tr th:only-of-type {\n",
       "        vertical-align: middle;\n",
       "    }\n",
       "\n",
       "    .dataframe tbody tr th {\n",
       "        vertical-align: top;\n",
       "    }\n",
       "\n",
       "    .dataframe thead th {\n",
       "        text-align: right;\n",
       "    }\n",
       "</style>\n",
       "<table border=\"1\" class=\"dataframe\">\n",
       "  <thead>\n",
       "    <tr style=\"text-align: right;\">\n",
       "      <th></th>\n",
       "      <th>user_id</th>\n",
       "      <th>month</th>\n",
       "      <th>minutes_per_month</th>\n",
       "    </tr>\n",
       "  </thead>\n",
       "  <tbody>\n",
       "    <tr>\n",
       "      <th>0</th>\n",
       "      <td>1000</td>\n",
       "      <td>12.0</td>\n",
       "      <td>124.0</td>\n",
       "    </tr>\n",
       "    <tr>\n",
       "      <th>1</th>\n",
       "      <td>1001</td>\n",
       "      <td>8.0</td>\n",
       "      <td>182.0</td>\n",
       "    </tr>\n",
       "    <tr>\n",
       "      <th>2</th>\n",
       "      <td>1001</td>\n",
       "      <td>9.0</td>\n",
       "      <td>315.0</td>\n",
       "    </tr>\n",
       "    <tr>\n",
       "      <th>3</th>\n",
       "      <td>1001</td>\n",
       "      <td>10.0</td>\n",
       "      <td>393.0</td>\n",
       "    </tr>\n",
       "    <tr>\n",
       "      <th>4</th>\n",
       "      <td>1001</td>\n",
       "      <td>11.0</td>\n",
       "      <td>426.0</td>\n",
       "    </tr>\n",
       "    <tr>\n",
       "      <th>...</th>\n",
       "      <td>...</td>\n",
       "      <td>...</td>\n",
       "      <td>...</td>\n",
       "    </tr>\n",
       "    <tr>\n",
       "      <th>2253</th>\n",
       "      <td>1498</td>\n",
       "      <td>12.0</td>\n",
       "      <td>339.0</td>\n",
       "    </tr>\n",
       "    <tr>\n",
       "      <th>2254</th>\n",
       "      <td>1499</td>\n",
       "      <td>9.0</td>\n",
       "      <td>346.0</td>\n",
       "    </tr>\n",
       "    <tr>\n",
       "      <th>2255</th>\n",
       "      <td>1499</td>\n",
       "      <td>10.0</td>\n",
       "      <td>385.0</td>\n",
       "    </tr>\n",
       "    <tr>\n",
       "      <th>2256</th>\n",
       "      <td>1499</td>\n",
       "      <td>11.0</td>\n",
       "      <td>308.0</td>\n",
       "    </tr>\n",
       "    <tr>\n",
       "      <th>2257</th>\n",
       "      <td>1499</td>\n",
       "      <td>12.0</td>\n",
       "      <td>496.0</td>\n",
       "    </tr>\n",
       "  </tbody>\n",
       "</table>\n",
       "<p>2258 rows × 3 columns</p>\n",
       "</div>"
      ],
      "text/plain": [
       "      user_id  month  minutes_per_month\n",
       "0        1000   12.0              124.0\n",
       "1        1001    8.0              182.0\n",
       "2        1001    9.0              315.0\n",
       "3        1001   10.0              393.0\n",
       "4        1001   11.0              426.0\n",
       "...       ...    ...                ...\n",
       "2253     1498   12.0              339.0\n",
       "2254     1499    9.0              346.0\n",
       "2255     1499   10.0              385.0\n",
       "2256     1499   11.0              308.0\n",
       "2257     1499   12.0              496.0\n",
       "\n",
       "[2258 rows x 3 columns]"
      ]
     },
     "execution_count": 23,
     "metadata": {},
     "output_type": "execute_result"
    }
   ],
   "source": [
    "# Calcula la cantidad de minutos usados por cada usuario al mes. Guarda el resultado.\n",
    "\n",
    "minutes_per_month = dfmerge.groupby(['user_id', 'month'])['duration'].sum().reset_index(name='minutes_per_month')\n",
    "minutes_per_month"
   ]
  },
  {
   "cell_type": "code",
   "execution_count": 24,
   "metadata": {
    "id": "CcQvNHn60q1G"
   },
   "outputs": [
    {
     "name": "stdout",
     "output_type": "stream",
     "text": [
      "      user_id  month  messages_per_month\n",
      "0        1000     12                  11\n",
      "1        1001      8                  30\n",
      "2        1001      9                  44\n",
      "3        1001     10                  53\n",
      "4        1001     11                  36\n",
      "...       ...    ...                 ...\n",
      "1801     1496      9                  21\n",
      "1802     1496     10                  18\n",
      "1803     1496     11                  13\n",
      "1804     1496     12                  11\n",
      "1805     1497     12                  50\n",
      "\n",
      "[1806 rows x 3 columns]\n"
     ]
    }
   ],
   "source": [
    "# Calcula el número de mensajes enviados por cada usuario al mes. Guarda el resultado.\n",
    "\n",
    "# Primero, convertimos la columna 'message_date' a tipo datetime para poder extraer el mes\n",
    "message['message_date'] = pd.to_datetime(message['message_date'])\n",
    "\n",
    "# Luego, creamos una nueva columna 'month' que contenga el mes de cada mensaje\n",
    "message['month'] = message['message_date'].dt.month\n",
    "\n",
    "# Agrupamos los mensajes por usuario y mes, y contamos el número de mensajes en cada grupo\n",
    "messages_per_month = message.groupby(['user_id', 'month']).size().reset_index(name='messages_per_month')\n",
    "\n",
    "# Mostramos el resultado\n",
    "print(messages_per_month)"
   ]
  },
  {
   "cell_type": "code",
   "execution_count": 25,
   "metadata": {
    "id": "H1AqN2eG0q1H"
   },
   "outputs": [
    {
     "data": {
      "text/html": [
       "<div>\n",
       "<style scoped>\n",
       "    .dataframe tbody tr th:only-of-type {\n",
       "        vertical-align: middle;\n",
       "    }\n",
       "\n",
       "    .dataframe tbody tr th {\n",
       "        vertical-align: top;\n",
       "    }\n",
       "\n",
       "    .dataframe thead th {\n",
       "        text-align: right;\n",
       "    }\n",
       "</style>\n",
       "<table border=\"1\" class=\"dataframe\">\n",
       "  <thead>\n",
       "    <tr style=\"text-align: right;\">\n",
       "      <th></th>\n",
       "      <th>user_id</th>\n",
       "      <th>month</th>\n",
       "      <th>traffic_per_month</th>\n",
       "    </tr>\n",
       "  </thead>\n",
       "  <tbody>\n",
       "    <tr>\n",
       "      <th>0</th>\n",
       "      <td>1000</td>\n",
       "      <td>12</td>\n",
       "      <td>2</td>\n",
       "    </tr>\n",
       "    <tr>\n",
       "      <th>1</th>\n",
       "      <td>1001</td>\n",
       "      <td>8</td>\n",
       "      <td>7</td>\n",
       "    </tr>\n",
       "    <tr>\n",
       "      <th>2</th>\n",
       "      <td>1001</td>\n",
       "      <td>9</td>\n",
       "      <td>14</td>\n",
       "    </tr>\n",
       "    <tr>\n",
       "      <th>3</th>\n",
       "      <td>1001</td>\n",
       "      <td>10</td>\n",
       "      <td>22</td>\n",
       "    </tr>\n",
       "    <tr>\n",
       "      <th>4</th>\n",
       "      <td>1001</td>\n",
       "      <td>11</td>\n",
       "      <td>19</td>\n",
       "    </tr>\n",
       "    <tr>\n",
       "      <th>...</th>\n",
       "      <td>...</td>\n",
       "      <td>...</td>\n",
       "      <td>...</td>\n",
       "    </tr>\n",
       "    <tr>\n",
       "      <th>2272</th>\n",
       "      <td>1498</td>\n",
       "      <td>12</td>\n",
       "      <td>23</td>\n",
       "    </tr>\n",
       "    <tr>\n",
       "      <th>2273</th>\n",
       "      <td>1499</td>\n",
       "      <td>9</td>\n",
       "      <td>13</td>\n",
       "    </tr>\n",
       "    <tr>\n",
       "      <th>2274</th>\n",
       "      <td>1499</td>\n",
       "      <td>10</td>\n",
       "      <td>20</td>\n",
       "    </tr>\n",
       "    <tr>\n",
       "      <th>2275</th>\n",
       "      <td>1499</td>\n",
       "      <td>11</td>\n",
       "      <td>17</td>\n",
       "    </tr>\n",
       "    <tr>\n",
       "      <th>2276</th>\n",
       "      <td>1499</td>\n",
       "      <td>12</td>\n",
       "      <td>22</td>\n",
       "    </tr>\n",
       "  </tbody>\n",
       "</table>\n",
       "<p>2277 rows × 3 columns</p>\n",
       "</div>"
      ],
      "text/plain": [
       "      user_id  month  traffic_per_month\n",
       "0        1000     12                  2\n",
       "1        1001      8                  7\n",
       "2        1001      9                 14\n",
       "3        1001     10                 22\n",
       "4        1001     11                 19\n",
       "...       ...    ...                ...\n",
       "2272     1498     12                 23\n",
       "2273     1499      9                 13\n",
       "2274     1499     10                 20\n",
       "2275     1499     11                 17\n",
       "2276     1499     12                 22\n",
       "\n",
       "[2277 rows x 3 columns]"
      ]
     },
     "execution_count": 25,
     "metadata": {},
     "output_type": "execute_result"
    }
   ],
   "source": [
    "# Calcula el volumen del tráfico de Internet usado por cada usuario al mes. Guarda el resultado.\n",
    "import math\n",
    "# Primero, convertimos la columna 'session_date' a tipo datetime para poder extraer el mes\n",
    "internet['session_date'] = pd.to_datetime(internet['session_date'])\n",
    "\n",
    "# Luego, creamos una nueva columna 'month' que contenga el mes de cada sesión web\n",
    "internet['month'] = internet['session_date'].dt.month\n",
    "\n",
    "# Agrupamos las sesiones web por usuario y mes, y sumamos el volumen de datos en cada grupo\n",
    "traffic_per_month = internet.groupby(['user_id', 'month'])['mb_used'].sum().reset_index(name='traffic_per_month')\n",
    "traffic_per_month['traffic_per_month'] = traffic_per_month['traffic_per_month'].apply(math.ceil)\n",
    "traffic_per_month "
   ]
  },
  {
   "cell_type": "markdown",
   "metadata": {
    "id": "VDfYXnj80q1H"
   },
   "source": [
    "[Junta los datos agregados en un DataFrame para que haya un registro que represente lo que consumió un usuario único en un mes determinado.]"
   ]
  },
  {
   "cell_type": "code",
   "execution_count": 26,
   "metadata": {
    "id": "FW99ykyf0q1H"
   },
   "outputs": [
    {
     "data": {
      "text/html": [
       "<div>\n",
       "<style scoped>\n",
       "    .dataframe tbody tr th:only-of-type {\n",
       "        vertical-align: middle;\n",
       "    }\n",
       "\n",
       "    .dataframe tbody tr th {\n",
       "        vertical-align: top;\n",
       "    }\n",
       "\n",
       "    .dataframe thead th {\n",
       "        text-align: right;\n",
       "    }\n",
       "</style>\n",
       "<table border=\"1\" class=\"dataframe\">\n",
       "  <thead>\n",
       "    <tr style=\"text-align: right;\">\n",
       "      <th></th>\n",
       "      <th>user_id</th>\n",
       "      <th>month</th>\n",
       "      <th>calls_per_month</th>\n",
       "      <th>minutes_per_month</th>\n",
       "      <th>messages_per_month</th>\n",
       "      <th>traffic_per_month</th>\n",
       "    </tr>\n",
       "  </thead>\n",
       "  <tbody>\n",
       "    <tr>\n",
       "      <th>0</th>\n",
       "      <td>1000</td>\n",
       "      <td>12.0</td>\n",
       "      <td>16.0</td>\n",
       "      <td>124.0</td>\n",
       "      <td>11.0</td>\n",
       "      <td>2.0</td>\n",
       "    </tr>\n",
       "    <tr>\n",
       "      <th>1</th>\n",
       "      <td>1001</td>\n",
       "      <td>8.0</td>\n",
       "      <td>27.0</td>\n",
       "      <td>182.0</td>\n",
       "      <td>30.0</td>\n",
       "      <td>7.0</td>\n",
       "    </tr>\n",
       "    <tr>\n",
       "      <th>2</th>\n",
       "      <td>1001</td>\n",
       "      <td>9.0</td>\n",
       "      <td>49.0</td>\n",
       "      <td>315.0</td>\n",
       "      <td>44.0</td>\n",
       "      <td>14.0</td>\n",
       "    </tr>\n",
       "    <tr>\n",
       "      <th>3</th>\n",
       "      <td>1001</td>\n",
       "      <td>10.0</td>\n",
       "      <td>65.0</td>\n",
       "      <td>393.0</td>\n",
       "      <td>53.0</td>\n",
       "      <td>22.0</td>\n",
       "    </tr>\n",
       "    <tr>\n",
       "      <th>4</th>\n",
       "      <td>1001</td>\n",
       "      <td>11.0</td>\n",
       "      <td>64.0</td>\n",
       "      <td>426.0</td>\n",
       "      <td>36.0</td>\n",
       "      <td>19.0</td>\n",
       "    </tr>\n",
       "    <tr>\n",
       "      <th>...</th>\n",
       "      <td>...</td>\n",
       "      <td>...</td>\n",
       "      <td>...</td>\n",
       "      <td>...</td>\n",
       "      <td>...</td>\n",
       "      <td>...</td>\n",
       "    </tr>\n",
       "    <tr>\n",
       "      <th>2288</th>\n",
       "      <td>1349</td>\n",
       "      <td>12.0</td>\n",
       "      <td>0.0</td>\n",
       "      <td>0.0</td>\n",
       "      <td>61.0</td>\n",
       "      <td>13.0</td>\n",
       "    </tr>\n",
       "    <tr>\n",
       "      <th>2289</th>\n",
       "      <td>1361</td>\n",
       "      <td>5.0</td>\n",
       "      <td>0.0</td>\n",
       "      <td>0.0</td>\n",
       "      <td>2.0</td>\n",
       "      <td>2.0</td>\n",
       "    </tr>\n",
       "    <tr>\n",
       "      <th>2290</th>\n",
       "      <td>1482</td>\n",
       "      <td>10.0</td>\n",
       "      <td>0.0</td>\n",
       "      <td>0.0</td>\n",
       "      <td>2.0</td>\n",
       "      <td>0.0</td>\n",
       "    </tr>\n",
       "    <tr>\n",
       "      <th>2291</th>\n",
       "      <td>1108</td>\n",
       "      <td>12.0</td>\n",
       "      <td>0.0</td>\n",
       "      <td>0.0</td>\n",
       "      <td>0.0</td>\n",
       "      <td>1.0</td>\n",
       "    </tr>\n",
       "    <tr>\n",
       "      <th>2292</th>\n",
       "      <td>1311</td>\n",
       "      <td>6.0</td>\n",
       "      <td>0.0</td>\n",
       "      <td>0.0</td>\n",
       "      <td>0.0</td>\n",
       "      <td>2.0</td>\n",
       "    </tr>\n",
       "  </tbody>\n",
       "</table>\n",
       "<p>2293 rows × 6 columns</p>\n",
       "</div>"
      ],
      "text/plain": [
       "      user_id  month  calls_per_month  minutes_per_month  messages_per_month  \\\n",
       "0        1000   12.0             16.0              124.0                11.0   \n",
       "1        1001    8.0             27.0              182.0                30.0   \n",
       "2        1001    9.0             49.0              315.0                44.0   \n",
       "3        1001   10.0             65.0              393.0                53.0   \n",
       "4        1001   11.0             64.0              426.0                36.0   \n",
       "...       ...    ...              ...                ...                 ...   \n",
       "2288     1349   12.0              0.0                0.0                61.0   \n",
       "2289     1361    5.0              0.0                0.0                 2.0   \n",
       "2290     1482   10.0              0.0                0.0                 2.0   \n",
       "2291     1108   12.0              0.0                0.0                 0.0   \n",
       "2292     1311    6.0              0.0                0.0                 0.0   \n",
       "\n",
       "      traffic_per_month  \n",
       "0                   2.0  \n",
       "1                   7.0  \n",
       "2                  14.0  \n",
       "3                  22.0  \n",
       "4                  19.0  \n",
       "...                 ...  \n",
       "2288               13.0  \n",
       "2289                2.0  \n",
       "2290                0.0  \n",
       "2291                1.0  \n",
       "2292                2.0  \n",
       "\n",
       "[2293 rows x 6 columns]"
      ]
     },
     "execution_count": 26,
     "metadata": {},
     "output_type": "execute_result"
    }
   ],
   "source": [
    "# Fusiona los datos de llamadas, minutos, mensajes e Internet con base en user_id y month\n",
    "\n",
    "# Fusionamos los datos de llamadas y minutos por 'user_id' y 'month'\n",
    "merged_data = pd.merge(calls_per_month, minutes_per_month, on=['user_id', 'month'], how='outer')\n",
    "\n",
    "# Fusionamos los datos de mensajes con los datos fusionados anteriormente por 'user_id' y 'month'\n",
    "merged_data = pd.merge(merged_data, messages_per_month, on=['user_id', 'month'], how='outer')\n",
    "\n",
    "# Fusionamos los datos de Internet con los datos fusionados anteriormente por 'user_id' y 'month'\n",
    "merged_data = pd.merge(merged_data, traffic_per_month, on=['user_id', 'month'], how='outer')\n",
    "merged_data.fillna(0, inplace=True)\n",
    "\n",
    "# Extraer columnas relevantes de users\n",
    "\n",
    "merged_data "
   ]
  },
  {
   "cell_type": "markdown",
   "metadata": {},
   "source": [
    "<div class=\"alert alert-block alert-warning\">\n",
    "<b>Comentario del revisor</b> <a class=\"tocSkip\"></a>\n",
    "\n",
    "Hola, Eduardo! Para verificar si el calculo de los ingresos por usuario te recomiendo ver los siguientes pasos:\n",
    "    \n",
    "    - Sobre la base  \"merged_data\" donde colocar lo usado de cada variable por usuario y mes, agregar solamente las variables 'plan' y 'city' de tu base con la información de los planes. Para esto debes hacer el marge con \"outer: mediante la variable 'user_id'. Te puedes guiar de este ejemplo:\n",
    "    \n",
    "            plans = users[['user_id', 'plan', 'city']]\n",
    "            usage_table_plans = merged_data.merge(plans, on=['user_id'], how='outer')\n",
    "    - Posteriormente hacer el merge con \"left\" con la base plans para poder saber la información de cada plan. Recuerda que en este punto es necesario transformar los mb a gb de los planes\n",
    "    - Ya después hacer el calculo tal como lo tienes del ingreso por mes\n",
    "    \n",
    "</div>\n",
    "\n"
   ]
  },
  {
   "cell_type": "code",
   "execution_count": 41,
   "metadata": {},
   "outputs": [
    {
     "name": "stdout",
     "output_type": "stream",
     "text": [
      "Index(['user_id', 'first_name', 'last_name', 'age', 'city', 'reg_date',\n",
      "       'plan_name', 'churn_date'],\n",
      "      dtype='object')\n",
      "      user_id  monthly_revenue\n",
      "2014     1439            90.33\n",
      "1038     1223            85.70\n",
      "459      1099            80.36\n",
      "851      1182            50.00\n",
      "242      1056            90.00\n",
      "1537     1338           100.00\n",
      "1776     1389            70.00\n",
      "1292     1281            25.76\n",
      "1294     1281            20.00\n",
      "1821     1399           100.00\n"
     ]
    }
   ],
   "source": [
    "import pandas as pd\n",
    "\n",
    "# Supongamos que ya tienes tus DataFrames `calls_per_month`, `minutes_per_month`, `messages_per_month`, `traffic_per_month`, `users`, y `plans`\n",
    "\n",
    "# Fusionamos los datos de llamadas, minutos, mensajes e Internet por 'user_id' y 'month'\n",
    "merged_data = pd.merge(calls_per_month, minutes_per_month, on=['user_id', 'month'], how='outer')\n",
    "merged_data = pd.merge(merged_data, messages_per_month, on=['user_id', 'month'], how='outer')\n",
    "merged_data = pd.merge(merged_data, traffic_per_month, on=['user_id', 'month'], how='outer')\n",
    "merged_data.fillna(0, inplace=True)\n",
    "\n",
    "# Verificar las columnas de users\n",
    "print(users.columns)\n",
    "\n",
    "# Extraer columnas relevantes de users\n",
    "# Asegúrate de que el nombre de la columna sea 'plan_name'\n",
    "plans_info = users[['user_id', 'plan_name', 'city']]\n",
    "\n",
    "# Realizar el merge con outer para agregar plan_name y city a merged_data\n",
    "merged_data_with_plan = merged_data.merge(plans_info, on='user_id', how='outer')\n",
    "\n",
    "\n",
    "\n",
    "# Realizar el merge con left para agregar la información de los planes a merged_data_with_plan\n",
    "merged_data_with_plan = merged_data_with_plan.merge(plan, on='plan_name', how='left')\n",
    "\n",
    "# Calcular el ingreso mensual para cada usuario\n",
    "\n",
    "# Calcular el excedente de minutos\n",
    "merged_data_with_plan['minutes_excess'] = merged_data_with_plan['minutes_per_month'] - merged_data_with_plan['minutes_included']\n",
    "merged_data_with_plan['minutes_excess'] = merged_data_with_plan['minutes_excess'].apply(lambda x: max(x, 0))  # Asegurar que no haya valores negativos\n",
    "\n",
    "# Calcular el excedente de mensajes\n",
    "merged_data_with_plan['messages_excess'] = merged_data_with_plan['messages_per_month'] - merged_data_with_plan['messages_included']\n",
    "merged_data_with_plan['messages_excess'] = merged_data_with_plan['messages_excess'].apply(lambda x: max(x, 0))  # Asegurar que no haya valores negativos\n",
    "\n",
    "# Calcular el excedente de datos\n",
    "merged_data_with_plan['data_excess'] = merged_data_with_plan['traffic_per_month'] - merged_data_with_plan['gb_per_month_included']\n",
    "merged_data_with_plan['data_excess'] = merged_data_with_plan['data_excess'].apply(lambda x: max(x, 0))  # Asegurar que no haya valores negativos\n",
    "\n",
    "# Calcular los ingresos mensuales por usuario\n",
    "merged_data_with_plan['monthly_revenue'] = merged_data_with_plan['usd_monthly_pay'] + \\\n",
    "                                           merged_data_with_plan['usd_per_minute'] * merged_data_with_plan['minutes_excess'] + \\\n",
    "                                           merged_data_with_plan['usd_per_message'] * merged_data_with_plan['messages_excess'] + \\\n",
    "                                           merged_data_with_plan['usd_per_gb'] * merged_data_with_plan['data_excess']\n",
    "\n",
    "# Mostrar el resultado\n",
    "print(merged_data_with_plan[['user_id', 'monthly_revenue']].sample(10))"
   ]
  },
  {
   "cell_type": "markdown",
   "metadata": {},
   "source": [
    "<div class=\"alert alert-block alert-success\">\n",
    "<b>Comentario del revisor</b> <a class=\"tocSkip\"></a>\n",
    "\n",
    "Muy buen trabajo!! el merge es correcto para unir todas las bases trabajadas.\n",
    "    \n",
    "</div>"
   ]
  },
  {
   "cell_type": "code",
   "execution_count": 27,
   "metadata": {
    "id": "0dNOXHag0q1H"
   },
   "outputs": [
    {
     "data": {
      "text/html": [
       "<div>\n",
       "<style scoped>\n",
       "    .dataframe tbody tr th:only-of-type {\n",
       "        vertical-align: middle;\n",
       "    }\n",
       "\n",
       "    .dataframe tbody tr th {\n",
       "        vertical-align: top;\n",
       "    }\n",
       "\n",
       "    .dataframe thead th {\n",
       "        text-align: right;\n",
       "    }\n",
       "</style>\n",
       "<table border=\"1\" class=\"dataframe\">\n",
       "  <thead>\n",
       "    <tr style=\"text-align: right;\">\n",
       "      <th></th>\n",
       "      <th>user_id</th>\n",
       "      <th>month_x</th>\n",
       "      <th>calls_per_month</th>\n",
       "      <th>minutes_per_month</th>\n",
       "      <th>messages_per_month</th>\n",
       "      <th>traffic_per_month</th>\n",
       "      <th>first_name</th>\n",
       "      <th>last_name</th>\n",
       "      <th>age</th>\n",
       "      <th>city</th>\n",
       "      <th>...</th>\n",
       "      <th>gb_per_month_included</th>\n",
       "      <th>minutes_included</th>\n",
       "      <th>usd_monthly_pay</th>\n",
       "      <th>usd_per_gb</th>\n",
       "      <th>usd_per_message</th>\n",
       "      <th>usd_per_minute</th>\n",
       "      <th>id</th>\n",
       "      <th>call_date</th>\n",
       "      <th>duration</th>\n",
       "      <th>month_y</th>\n",
       "    </tr>\n",
       "  </thead>\n",
       "  <tbody>\n",
       "    <tr>\n",
       "      <th>0</th>\n",
       "      <td>1000</td>\n",
       "      <td>12.0</td>\n",
       "      <td>16.0</td>\n",
       "      <td>124.0</td>\n",
       "      <td>11.0</td>\n",
       "      <td>2.0</td>\n",
       "      <td>anamaria</td>\n",
       "      <td>bauer</td>\n",
       "      <td>45</td>\n",
       "      <td>atlanta-sandy springs-roswell, ga msa</td>\n",
       "      <td>...</td>\n",
       "      <td>30.0</td>\n",
       "      <td>3000</td>\n",
       "      <td>70</td>\n",
       "      <td>7</td>\n",
       "      <td>0.01</td>\n",
       "      <td>0.01</td>\n",
       "      <td>1000_93</td>\n",
       "      <td>2018-12-27 00:00:00</td>\n",
       "      <td>9.0</td>\n",
       "      <td>12.0</td>\n",
       "    </tr>\n",
       "    <tr>\n",
       "      <th>1</th>\n",
       "      <td>1000</td>\n",
       "      <td>12.0</td>\n",
       "      <td>16.0</td>\n",
       "      <td>124.0</td>\n",
       "      <td>11.0</td>\n",
       "      <td>2.0</td>\n",
       "      <td>anamaria</td>\n",
       "      <td>bauer</td>\n",
       "      <td>45</td>\n",
       "      <td>atlanta-sandy springs-roswell, ga msa</td>\n",
       "      <td>...</td>\n",
       "      <td>30.0</td>\n",
       "      <td>3000</td>\n",
       "      <td>70</td>\n",
       "      <td>7</td>\n",
       "      <td>0.01</td>\n",
       "      <td>0.01</td>\n",
       "      <td>1000_145</td>\n",
       "      <td>2018-12-27 00:00:00</td>\n",
       "      <td>14.0</td>\n",
       "      <td>12.0</td>\n",
       "    </tr>\n",
       "    <tr>\n",
       "      <th>2</th>\n",
       "      <td>1000</td>\n",
       "      <td>12.0</td>\n",
       "      <td>16.0</td>\n",
       "      <td>124.0</td>\n",
       "      <td>11.0</td>\n",
       "      <td>2.0</td>\n",
       "      <td>anamaria</td>\n",
       "      <td>bauer</td>\n",
       "      <td>45</td>\n",
       "      <td>atlanta-sandy springs-roswell, ga msa</td>\n",
       "      <td>...</td>\n",
       "      <td>30.0</td>\n",
       "      <td>3000</td>\n",
       "      <td>70</td>\n",
       "      <td>7</td>\n",
       "      <td>0.01</td>\n",
       "      <td>0.01</td>\n",
       "      <td>1000_247</td>\n",
       "      <td>2018-12-27 00:00:00</td>\n",
       "      <td>15.0</td>\n",
       "      <td>12.0</td>\n",
       "    </tr>\n",
       "    <tr>\n",
       "      <th>3</th>\n",
       "      <td>1000</td>\n",
       "      <td>12.0</td>\n",
       "      <td>16.0</td>\n",
       "      <td>124.0</td>\n",
       "      <td>11.0</td>\n",
       "      <td>2.0</td>\n",
       "      <td>anamaria</td>\n",
       "      <td>bauer</td>\n",
       "      <td>45</td>\n",
       "      <td>atlanta-sandy springs-roswell, ga msa</td>\n",
       "      <td>...</td>\n",
       "      <td>30.0</td>\n",
       "      <td>3000</td>\n",
       "      <td>70</td>\n",
       "      <td>7</td>\n",
       "      <td>0.01</td>\n",
       "      <td>0.01</td>\n",
       "      <td>1000_309</td>\n",
       "      <td>2018-12-28 00:00:00</td>\n",
       "      <td>6.0</td>\n",
       "      <td>12.0</td>\n",
       "    </tr>\n",
       "    <tr>\n",
       "      <th>4</th>\n",
       "      <td>1000</td>\n",
       "      <td>12.0</td>\n",
       "      <td>16.0</td>\n",
       "      <td>124.0</td>\n",
       "      <td>11.0</td>\n",
       "      <td>2.0</td>\n",
       "      <td>anamaria</td>\n",
       "      <td>bauer</td>\n",
       "      <td>45</td>\n",
       "      <td>atlanta-sandy springs-roswell, ga msa</td>\n",
       "      <td>...</td>\n",
       "      <td>30.0</td>\n",
       "      <td>3000</td>\n",
       "      <td>70</td>\n",
       "      <td>7</td>\n",
       "      <td>0.01</td>\n",
       "      <td>0.01</td>\n",
       "      <td>1000_380</td>\n",
       "      <td>2018-12-30 00:00:00</td>\n",
       "      <td>5.0</td>\n",
       "      <td>12.0</td>\n",
       "    </tr>\n",
       "    <tr>\n",
       "      <th>...</th>\n",
       "      <td>...</td>\n",
       "      <td>...</td>\n",
       "      <td>...</td>\n",
       "      <td>...</td>\n",
       "      <td>...</td>\n",
       "      <td>...</td>\n",
       "      <td>...</td>\n",
       "      <td>...</td>\n",
       "      <td>...</td>\n",
       "      <td>...</td>\n",
       "      <td>...</td>\n",
       "      <td>...</td>\n",
       "      <td>...</td>\n",
       "      <td>...</td>\n",
       "      <td>...</td>\n",
       "      <td>...</td>\n",
       "      <td>...</td>\n",
       "      <td>...</td>\n",
       "      <td>...</td>\n",
       "      <td>...</td>\n",
       "      <td>...</td>\n",
       "    </tr>\n",
       "    <tr>\n",
       "      <th>916794</th>\n",
       "      <td>1311</td>\n",
       "      <td>6.0</td>\n",
       "      <td>0.0</td>\n",
       "      <td>0.0</td>\n",
       "      <td>0.0</td>\n",
       "      <td>2.0</td>\n",
       "      <td>cherlyn</td>\n",
       "      <td>saunders</td>\n",
       "      <td>69</td>\n",
       "      <td>memphis, tn-ms-ar msa</td>\n",
       "      <td>...</td>\n",
       "      <td>30.0</td>\n",
       "      <td>3000</td>\n",
       "      <td>70</td>\n",
       "      <td>7</td>\n",
       "      <td>0.01</td>\n",
       "      <td>0.01</td>\n",
       "      <td>1311_359</td>\n",
       "      <td>2018-08-06 00:00:00</td>\n",
       "      <td>0.0</td>\n",
       "      <td>8.0</td>\n",
       "    </tr>\n",
       "    <tr>\n",
       "      <th>916795</th>\n",
       "      <td>1311</td>\n",
       "      <td>6.0</td>\n",
       "      <td>0.0</td>\n",
       "      <td>0.0</td>\n",
       "      <td>0.0</td>\n",
       "      <td>2.0</td>\n",
       "      <td>cherlyn</td>\n",
       "      <td>saunders</td>\n",
       "      <td>69</td>\n",
       "      <td>memphis, tn-ms-ar msa</td>\n",
       "      <td>...</td>\n",
       "      <td>30.0</td>\n",
       "      <td>3000</td>\n",
       "      <td>70</td>\n",
       "      <td>7</td>\n",
       "      <td>0.01</td>\n",
       "      <td>0.01</td>\n",
       "      <td>1311_362</td>\n",
       "      <td>2018-12-28 00:00:00</td>\n",
       "      <td>14.0</td>\n",
       "      <td>12.0</td>\n",
       "    </tr>\n",
       "    <tr>\n",
       "      <th>916796</th>\n",
       "      <td>1311</td>\n",
       "      <td>6.0</td>\n",
       "      <td>0.0</td>\n",
       "      <td>0.0</td>\n",
       "      <td>0.0</td>\n",
       "      <td>2.0</td>\n",
       "      <td>cherlyn</td>\n",
       "      <td>saunders</td>\n",
       "      <td>69</td>\n",
       "      <td>memphis, tn-ms-ar msa</td>\n",
       "      <td>...</td>\n",
       "      <td>30.0</td>\n",
       "      <td>3000</td>\n",
       "      <td>70</td>\n",
       "      <td>7</td>\n",
       "      <td>0.01</td>\n",
       "      <td>0.01</td>\n",
       "      <td>1311_363</td>\n",
       "      <td>2018-11-22 00:00:00</td>\n",
       "      <td>2.0</td>\n",
       "      <td>11.0</td>\n",
       "    </tr>\n",
       "    <tr>\n",
       "      <th>916797</th>\n",
       "      <td>1311</td>\n",
       "      <td>6.0</td>\n",
       "      <td>0.0</td>\n",
       "      <td>0.0</td>\n",
       "      <td>0.0</td>\n",
       "      <td>2.0</td>\n",
       "      <td>cherlyn</td>\n",
       "      <td>saunders</td>\n",
       "      <td>69</td>\n",
       "      <td>memphis, tn-ms-ar msa</td>\n",
       "      <td>...</td>\n",
       "      <td>30.0</td>\n",
       "      <td>3000</td>\n",
       "      <td>70</td>\n",
       "      <td>7</td>\n",
       "      <td>0.01</td>\n",
       "      <td>0.01</td>\n",
       "      <td>1311_364</td>\n",
       "      <td>2018-08-10 00:00:00</td>\n",
       "      <td>7.0</td>\n",
       "      <td>8.0</td>\n",
       "    </tr>\n",
       "    <tr>\n",
       "      <th>916798</th>\n",
       "      <td>1311</td>\n",
       "      <td>6.0</td>\n",
       "      <td>0.0</td>\n",
       "      <td>0.0</td>\n",
       "      <td>0.0</td>\n",
       "      <td>2.0</td>\n",
       "      <td>cherlyn</td>\n",
       "      <td>saunders</td>\n",
       "      <td>69</td>\n",
       "      <td>memphis, tn-ms-ar msa</td>\n",
       "      <td>...</td>\n",
       "      <td>30.0</td>\n",
       "      <td>3000</td>\n",
       "      <td>70</td>\n",
       "      <td>7</td>\n",
       "      <td>0.01</td>\n",
       "      <td>0.01</td>\n",
       "      <td>1311_368</td>\n",
       "      <td>2018-09-06 00:00:00</td>\n",
       "      <td>12.0</td>\n",
       "      <td>9.0</td>\n",
       "    </tr>\n",
       "  </tbody>\n",
       "</table>\n",
       "<p>916799 rows × 24 columns</p>\n",
       "</div>"
      ],
      "text/plain": [
       "        user_id  month_x  calls_per_month  minutes_per_month  \\\n",
       "0          1000     12.0             16.0              124.0   \n",
       "1          1000     12.0             16.0              124.0   \n",
       "2          1000     12.0             16.0              124.0   \n",
       "3          1000     12.0             16.0              124.0   \n",
       "4          1000     12.0             16.0              124.0   \n",
       "...         ...      ...              ...                ...   \n",
       "916794     1311      6.0              0.0                0.0   \n",
       "916795     1311      6.0              0.0                0.0   \n",
       "916796     1311      6.0              0.0                0.0   \n",
       "916797     1311      6.0              0.0                0.0   \n",
       "916798     1311      6.0              0.0                0.0   \n",
       "\n",
       "        messages_per_month  traffic_per_month first_name last_name  age  \\\n",
       "0                     11.0                2.0   anamaria     bauer   45   \n",
       "1                     11.0                2.0   anamaria     bauer   45   \n",
       "2                     11.0                2.0   anamaria     bauer   45   \n",
       "3                     11.0                2.0   anamaria     bauer   45   \n",
       "4                     11.0                2.0   anamaria     bauer   45   \n",
       "...                    ...                ...        ...       ...  ...   \n",
       "916794                 0.0                2.0    cherlyn  saunders   69   \n",
       "916795                 0.0                2.0    cherlyn  saunders   69   \n",
       "916796                 0.0                2.0    cherlyn  saunders   69   \n",
       "916797                 0.0                2.0    cherlyn  saunders   69   \n",
       "916798                 0.0                2.0    cherlyn  saunders   69   \n",
       "\n",
       "                                         city  ... gb_per_month_included  \\\n",
       "0       atlanta-sandy springs-roswell, ga msa  ...                  30.0   \n",
       "1       atlanta-sandy springs-roswell, ga msa  ...                  30.0   \n",
       "2       atlanta-sandy springs-roswell, ga msa  ...                  30.0   \n",
       "3       atlanta-sandy springs-roswell, ga msa  ...                  30.0   \n",
       "4       atlanta-sandy springs-roswell, ga msa  ...                  30.0   \n",
       "...                                       ...  ...                   ...   \n",
       "916794                  memphis, tn-ms-ar msa  ...                  30.0   \n",
       "916795                  memphis, tn-ms-ar msa  ...                  30.0   \n",
       "916796                  memphis, tn-ms-ar msa  ...                  30.0   \n",
       "916797                  memphis, tn-ms-ar msa  ...                  30.0   \n",
       "916798                  memphis, tn-ms-ar msa  ...                  30.0   \n",
       "\n",
       "       minutes_included usd_monthly_pay  usd_per_gb  usd_per_message  \\\n",
       "0                  3000              70           7             0.01   \n",
       "1                  3000              70           7             0.01   \n",
       "2                  3000              70           7             0.01   \n",
       "3                  3000              70           7             0.01   \n",
       "4                  3000              70           7             0.01   \n",
       "...                 ...             ...         ...              ...   \n",
       "916794             3000              70           7             0.01   \n",
       "916795             3000              70           7             0.01   \n",
       "916796             3000              70           7             0.01   \n",
       "916797             3000              70           7             0.01   \n",
       "916798             3000              70           7             0.01   \n",
       "\n",
       "        usd_per_minute        id            call_date  duration  month_y  \n",
       "0                 0.01   1000_93  2018-12-27 00:00:00       9.0     12.0  \n",
       "1                 0.01  1000_145  2018-12-27 00:00:00      14.0     12.0  \n",
       "2                 0.01  1000_247  2018-12-27 00:00:00      15.0     12.0  \n",
       "3                 0.01  1000_309  2018-12-28 00:00:00       6.0     12.0  \n",
       "4                 0.01  1000_380  2018-12-30 00:00:00       5.0     12.0  \n",
       "...                ...       ...                  ...       ...      ...  \n",
       "916794            0.01  1311_359  2018-08-06 00:00:00       0.0      8.0  \n",
       "916795            0.01  1311_362  2018-12-28 00:00:00      14.0     12.0  \n",
       "916796            0.01  1311_363  2018-11-22 00:00:00       2.0     11.0  \n",
       "916797            0.01  1311_364  2018-08-10 00:00:00       7.0      8.0  \n",
       "916798            0.01  1311_368  2018-09-06 00:00:00      12.0      9.0  \n",
       "\n",
       "[916799 rows x 24 columns]"
      ]
     },
     "execution_count": 27,
     "metadata": {},
     "output_type": "execute_result"
    }
   ],
   "source": [
    "# Añade la información de la tarifa\n",
    "\n",
    "\n",
    "# Fusionamos el DataFrame merged_data con el DataFrame dfmerge por 'user_id'\n",
    "merged_data_with_plan = pd.merge(merged_data, dfmerge, on='user_id', how='left')\n",
    "\n",
    "# Reemplazamos los valores ausentes por 0 en el DataFrame merged_data_with_plan\n",
    "merged_data_with_plan.fillna(0, inplace=True)\n",
    "\n",
    "# Mostramos el resultado\n",
    "merged_data_with_plan\n"
   ]
  },
  {
   "cell_type": "markdown",
   "metadata": {
    "id": "1IwGo4wg0q1I"
   },
   "source": [
    "[Calcula los ingresos mensuales por usuario (resta el límite del paquete gratuito del número total de llamadas, mensajes de texto y datos; multiplica el resultado por el valor del plan de llamadas; añade la tarifa mensual en función del plan de llamadas). Nota: Dadas las condiciones del plan, ¡esto podría no ser tan trivial como un par de líneas! Así que no pasa nada si dedicas algo de tiempo a ello.]"
   ]
  },
  {
   "cell_type": "code",
   "execution_count": 28,
   "metadata": {
    "id": "5FGCf_c60q1I"
   },
   "outputs": [
    {
     "data": {
      "text/html": [
       "<div>\n",
       "<style scoped>\n",
       "    .dataframe tbody tr th:only-of-type {\n",
       "        vertical-align: middle;\n",
       "    }\n",
       "\n",
       "    .dataframe tbody tr th {\n",
       "        vertical-align: top;\n",
       "    }\n",
       "\n",
       "    .dataframe thead th {\n",
       "        text-align: right;\n",
       "    }\n",
       "</style>\n",
       "<table border=\"1\" class=\"dataframe\">\n",
       "  <thead>\n",
       "    <tr style=\"text-align: right;\">\n",
       "      <th></th>\n",
       "      <th>user_id</th>\n",
       "      <th>monthly_revenue</th>\n",
       "    </tr>\n",
       "  </thead>\n",
       "  <tbody>\n",
       "    <tr>\n",
       "      <th>710340</th>\n",
       "      <td>1368</td>\n",
       "      <td>70.00</td>\n",
       "    </tr>\n",
       "    <tr>\n",
       "      <th>421047</th>\n",
       "      <td>1222</td>\n",
       "      <td>41.95</td>\n",
       "    </tr>\n",
       "    <tr>\n",
       "      <th>491376</th>\n",
       "      <td>1257</td>\n",
       "      <td>23.33</td>\n",
       "    </tr>\n",
       "    <tr>\n",
       "      <th>875505</th>\n",
       "      <td>1472</td>\n",
       "      <td>20.00</td>\n",
       "    </tr>\n",
       "    <tr>\n",
       "      <th>786896</th>\n",
       "      <td>1406</td>\n",
       "      <td>100.00</td>\n",
       "    </tr>\n",
       "    <tr>\n",
       "      <th>668018</th>\n",
       "      <td>1356</td>\n",
       "      <td>80.00</td>\n",
       "    </tr>\n",
       "    <tr>\n",
       "      <th>14505</th>\n",
       "      <td>1010</td>\n",
       "      <td>20.00</td>\n",
       "    </tr>\n",
       "    <tr>\n",
       "      <th>701480</th>\n",
       "      <td>1365</td>\n",
       "      <td>37.52</td>\n",
       "    </tr>\n",
       "    <tr>\n",
       "      <th>360455</th>\n",
       "      <td>1188</td>\n",
       "      <td>70.00</td>\n",
       "    </tr>\n",
       "    <tr>\n",
       "      <th>684954</th>\n",
       "      <td>1362</td>\n",
       "      <td>20.00</td>\n",
       "    </tr>\n",
       "  </tbody>\n",
       "</table>\n",
       "</div>"
      ],
      "text/plain": [
       "        user_id  monthly_revenue\n",
       "710340     1368            70.00\n",
       "421047     1222            41.95\n",
       "491376     1257            23.33\n",
       "875505     1472            20.00\n",
       "786896     1406           100.00\n",
       "668018     1356            80.00\n",
       "14505      1010            20.00\n",
       "701480     1365            37.52\n",
       "360455     1188            70.00\n",
       "684954     1362            20.00"
      ]
     },
     "execution_count": 28,
     "metadata": {},
     "output_type": "execute_result"
    }
   ],
   "source": [
    "# Calcula el ingreso mensual para cada usuario\n",
    "\n",
    "# Calcular el excedente de minutos\n",
    "merged_data_with_plan['minutes_excess'] = merged_data_with_plan['minutes_per_month'] - merged_data_with_plan['minutes_included']\n",
    "merged_data_with_plan['minutes_excess'] = merged_data_with_plan['minutes_excess'].apply(lambda x: max(x, 0))  # Asegurar que no haya valores negativos\n",
    "\n",
    "# Calcular el excedente de mensajes\n",
    "merged_data_with_plan['messages_excess'] = merged_data_with_plan['messages_per_month'] - merged_data_with_plan['messages_included']\n",
    "merged_data_with_plan['messages_excess'] = merged_data_with_plan['messages_excess'].apply(lambda x: max(x, 0))  # Asegurar que no haya valores negativos\n",
    "\n",
    "# Calcular el excedente de datos\n",
    "merged_data_with_plan['data_excess'] = merged_data_with_plan['traffic_per_month'] - merged_data_with_plan['gb_per_month_included']\n",
    "merged_data_with_plan['data_excess'] = merged_data_with_plan['data_excess'].apply(lambda x: max(x, 0))  # Asegurar que no haya valores negativos\n",
    "\n",
    "# Calcular los ingresos mensuales por usuario\n",
    "merged_data_with_plan['monthly_revenue'] = merged_data_with_plan['usd_monthly_pay'] + \\\n",
    "                                          merged_data_with_plan['usd_per_minute'] * merged_data_with_plan['minutes_excess'] + \\\n",
    "                                          merged_data_with_plan['usd_per_message'] * merged_data_with_plan['messages_excess'] + \\\n",
    "                                          merged_data_with_plan['usd_per_gb'] * (merged_data_with_plan['data_excess'] )  \n",
    "\n",
    "# Mostrar el resultado\n",
    "merged_data_with_plan[['user_id', 'monthly_revenue']].sample(10)\n"
   ]
  },
  {
   "cell_type": "markdown",
   "metadata": {
    "id": "-jtyHzJb0q1I"
   },
   "source": [
    "## Estudia el comportamiento de usuario"
   ]
  },
  {
   "cell_type": "markdown",
   "metadata": {
    "id": "AxU3Y0N70q1J"
   },
   "source": [
    "[Calcula algunas estadísticas descriptivas para los datos agregados y fusionados que nos sean útiles y que muestren un panorama general captado por los datos. Dibuja gráficos útiles para facilitar la comprensión. Dado que la tarea principal es comparar las tarifas y decidir cuál es más rentable, las estadísticas y gráficas deben calcularse por tarifa.]\n",
    "\n",
    "[En los comentarios hallarás pistas relevantes para las llamadas, pero no las hay para los mensajes e Internet. Sin embargo, el principio del estudio estadístico que se aplica para ellos es el mismo que para las llamadas.]"
   ]
  },
  {
   "cell_type": "markdown",
   "metadata": {
    "id": "vtW4CJEe0q1J"
   },
   "source": [
    "### Llamadas"
   ]
  },
  {
   "cell_type": "code",
   "execution_count": 29,
   "metadata": {
    "id": "QoLqW1S_0q1J"
   },
   "outputs": [
    {
     "data": {
      "image/png": "[encoded data removed]",
      "text/plain": [
       "<Figure size 1000x600 with 1 Axes>"
      ]
     },
     "metadata": {},
     "output_type": "display_data"
    }
   ],
   "source": [
    "# Compara el número de minutos mensuales que necesitan los usuarios de cada plan. Traza un histograma.\n",
    "import matplotlib.pyplot as plt\n",
    "\n",
    "# Filtrar los datos por plan\n",
    "surf_data = merged_data_with_plan[merged_data_with_plan['plan_name'] == 'surf']\n",
    "ultimate_data = merged_data_with_plan[merged_data_with_plan['plan_name'] == 'ultimate']\n",
    "\n",
    "# Seleccionar la columna de duración mensual de las llamadas para cada plan\n",
    "surf_call_duration = surf_data['minutes_per_month']\n",
    "ultimate_call_duration = ultimate_data['minutes_per_month']\n",
    "\n",
    "# Configurar el histograma\n",
    "plt.figure(figsize=(10, 6))\n",
    "plt.hist(surf_call_duration, bins=30, alpha=0.5, label='Surf', color='blue')\n",
    "plt.hist(ultimate_call_duration, bins=30, alpha=0.5, label='Ultimate', color='red')\n",
    "\n",
    "# Añadir etiquetas y título\n",
    "plt.xlabel('Duración mensual de las llamadas (minutos)')\n",
    "plt.ylabel('Frecuencia')\n",
    "plt.title('Histograma de duración mensual de llamadas por plan')\n",
    "plt.legend()\n",
    "\n",
    "# Mostrar el histograma\n",
    "plt.show()\n",
    "\n"
   ]
  },
  {
   "cell_type": "code",
   "execution_count": null,
   "metadata": {
    "id": "Jf5v5--k0q1J"
   },
   "outputs": [],
   "source": [
    "# Compara la duración promedio de llamadas por cada plan y por cada mes. Traza un gráfico de barras para visualizarla.\n",
    "\n",
    "import matplotlib.pyplot as plt\n",
    "\n",
    "# Agrupar los datos por plan y mes y calcular la duración promedio de llamadas\n",
    "avg_call_duration = merged_data_with_plan.groupby(['plan_name', 'month_x'])['minutes_per_month'].mean().unstack()\n",
    "\n",
    "# Crear el gráfico de barras\n",
    "avg_call_duration.plot(kind='bar', figsize=(10, 6))\n",
    "plt.title('Duración Promedio de Llamadas por Plan y por Mes')\n",
    "plt.xlabel('Mes')\n",
    "plt.ylabel('Duración Promedio de Llamadas (minutos)')\n",
    "plt.xticks(rotation=45)\n",
    "plt.legend(title='Month')\n",
    "plt.show()\n"
   ]
  },
  {
   "cell_type": "markdown",
   "metadata": {
    "id": "bLS9T8OH0q1K"
   },
   "source": [
    "[Calcula la media y la variable de la duración de las llamadas para averiguar si los usuarios de los distintos planes se comportan de forma diferente al realizar sus llamadas.]"
   ]
  },
  {
   "cell_type": "code",
   "execution_count": 30,
   "metadata": {
    "id": "oSndbAnt0q1K"
   },
   "outputs": [
    {
     "name": "stdout",
     "output_type": "stream",
     "text": [
      "                 mean           var\n",
      "plan_name                          \n",
      "surf       518.266888  56656.369391\n",
      "ultimate   523.164233  61627.324440\n"
     ]
    }
   ],
   "source": [
    "# Calcula la media y la varianza de la duración mensual de llamadas.\n",
    "call_duration_stats = merged_data_with_plan.groupby('plan_name')['minutes_per_month'].agg(['mean', 'var'])\n",
    "# Mostrar los resultados\n",
    "print(call_duration_stats)\n"
   ]
  },
  {
   "cell_type": "code",
   "execution_count": null,
   "metadata": {},
   "outputs": [],
   "source": [
    "\n",
    "import seaborn as sns\n",
    "import matplotlib.pyplot as plt\n",
    "\n",
    "# merged_data_with_plan tiene una columna 'plan_name' y 'minutes_per_month'\n",
    "plt.figure(figsize=(12, 6))\n",
    "\n",
    "# Crear el diagrama de caja\n",
    "sns.boxplot(data=merged_data_with_plan, x='plan_name', y='minutes_per_month')\n",
    "\n",
    "# Configurar el título y las etiquetas\n",
    "plt.title('Distribución de la Duración Mensual de Llamadas por Plan')\n",
    "plt.xlabel('Plan')\n",
    "plt.ylabel('Duración de Llamadas (Minutos)')\n",
    "\n",
    "# Mostrar el gráfico\n",
    "plt.show()"
   ]
  },
  {
   "cell_type": "markdown",
   "metadata": {
    "id": "r627zBO50q1K"
   },
   "source": [
    "[Elabora las conclusiones sobre el comportamiento de los usuarios con respecto a las llamadas. ¿Su comportamiento varía en función del plan?]\n",
    "\n",
    "\n",
    "<span style=\"color:blue\">Segun a los diagramas de cajas estamos viendo medias muy parecidas entre cada plan ,tambien se puede observar que la mayoria de los usuarios o muchos usuarios sobrepasan los limites del plan por consiguiente les cobran un costo extra al plan respectivo , donde visualmente se puede ver que los usuarios del plan surf tienen mas apasarse de los minutros , esto me hace preguntar el plan es suficiente ? </span>"
   ]
  },
  {
   "cell_type": "markdown",
   "metadata": {
    "id": "8idKy8Wh0q1L"
   },
   "source": [
    "### Mensajes"
   ]
  },
  {
   "cell_type": "code",
   "execution_count": null,
   "metadata": {
    "id": "NXLxiTit0q1L"
   },
   "outputs": [],
   "source": [
    "# Comprara el número de mensajes que tienden a enviar cada mes los usuarios de cada plan\n",
    "\n",
    "import matplotlib.pyplot as plt\n",
    "\n",
    "# Configurar el gráfico de caja\n",
    "plt.figure(figsize=(10, 6))\n",
    "plt.boxplot([merged_data_with_plan[merged_data_with_plan['plan_name'] == 'surf']['messages_per_month'], \n",
    "             merged_data_with_plan[merged_data_with_plan['plan_name'] == 'ultimate']['messages_per_month']],\n",
    "            labels=['Surf', 'Ultimate'])\n",
    "plt.xlabel('Plan')\n",
    "plt.ylabel('Número de mensajes')\n",
    "plt.title('Comparación del número de mensajes por plan')\n",
    "\n",
    "# Mostrar el gráfico\n",
    "plt.show()"
   ]
  },
  {
   "cell_type": "code",
   "execution_count": null,
   "metadata": {
    "id": "GRI_R7xF0q1L"
   },
   "outputs": [],
   "source": [
    "# Compara la cantidad de tráfico de Internet consumido por usuarios por plan\n",
    "\n",
    "import matplotlib.pyplot as plt\n",
    "\n",
    "# Configurar el gráfico de caja\n",
    "plt.figure(figsize=(10, 6))\n",
    "plt.boxplot([merged_data_with_plan[merged_data_with_plan['plan_name'] == 'surf']['traffic_per_month'], \n",
    "             merged_data_with_plan[merged_data_with_plan['plan_name'] == 'ultimate']['traffic_per_month']],\n",
    "            labels=['Surf', 'Ultimate'])\n",
    "plt.xlabel('Plan')\n",
    "plt.ylabel('Tráfico de Internet (GB)')\n",
    "plt.title('Comparación del tráfico de Internet por plan')\n",
    "\n",
    "# Mostrar el gráfico\n",
    "plt.show()"
   ]
  },
  {
   "cell_type": "markdown",
   "metadata": {
    "id": "390SSL480q1M"
   },
   "source": [
    "\n",
    "[Elabora las conclusiones sobre el comportamiento de los usuarios con respecto a los mensajes. ¿Su comportamiento varía en función del plan?]\n",
    "<span style=\"color:blue\">es un caso parecido al los minutos que cada usuario sobrepasa , en este ejemplo vemos un poco mas similares entre cada plan . sin embargo parece ser visualmente que los usuarios de surf tambien mandan mas mensajes que los usuarios del plan ultimate </span>"
   ]
  },
  {
   "cell_type": "markdown",
   "metadata": {
    "id": "42YSypXz0q1M"
   },
   "source": [
    "### Internet"
   ]
  },
  {
   "cell_type": "code",
   "execution_count": null,
   "metadata": {
    "id": "lSuKPtjh0q1M"
   },
   "outputs": [],
   "source": [
    "# Comprara el número de gigabytes que tienden a usar cada mes los usuarios de cada plan\n",
    "import numpy as np\n",
    "import matplotlib.pyplot as plt\n",
    "from scipy.stats import norm\n",
    "\n",
    "# Filtrar los datos para cada plan\n",
    "surf_traffic = merged_data_with_plan[merged_data_with_plan['plan_name'] == 'surf']['traffic_per_month']\n",
    "ultimate_traffic = merged_data_with_plan[merged_data_with_plan['plan_name'] == 'ultimate']['traffic_per_month']\n",
    "\n",
    "# Convertir los datos \n",
    "surf_traffic_gb = surf_traffic \n",
    "ultimate_traffic_gb = ultimate_traffic\n",
    "\n",
    "# Calcular la media y la desviación estándar para cada plan\n",
    "surf_mean, surf_std = surf_traffic_gb.mean(), surf_traffic_gb.std()\n",
    "ultimate_mean, ultimate_std = ultimate_traffic_gb.mean(), ultimate_traffic_gb.std()\n",
    "\n",
    "# Crear un rango de valores para el eje x\n",
    "x_surf = np.linspace(min(surf_traffic_gb), max(surf_traffic_gb), 100)\n",
    "x_ultimate = np.linspace(min(ultimate_traffic_gb), max(ultimate_traffic_gb), 100)\n",
    "\n",
    "# Calcular la función de densidad de probabilidad para cada plan\n",
    "surf_pdf = norm.pdf(x_surf, surf_mean, surf_std)\n",
    "ultimate_pdf = norm.pdf(x_ultimate, ultimate_mean, ultimate_std)\n",
    "\n",
    "# Configurar el gráfico\n",
    "plt.figure(figsize=(14, 7))\n",
    "\n",
    "# Histograma para el plan Surf\n",
    "plt.hist(surf_traffic_gb, bins=30, density=True, alpha=0.5, color='blue', label='Surf')\n",
    "\n",
    "# Distribución normal para el plan Surf\n",
    "plt.plot(x_surf, surf_pdf, color='blue')\n",
    "\n",
    "# Histograma para el plan Ultimate\n",
    "plt.hist(ultimate_traffic_gb, bins=30, density=True, alpha=0.5, color='orange', label='Ultimate')\n",
    "\n",
    "# Distribución normal para el plan Ultimate\n",
    "plt.plot(x_ultimate, ultimate_pdf, color='orange')\n",
    "\n",
    "# Etiquetas y título\n",
    "plt.xlabel('Tráfico de Internet (GB)')\n",
    "plt.ylabel('Densidad de probabilidad')\n",
    "plt.title('Distribución del tráfico de Internet por plan')\n",
    "\n",
    "# Leyenda\n",
    "plt.legend()\n",
    "\n",
    "# Mostrar el gráfico\n",
    "plt.show()"
   ]
  },
  {
   "cell_type": "code",
   "execution_count": null,
   "metadata": {
    "id": "wnh8jYXi0q1N"
   },
   "outputs": [],
   "source": [
    "surf_traffic.describe()\n"
   ]
  },
  {
   "cell_type": "code",
   "execution_count": null,
   "metadata": {
    "id": "5VlyJ9ry0q1N"
   },
   "outputs": [],
   "source": [
    "ultimate_traffic.describe()"
   ]
  },
  {
   "cell_type": "markdown",
   "metadata": {
    "id": "UN9zwuMP0q1N"
   },
   "source": [
    "[Elabora las conclusiones sobre cómo los usuarios tienden a consumir el tráfico de Internet. ¿Su comportamiento varía en función del plan?]\n",
    "\n",
    "<span style=\"color:blue\">el trafico de datos que los usuarios de cada plan tiene tienen tendencia muy similar , como se puede observar en la funcion describe , los promedios casi no varian , pero hay que destacar que los usuarios del plan surf son mas que los de ultimate </span>"
   ]
  },
  {
   "cell_type": "markdown",
   "metadata": {
    "id": "tCijq3260q1N"
   },
   "source": [
    "## Ingreso"
   ]
  },
  {
   "cell_type": "markdown",
   "metadata": {
    "id": "9nq5IAcy0q1O"
   },
   "source": [
    "[Del mismo modo que has estudiado el comportamiento de los usuarios, describe estadísticamente los ingresos de los planes.]"
   ]
  },
  {
   "cell_type": "code",
   "execution_count": null,
   "metadata": {
    "id": "tz-dq_V00q1O"
   },
   "outputs": [],
   "source": [
    "import seaborn as sns\n",
    "\n",
    "# Filtrar los datos de ingresos por plan\n",
    "surf_revenue = merged_data_with_plan[merged_data_with_plan['plan_name'] == 'surf']['monthly_revenue']\n",
    "ultimate_revenue = merged_data_with_plan[merged_data_with_plan['plan_name'] == 'ultimate']['monthly_revenue']\n",
    "\n",
    "# Calcular estadísticas descriptivas para cada plan\n",
    "surf_stats = surf_revenue.describe()\n",
    "ultimate_stats = ultimate_revenue.describe()\n",
    "\n",
    "print(\"Estadísticas descriptivas para el plan Surf:\")\n",
    "print(surf_stats)\n",
    "print(\"\\nEstadísticas descriptivas para el plan Ultimate:\")\n",
    "print(ultimate_stats)\n",
    "\n",
    "# Calcular la media y la desviación estándar para cada plan\n",
    "surf_mean, surf_std = surf_revenue.mean(), surf_revenue.std()\n",
    "ultimate_mean, ultimate_std = ultimate_revenue.mean(), ultimate_revenue.std()\n",
    "\n",
    "# Crear un rango de valores para el eje x\n",
    "x_surf = np.linspace(min(surf_revenue), max(surf_revenue), 100)\n",
    "x_ultimate = np.linspace(min(ultimate_revenue), max(ultimate_revenue), 100)\n",
    "\n",
    "# Calcular la función de densidad de probabilidad para cada plan\n",
    "surf_pdf = norm.pdf(x_surf, surf_mean, surf_std)\n",
    "ultimate_pdf = norm.pdf(x_ultimate, ultimate_mean, ultimate_std)\n",
    "\n",
    "# Configurar el gráfico\n",
    "plt.figure(figsize=(14, 7))\n",
    "\n",
    "# Histograma para el plan Surf\n",
    "plt.hist(surf_revenue, bins=30, density=True, alpha=0.5, color='blue', label='Surf')\n",
    "\n",
    "# Distribución normal para el plan Surf\n",
    "plt.plot(x_surf, surf_pdf, color='blue')\n",
    "\n",
    "# Histograma para el plan Ultimate\n",
    "plt.hist(ultimate_revenue, bins=30, density=True, alpha=0.5, color='orange', label='Ultimate')\n",
    "\n",
    "# Distribución normal para el plan Ultimate\n",
    "plt.plot(x_ultimate, ultimate_pdf, color='orange')\n",
    "\n",
    "# Etiquetas y título\n",
    "plt.xlabel('Ingresos mensuales ($)')\n",
    "plt.ylabel('Densidad de probabilidad')\n",
    "plt.title('Distribución de ingresos mensuales por plan')\n",
    "\n",
    "# Leyenda\n",
    "plt.legend()\n",
    "\n",
    "# Mostrar el gráfico\n",
    "plt.show()\n",
    "\n",
    "# Trazar boxplots para visualizar la distribución de ingresos\n",
    "plt.figure(figsize=(14, 7))\n",
    "sns.boxplot(data=merged_data_with_plan, x='plan_name', y='monthly_revenue')\n",
    "plt.xlabel('Plan')\n",
    "plt.ylabel('Ingresos mensuales ($)')\n",
    "plt.title('Distribución de ingresos mensuales por plan')\n",
    "plt.show()\n"
   ]
  },
  {
   "cell_type": "markdown",
   "metadata": {},
   "source": [
    "<div class=\"alert alert-block alert-success\">\n",
    "<b>Comentario revisor</b> <a class=\"tocSkip\"></a>\n",
    "\n",
    " Muy buena prática la de usar distintos tipos de gráficas identificar algunos hallazgos y llegar a conclusiones\n",
    "</div>"
   ]
  },
  {
   "cell_type": "code",
   "execution_count": null,
   "metadata": {
    "id": "0Y1v8ZUz0q1P"
   },
   "outputs": [],
   "source": [
    "surf_revenue.sample(20) \n",
    "ultimate_revenue.sample(20) \n"
   ]
  },
  {
   "cell_type": "code",
   "execution_count": null,
   "metadata": {
    "id": "bYmwxyVh0q1P"
   },
   "outputs": [],
   "source": [
    "\n",
    "from scipy import stats\n",
    "\n",
    "# Filtrar los datos de ingresos por plan\n",
    "surf_revenue = merged_data_with_plan[merged_data_with_plan['plan_name'] == 'surf']['monthly_revenue']\n",
    "ultimate_revenue = merged_data_with_plan[merged_data_with_plan['plan_name'] == 'ultimate']['monthly_revenue']\n",
    "\n",
    "# Realizar la prueba t de muestras independientes\n",
    "t_statistic, p_value = stats.ttest_ind(surf_revenue, ultimate_revenue)\n",
    "\n",
    "# Mostrar los resultados\n",
    "print(\"Resultados de la prueba t:\")\n",
    "print(f\"Estadístico t: {t_statistic}\")\n",
    "print(f\"Valor p: {p_value}\")\n",
    "\n",
    "alpha = 0.05  # Nivel de significancia\n",
    "\n",
    "if p_value < alpha:\n",
    "    print(\"\\nRechazamos la hipótesis nula: Hay diferencias significativas entre los ingresos mensuales de los planes.\")\n",
    "else:\n",
    "    print(\"\\nNo podemos rechazar la hipótesis nula: No hay diferencias significativas entre los ingresos mensuales de los planes.\")"
   ]
  },
  {
   "cell_type": "markdown",
   "metadata": {
    "id": "ajJ7VKeI0q1Q"
   },
   "source": [
    "## Prueba las hipótesis estadísticas"
   ]
  },
  {
   "cell_type": "markdown",
   "metadata": {
    "id": "AdXAZ-yL0q1Q"
   },
   "source": [
    "[Prueba la hipótesis de que son diferentes los ingresos promedio procedentes de los usuarios de los planes de llamada Ultimate y Surf.]"
   ]
  },
  {
   "cell_type": "markdown",
   "metadata": {
    "id": "IQwa_hsh0q1Q"
   },
   "source": [
    "[Elabora las hipótesis nula y alternativa, escoge la prueba estadística, determina el valor alfa.]"
   ]
  },
  {
   "cell_type": "code",
   "execution_count": 46,
   "metadata": {
    "id": "nFoPNlPq0q1R"
   },
   "outputs": [
    {
     "name": "stdout",
     "output_type": "stream",
     "text": [
      "Resultados de la prueba t para ingresos entre Surf y Ultimate:\n",
      "Estadístico t: -7.952094891333888\n",
      "Valor p: 3.1703905481135734e-15\n",
      "\n",
      "Rechazamos la hipótesis nula: Hay diferencias significativas entre los ingresos mensuales de los planes Surf y Ultimate.\n"
     ]
    }
   ],
   "source": [
    "# Filtrar los datos por plan\n",
    "surf_data = merged_data_with_plan[merged_data_with_plan['plan_name'] == 'surf']\n",
    "ultimate_data = merged_data_with_plan[merged_data_with_plan['plan_name'] == 'ultimate']\n",
    "\n",
    "# Obtener los ingresos mensuales por plan\n",
    "surf_revenue = surf_data['monthly_revenue'].dropna()\n",
    "ultimate_revenue = ultimate_data['monthly_revenue'].dropna()\n",
    "\n",
    "# Realizar la prueba t de muestras independientes\n",
    "t_statistic, p_value = stats.ttest_ind(surf_revenue, ultimate_revenue, equal_var=False)  # equal_var=False para asumir varianzas diferentes\n",
    "\n",
    "# Mostrar los resultados\n",
    "print(\"Resultados de la prueba t para ingresos entre Surf y Ultimate:\")\n",
    "print(f\"Estadístico t: {t_statistic}\")\n",
    "print(f\"Valor p: {p_value}\")\n",
    "\n",
    "# Nivel de significancia (alfa)\n",
    "alpha = 0.05\n",
    "\n",
    "# Interpretar los resultados\n",
    "if p_value < alpha:\n",
    "    print(\"\\nRechazamos la hipótesis nula: Hay diferencias significativas entre los ingresos mensuales de los planes Surf y Ultimate.\")\n",
    "else:\n",
    "    print(\"\\nNo podemos rechazar la hipótesis nula: No hay diferencias significativas entre los ingresos mensuales de los planes Surf y Ultimate.\")\n"
   ]
  },
  {
   "cell_type": "markdown",
   "metadata": {},
   "source": [
    "<div class=\"alert alert-block alert-success\">\n",
    "<b>Comentario del revisor</b> <a class=\"tocSkip\"></a>\n",
    "\n",
    "Muy buen trabajo con los ajustes!\n",
    "</div>"
   ]
  },
  {
   "cell_type": "code",
   "execution_count": 45,
   "metadata": {},
   "outputs": [
    {
     "name": "stdout",
     "output_type": "stream",
     "text": [
      "Resultados de la prueba t:\n",
      "Estadístico t: nan\n",
      "Valor p: nan\n",
      "\n",
      "No podemos rechazar la hipótesis nula: No hay diferencias significativas entre los ingresos mensuales de los planes.\n"
     ]
    }
   ],
   "source": [
    "from scipy import stats\n",
    "import pandas as pd\n",
    "\n",
    "# Filtrar los datos por plan\n",
    "surf_data = merged_data_with_plan[merged_data_with_plan['plan_name'] == 'surf']\n",
    "ultimate_data = merged_data_with_plan[merged_data_with_plan['plan_name'] == 'ultimate']\n",
    "\n",
    "# Obtener los ingresos mensuales por plan\n",
    "surf_revenue = surf_data['monthly_revenue']\n",
    "ultimate_revenue = ultimate_data['monthly_revenue']\n",
    "\n",
    "# Realizar la prueba t de muestras independientes con equal_var=False\n",
    "t_statistic, p_value = stats.ttest_ind(surf_revenue, ultimate_revenue, equal_var=False)\n",
    "\n",
    "# Mostrar los resultados\n",
    "print(\"Resultados de la prueba t:\")\n",
    "print(f\"Estadístico t: {t_statistic}\")\n",
    "print(f\"Valor p: {p_value}\")\n",
    "\n",
    "# Nivel de significancia (alfa)\n",
    "alpha = 0.05\n",
    "\n",
    "# Interpretar los resultados\n",
    "if p_value < alpha:\n",
    "    print(\"\\nRechazamos la hipótesis nula: Hay diferencias significativas entre los ingresos mensuales de los planes.\")\n",
    "else:\n",
    "    print(\"\\nNo podemos rechazar la hipótesis nula: No hay diferencias significativas entre los ingresos mensuales de los planes.\")\n"
   ]
  },
  {
   "cell_type": "markdown",
   "metadata": {
    "id": "tCcAruM60q1R"
   },
   "source": [
    "[Prueba la hipótesis de que el ingreso promedio de los usuarios del área NY-NJ es diferente al de los usuarios de otras regiones.]"
   ]
  },
  {
   "cell_type": "markdown",
   "metadata": {
    "id": "LsBgitqj0q1R"
   },
   "source": [
    "[Elabora las hipótesis nula y alternativa, escoge la prueba estadística, determina el valor alfa.]"
   ]
  },
  {
   "cell_type": "code",
   "execution_count": null,
   "metadata": {
    "id": "Cqcj7wrZ0q1S"
   },
   "outputs": [],
   "source": [
    "# Prueba las hipótesis\n",
    "from scipy import stats\n",
    "import pandas as pd\n",
    "\n",
    "# Filtrar los datos por área NY-NJ y otras regiones\n",
    "ny_nj_data = merged_data_with_plan[merged_data_with_plan['city'].str.contains('ny-nj')]\n",
    "other_region_data = merged_data_with_plan[~merged_data_with_plan['city'].str.contains('ny-nj')]\n",
    "\n",
    "# Obtener los ingresos mensuales por área\n",
    "ny_nj_revenue = ny_nj_data['monthly_revenue']\n",
    "other_region_revenue = other_region_data['monthly_revenue']\n",
    "\n",
    "# Realizar la prueba t de muestras independientes\n",
    "t_statistic, p_value = stats.ttest_ind(ny_nj_revenue, other_region_revenue, equal_var=False)  # equal_var=False para asumir varianzas diferentes\n",
    "\n",
    "# Mostrar los resultados\n",
    "print(\"Resultados de la prueba t:\")\n",
    "print(f\"Estadístico t: {t_statistic}\")\n",
    "print(f\"Valor p: {p_value}\")\n",
    "\n",
    "# Nivel de significancia (alfa)\n",
    "alpha = 0.05\n",
    "\n",
    "# Interpretar los resultados\n",
    "if p_value < alpha:\n",
    "    print(\"\\nRechazamos la hipótesis nula: El ingreso promedio de los usuarios del área NY-NJ es diferente al de los usuarios de otras regiones.\")\n",
    "else:\n",
    "    print(\"\\nNo podemos rechazar la hipótesis nula: El ingreso promedio de los usuarios del área NY-NJ es igual al de los usuarios de otras regiones.\")\n"
   ]
  },
  {
   "cell_type": "markdown",
   "metadata": {},
   "source": [
    "\n",
    "<div class=\"alert alert-block alert-danger\">\n",
    "<b>Comentario Revisor</b> <a class=\"tocSkip\"></a>\n",
    "\n",
    "Te recomiendo verificar que dentro de las variables que usamos para las pruebas de hipótesis no contamos con valores nulos que esten haciendo que el valor p sea nan\n",
    "</div>"
   ]
  },
  {
   "cell_type": "markdown",
   "metadata": {},
   "source": [
    "<div class=\"alert alert-block alert-success\">\n",
    "<b>Comentario del revisor</b> <a class=\"tocSkip\"></a>\n",
    "\n",
    "Muy buen trabajo con los ajustes!\n",
    "</div>"
   ]
  },
  {
   "cell_type": "markdown",
   "metadata": {
    "id": "bbTR8UQO0q1T"
   },
   "source": [
    "## Conclusión general\n",
    "\n",
    "[En esta sección final, enumera tus conclusiones importantes. Asegúrate de que estas abarquen todas las decisiones (suposiciones) importantes que adoptaste y que determinaron la forma elegida para procesar y analizar los datos.]\n",
    "\n",
    "\n",
    "<span style=\"color:blue\">Estos resultados me dicen que hay una diferencia significativa en los ingresos promedio entre los dos grupos comparados (por ejemplo, entre los usuarios de los planes Ultimate y Surf o entre los usuarios de NY-NJ y otras regiones). La magnitud del estadístico t y el valor p cercano a 0 indican que esta diferencia es muy fuerte y no es debida al azar. </span>\n",
    "\n",
    "\n",
    "\n"
   ]
  },
  {
   "cell_type": "markdown",
   "metadata": {},
   "source": [
    "\n",
    "<div class=\"alert alert-block alert-warning\">\n",
    "<b>Comentario revisor</b> <a class=\"tocSkip\"></a>\n",
    "\n",
    "En general creo que hiciste un muy buen trabajo con el proyecto, pudiste limpiar y trabajar las bases de datos de beuna manera, así como juntar la información. Además, considero que el análisis con las gráficas y con las pruebas de hipótesis es muy acertado. No obstante, recuerda que siempre podemos mejorar y te menciono algunos puntos que debes considerar:\n",
    "\n",
    "* Realizar un análisis inicial de registros duplicados en todas las bases de datos\n",
    "\n",
    "*  verificar las pruebs de hipótesis\n",
    "</div>"
   ]
  },
  {
   "cell_type": "code",
   "execution_count": 44,
   "metadata": {},
   "outputs": [
    {
     "name": "stdout",
     "output_type": "stream",
     "text": [
      "DataFrame calls:\n",
      "Total registros: 137735\n",
      "Registros duplicados: 0\n",
      "----------------------------------------\n",
      "DataFrame internet:\n",
      "Total registros: 104825\n",
      "Registros duplicados: 0\n",
      "----------------------------------------\n",
      "DataFrame messages:\n",
      "Total registros: 76051\n",
      "Registros duplicados: 0\n",
      "----------------------------------------\n",
      "DataFrame plans:\n",
      "Total registros: 2\n",
      "Registros duplicados: 0\n",
      "----------------------------------------\n",
      "DataFrame users:\n",
      "Total registros: 500\n",
      "Registros duplicados: 0\n",
      "----------------------------------------\n"
     ]
    }
   ],
   "source": [
    "import pandas as pd\n",
    "\n",
    "# Analizar registros duplicados\n",
    "calls = pd.read_csv(\"/datasets/megaline_calls.csv\")\n",
    "internet = pd.read_csv(\"/datasets/megaline_internet.csv\")\n",
    "messages = pd.read_csv(\"/datasets/megaline_messages.csv\")\n",
    "plans = pd.read_csv(\"/datasets/megaline_plans.csv\")\n",
    "users = pd.read_csv(\"/datasets/megaline_users.csv\")\n",
    "dataframes = {'calls': calls, 'internet': internet, 'messages': messages, 'plans': plans, 'users': users}\n",
    "\n",
    "for name, df in dataframes.items():\n",
    "    print(f\"DataFrame {name}:\")\n",
    "    print(f\"Total registros: {len(df)}\")\n",
    "    print(f\"Registros duplicados: {df.duplicated().sum()}\")\n",
    "    print(\"-\" * 40)"
   ]
  },
  {
   "cell_type": "markdown",
   "metadata": {},
   "source": [
    "<div class=\"alert alert-block alert-success\">\n",
    "<b>Comentario del revisor</b> <a class=\"tocSkip\"></a>\n",
    "\n",
    "Muy buen trabajo con los ajustes! Que sigas disfrutando los siguientes cursos!\n",
    "</div>"
   ]
  }
 ],
 "metadata": {
  "ExecuteTimeLog": [
   {
    "duration": 828,
    "start_time": "2021-11-16T09:21:11.304Z"
   },
   {
    "duration": 893,
    "start_time": "2021-11-16T09:21:17.728Z"
   },
   {
    "duration": 1150,
    "start_time": "2021-11-16T09:21:29.568Z"
   },
   {
    "duration": 3,
    "start_time": "2021-11-16T09:24:14.495Z"
   },
   {
    "duration": 120,
    "start_time": "2021-11-16T09:24:46.630Z"
   },
   {
    "duration": 3,
    "start_time": "2021-11-16T09:28:27.882Z"
   },
   {
    "duration": 4,
    "start_time": "2021-11-16T09:29:54.281Z"
   },
   {
    "duration": 3,
    "start_time": "2021-11-16T09:30:45.936Z"
   },
   {
    "duration": 4,
    "start_time": "2021-11-16T09:31:06.300Z"
   },
   {
    "duration": 113,
    "start_time": "2021-11-16T09:31:37.208Z"
   },
   {
    "duration": 143,
    "start_time": "2021-11-16T09:31:48.656Z"
   },
   {
    "duration": 98,
    "start_time": "2021-11-16T09:31:55.678Z"
   },
   {
    "duration": 3,
    "start_time": "2021-11-16T09:32:08.535Z"
   },
   {
    "duration": 111,
    "start_time": "2021-11-16T09:32:10.120Z"
   },
   {
    "duration": 3,
    "start_time": "2021-11-16T09:32:15.732Z"
   },
   {
    "duration": 4,
    "start_time": "2021-11-16T09:32:29.423Z"
   },
   {
    "duration": 3,
    "start_time": "2021-11-16T10:03:03.074Z"
   },
   {
    "duration": 3,
    "start_time": "2021-11-16T10:10:01.288Z"
   },
   {
    "duration": 3,
    "start_time": "2021-11-16T10:10:46.923Z"
   },
   {
    "duration": 121,
    "start_time": "2021-11-16T10:37:46.494Z"
   },
   {
    "duration": 125,
    "start_time": "2021-11-16T10:38:20.632Z"
   },
   {
    "duration": 112,
    "start_time": "2021-11-16T10:46:53.001Z"
   },
   {
    "duration": 110,
    "start_time": "2021-11-16T10:48:25.775Z"
   },
   {
    "duration": 3,
    "start_time": "2021-11-16T10:50:18.720Z"
   },
   {
    "duration": 4,
    "start_time": "2021-11-16T10:50:37.649Z"
   },
   {
    "duration": 2,
    "start_time": "2021-11-16T10:50:51.884Z"
   },
   {
    "duration": 3,
    "start_time": "2021-11-16T10:51:56.237Z"
   },
   {
    "duration": 101,
    "start_time": "2021-11-16T10:53:13.791Z"
   },
   {
    "duration": 3,
    "start_time": "2021-11-16T10:55:59.186Z"
   },
   {
    "duration": 3,
    "start_time": "2021-11-16T10:56:10.751Z"
   },
   {
    "duration": 3,
    "start_time": "2021-11-16T10:56:49.038Z"
   },
   {
    "duration": 3,
    "start_time": "2021-11-16T10:56:49.174Z"
   },
   {
    "duration": 4,
    "start_time": "2021-11-16T10:56:49.414Z"
   },
   {
    "duration": 3,
    "start_time": "2021-11-16T10:56:49.680Z"
   },
   {
    "duration": 3,
    "start_time": "2021-11-16T10:56:50.370Z"
   },
   {
    "duration": 114,
    "start_time": "2021-11-16T10:59:34.518Z"
   },
   {
    "duration": 3,
    "start_time": "2021-11-16T11:01:41.201Z"
   },
   {
    "duration": 116,
    "start_time": "2021-11-16T11:01:48.754Z"
   },
   {
    "duration": 3,
    "start_time": "2021-11-16T11:02:16.685Z"
   },
   {
    "duration": 3,
    "start_time": "2021-11-16T11:02:19.479Z"
   },
   {
    "duration": 3,
    "start_time": "2021-11-16T11:02:47.067Z"
   },
   {
    "duration": 3,
    "start_time": "2021-11-16T11:02:49.353Z"
   },
   {
    "duration": 3,
    "start_time": "2021-11-16T11:03:07.835Z"
   },
   {
    "duration": 3,
    "start_time": "2021-11-16T11:03:07.953Z"
   },
   {
    "duration": 112,
    "start_time": "2021-11-16T11:07:52.072Z"
   },
   {
    "duration": 187,
    "start_time": "2021-11-16T11:09:23.468Z"
   },
   {
    "duration": 4,
    "start_time": "2021-11-16T11:10:01.455Z"
   },
   {
    "duration": 3,
    "start_time": "2021-11-16T11:10:05.069Z"
   },
   {
    "duration": 4,
    "start_time": "2021-11-16T11:10:13.376Z"
   },
   {
    "duration": 3,
    "start_time": "2021-11-16T11:10:14.434Z"
   },
   {
    "duration": 3,
    "start_time": "2021-11-16T11:10:22.853Z"
   },
   {
    "duration": 4,
    "start_time": "2021-11-16T11:27:29.279Z"
   },
   {
    "duration": 4,
    "start_time": "2021-11-16T11:29:08.919Z"
   },
   {
    "duration": 118,
    "start_time": "2021-11-16T11:29:46.703Z"
   },
   {
    "duration": 437,
    "start_time": "2021-11-16T11:36:02.181Z"
   },
   {
    "duration": 157,
    "start_time": "2021-11-16T11:36:14.388Z"
   },
   {
    "duration": 207,
    "start_time": "2021-11-16T11:47:15.898Z"
   },
   {
    "duration": 3,
    "start_time": "2021-11-16T11:53:52.092Z"
   },
   {
    "duration": 3,
    "start_time": "2021-11-16T11:53:52.236Z"
   },
   {
    "duration": 3,
    "start_time": "2021-11-16T11:59:12.005Z"
   },
   {
    "duration": 112,
    "start_time": "2021-11-16T12:00:33.446Z"
   },
   {
    "duration": 3,
    "start_time": "2021-11-16T12:02:14.453Z"
   },
   {
    "duration": 3,
    "start_time": "2021-11-16T12:02:39.512Z"
   },
   {
    "duration": 106,
    "start_time": "2021-11-16T12:03:03.460Z"
   },
   {
    "duration": 3,
    "start_time": "2021-11-17T20:37:21.139Z"
   },
   {
    "duration": 3,
    "start_time": "2021-11-17T20:37:22.229Z"
   },
   {
    "duration": 3,
    "start_time": "2021-11-17T20:38:38.806Z"
   },
   {
    "duration": 3,
    "start_time": "2021-11-17T20:38:41.958Z"
   },
   {
    "duration": 3,
    "start_time": "2021-11-17T20:43:46.551Z"
   },
   {
    "duration": 4,
    "start_time": "2021-11-17T20:58:21.835Z"
   },
   {
    "duration": 3,
    "start_time": "2021-11-17T20:59:21.872Z"
   },
   {
    "duration": 4,
    "start_time": "2021-11-17T20:59:45.352Z"
   },
   {
    "duration": 4,
    "start_time": "2021-11-17T20:59:49.646Z"
   },
   {
    "duration": 159,
    "start_time": "2021-11-17T21:02:26.949Z"
   },
   {
    "duration": 3,
    "start_time": "2021-11-17T21:03:53.461Z"
   },
   {
    "duration": 3,
    "start_time": "2021-11-17T21:03:53.694Z"
   },
   {
    "duration": 3,
    "start_time": "2021-11-17T21:05:28.145Z"
   },
   {
    "duration": 116,
    "start_time": "2021-11-17T21:05:57.787Z"
   },
   {
    "duration": 3,
    "start_time": "2021-11-17T21:06:37.993Z"
   },
   {
    "duration": 3,
    "start_time": "2021-11-17T21:06:38.261Z"
   },
   {
    "duration": 3,
    "start_time": "2021-11-17T21:11:54.358Z"
   },
   {
    "duration": 3,
    "start_time": "2021-11-17T21:12:43.846Z"
   },
   {
    "duration": 4,
    "start_time": "2021-11-17T21:13:08.773Z"
   },
   {
    "duration": 3,
    "start_time": "2021-11-17T21:14:44.441Z"
   },
   {
    "duration": 3,
    "start_time": "2021-11-17T21:15:42.059Z"
   },
   {
    "duration": 4,
    "start_time": "2021-11-17T21:15:51.995Z"
   },
   {
    "duration": 3,
    "start_time": "2021-11-17T21:15:53.923Z"
   },
   {
    "duration": 3,
    "start_time": "2021-11-17T21:15:55.282Z"
   },
   {
    "duration": 3,
    "start_time": "2021-11-17T21:16:28.492Z"
   },
   {
    "duration": 3,
    "start_time": "2021-11-17T21:16:32.603Z"
   },
   {
    "duration": 3,
    "start_time": "2021-11-17T21:17:06.941Z"
   },
   {
    "duration": 98,
    "start_time": "2021-11-17T21:18:05.733Z"
   },
   {
    "duration": 4,
    "start_time": "2021-11-17T21:21:35.255Z"
   },
   {
    "duration": 3,
    "start_time": "2021-11-17T21:21:37.804Z"
   },
   {
    "duration": 4,
    "start_time": "2021-11-17T21:23:06.071Z"
   },
   {
    "duration": 3,
    "start_time": "2021-11-17T21:23:24.799Z"
   },
   {
    "duration": 3,
    "start_time": "2021-11-17T21:23:32.591Z"
   },
   {
    "duration": 98,
    "start_time": "2021-11-17T21:28:31.559Z"
   },
   {
    "duration": 3,
    "start_time": "2021-11-17T21:28:45.448Z"
   },
   {
    "duration": 3,
    "start_time": "2021-11-17T21:29:17.303Z"
   },
   {
    "duration": 3,
    "start_time": "2021-11-17T21:29:29.617Z"
   },
   {
    "duration": 3,
    "start_time": "2021-11-17T21:29:32.681Z"
   },
   {
    "duration": 3,
    "start_time": "2021-11-17T21:36:11.474Z"
   },
   {
    "duration": 3,
    "start_time": "2021-11-17T21:36:14.791Z"
   },
   {
    "duration": 3,
    "start_time": "2021-11-17T21:36:53.943Z"
   },
   {
    "duration": 3,
    "start_time": "2021-11-17T21:36:56.165Z"
   },
   {
    "duration": 4,
    "start_time": "2021-11-17T21:37:16.590Z"
   },
   {
    "duration": 3,
    "start_time": "2021-11-17T21:37:22.702Z"
   },
   {
    "duration": 4,
    "start_time": "2021-11-17T21:38:03.479Z"
   },
   {
    "duration": 3,
    "start_time": "2021-11-17T21:38:08.601Z"
   },
   {
    "duration": 3,
    "start_time": "2021-11-17T21:38:12.928Z"
   },
   {
    "duration": 3,
    "start_time": "2021-11-17T21:38:48.896Z"
   },
   {
    "duration": 2,
    "start_time": "2021-11-17T21:38:49.171Z"
   },
   {
    "duration": 4,
    "start_time": "2021-11-17T21:39:57.889Z"
   },
   {
    "duration": 3,
    "start_time": "2021-11-17T21:39:58.057Z"
   },
   {
    "duration": 3,
    "start_time": "2021-11-17T21:41:20.108Z"
   },
   {
    "duration": 3,
    "start_time": "2021-11-17T21:41:20.629Z"
   },
   {
    "duration": 3,
    "start_time": "2021-11-17T21:42:49.136Z"
   },
   {
    "duration": 3,
    "start_time": "2021-11-17T21:43:15.137Z"
   },
   {
    "duration": 4,
    "start_time": "2021-11-17T21:43:16.766Z"
   },
   {
    "duration": 4,
    "start_time": "2021-11-17T21:43:31.711Z"
   },
   {
    "duration": 3,
    "start_time": "2021-11-17T21:43:36.312Z"
   },
   {
    "duration": 4,
    "start_time": "2021-11-17T21:45:08.825Z"
   },
   {
    "duration": 4,
    "start_time": "2021-11-17T21:45:10.119Z"
   },
   {
    "duration": 4,
    "start_time": "2021-11-17T21:45:13.748Z"
   },
   {
    "duration": 3,
    "start_time": "2021-11-17T21:45:22.219Z"
   },
   {
    "duration": 3,
    "start_time": "2021-11-17T21:45:33.412Z"
   },
   {
    "duration": 2,
    "start_time": "2021-11-17T21:46:01.885Z"
   },
   {
    "duration": 3,
    "start_time": "2021-11-17T21:46:03.628Z"
   },
   {
    "duration": 107,
    "start_time": "2021-11-17T21:47:32.512Z"
   },
   {
    "duration": 103,
    "start_time": "2021-11-17T21:50:36.243Z"
   },
   {
    "duration": 3,
    "start_time": "2021-11-18T06:28:31.440Z"
   },
   {
    "duration": 3,
    "start_time": "2021-11-18T06:29:00.168Z"
   },
   {
    "duration": 3,
    "start_time": "2021-11-18T06:31:27.008Z"
   },
   {
    "duration": 2,
    "start_time": "2021-11-18T06:35:34.288Z"
   },
   {
    "duration": 2,
    "start_time": "2021-11-18T06:38:04.527Z"
   },
   {
    "duration": 5154,
    "start_time": "2024-05-19T19:38:29.852Z"
   },
   {
    "duration": 1280,
    "start_time": "2024-05-19T19:47:50.532Z"
   },
   {
    "duration": 369,
    "start_time": "2024-05-19T19:47:51.817Z"
   },
   {
    "duration": 40,
    "start_time": "2024-05-19T19:47:52.189Z"
   },
   {
    "duration": 11,
    "start_time": "2024-05-19T19:47:52.233Z"
   },
   {
    "duration": 31,
    "start_time": "2024-05-19T19:47:52.248Z"
   },
   {
    "duration": 16,
    "start_time": "2024-05-19T19:47:52.313Z"
   },
   {
    "duration": 19,
    "start_time": "2024-05-19T19:47:52.332Z"
   },
   {
    "duration": 18,
    "start_time": "2024-05-19T19:47:52.354Z"
   },
   {
    "duration": 40,
    "start_time": "2024-05-19T19:47:52.411Z"
   },
   {
    "duration": 19,
    "start_time": "2024-05-19T19:47:52.457Z"
   },
   {
    "duration": 45,
    "start_time": "2024-05-19T19:47:52.478Z"
   },
   {
    "duration": 60,
    "start_time": "2024-05-19T19:47:52.526Z"
   },
   {
    "duration": 50,
    "start_time": "2024-05-19T19:47:52.589Z"
   },
   {
    "duration": 37,
    "start_time": "2024-05-19T19:47:52.642Z"
   },
   {
    "duration": 51,
    "start_time": "2024-05-19T19:47:52.682Z"
   },
   {
    "duration": 18,
    "start_time": "2024-05-19T19:47:52.737Z"
   },
   {
    "duration": 52,
    "start_time": "2024-05-19T19:47:52.759Z"
   },
   {
    "duration": 101,
    "start_time": "2024-05-19T19:47:52.814Z"
   },
   {
    "duration": 63,
    "start_time": "2024-05-19T19:47:52.918Z"
   },
   {
    "duration": 50,
    "start_time": "2024-05-19T19:47:52.984Z"
   },
   {
    "duration": 43,
    "start_time": "2024-05-19T19:47:53.037Z"
   },
   {
    "duration": 78,
    "start_time": "2024-05-19T19:47:53.083Z"
   },
   {
    "duration": 59,
    "start_time": "2024-05-19T19:47:53.164Z"
   },
   {
    "duration": 6606,
    "start_time": "2024-05-19T19:47:53.227Z"
   },
   {
    "duration": 1744,
    "start_time": "2024-05-19T19:47:59.837Z"
   },
   {
    "duration": 760,
    "start_time": "2024-05-19T19:48:01.584Z"
   },
   {
    "duration": 513,
    "start_time": "2024-05-19T19:48:02.347Z"
   },
   {
    "duration": 140,
    "start_time": "2024-05-19T19:48:02.867Z"
   },
   {
    "duration": 280,
    "start_time": "2024-05-19T19:48:03.013Z"
   },
   {
    "duration": 666,
    "start_time": "2024-05-19T19:48:03.297Z"
   },
   {
    "duration": 681,
    "start_time": "2024-05-19T19:48:03.966Z"
   },
   {
    "duration": 1029,
    "start_time": "2024-05-19T19:48:04.650Z"
   },
   {
    "duration": 3,
    "start_time": "2024-05-19T19:48:05.683Z"
   },
   {
    "duration": 23,
    "start_time": "2024-05-19T19:48:05.689Z"
   },
   {
    "duration": 1002,
    "start_time": "2024-05-19T20:08:54.196Z"
   },
   {
    "duration": 1811,
    "start_time": "2024-05-19T21:12:24.103Z"
   },
   {
    "duration": 342,
    "start_time": "2024-05-19T21:17:59.192Z"
   },
   {
    "duration": 10,
    "start_time": "2024-05-19T21:18:16.247Z"
   },
   {
    "duration": 8,
    "start_time": "2024-05-19T21:18:26.373Z"
   },
   {
    "duration": 9,
    "start_time": "2024-05-19T21:18:35.111Z"
   },
   {
    "duration": 33,
    "start_time": "2024-05-19T21:18:50.268Z"
   },
   {
    "duration": 16,
    "start_time": "2024-05-19T21:19:00.639Z"
   },
   {
    "duration": 341,
    "start_time": "2024-05-20T00:01:56.801Z"
   },
   {
    "duration": 347,
    "start_time": "2024-05-20T00:04:42.234Z"
   },
   {
    "duration": 1046,
    "start_time": "2024-05-20T00:23:09.506Z"
   },
   {
    "duration": 12,
    "start_time": "2024-05-20T00:48:04.565Z"
   },
   {
    "duration": 708,
    "start_time": "2024-05-20T00:48:27.583Z"
   },
   {
    "duration": 46,
    "start_time": "2024-05-20T00:57:24.155Z"
   },
   {
    "duration": 16,
    "start_time": "2024-05-20T00:57:39.145Z"
   },
   {
    "duration": 25,
    "start_time": "2024-05-20T00:57:41.809Z"
   },
   {
    "duration": 791,
    "start_time": "2024-05-25T20:00:23.454Z"
   },
   {
    "duration": 5164,
    "start_time": "2024-05-25T20:00:33.182Z"
   },
   {
    "duration": 371,
    "start_time": "2024-05-25T20:00:38.350Z"
   },
   {
    "duration": 34,
    "start_time": "2024-05-25T20:00:38.723Z"
   },
   {
    "duration": 11,
    "start_time": "2024-05-25T20:00:38.761Z"
   },
   {
    "duration": 77,
    "start_time": "2024-05-25T20:00:38.777Z"
   },
   {
    "duration": 18,
    "start_time": "2024-05-25T20:00:38.857Z"
   },
   {
    "duration": 50,
    "start_time": "2024-05-25T20:00:38.878Z"
   },
   {
    "duration": 20,
    "start_time": "2024-05-25T20:00:38.932Z"
   },
   {
    "duration": 20,
    "start_time": "2024-05-25T20:00:38.955Z"
   },
   {
    "duration": 75,
    "start_time": "2024-05-25T20:00:38.981Z"
   },
   {
    "duration": 19,
    "start_time": "2024-05-25T20:00:39.059Z"
   },
   {
    "duration": 56,
    "start_time": "2024-05-25T20:00:39.082Z"
   },
   {
    "duration": 62,
    "start_time": "2024-05-25T20:00:39.141Z"
   },
   {
    "duration": 33,
    "start_time": "2024-05-25T20:00:39.227Z"
   },
   {
    "duration": 70,
    "start_time": "2024-05-25T20:00:39.264Z"
   },
   {
    "duration": 31,
    "start_time": "2024-05-25T20:00:39.339Z"
   },
   {
    "duration": 24,
    "start_time": "2024-05-25T20:00:39.375Z"
   },
   {
    "duration": 39,
    "start_time": "2024-05-25T20:00:39.409Z"
   },
   {
    "duration": 129,
    "start_time": "2024-05-25T20:00:39.452Z"
   },
   {
    "duration": 80,
    "start_time": "2024-05-25T20:00:39.584Z"
   },
   {
    "duration": 30,
    "start_time": "2024-05-25T20:00:39.667Z"
   },
   {
    "duration": 61,
    "start_time": "2024-05-25T20:00:39.701Z"
   },
   {
    "duration": 75,
    "start_time": "2024-05-25T20:00:39.765Z"
   },
   {
    "duration": 54,
    "start_time": "2024-05-25T20:00:39.843Z"
   },
   {
    "duration": 19663,
    "start_time": "2024-05-25T20:00:39.900Z"
   },
   {
    "duration": 1766,
    "start_time": "2024-05-25T20:00:59.567Z"
   },
   {
    "duration": 751,
    "start_time": "2024-05-25T20:01:01.336Z"
   },
   {
    "duration": 546,
    "start_time": "2024-05-25T20:01:02.094Z"
   },
   {
    "duration": 138,
    "start_time": "2024-05-25T20:01:02.643Z"
   },
   {
    "duration": 730,
    "start_time": "2024-05-25T20:01:02.784Z"
   },
   {
    "duration": 672,
    "start_time": "2024-05-25T20:01:03.517Z"
   },
   {
    "duration": 677,
    "start_time": "2024-05-25T20:01:04.192Z"
   },
   {
    "duration": 1054,
    "start_time": "2024-05-25T20:01:04.872Z"
   },
   {
    "duration": 27,
    "start_time": "2024-05-25T20:01:05.929Z"
   },
   {
    "duration": 17,
    "start_time": "2024-05-25T20:01:05.959Z"
   },
   {
    "duration": 1882,
    "start_time": "2024-05-25T20:01:05.980Z"
   },
   {
    "duration": 64,
    "start_time": "2024-05-25T20:01:07.865Z"
   },
   {
    "duration": 354,
    "start_time": "2024-05-25T20:01:07.932Z"
   },
   {
    "duration": 359,
    "start_time": "2024-05-25T20:01:08.289Z"
   },
   {
    "duration": 1046,
    "start_time": "2024-05-25T20:01:08.651Z"
   },
   {
    "duration": 17,
    "start_time": "2024-05-25T20:10:26.432Z"
   },
   {
    "duration": 9,
    "start_time": "2024-05-25T20:25:52.069Z"
   },
   {
    "duration": 6,
    "start_time": "2024-05-25T20:26:00.890Z"
   },
   {
    "duration": 6,
    "start_time": "2024-05-25T20:26:06.432Z"
   },
   {
    "duration": 8,
    "start_time": "2024-05-25T20:30:15.529Z"
   },
   {
    "duration": 81,
    "start_time": "2024-05-25T20:32:13.328Z"
   },
   {
    "duration": 6,
    "start_time": "2024-05-25T20:32:51.391Z"
   },
   {
    "duration": 1348,
    "start_time": "2024-05-25T20:35:51.687Z"
   },
   {
    "duration": 1351,
    "start_time": "2024-05-25T20:45:13.447Z"
   },
   {
    "duration": 328,
    "start_time": "2024-05-25T20:45:14.802Z"
   },
   {
    "duration": 39,
    "start_time": "2024-05-25T20:45:15.134Z"
   },
   {
    "duration": 11,
    "start_time": "2024-05-25T20:45:15.178Z"
   },
   {
    "duration": 65,
    "start_time": "2024-05-25T20:45:15.195Z"
   },
   {
    "duration": 18,
    "start_time": "2024-05-25T20:45:15.263Z"
   },
   {
    "duration": 60,
    "start_time": "2024-05-25T20:45:15.284Z"
   },
   {
    "duration": 23,
    "start_time": "2024-05-25T20:45:15.349Z"
   },
   {
    "duration": 51,
    "start_time": "2024-05-25T20:45:15.376Z"
   },
   {
    "duration": 50,
    "start_time": "2024-05-25T20:45:15.435Z"
   },
   {
    "duration": 50,
    "start_time": "2024-05-25T20:45:15.489Z"
   },
   {
    "duration": 24,
    "start_time": "2024-05-25T20:45:15.544Z"
   },
   {
    "duration": 130,
    "start_time": "2024-05-25T20:45:15.574Z"
   },
   {
    "duration": 53,
    "start_time": "2024-05-25T20:45:15.708Z"
   },
   {
    "duration": 75,
    "start_time": "2024-05-25T20:45:15.766Z"
   },
   {
    "duration": 26,
    "start_time": "2024-05-25T20:45:15.844Z"
   },
   {
    "duration": 19,
    "start_time": "2024-05-25T20:45:15.874Z"
   },
   {
    "duration": 24,
    "start_time": "2024-05-25T20:45:15.929Z"
   },
   {
    "duration": 129,
    "start_time": "2024-05-25T20:45:15.957Z"
   },
   {
    "duration": 76,
    "start_time": "2024-05-25T20:45:16.090Z"
   },
   {
    "duration": 1503,
    "start_time": "2024-05-25T20:45:16.170Z"
   },
   {
    "duration": 0,
    "start_time": "2024-05-25T20:45:17.678Z"
   },
   {
    "duration": 0,
    "start_time": "2024-05-25T20:45:17.681Z"
   },
   {
    "duration": 0,
    "start_time": "2024-05-25T20:45:17.684Z"
   },
   {
    "duration": 0,
    "start_time": "2024-05-25T20:45:17.687Z"
   },
   {
    "duration": 0,
    "start_time": "2024-05-25T20:45:17.689Z"
   },
   {
    "duration": 0,
    "start_time": "2024-05-25T20:45:17.691Z"
   },
   {
    "duration": 0,
    "start_time": "2024-05-25T20:45:17.693Z"
   },
   {
    "duration": 0,
    "start_time": "2024-05-25T20:45:17.696Z"
   },
   {
    "duration": 0,
    "start_time": "2024-05-25T20:45:17.698Z"
   },
   {
    "duration": 0,
    "start_time": "2024-05-25T20:45:17.699Z"
   },
   {
    "duration": 0,
    "start_time": "2024-05-25T20:45:17.700Z"
   },
   {
    "duration": 0,
    "start_time": "2024-05-25T20:45:17.726Z"
   },
   {
    "duration": 0,
    "start_time": "2024-05-25T20:45:17.731Z"
   },
   {
    "duration": 0,
    "start_time": "2024-05-25T20:45:17.736Z"
   },
   {
    "duration": 0,
    "start_time": "2024-05-25T20:45:17.743Z"
   },
   {
    "duration": 0,
    "start_time": "2024-05-25T20:45:17.745Z"
   },
   {
    "duration": 0,
    "start_time": "2024-05-25T20:45:17.748Z"
   },
   {
    "duration": 0,
    "start_time": "2024-05-25T20:45:17.750Z"
   },
   {
    "duration": 0,
    "start_time": "2024-05-25T20:45:17.752Z"
   },
   {
    "duration": 0,
    "start_time": "2024-05-25T20:45:17.756Z"
   },
   {
    "duration": 104,
    "start_time": "2024-05-25T20:47:16.245Z"
   },
   {
    "duration": 32,
    "start_time": "2024-05-25T20:48:54.790Z"
   },
   {
    "duration": 29,
    "start_time": "2024-05-25T20:49:03.235Z"
   },
   {
    "duration": 1392,
    "start_time": "2024-05-25T20:49:25.855Z"
   },
   {
    "duration": 342,
    "start_time": "2024-05-25T20:49:27.251Z"
   },
   {
    "duration": 46,
    "start_time": "2024-05-25T20:49:27.596Z"
   },
   {
    "duration": 16,
    "start_time": "2024-05-25T20:49:27.652Z"
   },
   {
    "duration": 37,
    "start_time": "2024-05-25T20:49:27.671Z"
   },
   {
    "duration": 41,
    "start_time": "2024-05-25T20:49:27.711Z"
   },
   {
    "duration": 25,
    "start_time": "2024-05-25T20:49:27.756Z"
   },
   {
    "duration": 69,
    "start_time": "2024-05-25T20:49:27.784Z"
   },
   {
    "duration": 15,
    "start_time": "2024-05-25T20:49:27.861Z"
   },
   {
    "duration": 46,
    "start_time": "2024-05-25T20:49:27.883Z"
   },
   {
    "duration": 23,
    "start_time": "2024-05-25T20:49:27.933Z"
   },
   {
    "duration": 22,
    "start_time": "2024-05-25T20:49:27.960Z"
   },
   {
    "duration": 151,
    "start_time": "2024-05-25T20:49:27.985Z"
   },
   {
    "duration": 44,
    "start_time": "2024-05-25T20:49:28.141Z"
   },
   {
    "duration": 70,
    "start_time": "2024-05-25T20:49:28.190Z"
   },
   {
    "duration": 31,
    "start_time": "2024-05-25T20:49:28.264Z"
   },
   {
    "duration": 52,
    "start_time": "2024-05-25T20:49:28.299Z"
   },
   {
    "duration": 19,
    "start_time": "2024-05-25T20:49:28.360Z"
   },
   {
    "duration": 126,
    "start_time": "2024-05-25T20:49:28.381Z"
   },
   {
    "duration": 67,
    "start_time": "2024-05-25T20:49:28.510Z"
   },
   {
    "duration": 132,
    "start_time": "2024-05-25T20:49:28.581Z"
   },
   {
    "duration": 37,
    "start_time": "2024-05-25T20:49:28.716Z"
   },
   {
    "duration": 39,
    "start_time": "2024-05-25T20:49:28.756Z"
   },
   {
    "duration": 84,
    "start_time": "2024-05-25T20:49:28.798Z"
   },
   {
    "duration": 67,
    "start_time": "2024-05-25T20:49:28.885Z"
   },
   {
    "duration": 20827,
    "start_time": "2024-05-25T20:49:28.956Z"
   },
   {
    "duration": 1920,
    "start_time": "2024-05-25T20:49:49.790Z"
   },
   {
    "duration": 753,
    "start_time": "2024-05-25T20:49:51.729Z"
   },
   {
    "duration": 581,
    "start_time": "2024-05-25T20:49:52.487Z"
   },
   {
    "duration": 141,
    "start_time": "2024-05-25T20:49:53.072Z"
   },
   {
    "duration": 764,
    "start_time": "2024-05-25T20:49:53.216Z"
   },
   {
    "duration": 676,
    "start_time": "2024-05-25T20:49:53.983Z"
   },
   {
    "duration": 712,
    "start_time": "2024-05-25T20:49:54.662Z"
   },
   {
    "duration": 1136,
    "start_time": "2024-05-25T20:49:55.378Z"
   },
   {
    "duration": 39,
    "start_time": "2024-05-25T20:49:56.517Z"
   },
   {
    "duration": 26,
    "start_time": "2024-05-25T20:49:56.558Z"
   },
   {
    "duration": 2034,
    "start_time": "2024-05-25T20:49:56.587Z"
   },
   {
    "duration": 58,
    "start_time": "2024-05-25T20:49:58.624Z"
   },
   {
    "duration": 395,
    "start_time": "2024-05-25T20:49:58.686Z"
   },
   {
    "duration": 372,
    "start_time": "2024-05-25T20:49:59.084Z"
   },
   {
    "duration": 1070,
    "start_time": "2024-05-25T20:49:59.847Z"
   },
   {
    "duration": 381,
    "start_time": "2024-05-25T20:50:01.298Z"
   },
   {
    "duration": 1086,
    "start_time": "2024-05-25T20:53:19.704Z"
   },
   {
    "duration": 8,
    "start_time": "2024-05-25T20:53:45.702Z"
   },
   {
    "duration": 5160,
    "start_time": "2024-05-27T23:44:29.497Z"
   },
   {
    "duration": 6,
    "start_time": "2024-05-27T23:44:48.214Z"
   },
   {
    "duration": 3,
    "start_time": "2024-05-27T23:44:48.224Z"
   },
   {
    "duration": 1585,
    "start_time": "2024-05-27T23:44:48.231Z"
   },
   {
    "duration": 0,
    "start_time": "2024-05-27T23:44:49.821Z"
   },
   {
    "duration": 0,
    "start_time": "2024-05-27T23:44:49.823Z"
   },
   {
    "duration": 0,
    "start_time": "2024-05-27T23:44:49.826Z"
   },
   {
    "duration": 0,
    "start_time": "2024-05-27T23:44:49.827Z"
   },
   {
    "duration": 0,
    "start_time": "2024-05-27T23:44:49.829Z"
   },
   {
    "duration": 0,
    "start_time": "2024-05-27T23:44:49.832Z"
   },
   {
    "duration": 0,
    "start_time": "2024-05-27T23:44:49.834Z"
   },
   {
    "duration": 0,
    "start_time": "2024-05-27T23:44:49.835Z"
   },
   {
    "duration": 0,
    "start_time": "2024-05-27T23:44:49.837Z"
   },
   {
    "duration": 0,
    "start_time": "2024-05-27T23:44:49.839Z"
   },
   {
    "duration": 0,
    "start_time": "2024-05-27T23:44:49.841Z"
   },
   {
    "duration": 0,
    "start_time": "2024-05-27T23:44:49.842Z"
   },
   {
    "duration": 0,
    "start_time": "2024-05-27T23:44:49.845Z"
   },
   {
    "duration": 0,
    "start_time": "2024-05-27T23:44:49.848Z"
   },
   {
    "duration": 0,
    "start_time": "2024-05-27T23:44:49.850Z"
   },
   {
    "duration": 0,
    "start_time": "2024-05-27T23:44:49.851Z"
   },
   {
    "duration": 0,
    "start_time": "2024-05-27T23:44:49.852Z"
   },
   {
    "duration": 0,
    "start_time": "2024-05-27T23:44:49.853Z"
   },
   {
    "duration": 0,
    "start_time": "2024-05-27T23:44:49.855Z"
   },
   {
    "duration": 0,
    "start_time": "2024-05-27T23:44:49.910Z"
   },
   {
    "duration": 0,
    "start_time": "2024-05-27T23:44:49.912Z"
   },
   {
    "duration": 0,
    "start_time": "2024-05-27T23:44:49.914Z"
   },
   {
    "duration": 0,
    "start_time": "2024-05-27T23:44:49.916Z"
   },
   {
    "duration": 0,
    "start_time": "2024-05-27T23:44:49.918Z"
   },
   {
    "duration": 0,
    "start_time": "2024-05-27T23:44:49.920Z"
   },
   {
    "duration": 0,
    "start_time": "2024-05-27T23:44:49.923Z"
   },
   {
    "duration": 0,
    "start_time": "2024-05-27T23:44:49.924Z"
   },
   {
    "duration": 0,
    "start_time": "2024-05-27T23:44:49.926Z"
   },
   {
    "duration": 0,
    "start_time": "2024-05-27T23:44:49.928Z"
   },
   {
    "duration": 0,
    "start_time": "2024-05-27T23:44:49.930Z"
   },
   {
    "duration": 0,
    "start_time": "2024-05-27T23:44:49.932Z"
   },
   {
    "duration": 0,
    "start_time": "2024-05-27T23:44:49.935Z"
   },
   {
    "duration": 0,
    "start_time": "2024-05-27T23:44:49.937Z"
   },
   {
    "duration": 0,
    "start_time": "2024-05-27T23:44:49.939Z"
   },
   {
    "duration": 0,
    "start_time": "2024-05-27T23:44:49.941Z"
   },
   {
    "duration": 0,
    "start_time": "2024-05-27T23:44:49.943Z"
   },
   {
    "duration": 0,
    "start_time": "2024-05-27T23:44:49.945Z"
   },
   {
    "duration": 0,
    "start_time": "2024-05-27T23:44:49.948Z"
   },
   {
    "duration": 0,
    "start_time": "2024-05-27T23:44:50.010Z"
   },
   {
    "duration": 0,
    "start_time": "2024-05-27T23:44:50.012Z"
   },
   {
    "duration": 0,
    "start_time": "2024-05-27T23:44:50.016Z"
   },
   {
    "duration": 0,
    "start_time": "2024-05-27T23:44:50.017Z"
   },
   {
    "duration": 0,
    "start_time": "2024-05-27T23:44:50.019Z"
   },
   {
    "duration": 28,
    "start_time": "2024-05-27T23:45:27.459Z"
   },
   {
    "duration": 5,
    "start_time": "2024-05-27T23:45:46.466Z"
   },
   {
    "duration": 3,
    "start_time": "2024-05-27T23:45:46.475Z"
   },
   {
    "duration": 1278,
    "start_time": "2024-05-27T23:45:46.481Z"
   },
   {
    "duration": 336,
    "start_time": "2024-05-27T23:45:47.763Z"
   },
   {
    "duration": 30,
    "start_time": "2024-05-27T23:45:48.103Z"
   },
   {
    "duration": 11,
    "start_time": "2024-05-27T23:45:48.135Z"
   },
   {
    "duration": 59,
    "start_time": "2024-05-27T23:45:48.149Z"
   },
   {
    "duration": 15,
    "start_time": "2024-05-27T23:45:48.211Z"
   },
   {
    "duration": 19,
    "start_time": "2024-05-27T23:45:48.230Z"
   },
   {
    "duration": 17,
    "start_time": "2024-05-27T23:45:48.253Z"
   },
   {
    "duration": 46,
    "start_time": "2024-05-27T23:45:48.275Z"
   },
   {
    "duration": 39,
    "start_time": "2024-05-27T23:45:48.324Z"
   },
   {
    "duration": 54,
    "start_time": "2024-05-27T23:45:48.366Z"
   },
   {
    "duration": 18,
    "start_time": "2024-05-27T23:45:48.423Z"
   },
   {
    "duration": 116,
    "start_time": "2024-05-27T23:45:48.444Z"
   },
   {
    "duration": 44,
    "start_time": "2024-05-27T23:45:48.564Z"
   },
   {
    "duration": 36,
    "start_time": "2024-05-27T23:45:48.611Z"
   },
   {
    "duration": 22,
    "start_time": "2024-05-27T23:45:48.650Z"
   },
   {
    "duration": 48,
    "start_time": "2024-05-27T23:45:48.674Z"
   },
   {
    "duration": 18,
    "start_time": "2024-05-27T23:45:48.724Z"
   },
   {
    "duration": 126,
    "start_time": "2024-05-27T23:45:48.744Z"
   },
   {
    "duration": 67,
    "start_time": "2024-05-27T23:45:48.873Z"
   },
   {
    "duration": 111,
    "start_time": "2024-05-27T23:45:48.943Z"
   },
   {
    "duration": 25,
    "start_time": "2024-05-27T23:45:49.057Z"
   },
   {
    "duration": 51,
    "start_time": "2024-05-27T23:45:49.085Z"
   },
   {
    "duration": 71,
    "start_time": "2024-05-27T23:45:49.139Z"
   },
   {
    "duration": 38,
    "start_time": "2024-05-27T23:45:49.213Z"
   },
   {
    "duration": 19487,
    "start_time": "2024-05-27T23:45:49.253Z"
   },
   {
    "duration": 1744,
    "start_time": "2024-05-27T23:46:08.749Z"
   },
   {
    "duration": 735,
    "start_time": "2024-05-27T23:46:10.496Z"
   },
   {
    "duration": 522,
    "start_time": "2024-05-27T23:46:11.234Z"
   },
   {
    "duration": 134,
    "start_time": "2024-05-27T23:46:11.760Z"
   },
   {
    "duration": 721,
    "start_time": "2024-05-27T23:46:11.897Z"
   },
   {
    "duration": 628,
    "start_time": "2024-05-27T23:46:12.621Z"
   },
   {
    "duration": 674,
    "start_time": "2024-05-27T23:46:13.253Z"
   },
   {
    "duration": 1029,
    "start_time": "2024-05-27T23:46:13.930Z"
   },
   {
    "duration": 47,
    "start_time": "2024-05-27T23:46:14.962Z"
   },
   {
    "duration": 20,
    "start_time": "2024-05-27T23:46:15.012Z"
   },
   {
    "duration": 1839,
    "start_time": "2024-05-27T23:46:15.036Z"
   },
   {
    "duration": 47,
    "start_time": "2024-05-27T23:46:16.878Z"
   },
   {
    "duration": 358,
    "start_time": "2024-05-27T23:46:16.928Z"
   },
   {
    "duration": 357,
    "start_time": "2024-05-27T23:46:17.289Z"
   },
   {
    "duration": 338,
    "start_time": "2024-05-27T23:46:17.648Z"
   },
   {
    "duration": 1042,
    "start_time": "2024-05-27T23:46:17.988Z"
   },
   {
    "duration": 994,
    "start_time": "2024-05-27T23:46:19.033Z"
   },
   {
    "duration": 1626,
    "start_time": "2024-05-27T23:46:20.030Z"
   },
   {
    "duration": 40,
    "start_time": "2024-05-27T23:49:34.040Z"
   },
   {
    "duration": 163,
    "start_time": "2024-05-27T23:50:11.246Z"
   },
   {
    "duration": 1338,
    "start_time": "2024-05-28T00:02:22.012Z"
   },
   {
    "duration": 475,
    "start_time": "2024-05-28T00:08:16.342Z"
   },
   {
    "duration": 9,
    "start_time": "2024-05-28T00:09:17.702Z"
   },
   {
    "duration": 1403,
    "start_time": "2024-05-28T00:12:22.426Z"
   },
   {
    "duration": 19,
    "start_time": "2024-05-28T00:14:56.724Z"
   },
   {
    "duration": 16,
    "start_time": "2024-05-28T00:15:31.901Z"
   },
   {
    "duration": 13,
    "start_time": "2024-05-28T00:15:41.483Z"
   },
   {
    "duration": 985,
    "start_time": "2024-05-28T00:20:35.294Z"
   },
   {
    "duration": 1860,
    "start_time": "2024-05-28T00:21:05.907Z"
   },
   {
    "duration": 1015,
    "start_time": "2024-05-28T00:21:19.630Z"
   },
   {
    "duration": 996,
    "start_time": "2024-05-28T00:21:34.165Z"
   },
   {
    "duration": 1021,
    "start_time": "2024-05-28T00:21:59.643Z"
   },
   {
    "duration": 4,
    "start_time": "2024-05-28T00:22:10.212Z"
   },
   {
    "duration": 4,
    "start_time": "2024-05-28T00:22:10.220Z"
   },
   {
    "duration": 1612,
    "start_time": "2024-05-28T00:22:10.227Z"
   },
   {
    "duration": 0,
    "start_time": "2024-05-28T00:22:11.845Z"
   },
   {
    "duration": 0,
    "start_time": "2024-05-28T00:22:11.847Z"
   },
   {
    "duration": 1,
    "start_time": "2024-05-28T00:22:11.848Z"
   },
   {
    "duration": 0,
    "start_time": "2024-05-28T00:22:11.850Z"
   },
   {
    "duration": 0,
    "start_time": "2024-05-28T00:22:11.853Z"
   },
   {
    "duration": 0,
    "start_time": "2024-05-28T00:22:11.855Z"
   },
   {
    "duration": 0,
    "start_time": "2024-05-28T00:22:11.857Z"
   },
   {
    "duration": 0,
    "start_time": "2024-05-28T00:22:11.860Z"
   },
   {
    "duration": 0,
    "start_time": "2024-05-28T00:22:11.861Z"
   },
   {
    "duration": 0,
    "start_time": "2024-05-28T00:22:11.863Z"
   },
   {
    "duration": 0,
    "start_time": "2024-05-28T00:22:11.865Z"
   },
   {
    "duration": 0,
    "start_time": "2024-05-28T00:22:11.867Z"
   },
   {
    "duration": 0,
    "start_time": "2024-05-28T00:22:11.909Z"
   },
   {
    "duration": 0,
    "start_time": "2024-05-28T00:22:11.910Z"
   },
   {
    "duration": 0,
    "start_time": "2024-05-28T00:22:11.913Z"
   },
   {
    "duration": 0,
    "start_time": "2024-05-28T00:22:11.915Z"
   },
   {
    "duration": 0,
    "start_time": "2024-05-28T00:22:11.917Z"
   },
   {
    "duration": 0,
    "start_time": "2024-05-28T00:22:11.919Z"
   },
   {
    "duration": 0,
    "start_time": "2024-05-28T00:22:11.921Z"
   },
   {
    "duration": 0,
    "start_time": "2024-05-28T00:22:11.923Z"
   },
   {
    "duration": 0,
    "start_time": "2024-05-28T00:22:11.926Z"
   },
   {
    "duration": 0,
    "start_time": "2024-05-28T00:22:11.928Z"
   },
   {
    "duration": 0,
    "start_time": "2024-05-28T00:22:11.930Z"
   },
   {
    "duration": 0,
    "start_time": "2024-05-28T00:22:11.933Z"
   },
   {
    "duration": 0,
    "start_time": "2024-05-28T00:22:11.935Z"
   },
   {
    "duration": 0,
    "start_time": "2024-05-28T00:22:11.937Z"
   },
   {
    "duration": 0,
    "start_time": "2024-05-28T00:22:11.938Z"
   },
   {
    "duration": 0,
    "start_time": "2024-05-28T00:22:11.942Z"
   },
   {
    "duration": 0,
    "start_time": "2024-05-28T00:22:11.944Z"
   },
   {
    "duration": 0,
    "start_time": "2024-05-28T00:22:11.946Z"
   },
   {
    "duration": 0,
    "start_time": "2024-05-28T00:22:11.947Z"
   },
   {
    "duration": 0,
    "start_time": "2024-05-28T00:22:12.009Z"
   },
   {
    "duration": 0,
    "start_time": "2024-05-28T00:22:12.012Z"
   },
   {
    "duration": 0,
    "start_time": "2024-05-28T00:22:12.013Z"
   },
   {
    "duration": 0,
    "start_time": "2024-05-28T00:22:12.015Z"
   },
   {
    "duration": 0,
    "start_time": "2024-05-28T00:22:12.017Z"
   },
   {
    "duration": 0,
    "start_time": "2024-05-28T00:22:12.018Z"
   },
   {
    "duration": 0,
    "start_time": "2024-05-28T00:22:12.020Z"
   },
   {
    "duration": 0,
    "start_time": "2024-05-28T00:22:12.022Z"
   },
   {
    "duration": 0,
    "start_time": "2024-05-28T00:22:12.024Z"
   },
   {
    "duration": 0,
    "start_time": "2024-05-28T00:22:12.026Z"
   },
   {
    "duration": 0,
    "start_time": "2024-05-28T00:22:12.028Z"
   },
   {
    "duration": 0,
    "start_time": "2024-05-28T00:22:12.030Z"
   },
   {
    "duration": 34,
    "start_time": "2024-05-28T00:22:23.676Z"
   },
   {
    "duration": 27,
    "start_time": "2024-05-28T00:23:03.727Z"
   },
   {
    "duration": 23,
    "start_time": "2024-05-28T00:25:31.000Z"
   },
   {
    "duration": 29,
    "start_time": "2024-05-28T00:26:58.473Z"
   },
   {
    "duration": 4,
    "start_time": "2024-05-28T00:27:56.465Z"
   },
   {
    "duration": 3,
    "start_time": "2024-05-28T00:27:56.474Z"
   },
   {
    "duration": 1359,
    "start_time": "2024-05-28T00:27:56.480Z"
   },
   {
    "duration": 287,
    "start_time": "2024-05-28T00:27:57.843Z"
   },
   {
    "duration": 35,
    "start_time": "2024-05-28T00:27:58.136Z"
   },
   {
    "duration": 32,
    "start_time": "2024-05-28T00:27:58.175Z"
   },
   {
    "duration": 36,
    "start_time": "2024-05-28T00:27:58.211Z"
   },
   {
    "duration": 17,
    "start_time": "2024-05-28T00:27:58.251Z"
   },
   {
    "duration": 20,
    "start_time": "2024-05-28T00:27:58.308Z"
   },
   {
    "duration": 27,
    "start_time": "2024-05-28T00:27:58.332Z"
   },
   {
    "duration": 17,
    "start_time": "2024-05-28T00:27:58.362Z"
   },
   {
    "duration": 38,
    "start_time": "2024-05-28T00:27:58.410Z"
   },
   {
    "duration": 18,
    "start_time": "2024-05-28T00:27:58.451Z"
   },
   {
    "duration": 26,
    "start_time": "2024-05-28T00:27:58.511Z"
   },
   {
    "duration": 113,
    "start_time": "2024-05-28T00:27:58.541Z"
   },
   {
    "duration": 52,
    "start_time": "2024-05-28T00:27:58.657Z"
   },
   {
    "duration": 38,
    "start_time": "2024-05-28T00:27:58.713Z"
   },
   {
    "duration": 53,
    "start_time": "2024-05-28T00:27:58.755Z"
   },
   {
    "duration": 20,
    "start_time": "2024-05-28T00:27:58.812Z"
   },
   {
    "duration": 18,
    "start_time": "2024-05-28T00:27:58.835Z"
   },
   {
    "duration": 141,
    "start_time": "2024-05-28T00:27:58.856Z"
   },
   {
    "duration": 58,
    "start_time": "2024-05-28T00:27:59.008Z"
   },
   {
    "duration": 115,
    "start_time": "2024-05-28T00:27:59.071Z"
   },
   {
    "duration": 41,
    "start_time": "2024-05-28T00:27:59.190Z"
   },
   {
    "duration": 38,
    "start_time": "2024-05-28T00:27:59.235Z"
   },
   {
    "duration": 76,
    "start_time": "2024-05-28T00:27:59.276Z"
   },
   {
    "duration": 61,
    "start_time": "2024-05-28T00:27:59.355Z"
   },
   {
    "duration": 42127,
    "start_time": "2024-05-28T00:27:59.421Z"
   },
   {
    "duration": 1853,
    "start_time": "2024-05-28T00:28:41.551Z"
   },
   {
    "duration": 836,
    "start_time": "2024-05-28T00:28:43.425Z"
   },
   {
    "duration": 746,
    "start_time": "2024-05-28T00:28:44.265Z"
   },
   {
    "duration": 185,
    "start_time": "2024-05-28T00:28:45.017Z"
   },
   {
    "duration": 994,
    "start_time": "2024-05-28T00:28:45.213Z"
   },
   {
    "duration": 772,
    "start_time": "2024-05-28T00:28:46.212Z"
   },
   {
    "duration": 737,
    "start_time": "2024-05-28T00:28:46.988Z"
   },
   {
    "duration": 1030,
    "start_time": "2024-05-28T00:28:47.728Z"
   },
   {
    "duration": 47,
    "start_time": "2024-05-28T00:28:48.762Z"
   },
   {
    "duration": 18,
    "start_time": "2024-05-28T00:28:48.812Z"
   },
   {
    "duration": 1850,
    "start_time": "2024-05-28T00:28:48.833Z"
   },
   {
    "duration": 57,
    "start_time": "2024-05-28T00:28:50.687Z"
   },
   {
    "duration": 358,
    "start_time": "2024-05-28T00:28:50.755Z"
   },
   {
    "duration": 334,
    "start_time": "2024-05-28T00:28:51.116Z"
   },
   {
    "duration": 343,
    "start_time": "2024-05-28T00:28:51.453Z"
   },
   {
    "duration": 1014,
    "start_time": "2024-05-28T00:28:51.800Z"
   },
   {
    "duration": 998,
    "start_time": "2024-05-28T00:28:52.818Z"
   },
   {
    "duration": 502,
    "start_time": "2024-05-28T00:28:53.820Z"
   },
   {
    "duration": 18,
    "start_time": "2024-05-28T00:29:59.052Z"
   },
   {
    "duration": 482,
    "start_time": "2024-05-28T00:30:15.392Z"
   },
   {
    "duration": 995,
    "start_time": "2024-05-28T00:31:57.346Z"
   },
   {
    "duration": 1352,
    "start_time": "2024-05-28T00:35:21.879Z"
   },
   {
    "duration": 990,
    "start_time": "2024-05-30T02:03:50.575Z"
   },
   {
    "duration": 390,
    "start_time": "2024-05-30T02:04:24.189Z"
   },
   {
    "duration": 145,
    "start_time": "2024-05-30T02:04:37.813Z"
   },
   {
    "duration": 347,
    "start_time": "2024-05-30T02:07:09.138Z"
   },
   {
    "duration": 5316,
    "start_time": "2024-05-30T02:07:21.702Z"
   },
   {
    "duration": 0,
    "start_time": "2024-05-30T02:07:27.024Z"
   },
   {
    "duration": 0,
    "start_time": "2024-05-30T02:07:27.026Z"
   },
   {
    "duration": 0,
    "start_time": "2024-05-30T02:07:27.029Z"
   },
   {
    "duration": 0,
    "start_time": "2024-05-30T02:07:27.031Z"
   },
   {
    "duration": 0,
    "start_time": "2024-05-30T02:07:27.033Z"
   },
   {
    "duration": 0,
    "start_time": "2024-05-30T02:07:27.035Z"
   },
   {
    "duration": 0,
    "start_time": "2024-05-30T02:07:27.037Z"
   },
   {
    "duration": 0,
    "start_time": "2024-05-30T02:07:27.039Z"
   },
   {
    "duration": 0,
    "start_time": "2024-05-30T02:07:27.042Z"
   },
   {
    "duration": 0,
    "start_time": "2024-05-30T02:07:27.045Z"
   },
   {
    "duration": 1,
    "start_time": "2024-05-30T02:07:27.046Z"
   },
   {
    "duration": 0,
    "start_time": "2024-05-30T02:07:27.049Z"
   },
   {
    "duration": 0,
    "start_time": "2024-05-30T02:07:27.051Z"
   },
   {
    "duration": 0,
    "start_time": "2024-05-30T02:07:27.052Z"
   },
   {
    "duration": 0,
    "start_time": "2024-05-30T02:07:27.054Z"
   },
   {
    "duration": 0,
    "start_time": "2024-05-30T02:07:27.056Z"
   },
   {
    "duration": 0,
    "start_time": "2024-05-30T02:07:27.106Z"
   },
   {
    "duration": 0,
    "start_time": "2024-05-30T02:07:27.108Z"
   },
   {
    "duration": 0,
    "start_time": "2024-05-30T02:07:27.110Z"
   },
   {
    "duration": 0,
    "start_time": "2024-05-30T02:07:27.114Z"
   },
   {
    "duration": 0,
    "start_time": "2024-05-30T02:07:27.116Z"
   },
   {
    "duration": 0,
    "start_time": "2024-05-30T02:07:27.118Z"
   },
   {
    "duration": 0,
    "start_time": "2024-05-30T02:07:27.120Z"
   },
   {
    "duration": 0,
    "start_time": "2024-05-30T02:07:27.122Z"
   },
   {
    "duration": 0,
    "start_time": "2024-05-30T02:07:27.124Z"
   },
   {
    "duration": 0,
    "start_time": "2024-05-30T02:07:27.125Z"
   },
   {
    "duration": 0,
    "start_time": "2024-05-30T02:07:27.128Z"
   },
   {
    "duration": 0,
    "start_time": "2024-05-30T02:07:27.130Z"
   },
   {
    "duration": 0,
    "start_time": "2024-05-30T02:07:27.131Z"
   },
   {
    "duration": 0,
    "start_time": "2024-05-30T02:07:27.134Z"
   },
   {
    "duration": 0,
    "start_time": "2024-05-30T02:07:27.137Z"
   },
   {
    "duration": 0,
    "start_time": "2024-05-30T02:07:27.140Z"
   },
   {
    "duration": 0,
    "start_time": "2024-05-30T02:07:27.142Z"
   },
   {
    "duration": 0,
    "start_time": "2024-05-30T02:07:27.145Z"
   },
   {
    "duration": 0,
    "start_time": "2024-05-30T02:07:27.147Z"
   },
   {
    "duration": 0,
    "start_time": "2024-05-30T02:07:27.148Z"
   },
   {
    "duration": 0,
    "start_time": "2024-05-30T02:07:27.207Z"
   },
   {
    "duration": 0,
    "start_time": "2024-05-30T02:07:27.209Z"
   },
   {
    "duration": 0,
    "start_time": "2024-05-30T02:07:27.212Z"
   },
   {
    "duration": 0,
    "start_time": "2024-05-30T02:07:27.215Z"
   },
   {
    "duration": 0,
    "start_time": "2024-05-30T02:07:27.217Z"
   },
   {
    "duration": 0,
    "start_time": "2024-05-30T02:07:27.219Z"
   },
   {
    "duration": 0,
    "start_time": "2024-05-30T02:07:27.222Z"
   },
   {
    "duration": 0,
    "start_time": "2024-05-30T02:07:27.224Z"
   },
   {
    "duration": 33,
    "start_time": "2024-05-30T02:07:44.746Z"
   },
   {
    "duration": 1663,
    "start_time": "2024-05-30T02:07:57.691Z"
   },
   {
    "duration": 0,
    "start_time": "2024-05-30T02:07:59.360Z"
   },
   {
    "duration": 0,
    "start_time": "2024-05-30T02:07:59.362Z"
   },
   {
    "duration": 0,
    "start_time": "2024-05-30T02:07:59.365Z"
   },
   {
    "duration": 0,
    "start_time": "2024-05-30T02:07:59.367Z"
   },
   {
    "duration": 0,
    "start_time": "2024-05-30T02:07:59.369Z"
   },
   {
    "duration": 0,
    "start_time": "2024-05-30T02:07:59.370Z"
   },
   {
    "duration": 0,
    "start_time": "2024-05-30T02:07:59.372Z"
   },
   {
    "duration": 0,
    "start_time": "2024-05-30T02:07:59.374Z"
   },
   {
    "duration": 0,
    "start_time": "2024-05-30T02:07:59.376Z"
   },
   {
    "duration": 0,
    "start_time": "2024-05-30T02:07:59.407Z"
   },
   {
    "duration": 0,
    "start_time": "2024-05-30T02:07:59.412Z"
   },
   {
    "duration": 0,
    "start_time": "2024-05-30T02:07:59.414Z"
   },
   {
    "duration": 0,
    "start_time": "2024-05-30T02:07:59.416Z"
   },
   {
    "duration": 0,
    "start_time": "2024-05-30T02:07:59.418Z"
   },
   {
    "duration": 0,
    "start_time": "2024-05-30T02:07:59.420Z"
   },
   {
    "duration": 0,
    "start_time": "2024-05-30T02:07:59.422Z"
   },
   {
    "duration": 0,
    "start_time": "2024-05-30T02:07:59.424Z"
   },
   {
    "duration": 0,
    "start_time": "2024-05-30T02:07:59.426Z"
   },
   {
    "duration": 0,
    "start_time": "2024-05-30T02:07:59.428Z"
   },
   {
    "duration": 0,
    "start_time": "2024-05-30T02:07:59.430Z"
   },
   {
    "duration": 0,
    "start_time": "2024-05-30T02:07:59.431Z"
   },
   {
    "duration": 0,
    "start_time": "2024-05-30T02:07:59.435Z"
   },
   {
    "duration": 0,
    "start_time": "2024-05-30T02:07:59.437Z"
   },
   {
    "duration": 0,
    "start_time": "2024-05-30T02:07:59.440Z"
   },
   {
    "duration": 0,
    "start_time": "2024-05-30T02:07:59.442Z"
   },
   {
    "duration": 0,
    "start_time": "2024-05-30T02:07:59.506Z"
   },
   {
    "duration": 1,
    "start_time": "2024-05-30T02:07:59.508Z"
   },
   {
    "duration": 0,
    "start_time": "2024-05-30T02:07:59.512Z"
   },
   {
    "duration": 0,
    "start_time": "2024-05-30T02:07:59.514Z"
   },
   {
    "duration": 0,
    "start_time": "2024-05-30T02:07:59.515Z"
   },
   {
    "duration": 0,
    "start_time": "2024-05-30T02:07:59.517Z"
   },
   {
    "duration": 0,
    "start_time": "2024-05-30T02:07:59.519Z"
   },
   {
    "duration": 0,
    "start_time": "2024-05-30T02:07:59.520Z"
   },
   {
    "duration": 0,
    "start_time": "2024-05-30T02:07:59.523Z"
   },
   {
    "duration": 0,
    "start_time": "2024-05-30T02:07:59.526Z"
   },
   {
    "duration": 0,
    "start_time": "2024-05-30T02:07:59.529Z"
   },
   {
    "duration": 0,
    "start_time": "2024-05-30T02:07:59.532Z"
   },
   {
    "duration": 0,
    "start_time": "2024-05-30T02:07:59.535Z"
   },
   {
    "duration": 0,
    "start_time": "2024-05-30T02:07:59.536Z"
   },
   {
    "duration": 0,
    "start_time": "2024-05-30T02:07:59.539Z"
   },
   {
    "duration": 0,
    "start_time": "2024-05-30T02:07:59.541Z"
   },
   {
    "duration": 0,
    "start_time": "2024-05-30T02:07:59.543Z"
   },
   {
    "duration": 0,
    "start_time": "2024-05-30T02:07:59.605Z"
   },
   {
    "duration": 0,
    "start_time": "2024-05-30T02:07:59.608Z"
   },
   {
    "duration": 28,
    "start_time": "2024-05-30T02:08:11.498Z"
   },
   {
    "duration": 34,
    "start_time": "2024-05-30T02:08:34.989Z"
   },
   {
    "duration": 428,
    "start_time": "2024-05-30T02:08:56.994Z"
   },
   {
    "duration": 28,
    "start_time": "2024-05-30T02:09:19.374Z"
   },
   {
    "duration": 58,
    "start_time": "2024-05-30T02:20:24.471Z"
   },
   {
    "duration": 1655,
    "start_time": "2024-05-30T02:20:32.682Z"
   },
   {
    "duration": 0,
    "start_time": "2024-05-30T02:20:34.344Z"
   },
   {
    "duration": 0,
    "start_time": "2024-05-30T02:20:34.346Z"
   },
   {
    "duration": 0,
    "start_time": "2024-05-30T02:20:34.349Z"
   },
   {
    "duration": 0,
    "start_time": "2024-05-30T02:20:34.351Z"
   },
   {
    "duration": 0,
    "start_time": "2024-05-30T02:20:34.354Z"
   },
   {
    "duration": 0,
    "start_time": "2024-05-30T02:20:34.355Z"
   },
   {
    "duration": 0,
    "start_time": "2024-05-30T02:20:34.358Z"
   },
   {
    "duration": 0,
    "start_time": "2024-05-30T02:20:34.360Z"
   },
   {
    "duration": 0,
    "start_time": "2024-05-30T02:20:34.362Z"
   },
   {
    "duration": 0,
    "start_time": "2024-05-30T02:20:34.364Z"
   },
   {
    "duration": 0,
    "start_time": "2024-05-30T02:20:34.366Z"
   },
   {
    "duration": 0,
    "start_time": "2024-05-30T02:20:34.405Z"
   },
   {
    "duration": 0,
    "start_time": "2024-05-30T02:20:34.408Z"
   },
   {
    "duration": 0,
    "start_time": "2024-05-30T02:20:34.411Z"
   },
   {
    "duration": 0,
    "start_time": "2024-05-30T02:20:34.412Z"
   },
   {
    "duration": 0,
    "start_time": "2024-05-30T02:20:34.414Z"
   },
   {
    "duration": 0,
    "start_time": "2024-05-30T02:20:34.417Z"
   },
   {
    "duration": 0,
    "start_time": "2024-05-30T02:20:34.419Z"
   },
   {
    "duration": 0,
    "start_time": "2024-05-30T02:20:34.422Z"
   },
   {
    "duration": 0,
    "start_time": "2024-05-30T02:20:34.424Z"
   },
   {
    "duration": 0,
    "start_time": "2024-05-30T02:20:34.428Z"
   },
   {
    "duration": 0,
    "start_time": "2024-05-30T02:20:34.431Z"
   },
   {
    "duration": 0,
    "start_time": "2024-05-30T02:20:34.434Z"
   },
   {
    "duration": 0,
    "start_time": "2024-05-30T02:20:34.436Z"
   },
   {
    "duration": 0,
    "start_time": "2024-05-30T02:20:34.440Z"
   },
   {
    "duration": 0,
    "start_time": "2024-05-30T02:20:34.442Z"
   },
   {
    "duration": 0,
    "start_time": "2024-05-30T02:20:34.445Z"
   },
   {
    "duration": 0,
    "start_time": "2024-05-30T02:20:34.447Z"
   },
   {
    "duration": 0,
    "start_time": "2024-05-30T02:20:34.450Z"
   },
   {
    "duration": 0,
    "start_time": "2024-05-30T02:20:34.506Z"
   },
   {
    "duration": 0,
    "start_time": "2024-05-30T02:20:34.508Z"
   },
   {
    "duration": 0,
    "start_time": "2024-05-30T02:20:34.511Z"
   },
   {
    "duration": 0,
    "start_time": "2024-05-30T02:20:34.513Z"
   },
   {
    "duration": 0,
    "start_time": "2024-05-30T02:20:34.515Z"
   },
   {
    "duration": 0,
    "start_time": "2024-05-30T02:20:34.517Z"
   },
   {
    "duration": 0,
    "start_time": "2024-05-30T02:20:34.519Z"
   },
   {
    "duration": 0,
    "start_time": "2024-05-30T02:20:34.521Z"
   },
   {
    "duration": 0,
    "start_time": "2024-05-30T02:20:34.523Z"
   },
   {
    "duration": 0,
    "start_time": "2024-05-30T02:20:34.525Z"
   },
   {
    "duration": 0,
    "start_time": "2024-05-30T02:20:34.526Z"
   },
   {
    "duration": 0,
    "start_time": "2024-05-30T02:20:34.529Z"
   },
   {
    "duration": 0,
    "start_time": "2024-05-30T02:20:34.531Z"
   },
   {
    "duration": 0,
    "start_time": "2024-05-30T02:20:34.534Z"
   },
   {
    "duration": 0,
    "start_time": "2024-05-30T02:20:34.536Z"
   },
   {
    "duration": 0,
    "start_time": "2024-05-30T02:20:34.540Z"
   },
   {
    "duration": 30,
    "start_time": "2024-05-30T02:20:43.839Z"
   },
   {
    "duration": 50,
    "start_time": "2024-05-30T02:21:08.092Z"
   },
   {
    "duration": 27,
    "start_time": "2024-05-30T02:23:26.708Z"
   },
   {
    "duration": 1613,
    "start_time": "2024-05-30T02:23:39.545Z"
   },
   {
    "duration": 0,
    "start_time": "2024-05-30T02:23:41.164Z"
   },
   {
    "duration": 0,
    "start_time": "2024-05-30T02:23:41.166Z"
   },
   {
    "duration": 0,
    "start_time": "2024-05-30T02:23:41.168Z"
   },
   {
    "duration": 0,
    "start_time": "2024-05-30T02:23:41.170Z"
   },
   {
    "duration": 0,
    "start_time": "2024-05-30T02:23:41.172Z"
   },
   {
    "duration": 0,
    "start_time": "2024-05-30T02:23:41.174Z"
   },
   {
    "duration": 0,
    "start_time": "2024-05-30T02:23:41.176Z"
   },
   {
    "duration": 0,
    "start_time": "2024-05-30T02:23:41.178Z"
   },
   {
    "duration": 0,
    "start_time": "2024-05-30T02:23:41.206Z"
   },
   {
    "duration": 0,
    "start_time": "2024-05-30T02:23:41.208Z"
   },
   {
    "duration": 0,
    "start_time": "2024-05-30T02:23:41.210Z"
   },
   {
    "duration": 0,
    "start_time": "2024-05-30T02:23:41.212Z"
   },
   {
    "duration": 0,
    "start_time": "2024-05-30T02:23:41.214Z"
   },
   {
    "duration": 0,
    "start_time": "2024-05-30T02:23:41.216Z"
   },
   {
    "duration": 0,
    "start_time": "2024-05-30T02:23:41.218Z"
   },
   {
    "duration": 0,
    "start_time": "2024-05-30T02:23:41.220Z"
   },
   {
    "duration": 0,
    "start_time": "2024-05-30T02:23:41.222Z"
   },
   {
    "duration": 0,
    "start_time": "2024-05-30T02:23:41.225Z"
   },
   {
    "duration": 0,
    "start_time": "2024-05-30T02:23:41.226Z"
   },
   {
    "duration": 0,
    "start_time": "2024-05-30T02:23:41.235Z"
   },
   {
    "duration": 0,
    "start_time": "2024-05-30T02:23:41.237Z"
   },
   {
    "duration": 0,
    "start_time": "2024-05-30T02:23:41.239Z"
   },
   {
    "duration": 0,
    "start_time": "2024-05-30T02:23:41.241Z"
   },
   {
    "duration": 0,
    "start_time": "2024-05-30T02:23:41.243Z"
   },
   {
    "duration": 0,
    "start_time": "2024-05-30T02:23:41.245Z"
   },
   {
    "duration": 0,
    "start_time": "2024-05-30T02:23:41.246Z"
   },
   {
    "duration": 0,
    "start_time": "2024-05-30T02:23:41.248Z"
   },
   {
    "duration": 0,
    "start_time": "2024-05-30T02:23:41.248Z"
   },
   {
    "duration": 0,
    "start_time": "2024-05-30T02:23:41.308Z"
   },
   {
    "duration": 0,
    "start_time": "2024-05-30T02:23:41.310Z"
   },
   {
    "duration": 0,
    "start_time": "2024-05-30T02:23:41.312Z"
   },
   {
    "duration": 0,
    "start_time": "2024-05-30T02:23:41.313Z"
   },
   {
    "duration": 0,
    "start_time": "2024-05-30T02:23:41.316Z"
   },
   {
    "duration": 0,
    "start_time": "2024-05-30T02:23:41.319Z"
   },
   {
    "duration": 0,
    "start_time": "2024-05-30T02:23:41.320Z"
   },
   {
    "duration": 0,
    "start_time": "2024-05-30T02:23:41.324Z"
   },
   {
    "duration": 0,
    "start_time": "2024-05-30T02:23:41.326Z"
   },
   {
    "duration": 0,
    "start_time": "2024-05-30T02:23:41.328Z"
   },
   {
    "duration": 0,
    "start_time": "2024-05-30T02:23:41.331Z"
   },
   {
    "duration": 0,
    "start_time": "2024-05-30T02:23:41.334Z"
   },
   {
    "duration": 0,
    "start_time": "2024-05-30T02:23:41.336Z"
   },
   {
    "duration": 0,
    "start_time": "2024-05-30T02:23:41.339Z"
   },
   {
    "duration": 0,
    "start_time": "2024-05-30T02:23:41.406Z"
   },
   {
    "duration": 0,
    "start_time": "2024-05-30T02:23:41.408Z"
   },
   {
    "duration": 0,
    "start_time": "2024-05-30T02:23:41.410Z"
   },
   {
    "duration": 44,
    "start_time": "2024-05-30T02:23:56.904Z"
   },
   {
    "duration": 27,
    "start_time": "2024-05-30T02:24:11.095Z"
   },
   {
    "duration": 25,
    "start_time": "2024-05-30T02:24:17.387Z"
   },
   {
    "duration": 260,
    "start_time": "2024-05-30T02:25:26.304Z"
   },
   {
    "duration": 36,
    "start_time": "2024-05-30T02:25:33.028Z"
   },
   {
    "duration": 9,
    "start_time": "2024-05-30T02:25:36.333Z"
   },
   {
    "duration": 35,
    "start_time": "2024-05-30T02:25:39.305Z"
   },
   {
    "duration": 16,
    "start_time": "2024-05-30T02:25:42.692Z"
   },
   {
    "duration": 19,
    "start_time": "2024-05-30T02:25:45.436Z"
   },
   {
    "duration": 18,
    "start_time": "2024-05-30T02:25:47.817Z"
   },
   {
    "duration": 13,
    "start_time": "2024-05-30T02:25:49.541Z"
   },
   {
    "duration": 35,
    "start_time": "2024-05-30T02:25:51.974Z"
   },
   {
    "duration": 26,
    "start_time": "2024-05-30T02:25:55.692Z"
   },
   {
    "duration": 84,
    "start_time": "2024-05-30T02:26:36.035Z"
   },
   {
    "duration": 19,
    "start_time": "2024-05-30T02:28:06.180Z"
   },
   {
    "duration": 80,
    "start_time": "2024-05-30T02:28:09.961Z"
   },
   {
    "duration": 32,
    "start_time": "2024-05-30T02:28:14.791Z"
   },
   {
    "duration": 39,
    "start_time": "2024-05-30T02:28:18.491Z"
   },
   {
    "duration": 22,
    "start_time": "2024-05-30T02:28:21.961Z"
   },
   {
    "duration": 17,
    "start_time": "2024-05-30T02:28:23.895Z"
   },
   {
    "duration": 17,
    "start_time": "2024-05-30T02:28:27.179Z"
   },
   {
    "duration": 93,
    "start_time": "2024-05-30T02:28:31.923Z"
   },
   {
    "duration": 55,
    "start_time": "2024-05-30T02:28:38.360Z"
   },
   {
    "duration": 92,
    "start_time": "2024-05-30T02:28:40.750Z"
   },
   {
    "duration": 25,
    "start_time": "2024-05-30T02:28:44.780Z"
   },
   {
    "duration": 36,
    "start_time": "2024-05-30T02:28:46.915Z"
   },
   {
    "duration": 50,
    "start_time": "2024-05-30T02:28:49.158Z"
   },
   {
    "duration": 39,
    "start_time": "2024-05-30T02:28:53.050Z"
   },
   {
    "duration": 612,
    "start_time": "2024-05-30T02:28:55.646Z"
   },
   {
    "duration": 194,
    "start_time": "2024-05-30T02:29:30.977Z"
   },
   {
    "duration": 39,
    "start_time": "2024-05-30T02:29:43.079Z"
   },
   {
    "duration": 33,
    "start_time": "2024-05-30T02:46:56.876Z"
   },
   {
    "duration": 38511,
    "start_time": "2024-05-30T02:47:49.230Z"
   },
   {
    "duration": 93,
    "start_time": "2024-05-30T02:49:43.369Z"
   },
   {
    "duration": 64,
    "start_time": "2024-05-30T02:52:55.335Z"
   },
   {
    "duration": 64,
    "start_time": "2024-05-30T02:54:30.778Z"
   },
   {
    "duration": 499,
    "start_time": "2024-05-30T02:54:43.844Z"
   },
   {
    "duration": 69,
    "start_time": "2024-05-30T02:55:42.197Z"
   },
   {
    "duration": 70,
    "start_time": "2024-05-30T02:55:57.267Z"
   },
   {
    "duration": 66,
    "start_time": "2024-05-30T02:57:38.572Z"
   },
   {
    "duration": 1586,
    "start_time": "2024-05-30T02:58:47.159Z"
   },
   {
    "duration": 0,
    "start_time": "2024-05-30T02:58:48.752Z"
   },
   {
    "duration": 0,
    "start_time": "2024-05-30T02:58:48.753Z"
   },
   {
    "duration": 0,
    "start_time": "2024-05-30T02:58:48.756Z"
   },
   {
    "duration": 0,
    "start_time": "2024-05-30T02:58:48.758Z"
   },
   {
    "duration": 0,
    "start_time": "2024-05-30T02:58:48.760Z"
   },
   {
    "duration": 0,
    "start_time": "2024-05-30T02:58:48.762Z"
   },
   {
    "duration": 0,
    "start_time": "2024-05-30T02:58:48.764Z"
   },
   {
    "duration": 0,
    "start_time": "2024-05-30T02:58:48.766Z"
   },
   {
    "duration": 0,
    "start_time": "2024-05-30T02:58:48.768Z"
   },
   {
    "duration": 0,
    "start_time": "2024-05-30T02:58:48.770Z"
   },
   {
    "duration": 0,
    "start_time": "2024-05-30T02:58:48.773Z"
   },
   {
    "duration": 0,
    "start_time": "2024-05-30T02:58:48.806Z"
   },
   {
    "duration": 0,
    "start_time": "2024-05-30T02:58:48.808Z"
   },
   {
    "duration": 0,
    "start_time": "2024-05-30T02:58:48.811Z"
   },
   {
    "duration": 0,
    "start_time": "2024-05-30T02:58:48.813Z"
   },
   {
    "duration": 0,
    "start_time": "2024-05-30T02:58:48.815Z"
   },
   {
    "duration": 0,
    "start_time": "2024-05-30T02:58:48.817Z"
   },
   {
    "duration": 0,
    "start_time": "2024-05-30T02:58:48.820Z"
   },
   {
    "duration": 0,
    "start_time": "2024-05-30T02:58:48.822Z"
   },
   {
    "duration": 0,
    "start_time": "2024-05-30T02:58:48.826Z"
   },
   {
    "duration": 0,
    "start_time": "2024-05-30T02:58:48.827Z"
   },
   {
    "duration": 0,
    "start_time": "2024-05-30T02:58:48.829Z"
   },
   {
    "duration": 0,
    "start_time": "2024-05-30T02:58:48.832Z"
   },
   {
    "duration": 0,
    "start_time": "2024-05-30T02:58:48.836Z"
   },
   {
    "duration": 0,
    "start_time": "2024-05-30T02:58:48.839Z"
   },
   {
    "duration": 0,
    "start_time": "2024-05-30T02:58:48.842Z"
   },
   {
    "duration": 0,
    "start_time": "2024-05-30T02:58:48.844Z"
   },
   {
    "duration": 0,
    "start_time": "2024-05-30T02:58:48.846Z"
   },
   {
    "duration": 0,
    "start_time": "2024-05-30T02:58:48.906Z"
   },
   {
    "duration": 0,
    "start_time": "2024-05-30T02:58:48.908Z"
   },
   {
    "duration": 0,
    "start_time": "2024-05-30T02:58:48.911Z"
   },
   {
    "duration": 0,
    "start_time": "2024-05-30T02:58:48.913Z"
   },
   {
    "duration": 0,
    "start_time": "2024-05-30T02:58:48.915Z"
   },
   {
    "duration": 1,
    "start_time": "2024-05-30T02:58:48.916Z"
   },
   {
    "duration": 0,
    "start_time": "2024-05-30T02:58:48.919Z"
   },
   {
    "duration": 0,
    "start_time": "2024-05-30T02:58:48.921Z"
   },
   {
    "duration": 0,
    "start_time": "2024-05-30T02:58:48.923Z"
   },
   {
    "duration": 0,
    "start_time": "2024-05-30T02:58:48.926Z"
   },
   {
    "duration": 0,
    "start_time": "2024-05-30T02:58:48.928Z"
   },
   {
    "duration": 0,
    "start_time": "2024-05-30T02:58:48.931Z"
   },
   {
    "duration": 0,
    "start_time": "2024-05-30T02:58:48.933Z"
   },
   {
    "duration": 0,
    "start_time": "2024-05-30T02:58:48.935Z"
   },
   {
    "duration": 0,
    "start_time": "2024-05-30T02:58:48.945Z"
   },
   {
    "duration": 0,
    "start_time": "2024-05-30T02:58:49.010Z"
   },
   {
    "duration": 0,
    "start_time": "2024-05-30T02:58:49.014Z"
   },
   {
    "duration": 41,
    "start_time": "2024-05-30T02:59:01.004Z"
   },
   {
    "duration": 35,
    "start_time": "2024-05-30T03:00:59.100Z"
   },
   {
    "duration": 30,
    "start_time": "2024-05-30T03:02:43.341Z"
   },
   {
    "duration": 33,
    "start_time": "2024-05-30T03:03:01.342Z"
   },
   {
    "duration": 1603,
    "start_time": "2024-05-30T03:03:30.917Z"
   },
   {
    "duration": 0,
    "start_time": "2024-05-30T03:03:32.526Z"
   },
   {
    "duration": 0,
    "start_time": "2024-05-30T03:03:32.528Z"
   },
   {
    "duration": 1,
    "start_time": "2024-05-30T03:03:32.529Z"
   },
   {
    "duration": 0,
    "start_time": "2024-05-30T03:03:32.531Z"
   },
   {
    "duration": 0,
    "start_time": "2024-05-30T03:03:32.533Z"
   },
   {
    "duration": 0,
    "start_time": "2024-05-30T03:03:32.535Z"
   },
   {
    "duration": 0,
    "start_time": "2024-05-30T03:03:32.536Z"
   },
   {
    "duration": 0,
    "start_time": "2024-05-30T03:03:32.537Z"
   },
   {
    "duration": 0,
    "start_time": "2024-05-30T03:03:32.540Z"
   },
   {
    "duration": 0,
    "start_time": "2024-05-30T03:03:32.543Z"
   },
   {
    "duration": 0,
    "start_time": "2024-05-30T03:03:32.545Z"
   },
   {
    "duration": 0,
    "start_time": "2024-05-30T03:03:32.547Z"
   },
   {
    "duration": 0,
    "start_time": "2024-05-30T03:03:32.549Z"
   },
   {
    "duration": 0,
    "start_time": "2024-05-30T03:03:32.551Z"
   },
   {
    "duration": 0,
    "start_time": "2024-05-30T03:03:32.554Z"
   },
   {
    "duration": 0,
    "start_time": "2024-05-30T03:03:32.556Z"
   },
   {
    "duration": 0,
    "start_time": "2024-05-30T03:03:32.558Z"
   },
   {
    "duration": 0,
    "start_time": "2024-05-30T03:03:32.607Z"
   },
   {
    "duration": 0,
    "start_time": "2024-05-30T03:03:32.609Z"
   },
   {
    "duration": 0,
    "start_time": "2024-05-30T03:03:32.611Z"
   },
   {
    "duration": 0,
    "start_time": "2024-05-30T03:03:32.613Z"
   },
   {
    "duration": 0,
    "start_time": "2024-05-30T03:03:32.615Z"
   },
   {
    "duration": 0,
    "start_time": "2024-05-30T03:03:32.617Z"
   },
   {
    "duration": 0,
    "start_time": "2024-05-30T03:03:32.619Z"
   },
   {
    "duration": 0,
    "start_time": "2024-05-30T03:03:32.622Z"
   },
   {
    "duration": 0,
    "start_time": "2024-05-30T03:03:32.624Z"
   },
   {
    "duration": 0,
    "start_time": "2024-05-30T03:03:32.627Z"
   },
   {
    "duration": 0,
    "start_time": "2024-05-30T03:03:32.629Z"
   },
   {
    "duration": 0,
    "start_time": "2024-05-30T03:03:32.631Z"
   },
   {
    "duration": 0,
    "start_time": "2024-05-30T03:03:32.634Z"
   },
   {
    "duration": 0,
    "start_time": "2024-05-30T03:03:32.636Z"
   },
   {
    "duration": 0,
    "start_time": "2024-05-30T03:03:32.639Z"
   },
   {
    "duration": 0,
    "start_time": "2024-05-30T03:03:32.641Z"
   },
   {
    "duration": 0,
    "start_time": "2024-05-30T03:03:32.644Z"
   },
   {
    "duration": 0,
    "start_time": "2024-05-30T03:03:32.707Z"
   },
   {
    "duration": 1,
    "start_time": "2024-05-30T03:03:32.710Z"
   },
   {
    "duration": 0,
    "start_time": "2024-05-30T03:03:32.712Z"
   },
   {
    "duration": 0,
    "start_time": "2024-05-30T03:03:32.715Z"
   },
   {
    "duration": 0,
    "start_time": "2024-05-30T03:03:32.717Z"
   },
   {
    "duration": 0,
    "start_time": "2024-05-30T03:03:32.719Z"
   },
   {
    "duration": 0,
    "start_time": "2024-05-30T03:03:32.721Z"
   },
   {
    "duration": 0,
    "start_time": "2024-05-30T03:03:32.723Z"
   },
   {
    "duration": 0,
    "start_time": "2024-05-30T03:03:32.726Z"
   },
   {
    "duration": 0,
    "start_time": "2024-05-30T03:03:32.727Z"
   },
   {
    "duration": 0,
    "start_time": "2024-05-30T03:03:32.729Z"
   },
   {
    "duration": 25,
    "start_time": "2024-05-30T03:03:42.393Z"
   },
   {
    "duration": 38,
    "start_time": "2024-05-30T03:04:05.890Z"
   },
   {
    "duration": 268,
    "start_time": "2024-05-30T03:04:14.769Z"
   },
   {
    "duration": 27,
    "start_time": "2024-05-30T03:05:01.976Z"
   },
   {
    "duration": 29,
    "start_time": "2024-05-30T03:05:06.877Z"
   },
   {
    "duration": 43,
    "start_time": "2024-05-30T03:05:18.424Z"
   },
   {
    "duration": 0,
    "start_time": "2024-05-30T03:05:18.471Z"
   },
   {
    "duration": 1,
    "start_time": "2024-05-30T03:05:18.473Z"
   },
   {
    "duration": 0,
    "start_time": "2024-05-30T03:05:18.476Z"
   },
   {
    "duration": 0,
    "start_time": "2024-05-30T03:05:18.478Z"
   },
   {
    "duration": 0,
    "start_time": "2024-05-30T03:05:18.480Z"
   },
   {
    "duration": 0,
    "start_time": "2024-05-30T03:05:18.482Z"
   },
   {
    "duration": 0,
    "start_time": "2024-05-30T03:05:18.506Z"
   },
   {
    "duration": 0,
    "start_time": "2024-05-30T03:05:18.508Z"
   },
   {
    "duration": 0,
    "start_time": "2024-05-30T03:05:18.511Z"
   },
   {
    "duration": 0,
    "start_time": "2024-05-30T03:05:18.512Z"
   },
   {
    "duration": 0,
    "start_time": "2024-05-30T03:05:18.514Z"
   },
   {
    "duration": 0,
    "start_time": "2024-05-30T03:05:18.515Z"
   },
   {
    "duration": 0,
    "start_time": "2024-05-30T03:05:18.521Z"
   },
   {
    "duration": 205,
    "start_time": "2024-05-30T03:05:18.534Z"
   },
   {
    "duration": 37,
    "start_time": "2024-05-30T03:05:18.742Z"
   },
   {
    "duration": 27,
    "start_time": "2024-05-30T03:05:18.806Z"
   },
   {
    "duration": 18,
    "start_time": "2024-05-30T03:05:18.836Z"
   },
   {
    "duration": 25,
    "start_time": "2024-05-30T03:05:18.856Z"
   },
   {
    "duration": 42,
    "start_time": "2024-05-30T03:05:18.906Z"
   },
   {
    "duration": 0,
    "start_time": "2024-05-30T03:05:18.952Z"
   },
   {
    "duration": 0,
    "start_time": "2024-05-30T03:05:18.953Z"
   },
   {
    "duration": 0,
    "start_time": "2024-05-30T03:05:18.956Z"
   },
   {
    "duration": 0,
    "start_time": "2024-05-30T03:05:18.958Z"
   },
   {
    "duration": 0,
    "start_time": "2024-05-30T03:05:18.961Z"
   },
   {
    "duration": 0,
    "start_time": "2024-05-30T03:05:18.963Z"
   },
   {
    "duration": 0,
    "start_time": "2024-05-30T03:05:18.965Z"
   },
   {
    "duration": 0,
    "start_time": "2024-05-30T03:05:19.006Z"
   },
   {
    "duration": 0,
    "start_time": "2024-05-30T03:05:19.009Z"
   },
   {
    "duration": 0,
    "start_time": "2024-05-30T03:05:19.012Z"
   },
   {
    "duration": 0,
    "start_time": "2024-05-30T03:05:19.014Z"
   },
   {
    "duration": 0,
    "start_time": "2024-05-30T03:05:19.017Z"
   },
   {
    "duration": 0,
    "start_time": "2024-05-30T03:05:19.019Z"
   },
   {
    "duration": 0,
    "start_time": "2024-05-30T03:05:19.021Z"
   },
   {
    "duration": 1,
    "start_time": "2024-05-30T03:05:19.023Z"
   },
   {
    "duration": 0,
    "start_time": "2024-05-30T03:05:19.026Z"
   },
   {
    "duration": 0,
    "start_time": "2024-05-30T03:05:19.029Z"
   },
   {
    "duration": 0,
    "start_time": "2024-05-30T03:05:19.032Z"
   },
   {
    "duration": 1,
    "start_time": "2024-05-30T03:05:19.033Z"
   },
   {
    "duration": 0,
    "start_time": "2024-05-30T03:05:19.036Z"
   },
   {
    "duration": 0,
    "start_time": "2024-05-30T03:05:19.038Z"
   },
   {
    "duration": 0,
    "start_time": "2024-05-30T03:05:19.040Z"
   },
   {
    "duration": 0,
    "start_time": "2024-05-30T03:05:19.043Z"
   },
   {
    "duration": 0,
    "start_time": "2024-05-30T03:05:19.046Z"
   },
   {
    "duration": 0,
    "start_time": "2024-05-30T03:05:19.107Z"
   },
   {
    "duration": 1625,
    "start_time": "2024-05-30T03:05:37.330Z"
   },
   {
    "duration": 0,
    "start_time": "2024-05-30T03:05:38.960Z"
   },
   {
    "duration": 0,
    "start_time": "2024-05-30T03:05:38.962Z"
   },
   {
    "duration": 0,
    "start_time": "2024-05-30T03:05:38.964Z"
   },
   {
    "duration": 0,
    "start_time": "2024-05-30T03:05:38.966Z"
   },
   {
    "duration": 0,
    "start_time": "2024-05-30T03:05:38.968Z"
   },
   {
    "duration": 0,
    "start_time": "2024-05-30T03:05:38.971Z"
   },
   {
    "duration": 0,
    "start_time": "2024-05-30T03:05:38.974Z"
   },
   {
    "duration": 0,
    "start_time": "2024-05-30T03:05:38.978Z"
   },
   {
    "duration": 0,
    "start_time": "2024-05-30T03:05:39.006Z"
   },
   {
    "duration": 0,
    "start_time": "2024-05-30T03:05:39.010Z"
   },
   {
    "duration": 0,
    "start_time": "2024-05-30T03:05:39.012Z"
   },
   {
    "duration": 0,
    "start_time": "2024-05-30T03:05:39.014Z"
   },
   {
    "duration": 0,
    "start_time": "2024-05-30T03:05:39.016Z"
   },
   {
    "duration": 0,
    "start_time": "2024-05-30T03:05:39.020Z"
   },
   {
    "duration": 0,
    "start_time": "2024-05-30T03:05:39.023Z"
   },
   {
    "duration": 0,
    "start_time": "2024-05-30T03:05:39.025Z"
   },
   {
    "duration": 0,
    "start_time": "2024-05-30T03:05:39.027Z"
   },
   {
    "duration": 0,
    "start_time": "2024-05-30T03:05:39.031Z"
   },
   {
    "duration": 0,
    "start_time": "2024-05-30T03:05:39.033Z"
   },
   {
    "duration": 0,
    "start_time": "2024-05-30T03:05:39.035Z"
   },
   {
    "duration": 0,
    "start_time": "2024-05-30T03:05:39.038Z"
   },
   {
    "duration": 0,
    "start_time": "2024-05-30T03:05:39.040Z"
   },
   {
    "duration": 0,
    "start_time": "2024-05-30T03:05:39.043Z"
   },
   {
    "duration": 0,
    "start_time": "2024-05-30T03:05:39.045Z"
   },
   {
    "duration": 0,
    "start_time": "2024-05-30T03:05:39.047Z"
   },
   {
    "duration": 0,
    "start_time": "2024-05-30T03:05:39.049Z"
   },
   {
    "duration": 0,
    "start_time": "2024-05-30T03:05:39.108Z"
   },
   {
    "duration": 0,
    "start_time": "2024-05-30T03:05:39.110Z"
   },
   {
    "duration": 0,
    "start_time": "2024-05-30T03:05:39.112Z"
   },
   {
    "duration": 0,
    "start_time": "2024-05-30T03:05:39.115Z"
   },
   {
    "duration": 0,
    "start_time": "2024-05-30T03:05:39.122Z"
   },
   {
    "duration": 0,
    "start_time": "2024-05-30T03:05:39.124Z"
   },
   {
    "duration": 0,
    "start_time": "2024-05-30T03:05:39.126Z"
   },
   {
    "duration": 0,
    "start_time": "2024-05-30T03:05:39.129Z"
   },
   {
    "duration": 0,
    "start_time": "2024-05-30T03:05:39.130Z"
   },
   {
    "duration": 0,
    "start_time": "2024-05-30T03:05:39.132Z"
   },
   {
    "duration": 0,
    "start_time": "2024-05-30T03:05:39.135Z"
   },
   {
    "duration": 0,
    "start_time": "2024-05-30T03:05:39.137Z"
   },
   {
    "duration": 0,
    "start_time": "2024-05-30T03:05:39.138Z"
   },
   {
    "duration": 0,
    "start_time": "2024-05-30T03:05:39.140Z"
   },
   {
    "duration": 0,
    "start_time": "2024-05-30T03:05:39.141Z"
   },
   {
    "duration": 0,
    "start_time": "2024-05-30T03:05:39.143Z"
   },
   {
    "duration": 0,
    "start_time": "2024-05-30T03:05:39.144Z"
   },
   {
    "duration": 0,
    "start_time": "2024-05-30T03:05:39.146Z"
   },
   {
    "duration": 176,
    "start_time": "2024-05-30T03:05:48.800Z"
   },
   {
    "duration": 262,
    "start_time": "2024-05-30T03:05:52.846Z"
   },
   {
    "duration": 32,
    "start_time": "2024-05-30T03:05:55.761Z"
   },
   {
    "duration": 8,
    "start_time": "2024-05-30T03:05:58.867Z"
   },
   {
    "duration": 32,
    "start_time": "2024-05-30T03:06:01.376Z"
   },
   {
    "duration": 16,
    "start_time": "2024-05-30T03:06:04.515Z"
   },
   {
    "duration": 18,
    "start_time": "2024-05-30T03:06:06.939Z"
   },
   {
    "duration": 18,
    "start_time": "2024-05-30T03:06:09.691Z"
   },
   {
    "duration": 15,
    "start_time": "2024-05-30T03:06:12.339Z"
   },
   {
    "duration": 36,
    "start_time": "2024-05-30T03:06:15.329Z"
   },
   {
    "duration": 17,
    "start_time": "2024-05-30T03:06:18.157Z"
   },
   {
    "duration": 18,
    "start_time": "2024-05-30T03:06:20.464Z"
   },
   {
    "duration": 83,
    "start_time": "2024-05-30T03:06:22.833Z"
   },
   {
    "duration": 29,
    "start_time": "2024-05-30T03:06:26.724Z"
   },
   {
    "duration": 35,
    "start_time": "2024-05-30T03:06:29.194Z"
   },
   {
    "duration": 22,
    "start_time": "2024-05-30T03:06:34.057Z"
   },
   {
    "duration": 17,
    "start_time": "2024-05-30T03:06:36.299Z"
   },
   {
    "duration": 17,
    "start_time": "2024-05-30T03:06:40.017Z"
   },
   {
    "duration": 97,
    "start_time": "2024-05-30T03:06:43.076Z"
   },
   {
    "duration": 60,
    "start_time": "2024-05-30T03:06:46.740Z"
   },
   {
    "duration": 98,
    "start_time": "2024-05-30T03:06:50.574Z"
   },
   {
    "duration": 31,
    "start_time": "2024-05-30T03:06:58.185Z"
   },
   {
    "duration": 37,
    "start_time": "2024-05-30T03:07:00.428Z"
   },
   {
    "duration": 53,
    "start_time": "2024-05-30T03:07:02.876Z"
   },
   {
    "duration": 39,
    "start_time": "2024-05-30T03:07:05.244Z"
   },
   {
    "duration": 40178,
    "start_time": "2024-05-30T03:07:13.646Z"
   },
   {
    "duration": 1795,
    "start_time": "2024-05-30T03:08:39.556Z"
   },
   {
    "duration": 697,
    "start_time": "2024-05-30T03:08:44.201Z"
   },
   {
    "duration": 138,
    "start_time": "2024-05-30T03:08:50.986Z"
   },
   {
    "duration": 47,
    "start_time": "2024-05-30T03:11:03.346Z"
   },
   {
    "duration": 807,
    "start_time": "2024-05-30T03:11:23.875Z"
   },
   {
    "duration": 40,
    "start_time": "2024-05-30T03:11:39.400Z"
   },
   {
    "duration": 71,
    "start_time": "2024-05-30T03:13:06.084Z"
   },
   {
    "duration": 136,
    "start_time": "2024-05-30T03:13:54.604Z"
   },
   {
    "duration": 62,
    "start_time": "2024-05-30T03:15:07.490Z"
   },
   {
    "duration": 50,
    "start_time": "2024-05-30T03:15:27.549Z"
   },
   {
    "duration": 68,
    "start_time": "2024-05-30T03:19:37.381Z"
   },
   {
    "duration": 1118,
    "start_time": "2024-05-30T03:19:48.569Z"
   },
   {
    "duration": 49,
    "start_time": "2024-05-30T03:20:37.750Z"
   },
   {
    "duration": 51,
    "start_time": "2024-05-30T03:21:05.249Z"
   },
   {
    "duration": 34,
    "start_time": "2024-05-30T03:22:37.328Z"
   },
   {
    "duration": 13,
    "start_time": "2024-05-30T03:22:41.209Z"
   },
   {
    "duration": 388,
    "start_time": "2024-05-30T03:22:44.334Z"
   },
   {
    "duration": 13,
    "start_time": "2024-05-30T03:23:13.761Z"
   },
   {
    "duration": 13,
    "start_time": "2024-05-30T03:24:23.320Z"
   },
   {
    "duration": 16,
    "start_time": "2024-05-30T14:13:05.014Z"
   }
  ],
  "colab": {
   "provenance": []
  },
  "kernelspec": {
   "display_name": "Python 3 (ipykernel)",
   "language": "python",
   "name": "python3"
  },
  "language_info": {
   "codemirror_mode": {
    "name": "ipython",
    "version": 3
   },
   "file_extension": ".py",
   "mimetype": "text/x-python",
   "name": "python",
   "nbconvert_exporter": "python",
   "pygments_lexer": "ipython3",
   "version": "3.9.19"
  },
  "toc": {
   "base_numbering": 1,
   "nav_menu": {},
   "number_sections": true,
   "sideBar": true,
   "skip_h1_title": false,
   "title_cell": "Table of Contents",
   "title_sidebar": "Contents",
   "toc_cell": false,
   "toc_position": {
    "height": "calc(100% - 180px)",
    "left": "10px",
    "top": "150px",
    "width": "165px"
   },
   "toc_section_display": true,
   "toc_window_display": true
  }
 },
 "nbformat": 4,
 "nbformat_minor": 1
}
