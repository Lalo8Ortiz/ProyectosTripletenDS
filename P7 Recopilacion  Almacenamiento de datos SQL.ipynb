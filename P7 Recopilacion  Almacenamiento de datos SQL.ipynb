{
 "cells": [
  {
   "cell_type": "markdown",
   "metadata": {},
   "source": [
    "\n",
    "¡Hola!\n",
    "\n",
    "Mi nombre es Tonatiuh Cruz. Me complace revisar tu proyecto hoy.\n",
    "\n",
    "Al identificar cualquier error inicialmente, simplemente los destacaré. Te animo a localizar y abordar los problemas de forma independiente como parte de tu preparación para un rol como data-scientist. En un entorno profesional, tu líder de equipo seguiría un enfoque similar. Si encuentras la tarea desafiante, proporcionaré una pista más específica en la próxima iteración.\n",
    "\n",
    "Encontrarás mis comentarios a continuación - **por favor no los muevas, modifiques o elimines**.\n",
    "\n",
    "Puedes encontrar mis comentarios en cajas verdes, amarillas o rojas como esta:\n",
    "\n",
    "<div class=\"alert alert-block alert-success\">\n",
    "<b>Comentario del revisor</b> <a class=\"tocSkip\"></a>\n",
    "\n",
    "Éxito. Todo está hecho correctamente.\n",
    "</div>\n",
    "\n",
    "<div class=\"alert alert-block alert-warning\">\n",
    "<b>Comentario del revisor</b> <a class=\"tocSkip\"></a>\n",
    "\n",
    "Observaciones. Algunas recomendaciones.\n",
    "</div>\n",
    "\n",
    "<div class=\"alert alert-block alert-danger\">\n",
    "<b>Comentario del revisor</b> <a class=\"tocSkip\"></a>\n",
    "\n",
    "Necesita corrección. El bloque requiere algunas correcciones. El trabajo no puede ser aceptado con comentarios en rojo.\n",
    "</div>\n",
    "\n",
    "Puedes responderme utilizando esto:\n",
    "\n",
    "<div class=\"alert alert-block alert-info\">\n",
    "<b>Respuesta del estudiante.</b> <a class=\"tocSkip\"></a>"
   ]
  },
  {
   "cell_type": "markdown",
   "metadata": {},
   "source": [
    "Paso 4. Análisis exploratorio de datos (Python)\n",
    "\n",
    "Además de los datos que recuperaste en las tareas anteriores te han dado un segundo archivo. Ahora tienes estos dos CSV:\n",
    "\n",
    "project_sql_result_01.csv. Contiene los siguientes datos:\n",
    "\n",
    "company_name: nombre de la empresa de taxis\n",
    "trips_amount: el número de viajes de cada compañía de taxis el 15 y 16 de noviembre de 2017.\n",
    "project_sql_result_04.csv. Contiene los siguientes datos:\n",
    "\n",
    "dropoff_location_name: barrios de Chicago donde finalizaron los viajes\n",
    "average_trips: el promedio de viajes que terminaron en cada barrio en noviembre de 2017.\n",
    "Para estos dos datasets ahora necesitas:\n",
    "\n",
    "importar los archivos\n",
    "estudiar los datos que contienen\n",
    "asegurarte de que los tipos de datos sean correctos\n",
    "identificar los 10 principales barrios en términos de finalización\n",
    "hacer gráficos: empresas de taxis y número de viajes, los 10 barrios principales por número de finalizaciones\n",
    "sacar conclusiones basadas en cada gráfico y explicar los resultados"
   ]
  },
  {
   "cell_type": "code",
   "execution_count": 1,
   "metadata": {},
   "outputs": [
    {
     "name": "stdout",
     "output_type": "stream",
     "text": [
      "                      company_name  trips_amount\n",
      "0                        Flash Cab         19558\n",
      "1        Taxi Affiliation Services         11422\n",
      "2                Medallion Leasing         10367\n",
      "3                       Yellow Cab          9888\n",
      "4  Taxi Affiliation Service Yellow          9299\n",
      "  dropoff_location_name  average_trips\n",
      "0                  Loop   10727.466667\n",
      "1           River North    9523.666667\n",
      "2         Streeterville    6664.666667\n",
      "3             West Loop    5163.666667\n",
      "4                O'Hare    2546.900000\n",
      "              start_ts weather_conditions  duration_seconds\n",
      "0  2017-11-25 16:00:00               Good            2410.0\n",
      "1  2017-11-25 14:00:00               Good            1920.0\n",
      "2  2017-11-25 12:00:00               Good            1543.0\n",
      "3  2017-11-04 10:00:00               Good            2512.0\n",
      "4  2017-11-11 07:00:00               Good            1440.0\n",
      "<class 'pandas.core.frame.DataFrame'>\n",
      "RangeIndex: 64 entries, 0 to 63\n",
      "Data columns (total 2 columns):\n",
      " #   Column        Non-Null Count  Dtype \n",
      "---  ------        --------------  ----- \n",
      " 0   company_name  64 non-null     object\n",
      " 1   trips_amount  64 non-null     int64 \n",
      "dtypes: int64(1), object(1)\n",
      "memory usage: 1.1+ KB\n",
      "None\n",
      "<class 'pandas.core.frame.DataFrame'>\n",
      "RangeIndex: 94 entries, 0 to 93\n",
      "Data columns (total 2 columns):\n",
      " #   Column                 Non-Null Count  Dtype  \n",
      "---  ------                 --------------  -----  \n",
      " 0   dropoff_location_name  94 non-null     object \n",
      " 1   average_trips          94 non-null     float64\n",
      "dtypes: float64(1), object(1)\n",
      "memory usage: 1.6+ KB\n",
      "None\n",
      "<class 'pandas.core.frame.DataFrame'>\n",
      "RangeIndex: 1068 entries, 0 to 1067\n",
      "Data columns (total 3 columns):\n",
      " #   Column              Non-Null Count  Dtype  \n",
      "---  ------              --------------  -----  \n",
      " 0   start_ts            1068 non-null   object \n",
      " 1   weather_conditions  1068 non-null   object \n",
      " 2   duration_seconds    1068 non-null   float64\n",
      "dtypes: float64(1), object(2)\n",
      "memory usage: 25.2+ KB\n",
      "None\n"
     ]
    }
   ],
   "source": [
    "import pandas as pd\n",
    "\n",
    "\n",
    "# Cargar los archivos CSV\n",
    "data_01 = pd.read_csv('/datasets/project_sql_result_01.csv')\n",
    "data_04 = pd.read_csv('/datasets/project_sql_result_04.csv')\n",
    "\n",
    " \n",
    "data_07 = pd.read_csv('/datasets/project_sql_result_07.csv') #CODIGO ADICIONAL PARA LA CORRECCION\n",
    "\n",
    "# Inspeccionar los primeros registros para entender la estructura de los datos\n",
    "print(data_01.head())\n",
    "print(data_04.head())\n",
    "\n",
    "print(data_07.head()) #CODIGO ADICIONAL PARA LA CORRECCION\n",
    "\n",
    "# Verificar los tipos de datos\n",
    "print(data_01.info())\n",
    "print(data_04.info())\n",
    "print(data_07.info()) #CODIGO ADICIONAL PARA LA CORRECCION\n",
    "\n",
    "\n",
    "\n",
    "\n",
    "\n",
    "\n"
   ]
  },
  {
   "cell_type": "code",
   "execution_count": 2,
   "metadata": {},
   "outputs": [
    {
     "data": {
      "text/html": [
       "<div>\n",
       "<style scoped>\n",
       "    .dataframe tbody tr th:only-of-type {\n",
       "        vertical-align: middle;\n",
       "    }\n",
       "\n",
       "    .dataframe tbody tr th {\n",
       "        vertical-align: top;\n",
       "    }\n",
       "\n",
       "    .dataframe thead th {\n",
       "        text-align: right;\n",
       "    }\n",
       "</style>\n",
       "<table border=\"1\" class=\"dataframe\">\n",
       "  <thead>\n",
       "    <tr style=\"text-align: right;\">\n",
       "      <th></th>\n",
       "      <th>company_name</th>\n",
       "      <th>trips_amount</th>\n",
       "    </tr>\n",
       "  </thead>\n",
       "  <tbody>\n",
       "    <tr>\n",
       "      <th>0</th>\n",
       "      <td>Flash Cab</td>\n",
       "      <td>19558</td>\n",
       "    </tr>\n",
       "    <tr>\n",
       "      <th>1</th>\n",
       "      <td>Taxi Affiliation Services</td>\n",
       "      <td>11422</td>\n",
       "    </tr>\n",
       "    <tr>\n",
       "      <th>2</th>\n",
       "      <td>Medallion Leasing</td>\n",
       "      <td>10367</td>\n",
       "    </tr>\n",
       "    <tr>\n",
       "      <th>3</th>\n",
       "      <td>Yellow Cab</td>\n",
       "      <td>9888</td>\n",
       "    </tr>\n",
       "    <tr>\n",
       "      <th>4</th>\n",
       "      <td>Taxi Affiliation Service Yellow</td>\n",
       "      <td>9299</td>\n",
       "    </tr>\n",
       "    <tr>\n",
       "      <th>...</th>\n",
       "      <td>...</td>\n",
       "      <td>...</td>\n",
       "    </tr>\n",
       "    <tr>\n",
       "      <th>59</th>\n",
       "      <td>4053 - 40193 Adwar H. Nikola</td>\n",
       "      <td>7</td>\n",
       "    </tr>\n",
       "    <tr>\n",
       "      <th>60</th>\n",
       "      <td>2733 - 74600 Benny Jona</td>\n",
       "      <td>7</td>\n",
       "    </tr>\n",
       "    <tr>\n",
       "      <th>61</th>\n",
       "      <td>5874 - 73628 Sergey Cab Corp.</td>\n",
       "      <td>5</td>\n",
       "    </tr>\n",
       "    <tr>\n",
       "      <th>62</th>\n",
       "      <td>2241 - 44667 - Felman Corp</td>\n",
       "      <td>3</td>\n",
       "    </tr>\n",
       "    <tr>\n",
       "      <th>63</th>\n",
       "      <td>3556 - 36214 RC Andrews Cab</td>\n",
       "      <td>2</td>\n",
       "    </tr>\n",
       "  </tbody>\n",
       "</table>\n",
       "<p>64 rows × 2 columns</p>\n",
       "</div>"
      ],
      "text/plain": [
       "                       company_name  trips_amount\n",
       "0                         Flash Cab         19558\n",
       "1         Taxi Affiliation Services         11422\n",
       "2                 Medallion Leasing         10367\n",
       "3                        Yellow Cab          9888\n",
       "4   Taxi Affiliation Service Yellow          9299\n",
       "..                              ...           ...\n",
       "59     4053 - 40193 Adwar H. Nikola             7\n",
       "60          2733 - 74600 Benny Jona             7\n",
       "61    5874 - 73628 Sergey Cab Corp.             5\n",
       "62       2241 - 44667 - Felman Corp             3\n",
       "63      3556 - 36214 RC Andrews Cab             2\n",
       "\n",
       "[64 rows x 2 columns]"
      ]
     },
     "execution_count": 2,
     "metadata": {},
     "output_type": "execute_result"
    }
   ],
   "source": [
    "\n",
    "# Convertir datos si es necesario, por ejemplo, asegurarse de que los números sean tipo int o float\n",
    "data_01['trips_amount'] = data_01['trips_amount'].astype(int)\n",
    "data_04['average_trips'] = data_04['average_trips'].astype(float)\n",
    "\n",
    "data_01\n",
    "\n"
   ]
  },
  {
   "cell_type": "code",
   "execution_count": 3,
   "metadata": {},
   "outputs": [
    {
     "data": {
      "text/html": [
       "<div>\n",
       "<style scoped>\n",
       "    .dataframe tbody tr th:only-of-type {\n",
       "        vertical-align: middle;\n",
       "    }\n",
       "\n",
       "    .dataframe tbody tr th {\n",
       "        vertical-align: top;\n",
       "    }\n",
       "\n",
       "    .dataframe thead th {\n",
       "        text-align: right;\n",
       "    }\n",
       "</style>\n",
       "<table border=\"1\" class=\"dataframe\">\n",
       "  <thead>\n",
       "    <tr style=\"text-align: right;\">\n",
       "      <th></th>\n",
       "      <th>dropoff_location_name</th>\n",
       "      <th>average_trips</th>\n",
       "    </tr>\n",
       "  </thead>\n",
       "  <tbody>\n",
       "    <tr>\n",
       "      <th>0</th>\n",
       "      <td>Loop</td>\n",
       "      <td>10727.466667</td>\n",
       "    </tr>\n",
       "    <tr>\n",
       "      <th>1</th>\n",
       "      <td>River North</td>\n",
       "      <td>9523.666667</td>\n",
       "    </tr>\n",
       "    <tr>\n",
       "      <th>2</th>\n",
       "      <td>Streeterville</td>\n",
       "      <td>6664.666667</td>\n",
       "    </tr>\n",
       "    <tr>\n",
       "      <th>3</th>\n",
       "      <td>West Loop</td>\n",
       "      <td>5163.666667</td>\n",
       "    </tr>\n",
       "    <tr>\n",
       "      <th>4</th>\n",
       "      <td>O'Hare</td>\n",
       "      <td>2546.900000</td>\n",
       "    </tr>\n",
       "    <tr>\n",
       "      <th>...</th>\n",
       "      <td>...</td>\n",
       "      <td>...</td>\n",
       "    </tr>\n",
       "    <tr>\n",
       "      <th>89</th>\n",
       "      <td>Mount Greenwood</td>\n",
       "      <td>3.137931</td>\n",
       "    </tr>\n",
       "    <tr>\n",
       "      <th>90</th>\n",
       "      <td>Hegewisch</td>\n",
       "      <td>3.117647</td>\n",
       "    </tr>\n",
       "    <tr>\n",
       "      <th>91</th>\n",
       "      <td>Burnside</td>\n",
       "      <td>2.333333</td>\n",
       "    </tr>\n",
       "    <tr>\n",
       "      <th>92</th>\n",
       "      <td>East Side</td>\n",
       "      <td>1.961538</td>\n",
       "    </tr>\n",
       "    <tr>\n",
       "      <th>93</th>\n",
       "      <td>Riverdale</td>\n",
       "      <td>1.800000</td>\n",
       "    </tr>\n",
       "  </tbody>\n",
       "</table>\n",
       "<p>94 rows × 2 columns</p>\n",
       "</div>"
      ],
      "text/plain": [
       "   dropoff_location_name  average_trips\n",
       "0                   Loop   10727.466667\n",
       "1            River North    9523.666667\n",
       "2          Streeterville    6664.666667\n",
       "3              West Loop    5163.666667\n",
       "4                 O'Hare    2546.900000\n",
       "..                   ...            ...\n",
       "89       Mount Greenwood       3.137931\n",
       "90             Hegewisch       3.117647\n",
       "91              Burnside       2.333333\n",
       "92             East Side       1.961538\n",
       "93             Riverdale       1.800000\n",
       "\n",
       "[94 rows x 2 columns]"
      ]
     },
     "execution_count": 3,
     "metadata": {},
     "output_type": "execute_result"
    }
   ],
   "source": [
    "\n",
    "data_04"
   ]
  },
  {
   "cell_type": "code",
   "execution_count": 4,
   "metadata": {},
   "outputs": [
    {
     "name": "stdout",
     "output_type": "stream",
     "text": [
      "0\n",
      "0\n",
      "197\n"
     ]
    }
   ],
   "source": [
    "\n",
    "# Verificación de registros duplicados en cada dataset\n",
    "duplicates_01 = data_01.duplicated().sum() #CODIGO ADICIONAL PARA LA CORRECCION\n",
    "duplicates_04 = data_04.duplicated().sum() #CODIGO ADICIONAL PARA LA CORRECCION\n",
    "duplicates_07 = data_07.duplicated().sum() #CODIGO ADICIONAL PARA LA CORRECCION\n",
    "\n",
    "print(duplicates_01)\n",
    "print(duplicates_04)\n",
    "print(duplicates_07)"
   ]
  },
  {
   "cell_type": "code",
   "execution_count": 5,
   "metadata": {},
   "outputs": [
    {
     "data": {
      "text/html": [
       "<div>\n",
       "<style scoped>\n",
       "    .dataframe tbody tr th:only-of-type {\n",
       "        vertical-align: middle;\n",
       "    }\n",
       "\n",
       "    .dataframe tbody tr th {\n",
       "        vertical-align: top;\n",
       "    }\n",
       "\n",
       "    .dataframe thead th {\n",
       "        text-align: right;\n",
       "    }\n",
       "</style>\n",
       "<table border=\"1\" class=\"dataframe\">\n",
       "  <thead>\n",
       "    <tr style=\"text-align: right;\">\n",
       "      <th></th>\n",
       "      <th>dropoff_location_name</th>\n",
       "      <th>average_trips</th>\n",
       "    </tr>\n",
       "  </thead>\n",
       "  <tbody>\n",
       "    <tr>\n",
       "      <th>0</th>\n",
       "      <td>Loop</td>\n",
       "      <td>10727.47</td>\n",
       "    </tr>\n",
       "    <tr>\n",
       "      <th>1</th>\n",
       "      <td>River North</td>\n",
       "      <td>9523.67</td>\n",
       "    </tr>\n",
       "    <tr>\n",
       "      <th>2</th>\n",
       "      <td>Streeterville</td>\n",
       "      <td>6664.67</td>\n",
       "    </tr>\n",
       "    <tr>\n",
       "      <th>3</th>\n",
       "      <td>West Loop</td>\n",
       "      <td>5163.67</td>\n",
       "    </tr>\n",
       "    <tr>\n",
       "      <th>4</th>\n",
       "      <td>O'Hare</td>\n",
       "      <td>2546.90</td>\n",
       "    </tr>\n",
       "    <tr>\n",
       "      <th>5</th>\n",
       "      <td>Lake View</td>\n",
       "      <td>2420.97</td>\n",
       "    </tr>\n",
       "    <tr>\n",
       "      <th>6</th>\n",
       "      <td>Grant Park</td>\n",
       "      <td>2068.53</td>\n",
       "    </tr>\n",
       "    <tr>\n",
       "      <th>7</th>\n",
       "      <td>Museum Campus</td>\n",
       "      <td>1510.00</td>\n",
       "    </tr>\n",
       "    <tr>\n",
       "      <th>8</th>\n",
       "      <td>Gold Coast</td>\n",
       "      <td>1364.23</td>\n",
       "    </tr>\n",
       "    <tr>\n",
       "      <th>9</th>\n",
       "      <td>Sheffield &amp; DePaul</td>\n",
       "      <td>1259.77</td>\n",
       "    </tr>\n",
       "  </tbody>\n",
       "</table>\n",
       "</div>"
      ],
      "text/plain": [
       "  dropoff_location_name  average_trips\n",
       "0                  Loop       10727.47\n",
       "1           River North        9523.67\n",
       "2         Streeterville        6664.67\n",
       "3             West Loop        5163.67\n",
       "4                O'Hare        2546.90\n",
       "5             Lake View        2420.97\n",
       "6            Grant Park        2068.53\n",
       "7         Museum Campus        1510.00\n",
       "8            Gold Coast        1364.23\n",
       "9    Sheffield & DePaul        1259.77"
      ]
     },
     "execution_count": 5,
     "metadata": {},
     "output_type": "execute_result"
    }
   ],
   "source": [
    "# Identificar los 10 principales barrios en términos de finalización del recorrido\n",
    "top_10_neighborhoods = data_04.sort_values(by='average_trips', ascending=False).head(10)\n",
    "\n",
    "top_10_neighborhoods.round(2)"
   ]
  },
  {
   "cell_type": "markdown",
   "metadata": {},
   "source": [
    "<div class=\"alert alert-block alert-success\">\n",
    "<b>Comentario del revisor</b> <a class=\"tocSkip\"></a>\n",
    "\n",
    "Gran trabajo con los ajustes!\n",
    "</div>"
   ]
  },
  {
   "cell_type": "code",
   "execution_count": 6,
   "metadata": {},
   "outputs": [
    {
     "data": {
      "image/png": "[encoded data removed]",
      "text/plain": [
       "<Figure size 1400x800 with 1 Axes>"
      ]
     },
     "metadata": {},
     "output_type": "display_data"
    }
   ],
   "source": [
    "import matplotlib.pyplot as plt\n",
    "import matplotlib.ticker as ticker\n",
    "\n",
    "\n",
    "# datos por 'trips_amount' en orden descendente y seleccionar el top 10\n",
    "top_10_companies = data_01.sort_values(by='trips_amount', ascending=False).head(10)\n",
    "\n",
    "plt.figure(figsize=(14, 8))  # Ajustar el tamaño para mejor visualización\n",
    "plt.bar(top_10_companies['company_name'], top_10_companies['trips_amount'], color='blue')\n",
    "plt.title('Top 10 empresas de taxis por número de viajes')\n",
    "plt.xlabel('Empresa de Taxis')\n",
    "plt.ylabel('Número de Viajes')\n",
    "plt.xticks(rotation=45)  #Rotar las etiquetas para mejorar la visualización\n",
    "plt.tight_layout()\n",
    "plt.show()\n"
   ]
  },
  {
   "cell_type": "markdown",
   "metadata": {},
   "source": [
    "<div style=\"border: 2px solid #007BFF; background-color: #E3F2FD; padding: 10px; border-radius: 5px;\">\n",
    "    <strong style=\"color: #007BFF;\">La grafica muestra las 10  principales compañias de taxi que tienen \n",
    "    un mayor numero de viajes , la diferencia con flash cab comparada a todas las demas es casi el doble y\n",
    "    las demas empresas , realizan viajes muy similares</strong>"
   ]
  },
  {
   "cell_type": "markdown",
   "metadata": {},
   "source": [
    "<div class=\"alert alert-block alert-danger\">\n",
    "\n",
    "<b>Comentario del revisor</b> <a class=\"tocSkip\"></a>\n",
    "\n",
    "Muy buen trabajo con el desarrollo de la gráfica para visualizar los resultados. Solamente dado que al cliente le interesa el top 10 de las principales empresas con número de viajes, te recomiendo complementar este análisis con una gráfica solamente mostrando el top 10.</div>"
   ]
  },
  {
   "cell_type": "markdown",
   "metadata": {},
   "source": [
    "<div class=\"alert alert-block alert-success\">\n",
    "<b>Comentario del revisor</b> <a class=\"tocSkip\"></a>\n",
    "\n",
    "Gran trabajo con los ajustes!\n",
    "</div>"
   ]
  },
  {
   "cell_type": "markdown",
   "metadata": {},
   "source": [
    "/datasets/project_sql_result_07.csv — el resultado de la última consulta. Contiene datos sobre viajes desde el Loop hasta el Aeropuerto Internacional O'Hare. Recuerda, estos son los valores de campo de la tabla:\n",
    "\n",
    "start_ts: fecha y hora de la recogida\n",
    "weather_conditions: condiciones climáticas en el momento en el que comenzó el viaje\n",
    "duration_seconds: duración del viaje en segundos\n",
    "Prueba la hipótesis:\n",
    "\n",
    "\"La duración promedio de los viajes desde el Loop hasta el Aeropuerto Internacional O'Hare cambia los sábados lluviosos\".\n",
    "\n",
    "Decide por tu cuenta dónde establecer el nivel de significación (alfa).\n",
    "\n",
    "Explica:\n",
    "\n",
    "cómo planteaste las hipótesis nula y alternativa\n",
    "qué criterio usaste para probar las hipótesis y por qué"
   ]
  },
  {
   "cell_type": "markdown",
   "metadata": {},
   "source": [
    "<div class=\"alert alert-block alert-success\">\n",
    "<b>Comentario del revisor</b> <a class=\"tocSkip\"></a>\n",
    "\n",
    "Gran trabajo con los ajustes!\n",
    "</div>"
   ]
  },
  {
   "cell_type": "code",
   "execution_count": 7,
   "metadata": {},
   "outputs": [
    {
     "name": "stdout",
     "output_type": "stream",
     "text": [
      "Levene statistic: 0.38853489683656073, P-value: 0.5332038671974493\n",
      "T-statistic: -6.946177714041499\n",
      "P-value: 6.517970327099473e-12\n"
     ]
    },
    {
     "data": {
      "image/png": "[encoded data removed]",
      "text/plain": [
       "<Figure size 800x500 with 1 Axes>"
      ]
     },
     "metadata": {},
     "output_type": "display_data"
    }
   ],
   "source": [
    "import pandas as pd\n",
    "from scipy.stats import ttest_ind, levene\n",
    "import matplotlib.pyplot as plt\n",
    "\n",
    "# Cargar los datos\n",
    "data = pd.read_csv('/datasets/project_sql_result_07.csv', parse_dates=['start_ts'])\n",
    "\n",
    "# Filtrar por sábados\n",
    "data['day_of_week'] = data['start_ts'].dt.day_name()\n",
    "saturdays = data[data['day_of_week'] == 'Saturday']\n",
    "\n",
    "# Separar en buen tiempo y mal tiempo\n",
    "good_weather = saturdays[saturdays['weather_conditions'] == 'Good']['duration_seconds']\n",
    "bad_weather = saturdays[saturdays['weather_conditions'] == 'Bad']['duration_seconds']\n",
    "\n",
    "# Prueba de Levene para igualdad de varianzas\n",
    "levene_stat, levene_p = levene(good_weather.dropna(), bad_weather.dropna())\n",
    "print(f\"Levene statistic: {levene_stat}, P-value: {levene_p}\")\n",
    "\n",
    "# Usar el resultado de Levene para decidir si las varianzas son iguales\n",
    "equal_var = levene_p > 0.05\n",
    "\n",
    "# Verificación estadística con t-test\n",
    "t_stat, p_value = ttest_ind(good_weather.dropna(), bad_weather.dropna(), equal_var=equal_var)\n",
    "print(\"T-statistic:\", t_stat)\n",
    "print(\"P-value:\", p_value)\n",
    "\n",
    "# Crear el gráfico\n",
    "plt.figure(figsize=(8, 5))\n",
    "plt.boxplot([good_weather.dropna(), bad_weather.dropna()], labels=['Good Weather', 'Bad Weather'])\n",
    "plt.title('Comparison of Travel Times on Saturdays')\n",
    "plt.ylabel('Duration in Seconds')\n",
    "plt.grid(True)\n",
    "plt.show()\n"
   ]
  },
  {
   "cell_type": "markdown",
   "metadata": {},
   "source": [
    "###Conclusión\n",
    "\n",
    "Prueba de Levene:\n",
    "La estadística de Levene resultó en un valor de 0.3885 y un p-valor de 0.5332. Dado que el p-valor es mayor que 0.05, no rechazamos la hipótesis nula de igualdad de varianzas entre los dos grupos de datos (viajes en buen tiempo y mal tiempo los sábados).\n",
    "\n",
    "Prueba T de Student:\n",
    "La prueba t-test resultó en una estadística T de -6.946 y un p-valor extremadamente bajo (aproximadamente 6.52e-12), lo que es mucho menor que el nivel de significancia estándar de 0.05. Este resultado permite rechazar la hipótesis nula de que no hay diferencia muy significativa en los tiempos de viaje entre los días de buen y mal tiempo.\n",
    "\n",
    "T-Test\n",
    "Los resultados de la prueba t-test indican que hay una diferencia significativa en los tiempos de viaje entre los días lluviosos y no lluviosos para los viajes realizados los sábados desde el Loop hasta el Aeropuerto Internacional O'Hare. El valor negativo de la estadística T dicews que los tiempos de viaje tienden a ser más largos en días lluviosos en comparación con los días de buen tiempop. Este hallazgo es estadísticamente significativo, lo que nos dice que la lluvia tiene un impacto notable en la duración de los viajes.\n",
    "\n",
    "Implicaciones:\n",
    "Este análisis proporciona evidencia sólida de que las condiciones meteorológicas adversas, como la lluvia, pueden afectar negativamente la duración de los viajes. Los viajeros y las empresas de transporte podrían utilizar esta información para planificar mejor en días de mal tiempo, posiblemente para acomodar retrasos anticipados debido a la lluvia.\n",
    "\n",
    "Estos resultados también podrían ser útiles para las autoridades de planificación urbana y gestión del tráfico para mejorar las estrategias de manejo de tráfico y infraestructura durante condiciones climáticas adversas, asegurando así una movilidad más eficiente y segura en la ciudad."
   ]
  },
  {
   "cell_type": "markdown",
   "metadata": {},
   "source": [
    "<div class=\"alert alert-block alert-warning\">\n",
    "<b>Comentario revisor</b> <a class=\"tocSkip\"></a>\n",
    "\n",
    "En general, considero que realizaste un excelente trabajo con el proyecto. Lograste limpiar y organizar las bases de datos eficazmente. Además, tu análisis exploratorio fue exhaustivo, presentando resultados relevantes que serán muy útiles para la toma de decisiones. También, desarrollaste las pruebas de hipótesis de manera acertada. Sin embargo, siempre hay espacio para mejorar y quisiera señalar algunos aspectos que podrías considerar:\n",
    "\n",
    "\n",
    "* Realizar un análisis de duplicados\n",
    "    \n",
    "*  Realizar análisis complementarios eliminando los valores que parecen ser atípicos.    \n",
    "    \n",
    "*  Considerar desarrollar un análisis para comprobar los supuestos de la prueba de hipótesis (varianzas iguales)\n",
    "    \n",
    "*  Profundizar en los resultados intermedios y en la conclusión final.\n",
    "    \n",
    "</div>"
   ]
  },
  {
   "cell_type": "markdown",
   "metadata": {},
   "source": [
    "<div class=\"alert alert-block alert-success\">\n",
    "<b>Comentario del revisor</b> <a class=\"tocSkip\"></a>\n",
    "\n",
    "Gran trabajo con los ajustes! Que sigas disfrutando los siguientes cursos!\n",
    "</div>"
   ]
  }
 ],
 "metadata": {
  "ExecuteTimeLog": [
   {
    "duration": 1571,
    "start_time": "2024-07-16T00:30:46.428Z"
   },
   {
    "duration": 131,
    "start_time": "2024-07-16T00:33:31.526Z"
   },
   {
    "duration": 1655,
    "start_time": "2024-07-16T00:33:50.823Z"
   },
   {
    "duration": 0,
    "start_time": "2024-07-16T00:33:52.482Z"
   },
   {
    "duration": 4132,
    "start_time": "2024-07-16T00:39:48.592Z"
   },
   {
    "duration": 130,
    "start_time": "2024-07-16T00:40:16.487Z"
   },
   {
    "duration": 194,
    "start_time": "2024-07-16T00:41:18.384Z"
   },
   {
    "duration": 134,
    "start_time": "2024-07-16T00:41:27.302Z"
   },
   {
    "duration": 128,
    "start_time": "2024-07-16T00:41:36.710Z"
   },
   {
    "duration": 2687,
    "start_time": "2024-07-16T00:42:29.214Z"
   },
   {
    "duration": 2742,
    "start_time": "2024-07-16T00:43:18.217Z"
   },
   {
    "duration": 504,
    "start_time": "2024-07-16T00:43:30.037Z"
   },
   {
    "duration": 2888,
    "start_time": "2024-07-16T00:43:30.545Z"
   },
   {
    "duration": 2476,
    "start_time": "2024-07-16T00:47:10.322Z"
   },
   {
    "duration": 2224,
    "start_time": "2024-07-16T00:52:20.776Z"
   },
   {
    "duration": 1744,
    "start_time": "2024-07-16T00:58:36.930Z"
   },
   {
    "duration": 135,
    "start_time": "2024-07-16T00:58:56.321Z"
   },
   {
    "duration": 136,
    "start_time": "2024-07-16T00:59:12.741Z"
   },
   {
    "duration": 131,
    "start_time": "2024-07-16T01:00:13.599Z"
   },
   {
    "duration": 468,
    "start_time": "2024-07-16T01:02:40.371Z"
   },
   {
    "duration": 2523,
    "start_time": "2024-07-16T01:02:40.844Z"
   },
   {
    "duration": 1569,
    "start_time": "2024-07-16T01:02:43.371Z"
   },
   {
    "duration": 128,
    "start_time": "2024-07-16T01:50:40.990Z"
   },
   {
    "duration": 24,
    "start_time": "2024-07-16T01:51:47.375Z"
   },
   {
    "duration": 17,
    "start_time": "2024-07-16T01:51:53.430Z"
   },
   {
    "duration": 6,
    "start_time": "2024-07-16T01:52:02.982Z"
   },
   {
    "duration": 19,
    "start_time": "2024-07-16T01:52:09.272Z"
   },
   {
    "duration": 224,
    "start_time": "2024-07-16T02:03:45.577Z"
   },
   {
    "duration": 16,
    "start_time": "2024-07-17T00:21:56.498Z"
   },
   {
    "duration": 1655,
    "start_time": "2024-07-18T01:44:02.483Z"
   },
   {
    "duration": 1681,
    "start_time": "2024-07-18T01:44:15.101Z"
   },
   {
    "duration": 0,
    "start_time": "2024-07-18T01:44:16.786Z"
   },
   {
    "duration": 0,
    "start_time": "2024-07-18T01:44:16.788Z"
   },
   {
    "duration": 0,
    "start_time": "2024-07-18T01:44:16.791Z"
   },
   {
    "duration": 66,
    "start_time": "2024-07-18T01:44:44.329Z"
   },
   {
    "duration": 10,
    "start_time": "2024-07-18T01:48:39.701Z"
   },
   {
    "duration": 547,
    "start_time": "2024-07-18T01:49:42.745Z"
   },
   {
    "duration": 6,
    "start_time": "2024-07-18T01:49:43.297Z"
   },
   {
    "duration": 11,
    "start_time": "2024-07-18T01:49:43.306Z"
   },
   {
    "duration": 6,
    "start_time": "2024-07-18T01:49:43.320Z"
   },
   {
    "duration": 6722,
    "start_time": "2024-07-18T01:49:43.367Z"
   },
   {
    "duration": 453,
    "start_time": "2024-07-18T01:49:50.093Z"
   },
   {
    "duration": 239,
    "start_time": "2024-07-18T01:49:50.550Z"
   },
   {
    "duration": 6,
    "start_time": "2024-07-18T01:50:01.839Z"
   },
   {
    "duration": 21,
    "start_time": "2024-07-18T01:50:46.672Z"
   },
   {
    "duration": 14,
    "start_time": "2024-07-18T01:53:38.407Z"
   },
   {
    "duration": 14,
    "start_time": "2024-07-18T01:53:42.428Z"
   },
   {
    "duration": 12,
    "start_time": "2024-07-18T01:54:22.352Z"
   },
   {
    "duration": 11,
    "start_time": "2024-07-18T01:54:55.714Z"
   },
   {
    "duration": 15,
    "start_time": "2024-07-18T01:56:02.851Z"
   },
   {
    "duration": 18,
    "start_time": "2024-07-18T01:57:15.654Z"
   },
   {
    "duration": 551,
    "start_time": "2024-07-18T02:05:43.169Z"
   },
   {
    "duration": 233,
    "start_time": "2024-07-18T02:10:11.686Z"
   },
   {
    "duration": 57,
    "start_time": "2024-07-18T02:17:47.128Z"
   },
   {
    "duration": 9,
    "start_time": "2024-07-18T02:25:18.055Z"
   },
   {
    "duration": 7,
    "start_time": "2024-07-18T02:25:37.246Z"
   },
   {
    "duration": 547,
    "start_time": "2024-07-18T02:25:46.539Z"
   },
   {
    "duration": 24,
    "start_time": "2024-07-18T02:25:47.093Z"
   },
   {
    "duration": 16,
    "start_time": "2024-07-18T02:25:47.123Z"
   },
   {
    "duration": 12,
    "start_time": "2024-07-18T02:25:47.168Z"
   },
   {
    "duration": 18,
    "start_time": "2024-07-18T02:25:47.186Z"
   },
   {
    "duration": 7,
    "start_time": "2024-07-18T02:25:47.207Z"
   },
   {
    "duration": 0,
    "start_time": "2024-07-18T02:25:47.217Z"
   },
   {
    "duration": 0,
    "start_time": "2024-07-18T02:25:47.220Z"
   },
   {
    "duration": 8,
    "start_time": "2024-07-18T02:27:07.485Z"
   },
   {
    "duration": 8,
    "start_time": "2024-07-18T02:27:14.977Z"
   },
   {
    "duration": 8,
    "start_time": "2024-07-18T02:28:34.747Z"
   },
   {
    "duration": 6,
    "start_time": "2024-07-18T02:29:03.588Z"
   },
   {
    "duration": 8,
    "start_time": "2024-07-18T02:34:12.737Z"
   },
   {
    "duration": 1222,
    "start_time": "2024-07-18T02:34:29.075Z"
   },
   {
    "duration": 577,
    "start_time": "2024-07-18T02:34:36.345Z"
   },
   {
    "duration": 29,
    "start_time": "2024-07-18T02:34:36.926Z"
   },
   {
    "duration": 18,
    "start_time": "2024-07-18T02:34:36.968Z"
   },
   {
    "duration": 12,
    "start_time": "2024-07-18T02:34:36.991Z"
   },
   {
    "duration": 16,
    "start_time": "2024-07-18T02:34:37.006Z"
   },
   {
    "duration": 955,
    "start_time": "2024-07-18T02:34:37.026Z"
   },
   {
    "duration": 742,
    "start_time": "2024-07-18T02:34:37.984Z"
   },
   {
    "duration": 10,
    "start_time": "2024-07-18T02:37:18.268Z"
   },
   {
    "duration": 529,
    "start_time": "2024-07-18T02:37:34.309Z"
   },
   {
    "duration": 35,
    "start_time": "2024-07-18T02:37:34.843Z"
   },
   {
    "duration": 17,
    "start_time": "2024-07-18T02:37:34.881Z"
   },
   {
    "duration": 12,
    "start_time": "2024-07-18T02:37:34.902Z"
   },
   {
    "duration": 51,
    "start_time": "2024-07-18T02:37:34.920Z"
   },
   {
    "duration": 915,
    "start_time": "2024-07-18T02:37:34.975Z"
   },
   {
    "duration": 737,
    "start_time": "2024-07-18T02:37:35.893Z"
   }
  ],
  "kernelspec": {
   "display_name": "Python 3 (ipykernel)",
   "language": "python",
   "name": "python3"
  },
  "language_info": {
   "codemirror_mode": {
    "name": "ipython",
    "version": 3
   },
   "file_extension": ".py",
   "mimetype": "text/x-python",
   "name": "python",
   "nbconvert_exporter": "python",
   "pygments_lexer": "ipython3",
   "version": "3.9.19"
  },
  "toc": {
   "base_numbering": 1,
   "nav_menu": {},
   "number_sections": true,
   "sideBar": true,
   "skip_h1_title": true,
   "title_cell": "Table of Contents",
   "title_sidebar": "Contents",
   "toc_cell": false,
   "toc_position": {},
   "toc_section_display": true,
   "toc_window_display": false
  }
 },
 "nbformat": 4,
 "nbformat_minor": 2
}
