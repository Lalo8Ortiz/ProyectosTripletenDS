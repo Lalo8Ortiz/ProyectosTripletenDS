{
 "cells": [
  {
   "cell_type": "markdown",
   "metadata": {},
   "source": [
    "Hola **Eduardo**!\n",
    "\n",
    "Soy **Patricio Requena** 👋. Es un placer ser el revisor de tu proyecto el día de hoy!\n",
    "\n",
    "Revisaré tu proyecto detenidamente con el objetivo de ayudarte a mejorar y perfeccionar tus habilidades. Durante mi revisión, identificaré áreas donde puedas hacer mejoras en tu código, señalando específicamente qué y cómo podrías ajustar para optimizar el rendimiento y la claridad de tu proyecto. Además, es importante para mí destacar los aspectos que has manejado excepcionalmente bien. Reconocer tus fortalezas te ayudará a entender qué técnicas y métodos están funcionando a tu favor y cómo puedes aplicarlos en futuras tareas. \n",
    "\n",
    "_**Recuerda que al final de este notebook encontrarás un comentario general de mi parte**_, empecemos!\n",
    "\n",
    "Encontrarás mis comentarios dentro de cajas verdes, amarillas o rojas, ⚠️ **por favor, no muevas, modifiques o borres mis comentarios** ⚠️:\n",
    "\n",
    "\n",
    "<div class=\"alert alert-block alert-success\">\n",
    "<b>Comentario del revisor</b> <a class=“tocSkip”></a>\n",
    "Si todo está perfecto.\n",
    "</div>\n",
    "\n",
    "<div class=\"alert alert-block alert-warning\">\n",
    "<b>Comentario del revisor</b> <a class=“tocSkip”></a>\n",
    "Si tu código está bien pero se puede mejorar o hay algún detalle que le hace falta.\n",
    "</div>\n",
    "\n",
    "<div class=\"alert alert-block alert-danger\">\n",
    "<b>Comentario del revisor</b> <a class=“tocSkip”></a>\n",
    "Si de pronto hace falta algo o existe algún problema con tu código o conclusiones.\n",
    "</div>\n",
    "\n",
    "Puedes responderme de esta forma:\n",
    "<div class=\"alert alert-block alert-info\">\n",
    "<b>Respuesta del estudiante</b> <a class=“tocSkip”></a>\n",
    "</div>"
   ]
  },
  {
   "cell_type": "markdown",
   "metadata": {},
   "source": [
    "  # Descripción del proyecto 10 Aprendizaje Supervisado\n",
    "  \n",
    "  -Los clientes de *Beta Bank* se están yendo, cada mes, poco a poco. Los banqueros descubrieron que es más barato salvar a los clientes existentes que atraer nuevos.\n",
    "\n",
    "-Necesitamos predecir si un cliente dejará el banco pronto. Tú tienes los datos sobre el comportamiento pasado de los clientes y la terminación de contratos con el banco.\n",
    "\n",
    "-Crea un modelo con el máximo valor *F1* posible. Para aprobar la revisión, necesitas un valor F1 de al menos 0.59. Verifica F1 para el conjunto de prueba. \n",
    "\n",
    "-Además, debes medir la métrica *AUC-ROC* y compararla con el valor F1.\n",
    "  "
   ]
  },
  {
   "cell_type": "markdown",
   "metadata": {},
   "source": [
    "<div class=\"alert alert-block alert-success\">\n",
    "<b>Comentario del revisor (1ra Iteracion)</b> <a class=“tocSkip”></a>\n",
    "\n",
    "Escribir una sección introductoria en tus proyectos es importante para dar a conocer sobre que se trata tu proyecto, te animo a mantener esta práctica, buen trabajo!\n",
    "</div>"
   ]
  },
  {
   "cell_type": "code",
   "execution_count": 1,
   "metadata": {},
   "outputs": [
    {
     "data": {
      "text/html": [
       "<div>\n",
       "<style scoped>\n",
       "    .dataframe tbody tr th:only-of-type {\n",
       "        vertical-align: middle;\n",
       "    }\n",
       "\n",
       "    .dataframe tbody tr th {\n",
       "        vertical-align: top;\n",
       "    }\n",
       "\n",
       "    .dataframe thead th {\n",
       "        text-align: right;\n",
       "    }\n",
       "</style>\n",
       "<table border=\"1\" class=\"dataframe\">\n",
       "  <thead>\n",
       "    <tr style=\"text-align: right;\">\n",
       "      <th></th>\n",
       "      <th>RowNumber</th>\n",
       "      <th>CustomerId</th>\n",
       "      <th>Surname</th>\n",
       "      <th>CreditScore</th>\n",
       "      <th>Geography</th>\n",
       "      <th>Gender</th>\n",
       "      <th>Age</th>\n",
       "      <th>Tenure</th>\n",
       "      <th>Balance</th>\n",
       "      <th>NumOfProducts</th>\n",
       "      <th>HasCrCard</th>\n",
       "      <th>IsActiveMember</th>\n",
       "      <th>EstimatedSalary</th>\n",
       "      <th>Exited</th>\n",
       "    </tr>\n",
       "  </thead>\n",
       "  <tbody>\n",
       "    <tr>\n",
       "      <th>0</th>\n",
       "      <td>1</td>\n",
       "      <td>15634602</td>\n",
       "      <td>Hargrave</td>\n",
       "      <td>619</td>\n",
       "      <td>France</td>\n",
       "      <td>Female</td>\n",
       "      <td>42</td>\n",
       "      <td>2.0</td>\n",
       "      <td>0.00</td>\n",
       "      <td>1</td>\n",
       "      <td>1</td>\n",
       "      <td>1</td>\n",
       "      <td>101348.88</td>\n",
       "      <td>1</td>\n",
       "    </tr>\n",
       "    <tr>\n",
       "      <th>1</th>\n",
       "      <td>2</td>\n",
       "      <td>15647311</td>\n",
       "      <td>Hill</td>\n",
       "      <td>608</td>\n",
       "      <td>Spain</td>\n",
       "      <td>Female</td>\n",
       "      <td>41</td>\n",
       "      <td>1.0</td>\n",
       "      <td>83807.86</td>\n",
       "      <td>1</td>\n",
       "      <td>0</td>\n",
       "      <td>1</td>\n",
       "      <td>112542.58</td>\n",
       "      <td>0</td>\n",
       "    </tr>\n",
       "    <tr>\n",
       "      <th>2</th>\n",
       "      <td>3</td>\n",
       "      <td>15619304</td>\n",
       "      <td>Onio</td>\n",
       "      <td>502</td>\n",
       "      <td>France</td>\n",
       "      <td>Female</td>\n",
       "      <td>42</td>\n",
       "      <td>8.0</td>\n",
       "      <td>159660.80</td>\n",
       "      <td>3</td>\n",
       "      <td>1</td>\n",
       "      <td>0</td>\n",
       "      <td>113931.57</td>\n",
       "      <td>1</td>\n",
       "    </tr>\n",
       "    <tr>\n",
       "      <th>3</th>\n",
       "      <td>4</td>\n",
       "      <td>15701354</td>\n",
       "      <td>Boni</td>\n",
       "      <td>699</td>\n",
       "      <td>France</td>\n",
       "      <td>Female</td>\n",
       "      <td>39</td>\n",
       "      <td>1.0</td>\n",
       "      <td>0.00</td>\n",
       "      <td>2</td>\n",
       "      <td>0</td>\n",
       "      <td>0</td>\n",
       "      <td>93826.63</td>\n",
       "      <td>0</td>\n",
       "    </tr>\n",
       "    <tr>\n",
       "      <th>4</th>\n",
       "      <td>5</td>\n",
       "      <td>15737888</td>\n",
       "      <td>Mitchell</td>\n",
       "      <td>850</td>\n",
       "      <td>Spain</td>\n",
       "      <td>Female</td>\n",
       "      <td>43</td>\n",
       "      <td>2.0</td>\n",
       "      <td>125510.82</td>\n",
       "      <td>1</td>\n",
       "      <td>1</td>\n",
       "      <td>1</td>\n",
       "      <td>79084.10</td>\n",
       "      <td>0</td>\n",
       "    </tr>\n",
       "  </tbody>\n",
       "</table>\n",
       "</div>"
      ],
      "text/plain": [
       "   RowNumber  CustomerId   Surname  CreditScore Geography  Gender  Age  \\\n",
       "0          1    15634602  Hargrave          619    France  Female   42   \n",
       "1          2    15647311      Hill          608     Spain  Female   41   \n",
       "2          3    15619304      Onio          502    France  Female   42   \n",
       "3          4    15701354      Boni          699    France  Female   39   \n",
       "4          5    15737888  Mitchell          850     Spain  Female   43   \n",
       "\n",
       "   Tenure    Balance  NumOfProducts  HasCrCard  IsActiveMember  \\\n",
       "0     2.0       0.00              1          1               1   \n",
       "1     1.0   83807.86              1          0               1   \n",
       "2     8.0  159660.80              3          1               0   \n",
       "3     1.0       0.00              2          0               0   \n",
       "4     2.0  125510.82              1          1               1   \n",
       "\n",
       "   EstimatedSalary  Exited  \n",
       "0        101348.88       1  \n",
       "1        112542.58       0  \n",
       "2        113931.57       1  \n",
       "3         93826.63       0  \n",
       "4         79084.10       0  "
      ]
     },
     "execution_count": 1,
     "metadata": {},
     "output_type": "execute_result"
    }
   ],
   "source": [
    "import pandas as pd\n",
    "\n",
    "\n",
    "# Cargar el archivo CSV proporcionado\n",
    "\n",
    "data = pd.read_csv(\"/datasets/Churn.csv\")\n",
    "\n",
    "# Mostrar las primeras filas del DataFrame para ver cómo están estructurados los datos\n",
    "data.head()"
   ]
  },
  {
   "cell_type": "markdown",
   "metadata": {},
   "source": [
    "**A Continuación realizare los siguientes pasos para visuiar generalmente la informacion y para su entendimiento**              - Verificar la cantidad de datos nulos (si existen).\n",
    "- Explorar las estadísticas descriptivas de las variables numéricas.\n",
    "- Visualizar la distribución de algunas de las características clave como Age, Balance, CreditScore, y también la distribución de la variable objetivo Exited."
   ]
  },
  {
   "cell_type": "code",
   "execution_count": 2,
   "metadata": {},
   "outputs": [
    {
     "data": {
      "text/plain": [
       "(RowNumber            0\n",
       " CustomerId           0\n",
       " Surname              0\n",
       " CreditScore          0\n",
       " Geography            0\n",
       " Gender               0\n",
       " Age                  0\n",
       " Tenure             909\n",
       " Balance              0\n",
       " NumOfProducts        0\n",
       " HasCrCard            0\n",
       " IsActiveMember       0\n",
       " EstimatedSalary      0\n",
       " Exited               0\n",
       " dtype: int64,\n",
       "          RowNumber    CustomerId   CreditScore           Age       Tenure  \\\n",
       " count  10000.00000  1.000000e+04  10000.000000  10000.000000  9091.000000   \n",
       " mean    5000.50000  1.569094e+07    650.528800     38.921800     4.997690   \n",
       " std     2886.89568  7.193619e+04     96.653299     10.487806     2.894723   \n",
       " min        1.00000  1.556570e+07    350.000000     18.000000     0.000000   \n",
       " 25%     2500.75000  1.562853e+07    584.000000     32.000000     2.000000   \n",
       " 50%     5000.50000  1.569074e+07    652.000000     37.000000     5.000000   \n",
       " 75%     7500.25000  1.575323e+07    718.000000     44.000000     7.000000   \n",
       " max    10000.00000  1.581569e+07    850.000000     92.000000    10.000000   \n",
       " \n",
       "              Balance  NumOfProducts    HasCrCard  IsActiveMember  \\\n",
       " count   10000.000000   10000.000000  10000.00000    10000.000000   \n",
       " mean    76485.889288       1.530200      0.70550        0.515100   \n",
       " std     62397.405202       0.581654      0.45584        0.499797   \n",
       " min         0.000000       1.000000      0.00000        0.000000   \n",
       " 25%         0.000000       1.000000      0.00000        0.000000   \n",
       " 50%     97198.540000       1.000000      1.00000        1.000000   \n",
       " 75%    127644.240000       2.000000      1.00000        1.000000   \n",
       " max    250898.090000       4.000000      1.00000        1.000000   \n",
       " \n",
       "        EstimatedSalary        Exited  \n",
       " count     10000.000000  10000.000000  \n",
       " mean     100090.239881      0.203700  \n",
       " std       57510.492818      0.402769  \n",
       " min          11.580000      0.000000  \n",
       " 25%       51002.110000      0.000000  \n",
       " 50%      100193.915000      0.000000  \n",
       " 75%      149388.247500      0.000000  \n",
       " max      199992.480000      1.000000  )"
      ]
     },
     "execution_count": 2,
     "metadata": {},
     "output_type": "execute_result"
    }
   ],
   "source": [
    "# Verificar si existen valores nulos en el dataset\n",
    "missing_values = data.isnull().sum()\n",
    "\n",
    "# Obtener estadísticas descriptivas para las columnas numéricas\n",
    "descriptive_stats = data.describe()\n",
    "\n",
    "# Mostrar los resultados\n",
    "missing_values, descriptive_stats"
   ]
  },
  {
   "cell_type": "markdown",
   "metadata": {},
   "source": [
    "<div class=\"alert alert-block alert-success\">\n",
    "<b>Comentario del revisor (1ra Iteracion)</b> <a class=“tocSkip”></a>\n",
    "\n",
    "Buen trabajo con exta exploración inicial de tus datos\n",
    "</div>"
   ]
  },
  {
   "cell_type": "markdown",
   "metadata": {},
   "source": [
    "## Resultados del análisis inicial:\n",
    "**Valores nulos**:\n",
    "\n",
    "La única columna con valores nulos es Tenure (años de madurez del depósito), con 909 valores nulos de los 10,000 registros. Este es un aspecto que debemos manejar más adelante.\n",
    "Estadísticas descriptivas:\n",
    "\n",
    "**CreditScore**: Rango de valores entre 350 y 850, con una media de 650.\n",
    "**Age**: Rango de edad de los clientes entre 18 y 92 años, con una media de 39.\n",
    "**Balance**: Algunos clientes tienen saldo cero, y el saldo máximo es de aproximadamente 250,898.\n",
    "**NumOfProducts**: Los clientes tienen entre 1 y 4 productos.\n",
    "**Exited (variable objetivo)**: Solo el 20.37% de los clientes ha dejado el banco, lo que sugiere que podríamos estar ante un desequilibrio de clases.\n"
   ]
  },
  {
   "cell_type": "code",
   "execution_count": 3,
   "metadata": {},
   "outputs": [
    {
     "data": {
      "image/png": "[encoded data removed]",
      "text/plain": [
       "<Figure size 1400x1000 with 4 Axes>"
      ]
     },
     "metadata": {},
     "output_type": "display_data"
    }
   ],
   "source": [
    "import matplotlib.pyplot as plt\n",
    "\n",
    "# Crear histogramas para las principales características numéricas\n",
    "plt.figure(figsize=(14, 10))\n",
    "\n",
    "# Histograma para la edad (Age)\n",
    "plt.subplot(2, 2, 1)\n",
    "plt.hist(data['Age'], bins=30, color='blue', alpha=0.7)\n",
    "plt.title('Distribución de la Edad')\n",
    "plt.xlabel('Edad')\n",
    "plt.ylabel('Frecuencia')\n",
    "\n",
    "# Histograma para el puntaje de crédito (CreditScore)\n",
    "plt.subplot(2, 2, 2)\n",
    "plt.hist(data['CreditScore'], bins=30, color='green', alpha=0.7)\n",
    "plt.title('Distribución del CreditScore')\n",
    "plt.xlabel('Puntaje de Crédito')\n",
    "plt.ylabel('Frecuencia')\n",
    "\n",
    "# Histograma para el balance (Balance)\n",
    "plt.subplot(2, 2, 3)\n",
    "plt.hist(data['Balance'], bins=30, color='orange', alpha=0.7)\n",
    "plt.title('Distribución del Balance')\n",
    "plt.xlabel('Saldo de Cuenta')\n",
    "plt.ylabel('Frecuencia')\n",
    "\n",
    "# Histograma para la variable objetivo Exited (clientes que se fueron)\n",
    "plt.subplot(2, 2, 4)\n",
    "plt.hist(data['Exited'], bins=2, color='red', alpha=0.7)\n",
    "plt.title('Distribución de la variable Exited (Clientes que se fueron)')\n",
    "plt.xlabel('Exited (1 = Se fue, 0 = Se quedó)')\n",
    "plt.ylabel('Frecuencia')\n",
    "\n",
    "# Mostrar los gráficos\n",
    "plt.tight_layout()\n",
    "plt.show()\n"
   ]
  },
  {
   "cell_type": "markdown",
   "metadata": {},
   "source": [
    "## Hallazgos o comentarios sobre la visualización de los datos.\n",
    "\n",
    "Distribución de la Edad:\n",
    "\n",
    "La mayoría de los clientes tienen entre 30 y 50 años, con un pico alrededor de los 35-40 años.\n",
    "Distribución del Puntaje de Crédito:\n",
    "\n",
    "El puntaje de crédito está mayormente entre 400 y 850, con un pico alrededor de los 650-750.\n",
    "Distribución del Saldo de Cuenta:\n",
    "\n",
    "Hay un gran número de clientes con saldo 0. Este es un dato interesante que podríamos analizar más adelante, ya que puede estar relacionado con la probabilidad de que los clientes abandonen el banco.\n",
    "Para los clientes con saldo, la mayoría tienen entre 100,000 y 150,000.\n",
    "Distribución de la variable objetivo (Exited):\n",
    "\n",
    "Como mencionamos antes, se confirma que hay un desequilibrio de clases. La mayoría de los clientes se han quedado en el banco (cerca de 8,000) y una minoría (alrededor de 2,000) ha dejado el banco.\n",
    "\n",
    "<div class=\"alert alert-block alert-success\">\n",
    "<b>Comentario del revisor (1ra Iteracion)</b> <a class=“tocSkip”></a>\n",
    "\n",
    "Perfecto! Siempre hay que hacer un análisis detallado de las variables a utilizar para nuestro modelo, así tendremos más claro lo que pueda estar afectando el desempeño del mismo y cómo se encuentran los datos a trabajar. Bien hecho!\n",
    "</div>\n",
    "\n",
    "### Entrenamiento del modelo sin tratar el desequilibrio\n",
    "Entrenaremos un modelo básico (por ejemplo, regresión logística o árbol de decisión).\n",
    "Evaluaremos el desempeño del modelo en términos de la métrica F1 y AUC-ROC, sin hacer nada especial para corregir el desequilibrio de clases.\n",
    " Voy a hacer lo siguiente:\n",
    "\n",
    "Verificar y manejar los valores nulos en Tenure.\n",
    "Codificar las variables categóricas (Geography y Gender) usando One-Hot Encoding.\n",
    "Dividir los datos en conjuntos de entrenamiento y prueba."
   ]
  },
  {
   "cell_type": "code",
   "execution_count": 4,
   "metadata": {},
   "outputs": [
    {
     "data": {
      "text/plain": [
       "((7500, 11), (2500, 11), (7500,), (2500,))"
      ]
     },
     "execution_count": 4,
     "metadata": {},
     "output_type": "execute_result"
    }
   ],
   "source": [
    "# Manejo de valores nulos y codificación de variables categóricas\n",
    "\n",
    "# 1. Manejar valores nulos en la columna 'Tenure'. Podemos optar por rellenar los nulos con la mediana.\n",
    "data['Tenure'].fillna(data['Tenure'].median(), inplace=True)\n",
    "\n",
    "# 2. Codificar variables categóricas: 'Geography' y 'Gender' usando One-Hot Encoding\n",
    "data_ohe = pd.get_dummies(data, columns=['Geography', 'Gender'], drop_first=True)\n",
    "\n",
    "# 3. Separar las características (features) de la variable objetivo (target)\n",
    "X = data_ohe.drop(columns=['Exited', 'RowNumber', 'CustomerId', 'Surname'])  # Eliminamos columnas irrelevantes\n",
    "y = data_ohe['Exited']\n",
    "\n",
    "# 4. Dividir los datos en conjunto de entrenamiento y prueba (75% entrenamiento, 25% prueba)\n",
    "from sklearn.model_selection import train_test_split\n",
    "X_train, X_test, y_train, y_test = train_test_split(X, y, test_size=0.25, random_state=12345)\n",
    "\n",
    "# Mostrar el tamaño de los conjuntos para asegurarnos de que todo esté correcto\n",
    "X_train.shape, X_test.shape, y_train.shape, y_test.shape\n"
   ]
  },
  {
   "cell_type": "markdown",
   "metadata": {},
   "source": [
    "<div class=\"alert alert-block alert-success\">\n",
    "<b>Comentario del revisor (1ra Iteracion)</b> <a class=“tocSkip”></a>\n",
    "\n",
    "Correcto, realizaste la división en los sets necesarios\n",
    "</div>"
   ]
  },
  {
   "cell_type": "markdown",
   "metadata": {},
   "source": [
    "### Explicacion del porque eliminamos las siguientes columnas , para el entrenamiento de nuestro modelo :\n",
    "**Exited**: Esta columna es la variable objetivo (lo que queremos predecir). Por lo tanto, no debe estar incluida entre las características de entrada (features), ya que el modelo debe aprender a predecir esta variable. La usamos solo como target, no como input.\n",
    "**RowNumber**: Este es simplemente un índice o número de fila que no tiene ninguna relación con las características del cliente. No aporta información útil para el modelo, ya que es solo un número secuencial sin relevancia para predecir si un cliente se va o no.\n",
    "**CustomerId**:\n",
    " El identificador único del cliente tampoco aporta información relevante para predecir su comportamiento. Es solo un identificador único para cada cliente, pero no tiene relación con si el cliente dejará el banco o no. Mantenerlo puede inducir ruido en el modelo.\n",
    "**Surname**:\n",
    " El apellido del cliente es una característica nominal que no aporta información relevante para predecir el abandono del cliente. Es poco probable que el apellido de un cliente tenga un impacto en su comportamiento bancario, y dejarla en el modelo podría añadir ruido o complejidad innecesaria."
   ]
  },
  {
   "cell_type": "code",
   "execution_count": 5,
   "metadata": {},
   "outputs": [
    {
     "data": {
      "text/plain": [
       "(0.11707317073170732, 0.6760847542270101)"
      ]
     },
     "execution_count": 5,
     "metadata": {},
     "output_type": "execute_result"
    }
   ],
   "source": [
    "#Continuamos con el entrenamiento del modelo de regresión logística para obtener las métricas F1 y \n",
    "#AUC-ROC sin tratar el desequilibrio de clases\n",
    "\n",
    "from sklearn.linear_model import LogisticRegression\n",
    "from sklearn.metrics import f1_score, roc_auc_score\n",
    "\n",
    "# 1. Entrenar el modelo de Regresión Logística\n",
    "model = LogisticRegression(random_state=12345, solver='liblinear')\n",
    "model.fit(X_train, y_train)\n",
    "\n",
    "# 2. Predecir en el conjunto de prueba\n",
    "y_pred = model.predict(X_test)\n",
    "\n",
    "# 3. Calcular la métrica F1 y AUC-ROC\n",
    "f1 = f1_score(y_test, y_pred)\n",
    "y_pred_proba = model.predict_proba(X_test)[:, 1]  # Probabilidades para la clase positiva (1)\n",
    "roc_auc = roc_auc_score(y_test, y_pred_proba)\n",
    "\n",
    "# Mostrar los resultados\n",
    "f1, roc_auc\n"
   ]
  },
  {
   "cell_type": "markdown",
   "metadata": {},
   "source": [
    "<div class=\"alert alert-block alert-success\">\n",
    "<b>Comentario del revisor (1ra Iteracion)</b> <a class=“tocSkip”></a>\n",
    "\n",
    "Buen trabajo con el entrenamiento de un modelo sin considerar el desbalance de los datos, revisemos los resultados con las técnicas de balanceo aplicadas para comparar su desempeño\n",
    "</div>"
   ]
  },
  {
   "cell_type": "markdown",
   "metadata": {},
   "source": [
    "## Observaciones:\n",
    "El F1 Score es bastante bajo, lo que indica que el modelo tiene dificultades para equilibrar la precisión y el recall. Esto es muy común cuando se trabaja con conjuntos de datos desequilibrados, ya que el modelo tiende a predecir mayormente la clase mayoritaria (en este caso, los clientes que no abandonan el banco).\n",
    "El AUC-ROC es de 0.676, lo que muestra un rendimiento moderado, pero hay margen de mejora."
   ]
  },
  {
   "cell_type": "markdown",
   "metadata": {},
   "source": [
    "Ahora en la siguiente seccion voy a intentar las siguientes dos técnicas para corregir el desequilibrio de clases:\n",
    "\n",
    "    Upsampling (Aumentar el número de ejemplos de la clase minoritaria)\n",
    "Esto implicará replicar las muestras de la clase minoritaria (clientes que abandonaron) para equilibrar las clases.\n",
    "\n",
    "    Downsampling (Reducir el número de ejemplos de la clase mayoritaria)\n",
    "Esto implicará reducir las muestras de la clase mayoritaria (clientes que no abandonaron) para equilibrar el dataset."
   ]
  },
  {
   "cell_type": "code",
   "execution_count": 6,
   "metadata": {},
   "outputs": [
    {
     "data": {
      "text/plain": [
       "(0.4513715710723192, 0.7134013459846378)"
      ]
     },
     "execution_count": 6,
     "metadata": {},
     "output_type": "execute_result"
    }
   ],
   "source": [
    "#TECNICA DE UPSAMPLING\n",
    "\n",
    "from sklearn.utils import resample\n",
    "\n",
    "# 1. Combinar las características y la variable objetivo para el conjunto de entrenamiento\n",
    "train_data = pd.concat([X_train, y_train], axis=1)\n",
    "\n",
    "# 2. Separar las clases mayoritaria y minoritaria\n",
    "majority_class = train_data[train_data['Exited'] == 0]\n",
    "minority_class = train_data[train_data['Exited'] == 1]\n",
    "\n",
    "# 3. Aplicar el upsampling en la clase minoritaria\n",
    "minority_upsampled = resample(minority_class, \n",
    "                              replace=True,    # Permitir duplicados\n",
    "                              n_samples=len(majority_class),  # Igualar al número de la clase mayoritaria\n",
    "                              random_state=12345)  # Para reproducibilidad\n",
    "\n",
    "# 4. Combinar las clases mayoritaria y minoritaria\n",
    "upsampled_data = pd.concat([majority_class, minority_upsampled])\n",
    "\n",
    "# 5. Separar de nuevo las características y la variable objetivo\n",
    "X_train_upsampled = upsampled_data.drop('Exited', axis=1)\n",
    "y_train_upsampled = upsampled_data['Exited']\n",
    "\n",
    "# 6. Entrenar el modelo de Regresión Logística con el dataset upsampled\n",
    "model_upsampled = LogisticRegression(random_state=12345, solver='liblinear')\n",
    "model_upsampled.fit(X_train_upsampled, y_train_upsampled)\n",
    "\n",
    "# 7. Predecir en el conjunto de prueba\n",
    "y_pred_upsampled = model_upsampled.predict(X_test)\n",
    "\n",
    "# 8. Calcular F1 y AUC-ROC\n",
    "f1_upsampled = f1_score(y_test, y_pred_upsampled)\n",
    "y_pred_proba_upsampled = model_upsampled.predict_proba(X_test)[:, 1]\n",
    "roc_auc_upsampled = roc_auc_score(y_test, y_pred_proba_upsampled)\n",
    "\n",
    "# Mostrar resultados de upsampling\n",
    "f1_upsampled, roc_auc_upsampled\n",
    "\n",
    "\n",
    "##El F1 Score ha mejorado significativamente (de 0.117 a 0.454) tras aplicar el upsampling,\n",
    "##lo que significa que el modelo está manejando mejor el equilibrio entre precisión y recall.\n",
    "##El AUC-ROC también ha mejorado ligeramente (de 0.676 a 0.714), \n",
    "##lo que indica que el modelo tiene un mejor rendimiento general al predecir tanto las clases positivas como las negativas."
   ]
  },
  {
   "cell_type": "code",
   "execution_count": 7,
   "metadata": {},
   "outputs": [
    {
     "data": {
      "text/plain": [
       "(0.4516531503431067, 0.7160086561556205)"
      ]
     },
     "execution_count": 7,
     "metadata": {},
     "output_type": "execute_result"
    }
   ],
   "source": [
    "#TECNICA DE UPSAMPLING\n",
    "\n",
    "# 1. Aplicar downsampling en la clase mayoritaria\n",
    "majority_downsampled = resample(majority_class,\n",
    "                                replace=False,    # No se permiten duplicados\n",
    "                                n_samples=len(minority_class),  # Igualar al número de la clase minoritaria\n",
    "                                random_state=12345)  # Para reproducibilidad\n",
    "\n",
    "# 2. Combinar las clases mayoritaria y minoritaria (downsampled)\n",
    "downsampled_data = pd.concat([majority_downsampled, minority_class])\n",
    "\n",
    "# 3. Separar de nuevo las características y la variable objetivo\n",
    "X_train_downsampled = downsampled_data.drop('Exited', axis=1)\n",
    "y_train_downsampled = downsampled_data['Exited']\n",
    "\n",
    "# 4. Entrenar el modelo de Regresión Logística con el dataset downsampled\n",
    "model_downsampled = LogisticRegression(random_state=12345, solver='liblinear')\n",
    "model_downsampled.fit(X_train_downsampled, y_train_downsampled)\n",
    "\n",
    "# 5. Predecir en el conjunto de prueba\n",
    "y_pred_downsampled = model_downsampled.predict(X_test)\n",
    "\n",
    "# 6. Calcular F1 y AUC-ROC\n",
    "f1_downsampled = f1_score(y_test, y_pred_downsampled)\n",
    "y_pred_proba_downsampled = model_downsampled.predict_proba(X_test)[:, 1]\n",
    "roc_auc_downsampled = roc_auc_score(y_test, y_pred_proba_downsampled)\n",
    "\n",
    "# Mostrar resultados de downsampling\n",
    "f1_downsampled, roc_auc_downsampled\n",
    "\n",
    "\n",
    "#El F1 Score tras el downsampling es similar al obtenido con el upsampling,\n",
    "#mostrando un rendimiento mucho mejor en comparación con el modelo sin corregir el desbalance.\n",
    "#El AUC-ROC también es ligeramente mejor, alcanzando un valor de 0.716, \n",
    "#lo que indica un buen rendimiento general al predecir las clases."
   ]
  },
  {
   "cell_type": "markdown",
   "metadata": {},
   "source": [
    "**En el codigo anterior aun estamos por debajo de nuestro objetivo de F1 , asi que intentaré usar el modelo de forest , ya que este tipo de modelo es mas eficiente porque me permite iterar con variois parametros hasta encontrar un mejor resultado de mi modelo, hasta este paso nos estamos acercando a nuestro objetivo de F1 0.59.**"
   ]
  },
  {
   "cell_type": "code",
   "execution_count": 8,
   "metadata": {},
   "outputs": [
    {
     "data": {
      "text/plain": [
       "(0.6387900355871886, 0.8666476421488193)"
      ]
     },
     "execution_count": 8,
     "metadata": {},
     "output_type": "execute_result"
    }
   ],
   "source": [
    "from sklearn.ensemble import RandomForestClassifier\n",
    "# Ajustar hiperparámetros del Random Forest para intentar mejorar el F1 Score\n",
    "rf_model_tuned = RandomForestClassifier(\n",
    "    random_state=12345,\n",
    "    class_weight='balanced',\n",
    "    n_estimators=200,       # Aumentamos el número de árboles\n",
    "    max_depth=10,           # Limitamos la profundidad máxima del árbol\n",
    "    min_samples_split=10    # Número mínimo de muestras para dividir un nodo\n",
    ")\n",
    "\n",
    "# Entrenar el modelo\n",
    "rf_model_tuned.fit(X_train, y_train)\n",
    "\n",
    "# Predecir en el conjunto de prueba\n",
    "y_pred_rf_tuned = rf_model_tuned.predict(X_test)\n",
    "\n",
    "# Calcular F1 Score y AUC-ROC\n",
    "f1_rf_tuned = f1_score(y_test, y_pred_rf_tuned)\n",
    "y_pred_proba_rf_tuned = rf_model_tuned.predict_proba(X_test)[:, 1]\n",
    "roc_auc_rf_tuned = roc_auc_score(y_test, y_pred_proba_rf_tuned)\n",
    "\n",
    "# Mostrar los resultados del modelo ajustado\n",
    "f1_rf_tuned, roc_auc_rf_tuned\n"
   ]
  },
  {
   "cell_type": "markdown",
   "metadata": {},
   "source": [
    "**Jugando manualmente con los hiperparametros de mi modelo pude encontrar que arboles y su profundidas pude alcanzar el objetivo del proyecto , logrando un puntaje de F1: 0.63 superando el 0.59 y un puntaje de ROC de 0.86**"
   ]
  },
  {
   "cell_type": "markdown",
   "metadata": {},
   "source": [
    "<div class=\"alert alert-block alert-success\">\n",
    "<b>Comentario del revisor (1ra Iteracion)</b> <a class=“tocSkip”></a>\n",
    "\n",
    "Hiciste muy bien los entrenamientos y utilizaste los parámetros adecuados para obtener una métrica por encima de la propuesta para este proyecto. Muy buen trabajo!\n",
    "</div>"
   ]
  },
  {
   "cell_type": "markdown",
   "metadata": {},
   "source": [
    "# Conlusion:\n",
    "\n",
    "### F1 Score: \n",
    "Logramos un F1 Score de 0.64, que supera el umbral mínimo de 0.59, lo que significa que el modelo es capaz de manejar \n",
    "bien el equilibrio entre precisión y recall.\n",
    "\n",
    "**Con un F1 Score de 0.64, podemos decir que nuestro modelo está funcionando de manera adecuada para predecir clientes que dejarán el banco, balanceando correctamente ambos aspectos.\n",
    "AUC-ROC: El AUC-ROC final fue de 0.866, lo que indica un muy buen desempeño general del modelo al discriminar entre clientes que se quedan y clientes que se van**.\n",
    "\n",
    "AUC-ROC evalúa la capacidad del modelo para distinguir entre las clases de manera efectiva. Un valor cercano a 1 sugiere que el modelo tiene un buen poder predictivo.\n",
    "Con un AUC-ROC de 0.866, podemos confiar en que el modelo tiene un sólido rendimiento en términos de clasificación.\n",
    "Interpretación de los resultados:\n",
    "\n",
    "**Predicción efectiva de clientes que se irán: El modelo es suficientemente bueno para identificar clientes que dejarán el banco con un balance adecuado entre precisión y recall. Esto es clave para la estrategia del banco, ya que retener a los clientes es más barato que adquirir nuevos**.\n"
   ]
  },
  {
   "cell_type": "markdown",
   "metadata": {},
   "source": [
    "<div class=\"alert alert-block alert-warning\">\n",
    "<b>Comentario del revisor (1ra Iteracion)</b> <a class=“tocSkip”></a>\n",
    "\n",
    "Realizaste un muy buen trabajo con los entrenamientos de los diferentes modelos considerando el balance de clases que se tenía en el set de datos, te dejaré unas recomendaciones para tus próximos proyectos que tenga este tipo de problema a resolver:\n",
    "    \n",
    "- Analiza la proporción de las clases en tus datos, es decir, cuantas de cada clase en ese set pertenecen a 1 y a 0 como es en este caso para determinar si es necesario o no aplicar técnicas de balanceo\n",
    "- Importa las librerías que vas a utilizar al inicio del notebook en lugar de hacerlo en cada celda donde se requieren, esto para mantener un órden en tu proyecto\n",
    "- Procura utilizar strings formateados para mostrar los resultados con un mensaje descriptivo de lo que se está mostrando, ya que si compartes este notebook puede que alguien de tu misma profesión lo entienda pero habrán personas que no sepan que es cada número mostrado\n",
    "    \n",
    "Por el resto hiciste un muy buen trabajo, analizaste correctamente los resultados de los modelos y planteaste conclusiones claras y acertadas a lo que viste, te felicito!\n",
    "</div>"
   ]
  }
 ],
 "metadata": {
  "ExecuteTimeLog": [
   {
    "duration": 412,
    "start_time": "2024-10-12T19:37:30.723Z"
   },
   {
    "duration": 28,
    "start_time": "2024-10-12T19:48:21.412Z"
   },
   {
    "duration": 2692,
    "start_time": "2024-10-12T20:02:44.876Z"
   },
   {
    "duration": 438,
    "start_time": "2024-10-12T20:15:00.757Z"
   },
   {
    "duration": 211,
    "start_time": "2024-10-12T20:20:59.849Z"
   },
   {
    "duration": 55,
    "start_time": "2024-10-12T20:34:14.012Z"
   },
   {
    "duration": 44,
    "start_time": "2024-10-12T20:34:41.587Z"
   },
   {
    "duration": 23,
    "start_time": "2024-10-12T20:36:12.100Z"
   },
   {
    "duration": 221,
    "start_time": "2024-10-12T20:46:20.348Z"
   },
   {
    "duration": 1203,
    "start_time": "2024-10-12T20:47:56.328Z"
   },
   {
    "duration": 361,
    "start_time": "2024-10-12T22:03:41.369Z"
   },
   {
    "duration": 27,
    "start_time": "2024-10-12T22:03:41.732Z"
   },
   {
    "duration": 992,
    "start_time": "2024-10-12T22:03:41.761Z"
   },
   {
    "duration": 541,
    "start_time": "2024-10-12T22:03:42.756Z"
   },
   {
    "duration": 53,
    "start_time": "2024-10-12T22:03:43.299Z"
   },
   {
    "duration": 126,
    "start_time": "2024-10-12T22:03:43.354Z"
   },
   {
    "duration": 161,
    "start_time": "2024-10-12T22:03:43.481Z"
   },
   {
    "duration": 1280,
    "start_time": "2024-10-12T22:03:43.644Z"
   }
  ],
  "kernelspec": {
   "display_name": "Python 3 (ipykernel)",
   "language": "python",
   "name": "python3"
  },
  "language_info": {
   "codemirror_mode": {
    "name": "ipython",
    "version": 3
   },
   "file_extension": ".py",
   "mimetype": "text/x-python",
   "name": "python",
   "nbconvert_exporter": "python",
   "pygments_lexer": "ipython3",
   "version": "3.9.19"
  },
  "toc": {
   "base_numbering": 1,
   "nav_menu": {},
   "number_sections": true,
   "sideBar": true,
   "skip_h1_title": true,
   "title_cell": "Table of Contents",
   "title_sidebar": "Contents",
   "toc_cell": false,
   "toc_position": {},
   "toc_section_display": true,
   "toc_window_display": false
  }
 },
 "nbformat": 4,
 "nbformat_minor": 2
}
